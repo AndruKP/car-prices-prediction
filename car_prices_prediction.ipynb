{
 "cells": [
  {
   "cell_type": "markdown",
   "metadata": {},
   "source": [
    "# Car price prediction"
   ]
  },
  {
   "cell_type": "markdown",
   "metadata": {},
   "source": [
    "## Import libraries"
   ]
  },
  {
   "cell_type": "code",
   "execution_count": 1,
   "metadata": {},
   "outputs": [],
   "source": [
    "import pandas as pd\n",
    "import numpy as np\n",
    "import re\n",
    "\n",
    "import matplotlib\n",
    "import matplotlib.pyplot as plt\n",
    "import seaborn as sns\n",
    "\n",
    "from sklearn import preprocessing\n",
    "from sklearn.model_selection import train_test_split\n",
    "from sklearn.model_selection import KFold\n",
    "\n",
    "from sklearn.metrics import mean_squared_error , max_error, mean_absolute_error\n",
    "def mean_absolute_percentage_error(y_true, y_pred): \n",
    "    return np.mean(np.abs((y_true - y_pred) / (y_true)))\n",
    "\n",
    "from sklearn.ensemble import GradientBoostingRegressor\n",
    "from xgboost import XGBRegressor\n",
    "from lightgbm import LGBMRegressor\n",
    "from catboost import CatBoostRegressor\n",
    "import optuna\n",
    "RANDOM_SEED=42"
   ]
  },
  {
   "cell_type": "markdown",
   "metadata": {},
   "source": [
    "## Preprocessing and EDA"
   ]
  },
  {
   "cell_type": "code",
   "execution_count": 2,
   "metadata": {},
   "outputs": [
    {
     "data": {
      "text/html": [
       "<div>\n",
       "<style scoped>\n",
       "    .dataframe tbody tr th:only-of-type {\n",
       "        vertical-align: middle;\n",
       "    }\n",
       "\n",
       "    .dataframe tbody tr th {\n",
       "        vertical-align: top;\n",
       "    }\n",
       "\n",
       "    .dataframe thead th {\n",
       "        text-align: right;\n",
       "    }\n",
       "</style>\n",
       "<table border=\"1\" class=\"dataframe\">\n",
       "  <thead>\n",
       "    <tr style=\"text-align: right;\">\n",
       "      <th></th>\n",
       "      <th>Unnamed: 0</th>\n",
       "      <th>bodyType</th>\n",
       "      <th>brand</th>\n",
       "      <th>color</th>\n",
       "      <th>fuelType</th>\n",
       "      <th>modelDate</th>\n",
       "      <th>name</th>\n",
       "      <th>numberOfDoors</th>\n",
       "      <th>productionDate</th>\n",
       "      <th>vehicleConfiguration</th>\n",
       "      <th>...</th>\n",
       "      <th>description</th>\n",
       "      <th>mileage</th>\n",
       "      <th>Комплектация</th>\n",
       "      <th>Привод</th>\n",
       "      <th>Руль</th>\n",
       "      <th>Владельцы</th>\n",
       "      <th>ПТС</th>\n",
       "      <th>Таможня</th>\n",
       "      <th>Владение</th>\n",
       "      <th>Price</th>\n",
       "    </tr>\n",
       "  </thead>\n",
       "  <tbody>\n",
       "    <tr>\n",
       "      <th>0</th>\n",
       "      <td>0</td>\n",
       "      <td>Седан</td>\n",
       "      <td>AUDI</td>\n",
       "      <td>040001</td>\n",
       "      <td>бензин</td>\n",
       "      <td>1990.0</td>\n",
       "      <td>2.3 MT (133 л.с.)</td>\n",
       "      <td>4.0</td>\n",
       "      <td>1991</td>\n",
       "      <td>MECHANICAL</td>\n",
       "      <td>...</td>\n",
       "      <td>\\nБыстрым торг.Обмен интересен на авто с неисп...</td>\n",
       "      <td>10000</td>\n",
       "      <td>{'id': '0'}</td>\n",
       "      <td>передний</td>\n",
       "      <td>LEFT</td>\n",
       "      <td>3.0</td>\n",
       "      <td>ORIGINAL</td>\n",
       "      <td>True</td>\n",
       "      <td>NaN</td>\n",
       "      <td>135000</td>\n",
       "    </tr>\n",
       "    <tr>\n",
       "      <th>1</th>\n",
       "      <td>1</td>\n",
       "      <td>Седан</td>\n",
       "      <td>AUDI</td>\n",
       "      <td>040001</td>\n",
       "      <td>бензин</td>\n",
       "      <td>1988.0</td>\n",
       "      <td>2.0 MT (115 л.с.)</td>\n",
       "      <td>4.0</td>\n",
       "      <td>1989</td>\n",
       "      <td>MECHANICAL</td>\n",
       "      <td>...</td>\n",
       "      <td>На ходу!Очень много сделано!До аварии ездил 1....</td>\n",
       "      <td>300000</td>\n",
       "      <td>{'id': '0'}</td>\n",
       "      <td>передний</td>\n",
       "      <td>LEFT</td>\n",
       "      <td>3.0</td>\n",
       "      <td>DUPLICATE</td>\n",
       "      <td>True</td>\n",
       "      <td>NaN</td>\n",
       "      <td>42000</td>\n",
       "    </tr>\n",
       "    <tr>\n",
       "      <th>2</th>\n",
       "      <td>2</td>\n",
       "      <td>Универсал 5 дв.</td>\n",
       "      <td>AUDI</td>\n",
       "      <td>CACECB</td>\n",
       "      <td>бензин</td>\n",
       "      <td>1990.0</td>\n",
       "      <td>2.3 MT (133 л.с.)</td>\n",
       "      <td>5.0</td>\n",
       "      <td>1991</td>\n",
       "      <td>MECHANICAL</td>\n",
       "      <td>...</td>\n",
       "      <td>Новый перешитый потолок. \\nМашина на полном ходу</td>\n",
       "      <td>205636</td>\n",
       "      <td>{'id': '0'}</td>\n",
       "      <td>передний</td>\n",
       "      <td>LEFT</td>\n",
       "      <td>2.0</td>\n",
       "      <td>ORIGINAL</td>\n",
       "      <td>True</td>\n",
       "      <td>NaN</td>\n",
       "      <td>200000</td>\n",
       "    </tr>\n",
       "  </tbody>\n",
       "</table>\n",
       "<p>3 rows × 22 columns</p>\n",
       "</div>"
      ],
      "text/plain": [
       "   Unnamed: 0         bodyType brand   color fuelType  modelDate  \\\n",
       "0           0            Седан  AUDI  040001   бензин     1990.0   \n",
       "1           1            Седан  AUDI  040001   бензин     1988.0   \n",
       "2           2  Универсал 5 дв.  AUDI  CACECB   бензин     1990.0   \n",
       "\n",
       "                name  numberOfDoors  productionDate vehicleConfiguration  ...  \\\n",
       "0  2.3 MT (133 л.с.)            4.0            1991           MECHANICAL  ...   \n",
       "1  2.0 MT (115 л.с.)            4.0            1989           MECHANICAL  ...   \n",
       "2  2.3 MT (133 л.с.)            5.0            1991           MECHANICAL  ...   \n",
       "\n",
       "                                         description  mileage Комплектация  \\\n",
       "0  \\nБыстрым торг.Обмен интересен на авто с неисп...    10000  {'id': '0'}   \n",
       "1  На ходу!Очень много сделано!До аварии ездил 1....   300000  {'id': '0'}   \n",
       "2   Новый перешитый потолок. \\nМашина на полном ходу   205636  {'id': '0'}   \n",
       "\n",
       "     Привод  Руль Владельцы        ПТС  Таможня Владение   Price  \n",
       "0  передний  LEFT       3.0   ORIGINAL     True      NaN  135000  \n",
       "1  передний  LEFT       3.0  DUPLICATE     True      NaN   42000  \n",
       "2  передний  LEFT       2.0   ORIGINAL     True      NaN  200000  \n",
       "\n",
       "[3 rows x 22 columns]"
      ]
     },
     "execution_count": 2,
     "metadata": {},
     "output_type": "execute_result"
    }
   ],
   "source": [
    "df = pd.read_csv('train.csv')\n",
    "df.head(3)"
   ]
  },
  {
   "cell_type": "code",
   "execution_count": 3,
   "metadata": {},
   "outputs": [
    {
     "data": {
      "text/plain": [
       "Index(['Unnamed: 0', 'bodyType', 'brand', 'color', 'fuelType', 'modelDate',\n",
       "       'name', 'numberOfDoors', 'productionDate', 'vehicleConfiguration',\n",
       "       'engineDisplacement', 'enginePower', 'description', 'mileage',\n",
       "       'Комплектация', 'Привод', 'Руль', 'Владельцы', 'ПТС', 'Таможня',\n",
       "       'Владение', 'Price'],\n",
       "      dtype='object')"
      ]
     },
     "execution_count": 3,
     "metadata": {},
     "output_type": "execute_result"
    }
   ],
   "source": [
    "df.columns"
   ]
  },
  {
   "cell_type": "code",
   "execution_count": 4,
   "metadata": {},
   "outputs": [
    {
     "data": {
      "text/plain": [
       "Unnamed: 0                                                             2\n",
       "bodyType                                                 Универсал 5 дв.\n",
       "brand                                                               AUDI\n",
       "color                                                             CACECB\n",
       "fuelType                                                          бензин\n",
       "modelDate                                                           1990\n",
       "name                                                   2.3 MT (133 л.с.)\n",
       "numberOfDoors                                                          5\n",
       "productionDate                                                      1991\n",
       "vehicleConfiguration                                          MECHANICAL\n",
       "engineDisplacement                                                   2.3\n",
       "enginePower                                                          133\n",
       "description             Новый перешитый потолок. \\nМашина на полном ходу\n",
       "mileage                                                           205636\n",
       "Комплектация                                                 {'id': '0'}\n",
       "Привод                                                          передний\n",
       "Руль                                                                LEFT\n",
       "Владельцы                                                              2\n",
       "ПТС                                                             ORIGINAL\n",
       "Таможня                                                             True\n",
       "Владение                                                             NaN\n",
       "Price                                                             200000\n",
       "Name: 2, dtype: object"
      ]
     },
     "execution_count": 4,
     "metadata": {},
     "output_type": "execute_result"
    }
   ],
   "source": [
    "df.iloc[2]"
   ]
  },
  {
   "cell_type": "code",
   "execution_count": 5,
   "metadata": {},
   "outputs": [
    {
     "data": {
      "text/plain": [
       "(109080, 22)"
      ]
     },
     "execution_count": 5,
     "metadata": {},
     "output_type": "execute_result"
    }
   ],
   "source": [
    "df.shape"
   ]
  },
  {
   "cell_type": "code",
   "execution_count": 6,
   "metadata": {},
   "outputs": [
    {
     "data": {
      "text/plain": [
       "Unnamed: 0               0.000000\n",
       "bodyType                 0.000917\n",
       "brand                    0.000000\n",
       "color                    0.000000\n",
       "fuelType                 0.000000\n",
       "modelDate                0.000917\n",
       "name                     0.000917\n",
       "numberOfDoors            0.000917\n",
       "productionDate           0.000000\n",
       "vehicleConfiguration     0.000917\n",
       "engineDisplacement       0.000917\n",
       "enginePower              0.000917\n",
       "description              2.980381\n",
       "mileage                  0.000000\n",
       "Комплектация             0.000000\n",
       "Привод                   0.000917\n",
       "Руль                     0.000000\n",
       "Владельцы                0.006417\n",
       "ПТС                      0.001834\n",
       "Таможня                  0.000000\n",
       "Владение                63.431426\n",
       "Price                    0.000000\n",
       "dtype: float64"
      ]
     },
     "execution_count": 6,
     "metadata": {},
     "output_type": "execute_result"
    }
   ],
   "source": [
    "df.isna().sum() / (df.shape[0])*100 "
   ]
  },
  {
   "cell_type": "code",
   "execution_count": 7,
   "metadata": {},
   "outputs": [
    {
     "data": {
      "text/plain": [
       "array([ True])"
      ]
     },
     "execution_count": 7,
     "metadata": {},
     "output_type": "execute_result"
    }
   ],
   "source": [
    "df.Таможня.unique()"
   ]
  },
  {
   "cell_type": "code",
   "execution_count": 8,
   "metadata": {},
   "outputs": [
    {
     "data": {
      "text/plain": [
       "{'id': '0'}                                                                                                                                                                                                                                                                                                                                                                                                                                                                                                                                                                                                               77978\n",
       "{'id': '4562904', 'name': 'Elegance', 'available_options': ['cruise-control', 'multi-wheel', 'airbag-passenger', 'lock', 'electro-mirrors', 'mirrors-heat', 'cooling-box', 'computer', 'seat-transformation', 'wheel-power', 'fabric-seats', 'airbag-side', 'abs', 'wheel-leather', 'climate-control-1', 'esp', 'audiopreparation', 'electro-window-back', 'condition', 'music-super', 'park-assist-r', 'airbag-driver', 'isofix', 'aux', 'electro-window-front', 'light-sensor', 'hcc', 'alarm', 'ptf', 'rain-sensor', 'audiosystem-cd', 'front-seats-heat', 'wheel-configuration2', 'wheel-configuration1', 'immo']}      266\n",
       "Name: Комплектация, dtype: int64"
      ]
     },
     "execution_count": 8,
     "metadata": {},
     "output_type": "execute_result"
    }
   ],
   "source": [
    "df['Комплектация'].value_counts()[:2]"
   ]
  },
  {
   "cell_type": "markdown",
   "metadata": {},
   "source": [
    "We have to delete some columns:\n",
    "- Unnamed: 0 - we don't need the index of object\n",
    "- description - in this case, we can't use RNN for NLP task\n",
    "- Таможня - has only 1 value: True\n",
    "- Владение - over 60% of all values - missing\n",
    "- name - converted to 2 single columns: engineDisplacement and enginePower\n",
    "- Комплектация - over 60% of all values are missing: {'id': '0'}"
   ]
  },
  {
   "cell_type": "code",
   "execution_count": 9,
   "metadata": {},
   "outputs": [],
   "source": [
    "df.drop(['Unnamed: 0','description','Таможня','Владение','name','Комплектация'],axis=1,inplace=True)\n",
    "df.dropna(inplace=True)"
   ]
  },
  {
   "cell_type": "code",
   "execution_count": 222,
   "metadata": {},
   "outputs": [
    {
     "data": {
      "text/html": [
       "<div>\n",
       "<style scoped>\n",
       "    .dataframe tbody tr th:only-of-type {\n",
       "        vertical-align: middle;\n",
       "    }\n",
       "\n",
       "    .dataframe tbody tr th {\n",
       "        vertical-align: top;\n",
       "    }\n",
       "\n",
       "    .dataframe thead th {\n",
       "        text-align: right;\n",
       "    }\n",
       "</style>\n",
       "<table border=\"1\" class=\"dataframe\">\n",
       "  <thead>\n",
       "    <tr style=\"text-align: right;\">\n",
       "      <th></th>\n",
       "      <th>bodyType</th>\n",
       "      <th>brand</th>\n",
       "      <th>color</th>\n",
       "      <th>fuelType</th>\n",
       "      <th>modelDate</th>\n",
       "      <th>numberOfDoors</th>\n",
       "      <th>productionDate</th>\n",
       "      <th>vehicleConfiguration</th>\n",
       "      <th>engineDisplacement</th>\n",
       "      <th>enginePower</th>\n",
       "      <th>mileage</th>\n",
       "      <th>Привод</th>\n",
       "      <th>Руль</th>\n",
       "      <th>Владельцы</th>\n",
       "      <th>ПТС</th>\n",
       "      <th>Price</th>\n",
       "    </tr>\n",
       "  </thead>\n",
       "  <tbody>\n",
       "    <tr>\n",
       "      <th>0</th>\n",
       "      <td>Седан</td>\n",
       "      <td>AUDI</td>\n",
       "      <td>040001</td>\n",
       "      <td>бензин</td>\n",
       "      <td>1990.0</td>\n",
       "      <td>4.0</td>\n",
       "      <td>1991</td>\n",
       "      <td>MECHANICAL</td>\n",
       "      <td>2.3</td>\n",
       "      <td>133.0</td>\n",
       "      <td>10000</td>\n",
       "      <td>передний</td>\n",
       "      <td>LEFT</td>\n",
       "      <td>3.0</td>\n",
       "      <td>ORIGINAL</td>\n",
       "      <td>135000</td>\n",
       "    </tr>\n",
       "    <tr>\n",
       "      <th>1</th>\n",
       "      <td>Седан</td>\n",
       "      <td>AUDI</td>\n",
       "      <td>040001</td>\n",
       "      <td>бензин</td>\n",
       "      <td>1988.0</td>\n",
       "      <td>4.0</td>\n",
       "      <td>1989</td>\n",
       "      <td>MECHANICAL</td>\n",
       "      <td>2.0</td>\n",
       "      <td>115.0</td>\n",
       "      <td>300000</td>\n",
       "      <td>передний</td>\n",
       "      <td>LEFT</td>\n",
       "      <td>3.0</td>\n",
       "      <td>DUPLICATE</td>\n",
       "      <td>42000</td>\n",
       "    </tr>\n",
       "    <tr>\n",
       "      <th>2</th>\n",
       "      <td>Универсал 5 дв.</td>\n",
       "      <td>AUDI</td>\n",
       "      <td>CACECB</td>\n",
       "      <td>бензин</td>\n",
       "      <td>1990.0</td>\n",
       "      <td>5.0</td>\n",
       "      <td>1991</td>\n",
       "      <td>MECHANICAL</td>\n",
       "      <td>2.3</td>\n",
       "      <td>133.0</td>\n",
       "      <td>205636</td>\n",
       "      <td>передний</td>\n",
       "      <td>LEFT</td>\n",
       "      <td>2.0</td>\n",
       "      <td>ORIGINAL</td>\n",
       "      <td>200000</td>\n",
       "    </tr>\n",
       "  </tbody>\n",
       "</table>\n",
       "</div>"
      ],
      "text/plain": [
       "          bodyType brand   color fuelType  modelDate  numberOfDoors  \\\n",
       "0            Седан  AUDI  040001   бензин     1990.0            4.0   \n",
       "1            Седан  AUDI  040001   бензин     1988.0            4.0   \n",
       "2  Универсал 5 дв.  AUDI  CACECB   бензин     1990.0            5.0   \n",
       "\n",
       "   productionDate vehicleConfiguration engineDisplacement  enginePower  \\\n",
       "0            1991           MECHANICAL                2.3        133.0   \n",
       "1            1989           MECHANICAL                2.0        115.0   \n",
       "2            1991           MECHANICAL                2.3        133.0   \n",
       "\n",
       "   mileage    Привод  Руль  Владельцы        ПТС   Price  \n",
       "0    10000  передний  LEFT        3.0   ORIGINAL  135000  \n",
       "1   300000  передний  LEFT        3.0  DUPLICATE   42000  \n",
       "2   205636  передний  LEFT        2.0   ORIGINAL  200000  "
      ]
     },
     "execution_count": 222,
     "metadata": {},
     "output_type": "execute_result"
    }
   ],
   "source": [
    "df.head(3)"
   ]
  },
  {
   "cell_type": "code",
   "execution_count": 223,
   "metadata": {},
   "outputs": [
    {
     "data": {
      "text/plain": [
       "bodyType                0.0\n",
       "brand                   0.0\n",
       "color                   0.0\n",
       "fuelType                0.0\n",
       "modelDate               0.0\n",
       "numberOfDoors           0.0\n",
       "productionDate          0.0\n",
       "vehicleConfiguration    0.0\n",
       "engineDisplacement      0.0\n",
       "enginePower             0.0\n",
       "mileage                 0.0\n",
       "Привод                  0.0\n",
       "Руль                    0.0\n",
       "Владельцы               0.0\n",
       "ПТС                     0.0\n",
       "Price                   0.0\n",
       "dtype: float64"
      ]
     },
     "execution_count": 223,
     "metadata": {},
     "output_type": "execute_result"
    }
   ],
   "source": [
    "df.isna().sum() / (df.shape[0])*100 "
   ]
  },
  {
   "cell_type": "markdown",
   "metadata": {},
   "source": [
    "### Encoding"
   ]
  },
  {
   "cell_type": "code",
   "execution_count": 224,
   "metadata": {},
   "outputs": [
    {
     "data": {
      "text/plain": [
       "bodyType                 object\n",
       "brand                    object\n",
       "color                    object\n",
       "fuelType                 object\n",
       "modelDate               float64\n",
       "numberOfDoors           float64\n",
       "productionDate            int64\n",
       "vehicleConfiguration     object\n",
       "engineDisplacement       object\n",
       "enginePower             float64\n",
       "mileage                   int64\n",
       "Привод                   object\n",
       "Руль                     object\n",
       "Владельцы               float64\n",
       "ПТС                      object\n",
       "Price                     int64\n",
       "dtype: object"
      ]
     },
     "execution_count": 224,
     "metadata": {},
     "output_type": "execute_result"
    }
   ],
   "source": [
    "df.dtypes"
   ]
  },
  {
   "cell_type": "code",
   "execution_count": 225,
   "metadata": {},
   "outputs": [
    {
     "data": {
      "text/plain": [
       "Index(['bodyType', 'brand', 'color', 'fuelType', 'modelDate', 'numberOfDoors',\n",
       "       'productionDate', 'vehicleConfiguration', 'engineDisplacement',\n",
       "       'enginePower', 'mileage', 'Привод', 'Руль', 'Владельцы', 'ПТС',\n",
       "       'Price'],\n",
       "      dtype='object')"
      ]
     },
     "execution_count": 225,
     "metadata": {},
     "output_type": "execute_result"
    }
   ],
   "source": [
    "df.columns"
   ]
  },
  {
   "cell_type": "code",
   "execution_count": null,
   "metadata": {},
   "outputs": [],
   "source": []
  },
  {
   "cell_type": "markdown",
   "metadata": {},
   "source": [
    "### SubmissionDATA LABELS"
   ]
  },
  {
   "cell_type": "code",
   "execution_count": null,
   "metadata": {},
   "outputs": [],
   "source": []
  },
  {
   "cell_type": "code",
   "execution_count": null,
   "metadata": {},
   "outputs": [],
   "source": []
  },
  {
   "cell_type": "code",
   "execution_count": null,
   "metadata": {},
   "outputs": [],
   "source": []
  },
  {
   "cell_type": "code",
   "execution_count": 226,
   "metadata": {},
   "outputs": [],
   "source": [
    "# Decrease length of bodyType column from 2-3 words to 1 word ('Компактвэн Gran Tourer' -> 'Компактвэн') \n",
    "df['bodyType'] = df['bodyType'].apply(lambda x: x.split()[0])"
   ]
  },
  {
   "cell_type": "code",
   "execution_count": 227,
   "metadata": {},
   "outputs": [
    {
     "data": {
      "text/plain": [
       "bodyType                   17\n",
       "brand                      13\n",
       "color                      16\n",
       "fuelType                    5\n",
       "modelDate                  70\n",
       "numberOfDoors               5\n",
       "productionDate             73\n",
       "vehicleConfiguration        4\n",
       "engineDisplacement        431\n",
       "enginePower               330\n",
       "mileage                 23363\n",
       "Привод                      3\n",
       "Руль                        2\n",
       "Владельцы                   3\n",
       "ПТС                         2\n",
       "Price                    5709\n",
       "dtype: int64"
      ]
     },
     "execution_count": 227,
     "metadata": {},
     "output_type": "execute_result"
    }
   ],
   "source": [
    "df.nunique()"
   ]
  },
  {
   "cell_type": "markdown",
   "metadata": {},
   "source": [
    "### Graphs and visualization"
   ]
  },
  {
   "cell_type": "code",
   "execution_count": 193,
   "metadata": {
    "jupyter": {
     "source_hidden": true
    }
   },
   "outputs": [
    {
     "data": {
      "image/png": "[encoded data removed]",
      "text/plain": [
       "<Figure size 432x288 with 1 Axes>"
      ]
     },
     "metadata": {
      "needs_background": "light"
     },
     "output_type": "display_data"
    }
   ],
   "source": [
    "_ = plt.hist(df['Привод'],bins = 5)\n",
    "plt.title('Drive type')\n",
    "plt.xlabel('Привод')\n",
    "plt.show()"
   ]
  },
  {
   "cell_type": "code",
   "execution_count": 194,
   "metadata": {
    "jupyter": {
     "source_hidden": true
    }
   },
   "outputs": [
    {
     "data": {
      "image/png": "[encoded data removed]",
      "text/plain": [
       "<Figure size 432x288 with 1 Axes>"
      ]
     },
     "metadata": {
      "needs_background": "light"
     },
     "output_type": "display_data"
    }
   ],
   "source": [
    "_ = plt.hist(df['ПТС'],bins = 3)\n",
    "plt.title('Vehicle licence')\n",
    "plt.xlabel('ПТС')\n",
    "plt.show()"
   ]
  },
  {
   "cell_type": "code",
   "execution_count": 195,
   "metadata": {
    "jupyter": {
     "source_hidden": true
    }
   },
   "outputs": [
    {
     "data": {
      "image/png": "[encoded data removed]",
      "text/plain": [
       "<Figure size 432x288 with 1 Axes>"
      ]
     },
     "metadata": {
      "needs_background": "light"
     },
     "output_type": "display_data"
    }
   ],
   "source": [
    "_ = plt.hist(df['Руль'],bins = 3)\n",
    "plt.title('Wheel')\n",
    "plt.xlabel('Руль')\n",
    "plt.show()"
   ]
  },
  {
   "cell_type": "markdown",
   "metadata": {},
   "source": [
    "Convert labels from strings to integers by LabelEncoder:"
   ]
  },
  {
   "cell_type": "code",
   "execution_count": 196,
   "metadata": {},
   "outputs": [],
   "source": [
    "LABEL_ENCODERS = dict() # Encoders will be used later for transforming test dataset"
   ]
  },
  {
   "cell_type": "code",
   "execution_count": 197,
   "metadata": {},
   "outputs": [],
   "source": [
    "categorical_columns = df.columns[df.dtypes == 'object']\n",
    "\n",
    "for column in categorical_columns:\n",
    "    le = preprocessing.LabelEncoder()\n",
    "    df[column] = le.fit_transform(list(df[column]))\n",
    "    LABEL_ENCODERS.update({column:le})"
   ]
  },
  {
   "cell_type": "markdown",
   "metadata": {},
   "source": [
    "Plot correlation matrix:"
   ]
  },
  {
   "cell_type": "code",
   "execution_count": 198,
   "metadata": {
    "jupyter": {
     "source_hidden": true
    }
   },
   "outputs": [
    {
     "data": {
      "text/html": [
       "<style  type=\"text/css\" >\n",
       "    #T_aa84261a_6a53_11eb_aaec_c0e4346c915b th {\n",
       "          font-size: 6pt;\n",
       "    }    #T_aa84261a_6a53_11eb_aaec_c0e4346c915b td {\n",
       "          padding: 0.4em 0.4em;\n",
       "    }    #T_aa84261a_6a53_11eb_aaec_c0e4346c915b th:hover {\n",
       "          font-size: 8pt;\n",
       "    }    #T_aa84261a_6a53_11eb_aaec_c0e4346c915b tr:hover td:hover {\n",
       "          max-width: 80px;\n",
       "          font-size: 8pt;\n",
       "          min-width: 80px;\n",
       "    }#T_aa84261a_6a53_11eb_aaec_c0e4346c915brow0_col0,#T_aa84261a_6a53_11eb_aaec_c0e4346c915brow1_col1,#T_aa84261a_6a53_11eb_aaec_c0e4346c915brow2_col2,#T_aa84261a_6a53_11eb_aaec_c0e4346c915brow3_col3,#T_aa84261a_6a53_11eb_aaec_c0e4346c915brow4_col4,#T_aa84261a_6a53_11eb_aaec_c0e4346c915brow5_col5,#T_aa84261a_6a53_11eb_aaec_c0e4346c915brow6_col6,#T_aa84261a_6a53_11eb_aaec_c0e4346c915brow7_col7,#T_aa84261a_6a53_11eb_aaec_c0e4346c915brow8_col8,#T_aa84261a_6a53_11eb_aaec_c0e4346c915brow9_col9,#T_aa84261a_6a53_11eb_aaec_c0e4346c915brow10_col10,#T_aa84261a_6a53_11eb_aaec_c0e4346c915brow11_col11,#T_aa84261a_6a53_11eb_aaec_c0e4346c915brow12_col12,#T_aa84261a_6a53_11eb_aaec_c0e4346c915brow13_col13,#T_aa84261a_6a53_11eb_aaec_c0e4346c915brow14_col14,#T_aa84261a_6a53_11eb_aaec_c0e4346c915brow15_col15{\n",
       "            background-color:  #4479bb;\n",
       "            color:  #000000;\n",
       "            max-width:  80px;\n",
       "            font-size:  12pt;\n",
       "        }#T_aa84261a_6a53_11eb_aaec_c0e4346c915brow0_col1,#T_aa84261a_6a53_11eb_aaec_c0e4346c915brow5_col3,#T_aa84261a_6a53_11eb_aaec_c0e4346c915brow8_col11{\n",
       "            background-color:  #edcad1;\n",
       "            color:  #000000;\n",
       "            max-width:  80px;\n",
       "            font-size:  12pt;\n",
       "        }#T_aa84261a_6a53_11eb_aaec_c0e4346c915brow0_col2,#T_aa84261a_6a53_11eb_aaec_c0e4346c915brow5_col1,#T_aa84261a_6a53_11eb_aaec_c0e4346c915brow10_col2,#T_aa84261a_6a53_11eb_aaec_c0e4346c915brow10_col5{\n",
       "            background-color:  #ebc2ca;\n",
       "            color:  #000000;\n",
       "            max-width:  80px;\n",
       "            font-size:  12pt;\n",
       "        }#T_aa84261a_6a53_11eb_aaec_c0e4346c915brow0_col3,#T_aa84261a_6a53_11eb_aaec_c0e4346c915brow8_col10,#T_aa84261a_6a53_11eb_aaec_c0e4346c915brow13_col11,#T_aa84261a_6a53_11eb_aaec_c0e4346c915brow14_col9{\n",
       "            background-color:  #e492a3;\n",
       "            color:  #000000;\n",
       "            max-width:  80px;\n",
       "            font-size:  12pt;\n",
       "        }#T_aa84261a_6a53_11eb_aaec_c0e4346c915brow0_col4,#T_aa84261a_6a53_11eb_aaec_c0e4346c915brow0_col6,#T_aa84261a_6a53_11eb_aaec_c0e4346c915brow0_col15,#T_aa84261a_6a53_11eb_aaec_c0e4346c915brow8_col5,#T_aa84261a_6a53_11eb_aaec_c0e4346c915brow12_col1{\n",
       "            background-color:  #e38d9e;\n",
       "            color:  #000000;\n",
       "            max-width:  80px;\n",
       "            font-size:  12pt;\n",
       "        }#T_aa84261a_6a53_11eb_aaec_c0e4346c915brow0_col5{\n",
       "            background-color:  #dc5c76;\n",
       "            color:  #000000;\n",
       "            max-width:  80px;\n",
       "            font-size:  12pt;\n",
       "        }#T_aa84261a_6a53_11eb_aaec_c0e4346c915brow0_col7,#T_aa84261a_6a53_11eb_aaec_c0e4346c915brow11_col1{\n",
       "            background-color:  #eabcc5;\n",
       "            color:  #000000;\n",
       "            max-width:  80px;\n",
       "            font-size:  12pt;\n",
       "        }#T_aa84261a_6a53_11eb_aaec_c0e4346c915brow0_col8,#T_aa84261a_6a53_11eb_aaec_c0e4346c915brow1_col6,#T_aa84261a_6a53_11eb_aaec_c0e4346c915brow9_col14,#T_aa84261a_6a53_11eb_aaec_c0e4346c915brow11_col10{\n",
       "            background-color:  #e599a8;\n",
       "            color:  #000000;\n",
       "            max-width:  80px;\n",
       "            font-size:  12pt;\n",
       "        }#T_aa84261a_6a53_11eb_aaec_c0e4346c915brow0_col9,#T_aa84261a_6a53_11eb_aaec_c0e4346c915brow2_col12,#T_aa84261a_6a53_11eb_aaec_c0e4346c915brow12_col7{\n",
       "            background-color:  #e17c90;\n",
       "            color:  #000000;\n",
       "            max-width:  80px;\n",
       "            font-size:  12pt;\n",
       "        }#T_aa84261a_6a53_11eb_aaec_c0e4346c915brow0_col10,#T_aa84261a_6a53_11eb_aaec_c0e4346c915brow15_col11{\n",
       "            background-color:  #f1e7e9;\n",
       "            color:  #000000;\n",
       "            max-width:  80px;\n",
       "            font-size:  12pt;\n",
       "        }#T_aa84261a_6a53_11eb_aaec_c0e4346c915brow0_col11,#T_aa84261a_6a53_11eb_aaec_c0e4346c915brow1_col8,#T_aa84261a_6a53_11eb_aaec_c0e4346c915brow2_col9,#T_aa84261a_6a53_11eb_aaec_c0e4346c915brow3_col7,#T_aa84261a_6a53_11eb_aaec_c0e4346c915brow4_col10,#T_aa84261a_6a53_11eb_aaec_c0e4346c915brow5_col0,#T_aa84261a_6a53_11eb_aaec_c0e4346c915brow6_col10,#T_aa84261a_6a53_11eb_aaec_c0e4346c915brow7_col8,#T_aa84261a_6a53_11eb_aaec_c0e4346c915brow7_col9,#T_aa84261a_6a53_11eb_aaec_c0e4346c915brow8_col1,#T_aa84261a_6a53_11eb_aaec_c0e4346c915brow9_col1,#T_aa84261a_6a53_11eb_aaec_c0e4346c915brow10_col6,#T_aa84261a_6a53_11eb_aaec_c0e4346c915brow11_col0,#T_aa84261a_6a53_11eb_aaec_c0e4346c915brow12_col6,#T_aa84261a_6a53_11eb_aaec_c0e4346c915brow13_col6,#T_aa84261a_6a53_11eb_aaec_c0e4346c915brow14_col13,#T_aa84261a_6a53_11eb_aaec_c0e4346c915brow15_col10{\n",
       "            background-color:  #d73c5b;\n",
       "            color:  #f1f1f1;\n",
       "            max-width:  80px;\n",
       "            font-size:  12pt;\n",
       "        }#T_aa84261a_6a53_11eb_aaec_c0e4346c915brow0_col12,#T_aa84261a_6a53_11eb_aaec_c0e4346c915brow6_col1{\n",
       "            background-color:  #edd0d6;\n",
       "            color:  #000000;\n",
       "            max-width:  80px;\n",
       "            font-size:  12pt;\n",
       "        }#T_aa84261a_6a53_11eb_aaec_c0e4346c915brow0_col13{\n",
       "            background-color:  #f1e8ea;\n",
       "            color:  #000000;\n",
       "            max-width:  80px;\n",
       "            font-size:  12pt;\n",
       "        }#T_aa84261a_6a53_11eb_aaec_c0e4346c915brow0_col14,#T_aa84261a_6a53_11eb_aaec_c0e4346c915brow7_col4,#T_aa84261a_6a53_11eb_aaec_c0e4346c915brow7_col5,#T_aa84261a_6a53_11eb_aaec_c0e4346c915brow7_col6{\n",
       "            background-color:  #e7a8b5;\n",
       "            color:  #000000;\n",
       "            max-width:  80px;\n",
       "            font-size:  12pt;\n",
       "        }#T_aa84261a_6a53_11eb_aaec_c0e4346c915brow1_col0,#T_aa84261a_6a53_11eb_aaec_c0e4346c915brow8_col6,#T_aa84261a_6a53_11eb_aaec_c0e4346c915brow9_col3{\n",
       "            background-color:  #e7a7b4;\n",
       "            color:  #000000;\n",
       "            max-width:  80px;\n",
       "            font-size:  12pt;\n",
       "        }#T_aa84261a_6a53_11eb_aaec_c0e4346c915brow1_col2,#T_aa84261a_6a53_11eb_aaec_c0e4346c915brow1_col7,#T_aa84261a_6a53_11eb_aaec_c0e4346c915brow11_col12,#T_aa84261a_6a53_11eb_aaec_c0e4346c915brow14_col5{\n",
       "            background-color:  #e9b1bc;\n",
       "            color:  #000000;\n",
       "            max-width:  80px;\n",
       "            font-size:  12pt;\n",
       "        }#T_aa84261a_6a53_11eb_aaec_c0e4346c915brow1_col3,#T_aa84261a_6a53_11eb_aaec_c0e4346c915brow8_col14,#T_aa84261a_6a53_11eb_aaec_c0e4346c915brow15_col12{\n",
       "            background-color:  #e48fa0;\n",
       "            color:  #000000;\n",
       "            max-width:  80px;\n",
       "            font-size:  12pt;\n",
       "        }#T_aa84261a_6a53_11eb_aaec_c0e4346c915brow1_col4,#T_aa84261a_6a53_11eb_aaec_c0e4346c915brow12_col0,#T_aa84261a_6a53_11eb_aaec_c0e4346c915brow13_col5{\n",
       "            background-color:  #e491a1;\n",
       "            color:  #000000;\n",
       "            max-width:  80px;\n",
       "            font-size:  12pt;\n",
       "        }#T_aa84261a_6a53_11eb_aaec_c0e4346c915brow1_col5{\n",
       "            background-color:  #eab7c1;\n",
       "            color:  #000000;\n",
       "            max-width:  80px;\n",
       "            font-size:  12pt;\n",
       "        }#T_aa84261a_6a53_11eb_aaec_c0e4346c915brow1_col9{\n",
       "            background-color:  #d73d5c;\n",
       "            color:  #f1f1f1;\n",
       "            max-width:  80px;\n",
       "            font-size:  12pt;\n",
       "        }#T_aa84261a_6a53_11eb_aaec_c0e4346c915brow1_col10,#T_aa84261a_6a53_11eb_aaec_c0e4346c915brow5_col12,#T_aa84261a_6a53_11eb_aaec_c0e4346c915brow6_col0,#T_aa84261a_6a53_11eb_aaec_c0e4346c915brow6_col12,#T_aa84261a_6a53_11eb_aaec_c0e4346c915brow14_col3{\n",
       "            background-color:  #e7a4b1;\n",
       "            color:  #000000;\n",
       "            max-width:  80px;\n",
       "            font-size:  12pt;\n",
       "        }#T_aa84261a_6a53_11eb_aaec_c0e4346c915brow1_col11,#T_aa84261a_6a53_11eb_aaec_c0e4346c915brow9_col13{\n",
       "            background-color:  #e597a7;\n",
       "            color:  #000000;\n",
       "            max-width:  80px;\n",
       "            font-size:  12pt;\n",
       "        }#T_aa84261a_6a53_11eb_aaec_c0e4346c915brow1_col12,#T_aa84261a_6a53_11eb_aaec_c0e4346c915brow8_col13{\n",
       "            background-color:  #e8aab6;\n",
       "            color:  #000000;\n",
       "            max-width:  80px;\n",
       "            font-size:  12pt;\n",
       "        }#T_aa84261a_6a53_11eb_aaec_c0e4346c915brow1_col13,#T_aa84261a_6a53_11eb_aaec_c0e4346c915brow2_col1,#T_aa84261a_6a53_11eb_aaec_c0e4346c915brow2_col7{\n",
       "            background-color:  #e28698;\n",
       "            color:  #000000;\n",
       "            max-width:  80px;\n",
       "            font-size:  12pt;\n",
       "        }#T_aa84261a_6a53_11eb_aaec_c0e4346c915brow1_col14,#T_aa84261a_6a53_11eb_aaec_c0e4346c915brow5_col9,#T_aa84261a_6a53_11eb_aaec_c0e4346c915brow7_col1,#T_aa84261a_6a53_11eb_aaec_c0e4346c915brow7_col2,#T_aa84261a_6a53_11eb_aaec_c0e4346c915brow13_col1,#T_aa84261a_6a53_11eb_aaec_c0e4346c915brow13_col2{\n",
       "            background-color:  #e7a5b2;\n",
       "            color:  #000000;\n",
       "            max-width:  80px;\n",
       "            font-size:  12pt;\n",
       "        }#T_aa84261a_6a53_11eb_aaec_c0e4346c915brow1_col15,#T_aa84261a_6a53_11eb_aaec_c0e4346c915brow13_col15{\n",
       "            background-color:  #df7288;\n",
       "            color:  #000000;\n",
       "            max-width:  80px;\n",
       "            font-size:  12pt;\n",
       "        }#T_aa84261a_6a53_11eb_aaec_c0e4346c915brow2_col0,#T_aa84261a_6a53_11eb_aaec_c0e4346c915brow2_col5,#T_aa84261a_6a53_11eb_aaec_c0e4346c915brow12_col8,#T_aa84261a_6a53_11eb_aaec_c0e4346c915brow15_col0{\n",
       "            background-color:  #df6d84;\n",
       "            color:  #000000;\n",
       "            max-width:  80px;\n",
       "            font-size:  12pt;\n",
       "        }#T_aa84261a_6a53_11eb_aaec_c0e4346c915brow2_col3,#T_aa84261a_6a53_11eb_aaec_c0e4346c915brow2_col11{\n",
       "            background-color:  #db5872;\n",
       "            color:  #000000;\n",
       "            max-width:  80px;\n",
       "            font-size:  12pt;\n",
       "        }#T_aa84261a_6a53_11eb_aaec_c0e4346c915brow2_col4{\n",
       "            background-color:  #e17d91;\n",
       "            color:  #000000;\n",
       "            max-width:  80px;\n",
       "            font-size:  12pt;\n",
       "        }#T_aa84261a_6a53_11eb_aaec_c0e4346c915brow2_col6,#T_aa84261a_6a53_11eb_aaec_c0e4346c915brow5_col13{\n",
       "            background-color:  #e18093;\n",
       "            color:  #000000;\n",
       "            max-width:  80px;\n",
       "            font-size:  12pt;\n",
       "        }#T_aa84261a_6a53_11eb_aaec_c0e4346c915brow2_col8,#T_aa84261a_6a53_11eb_aaec_c0e4346c915brow3_col0,#T_aa84261a_6a53_11eb_aaec_c0e4346c915brow12_col4{\n",
       "            background-color:  #d83e5d;\n",
       "            color:  #f1f1f1;\n",
       "            max-width:  80px;\n",
       "            font-size:  12pt;\n",
       "        }#T_aa84261a_6a53_11eb_aaec_c0e4346c915brow2_col10{\n",
       "            background-color:  #db546f;\n",
       "            color:  #000000;\n",
       "            max-width:  80px;\n",
       "            font-size:  12pt;\n",
       "        }#T_aa84261a_6a53_11eb_aaec_c0e4346c915brow2_col13{\n",
       "            background-color:  #db526e;\n",
       "            color:  #000000;\n",
       "            max-width:  80px;\n",
       "            font-size:  12pt;\n",
       "        }#T_aa84261a_6a53_11eb_aaec_c0e4346c915brow2_col14,#T_aa84261a_6a53_11eb_aaec_c0e4346c915brow12_col5{\n",
       "            background-color:  #e0768b;\n",
       "            color:  #000000;\n",
       "            max-width:  80px;\n",
       "            font-size:  12pt;\n",
       "        }#T_aa84261a_6a53_11eb_aaec_c0e4346c915brow2_col15{\n",
       "            background-color:  #db5771;\n",
       "            color:  #000000;\n",
       "            max-width:  80px;\n",
       "            font-size:  12pt;\n",
       "        }#T_aa84261a_6a53_11eb_aaec_c0e4346c915brow3_col1,#T_aa84261a_6a53_11eb_aaec_c0e4346c915brow7_col13,#T_aa84261a_6a53_11eb_aaec_c0e4346c915brow8_col0{\n",
       "            background-color:  #de6c83;\n",
       "            color:  #000000;\n",
       "            max-width:  80px;\n",
       "            font-size:  12pt;\n",
       "        }#T_aa84261a_6a53_11eb_aaec_c0e4346c915brow3_col2{\n",
       "            background-color:  #de667e;\n",
       "            color:  #000000;\n",
       "            max-width:  80px;\n",
       "            font-size:  12pt;\n",
       "        }#T_aa84261a_6a53_11eb_aaec_c0e4346c915brow3_col4,#T_aa84261a_6a53_11eb_aaec_c0e4346c915brow7_col14,#T_aa84261a_6a53_11eb_aaec_c0e4346c915brow11_col13,#T_aa84261a_6a53_11eb_aaec_c0e4346c915brow14_col2{\n",
       "            background-color:  #e69dab;\n",
       "            color:  #000000;\n",
       "            max-width:  80px;\n",
       "            font-size:  12pt;\n",
       "        }#T_aa84261a_6a53_11eb_aaec_c0e4346c915brow3_col5,#T_aa84261a_6a53_11eb_aaec_c0e4346c915brow3_col6,#T_aa84261a_6a53_11eb_aaec_c0e4346c915brow12_col10,#T_aa84261a_6a53_11eb_aaec_c0e4346c915brow13_col3,#T_aa84261a_6a53_11eb_aaec_c0e4346c915brow14_col7{\n",
       "            background-color:  #e6a1af;\n",
       "            color:  #000000;\n",
       "            max-width:  80px;\n",
       "            font-size:  12pt;\n",
       "        }#T_aa84261a_6a53_11eb_aaec_c0e4346c915brow3_col8{\n",
       "            background-color:  #e8adb8;\n",
       "            color:  #000000;\n",
       "            max-width:  80px;\n",
       "            font-size:  12pt;\n",
       "        }#T_aa84261a_6a53_11eb_aaec_c0e4346c915brow3_col9,#T_aa84261a_6a53_11eb_aaec_c0e4346c915brow7_col11,#T_aa84261a_6a53_11eb_aaec_c0e4346c915brow14_col8{\n",
       "            background-color:  #e28799;\n",
       "            color:  #000000;\n",
       "            max-width:  80px;\n",
       "            font-size:  12pt;\n",
       "        }#T_aa84261a_6a53_11eb_aaec_c0e4346c915brow3_col10,#T_aa84261a_6a53_11eb_aaec_c0e4346c915brow9_col2{\n",
       "            background-color:  #df7086;\n",
       "            color:  #000000;\n",
       "            max-width:  80px;\n",
       "            font-size:  12pt;\n",
       "        }#T_aa84261a_6a53_11eb_aaec_c0e4346c915brow3_col11,#T_aa84261a_6a53_11eb_aaec_c0e4346c915brow5_col14,#T_aa84261a_6a53_11eb_aaec_c0e4346c915brow13_col12{\n",
       "            background-color:  #ecc3cb;\n",
       "            color:  #000000;\n",
       "            max-width:  80px;\n",
       "            font-size:  12pt;\n",
       "        }#T_aa84261a_6a53_11eb_aaec_c0e4346c915brow3_col12,#T_aa84261a_6a53_11eb_aaec_c0e4346c915brow7_col10{\n",
       "            background-color:  #df6f85;\n",
       "            color:  #000000;\n",
       "            max-width:  80px;\n",
       "            font-size:  12pt;\n",
       "        }#T_aa84261a_6a53_11eb_aaec_c0e4346c915brow3_col13,#T_aa84261a_6a53_11eb_aaec_c0e4346c915brow15_col13{\n",
       "            background-color:  #dc5b75;\n",
       "            color:  #000000;\n",
       "            max-width:  80px;\n",
       "            font-size:  12pt;\n",
       "        }#T_aa84261a_6a53_11eb_aaec_c0e4346c915brow3_col14,#T_aa84261a_6a53_11eb_aaec_c0e4346c915brow12_col2,#T_aa84261a_6a53_11eb_aaec_c0e4346c915brow12_col13{\n",
       "            background-color:  #e38b9d;\n",
       "            color:  #000000;\n",
       "            max-width:  80px;\n",
       "            font-size:  12pt;\n",
       "        }#T_aa84261a_6a53_11eb_aaec_c0e4346c915brow3_col15,#T_aa84261a_6a53_11eb_aaec_c0e4346c915brow5_col7{\n",
       "            background-color:  #ebbfc8;\n",
       "            color:  #000000;\n",
       "            max-width:  80px;\n",
       "            font-size:  12pt;\n",
       "        }#T_aa84261a_6a53_11eb_aaec_c0e4346c915brow4_col0{\n",
       "            background-color:  #e6a0ae;\n",
       "            color:  #000000;\n",
       "            max-width:  80px;\n",
       "            font-size:  12pt;\n",
       "        }#T_aa84261a_6a53_11eb_aaec_c0e4346c915brow4_col1{\n",
       "            background-color:  #ecc8cf;\n",
       "            color:  #000000;\n",
       "            max-width:  80px;\n",
       "            font-size:  12pt;\n",
       "        }#T_aa84261a_6a53_11eb_aaec_c0e4346c915brow4_col2,#T_aa84261a_6a53_11eb_aaec_c0e4346c915brow6_col8{\n",
       "            background-color:  #efdcdf;\n",
       "            color:  #000000;\n",
       "            max-width:  80px;\n",
       "            font-size:  12pt;\n",
       "        }#T_aa84261a_6a53_11eb_aaec_c0e4346c915brow4_col3,#T_aa84261a_6a53_11eb_aaec_c0e4346c915brow11_col8{\n",
       "            background-color:  #f1eaeb;\n",
       "            color:  #000000;\n",
       "            max-width:  80px;\n",
       "            font-size:  12pt;\n",
       "        }#T_aa84261a_6a53_11eb_aaec_c0e4346c915brow4_col5,#T_aa84261a_6a53_11eb_aaec_c0e4346c915brow8_col15{\n",
       "            background-color:  #eff0f2;\n",
       "            color:  #000000;\n",
       "            max-width:  80px;\n",
       "            font-size:  12pt;\n",
       "        }#T_aa84261a_6a53_11eb_aaec_c0e4346c915brow4_col6,#T_aa84261a_6a53_11eb_aaec_c0e4346c915brow6_col4{\n",
       "            background-color:  #497dbc;\n",
       "            color:  #000000;\n",
       "            max-width:  80px;\n",
       "            font-size:  12pt;\n",
       "        }#T_aa84261a_6a53_11eb_aaec_c0e4346c915brow4_col7,#T_aa84261a_6a53_11eb_aaec_c0e4346c915brow15_col3{\n",
       "            background-color:  #f0e3e5;\n",
       "            color:  #000000;\n",
       "            max-width:  80px;\n",
       "            font-size:  12pt;\n",
       "        }#T_aa84261a_6a53_11eb_aaec_c0e4346c915brow4_col8,#T_aa84261a_6a53_11eb_aaec_c0e4346c915brow14_col4{\n",
       "            background-color:  #efdde0;\n",
       "            color:  #000000;\n",
       "            max-width:  80px;\n",
       "            font-size:  12pt;\n",
       "        }#T_aa84261a_6a53_11eb_aaec_c0e4346c915brow4_col9,#T_aa84261a_6a53_11eb_aaec_c0e4346c915brow4_col11{\n",
       "            background-color:  #e3e8ee;\n",
       "            color:  #000000;\n",
       "            max-width:  80px;\n",
       "            font-size:  12pt;\n",
       "        }#T_aa84261a_6a53_11eb_aaec_c0e4346c915brow4_col12{\n",
       "            background-color:  #e7a3b0;\n",
       "            color:  #000000;\n",
       "            max-width:  80px;\n",
       "            font-size:  12pt;\n",
       "        }#T_aa84261a_6a53_11eb_aaec_c0e4346c915brow4_col13{\n",
       "            background-color:  #dd657d;\n",
       "            color:  #000000;\n",
       "            max-width:  80px;\n",
       "            font-size:  12pt;\n",
       "        }#T_aa84261a_6a53_11eb_aaec_c0e4346c915brow4_col14{\n",
       "            background-color:  #dbe2eb;\n",
       "            color:  #000000;\n",
       "            max-width:  80px;\n",
       "            font-size:  12pt;\n",
       "        }#T_aa84261a_6a53_11eb_aaec_c0e4346c915brow4_col15,#T_aa84261a_6a53_11eb_aaec_c0e4346c915brow9_col15,#T_aa84261a_6a53_11eb_aaec_c0e4346c915brow11_col5{\n",
       "            background-color:  #c1d0e3;\n",
       "            color:  #000000;\n",
       "            max-width:  80px;\n",
       "            font-size:  12pt;\n",
       "        }#T_aa84261a_6a53_11eb_aaec_c0e4346c915brow5_col2,#T_aa84261a_6a53_11eb_aaec_c0e4346c915brow8_col4,#T_aa84261a_6a53_11eb_aaec_c0e4346c915brow15_col5{\n",
       "            background-color:  #e8abb7;\n",
       "            color:  #000000;\n",
       "            max-width:  80px;\n",
       "            font-size:  12pt;\n",
       "        }#T_aa84261a_6a53_11eb_aaec_c0e4346c915brow5_col4{\n",
       "            background-color:  #eed3d8;\n",
       "            color:  #000000;\n",
       "            max-width:  80px;\n",
       "            font-size:  12pt;\n",
       "        }#T_aa84261a_6a53_11eb_aaec_c0e4346c915brow5_col6{\n",
       "            background-color:  #eed4d9;\n",
       "            color:  #000000;\n",
       "            max-width:  80px;\n",
       "            font-size:  12pt;\n",
       "        }#T_aa84261a_6a53_11eb_aaec_c0e4346c915brow5_col8{\n",
       "            background-color:  #e69caa;\n",
       "            color:  #000000;\n",
       "            max-width:  80px;\n",
       "            font-size:  12pt;\n",
       "        }#T_aa84261a_6a53_11eb_aaec_c0e4346c915brow5_col10{\n",
       "            background-color:  #e494a4;\n",
       "            color:  #000000;\n",
       "            max-width:  80px;\n",
       "            font-size:  12pt;\n",
       "        }#T_aa84261a_6a53_11eb_aaec_c0e4346c915brow5_col11{\n",
       "            background-color:  #cdd9e7;\n",
       "            color:  #000000;\n",
       "            max-width:  80px;\n",
       "            font-size:  12pt;\n",
       "        }#T_aa84261a_6a53_11eb_aaec_c0e4346c915brow5_col15,#T_aa84261a_6a53_11eb_aaec_c0e4346c915brow10_col9,#T_aa84261a_6a53_11eb_aaec_c0e4346c915brow10_col11,#T_aa84261a_6a53_11eb_aaec_c0e4346c915brow14_col11{\n",
       "            background-color:  #e8aeba;\n",
       "            color:  #000000;\n",
       "            max-width:  80px;\n",
       "            font-size:  12pt;\n",
       "        }#T_aa84261a_6a53_11eb_aaec_c0e4346c915brow6_col2,#T_aa84261a_6a53_11eb_aaec_c0e4346c915brow13_col0,#T_aa84261a_6a53_11eb_aaec_c0e4346c915brow14_col6{\n",
       "            background-color:  #f0e1e4;\n",
       "            color:  #000000;\n",
       "            max-width:  80px;\n",
       "            font-size:  12pt;\n",
       "        }#T_aa84261a_6a53_11eb_aaec_c0e4346c915brow6_col3{\n",
       "            background-color:  #f2eeef;\n",
       "            color:  #000000;\n",
       "            max-width:  80px;\n",
       "            font-size:  12pt;\n",
       "        }#T_aa84261a_6a53_11eb_aaec_c0e4346c915brow6_col5{\n",
       "            background-color:  #ebedf1;\n",
       "            color:  #000000;\n",
       "            max-width:  80px;\n",
       "            font-size:  12pt;\n",
       "        }#T_aa84261a_6a53_11eb_aaec_c0e4346c915brow6_col7{\n",
       "            background-color:  #f1e5e7;\n",
       "            color:  #000000;\n",
       "            max-width:  80px;\n",
       "            font-size:  12pt;\n",
       "        }#T_aa84261a_6a53_11eb_aaec_c0e4346c915brow6_col9{\n",
       "            background-color:  #e7eaef;\n",
       "            color:  #000000;\n",
       "            max-width:  80px;\n",
       "            font-size:  12pt;\n",
       "        }#T_aa84261a_6a53_11eb_aaec_c0e4346c915brow6_col11{\n",
       "            background-color:  #e0e6ed;\n",
       "            color:  #000000;\n",
       "            max-width:  80px;\n",
       "            font-size:  12pt;\n",
       "        }#T_aa84261a_6a53_11eb_aaec_c0e4346c915brow6_col13,#T_aa84261a_6a53_11eb_aaec_c0e4346c915brow7_col15{\n",
       "            background-color:  #dd637c;\n",
       "            color:  #000000;\n",
       "            max-width:  80px;\n",
       "            font-size:  12pt;\n",
       "        }#T_aa84261a_6a53_11eb_aaec_c0e4346c915brow6_col14,#T_aa84261a_6a53_11eb_aaec_c0e4346c915brow11_col9{\n",
       "            background-color:  #d5deea;\n",
       "            color:  #000000;\n",
       "            max-width:  80px;\n",
       "            font-size:  12pt;\n",
       "        }#T_aa84261a_6a53_11eb_aaec_c0e4346c915brow6_col15{\n",
       "            background-color:  #becee2;\n",
       "            color:  #000000;\n",
       "            max-width:  80px;\n",
       "            font-size:  12pt;\n",
       "        }#T_aa84261a_6a53_11eb_aaec_c0e4346c915brow7_col0{\n",
       "            background-color:  #e38a9c;\n",
       "            color:  #000000;\n",
       "            max-width:  80px;\n",
       "            font-size:  12pt;\n",
       "        }#T_aa84261a_6a53_11eb_aaec_c0e4346c915brow7_col3{\n",
       "            background-color:  #db5570;\n",
       "            color:  #000000;\n",
       "            max-width:  80px;\n",
       "            font-size:  12pt;\n",
       "        }#T_aa84261a_6a53_11eb_aaec_c0e4346c915brow7_col12,#T_aa84261a_6a53_11eb_aaec_c0e4346c915brow8_col12{\n",
       "            background-color:  #e48e9f;\n",
       "            color:  #000000;\n",
       "            max-width:  80px;\n",
       "            font-size:  12pt;\n",
       "        }#T_aa84261a_6a53_11eb_aaec_c0e4346c915brow8_col2{\n",
       "            background-color:  #e0748a;\n",
       "            color:  #000000;\n",
       "            max-width:  80px;\n",
       "            font-size:  12pt;\n",
       "        }#T_aa84261a_6a53_11eb_aaec_c0e4346c915brow8_col3{\n",
       "            background-color:  #ecc9d0;\n",
       "            color:  #000000;\n",
       "            max-width:  80px;\n",
       "            font-size:  12pt;\n",
       "        }#T_aa84261a_6a53_11eb_aaec_c0e4346c915brow8_col7,#T_aa84261a_6a53_11eb_aaec_c0e4346c915brow14_col10{\n",
       "            background-color:  #da4b68;\n",
       "            color:  #000000;\n",
       "            max-width:  80px;\n",
       "            font-size:  12pt;\n",
       "        }#T_aa84261a_6a53_11eb_aaec_c0e4346c915brow8_col9,#T_aa84261a_6a53_11eb_aaec_c0e4346c915brow9_col8{\n",
       "            background-color:  #99b4d6;\n",
       "            color:  #000000;\n",
       "            max-width:  80px;\n",
       "            font-size:  12pt;\n",
       "        }#T_aa84261a_6a53_11eb_aaec_c0e4346c915brow9_col0,#T_aa84261a_6a53_11eb_aaec_c0e4346c915brow9_col7{\n",
       "            background-color:  #d94a67;\n",
       "            color:  #000000;\n",
       "            max-width:  80px;\n",
       "            font-size:  12pt;\n",
       "        }#T_aa84261a_6a53_11eb_aaec_c0e4346c915brow9_col4{\n",
       "            background-color:  #efd7dc;\n",
       "            color:  #000000;\n",
       "            max-width:  80px;\n",
       "            font-size:  12pt;\n",
       "        }#T_aa84261a_6a53_11eb_aaec_c0e4346c915brow9_col5,#T_aa84261a_6a53_11eb_aaec_c0e4346c915brow15_col2{\n",
       "            background-color:  #e595a5;\n",
       "            color:  #000000;\n",
       "            max-width:  80px;\n",
       "            font-size:  12pt;\n",
       "        }#T_aa84261a_6a53_11eb_aaec_c0e4346c915brow9_col6{\n",
       "            background-color:  #edcfd5;\n",
       "            color:  #000000;\n",
       "            max-width:  80px;\n",
       "            font-size:  12pt;\n",
       "        }#T_aa84261a_6a53_11eb_aaec_c0e4346c915brow9_col10,#T_aa84261a_6a53_11eb_aaec_c0e4346c915brow12_col14,#T_aa84261a_6a53_11eb_aaec_c0e4346c915brow13_col14{\n",
       "            background-color:  #de6b82;\n",
       "            color:  #000000;\n",
       "            max-width:  80px;\n",
       "            font-size:  12pt;\n",
       "        }#T_aa84261a_6a53_11eb_aaec_c0e4346c915brow9_col11,#T_aa84261a_6a53_11eb_aaec_c0e4346c915brow10_col0,#T_aa84261a_6a53_11eb_aaec_c0e4346c915brow11_col4,#T_aa84261a_6a53_11eb_aaec_c0e4346c915brow11_col6{\n",
       "            background-color:  #eeeff2;\n",
       "            color:  #000000;\n",
       "            max-width:  80px;\n",
       "            font-size:  12pt;\n",
       "        }#T_aa84261a_6a53_11eb_aaec_c0e4346c915brow9_col12,#T_aa84261a_6a53_11eb_aaec_c0e4346c915brow15_col1,#T_aa84261a_6a53_11eb_aaec_c0e4346c915brow15_col7{\n",
       "            background-color:  #e17e92;\n",
       "            color:  #000000;\n",
       "            max-width:  80px;\n",
       "            font-size:  12pt;\n",
       "        }#T_aa84261a_6a53_11eb_aaec_c0e4346c915brow10_col1{\n",
       "            background-color:  #efd9dd;\n",
       "            color:  #000000;\n",
       "            max-width:  80px;\n",
       "            font-size:  12pt;\n",
       "        }#T_aa84261a_6a53_11eb_aaec_c0e4346c915brow10_col3{\n",
       "            background-color:  #edcdd3;\n",
       "            color:  #000000;\n",
       "            max-width:  80px;\n",
       "            font-size:  12pt;\n",
       "        }#T_aa84261a_6a53_11eb_aaec_c0e4346c915brow10_col4{\n",
       "            background-color:  #d8405e;\n",
       "            color:  #f1f1f1;\n",
       "            max-width:  80px;\n",
       "            font-size:  12pt;\n",
       "        }#T_aa84261a_6a53_11eb_aaec_c0e4346c915brow10_col7,#T_aa84261a_6a53_11eb_aaec_c0e4346c915brow11_col7{\n",
       "            background-color:  #eabbc4;\n",
       "            color:  #000000;\n",
       "            max-width:  80px;\n",
       "            font-size:  12pt;\n",
       "        }#T_aa84261a_6a53_11eb_aaec_c0e4346c915brow10_col8{\n",
       "            background-color:  #edccd2;\n",
       "            color:  #000000;\n",
       "            max-width:  80px;\n",
       "            font-size:  12pt;\n",
       "        }#T_aa84261a_6a53_11eb_aaec_c0e4346c915brow10_col12{\n",
       "            background-color:  #f2eded;\n",
       "            color:  #000000;\n",
       "            max-width:  80px;\n",
       "            font-size:  12pt;\n",
       "        }#T_aa84261a_6a53_11eb_aaec_c0e4346c915brow10_col13{\n",
       "            background-color:  #b2c6de;\n",
       "            color:  #000000;\n",
       "            max-width:  80px;\n",
       "            font-size:  12pt;\n",
       "        }#T_aa84261a_6a53_11eb_aaec_c0e4346c915brow10_col14,#T_aa84261a_6a53_11eb_aaec_c0e4346c915brow13_col7{\n",
       "            background-color:  #e59aa9;\n",
       "            color:  #000000;\n",
       "            max-width:  80px;\n",
       "            font-size:  12pt;\n",
       "        }#T_aa84261a_6a53_11eb_aaec_c0e4346c915brow10_col15{\n",
       "            background-color:  #e0798d;\n",
       "            color:  #000000;\n",
       "            max-width:  80px;\n",
       "            font-size:  12pt;\n",
       "        }#T_aa84261a_6a53_11eb_aaec_c0e4346c915brow11_col2{\n",
       "            background-color:  #e9b2bd;\n",
       "            color:  #000000;\n",
       "            max-width:  80px;\n",
       "            font-size:  12pt;\n",
       "        }#T_aa84261a_6a53_11eb_aaec_c0e4346c915brow11_col3,#T_aa84261a_6a53_11eb_aaec_c0e4346c915brow11_col15{\n",
       "            background-color:  #eaecf0;\n",
       "            color:  #000000;\n",
       "            max-width:  80px;\n",
       "            font-size:  12pt;\n",
       "        }#T_aa84261a_6a53_11eb_aaec_c0e4346c915brow11_col14{\n",
       "            background-color:  #eed6db;\n",
       "            color:  #000000;\n",
       "            max-width:  80px;\n",
       "            font-size:  12pt;\n",
       "        }#T_aa84261a_6a53_11eb_aaec_c0e4346c915brow12_col3{\n",
       "            background-color:  #e07389;\n",
       "            color:  #000000;\n",
       "            max-width:  80px;\n",
       "            font-size:  12pt;\n",
       "        }#T_aa84261a_6a53_11eb_aaec_c0e4346c915brow12_col9{\n",
       "            background-color:  #dc5e77;\n",
       "            color:  #000000;\n",
       "            max-width:  80px;\n",
       "            font-size:  12pt;\n",
       "        }#T_aa84261a_6a53_11eb_aaec_c0e4346c915brow12_col11{\n",
       "            background-color:  #de6980;\n",
       "            color:  #000000;\n",
       "            max-width:  80px;\n",
       "            font-size:  12pt;\n",
       "        }#T_aa84261a_6a53_11eb_aaec_c0e4346c915brow12_col15{\n",
       "            background-color:  #dd627b;\n",
       "            color:  #000000;\n",
       "            max-width:  80px;\n",
       "            font-size:  12pt;\n",
       "        }#T_aa84261a_6a53_11eb_aaec_c0e4346c915brow13_col4{\n",
       "            background-color:  #d8415f;\n",
       "            color:  #f1f1f1;\n",
       "            max-width:  80px;\n",
       "            font-size:  12pt;\n",
       "        }#T_aa84261a_6a53_11eb_aaec_c0e4346c915brow13_col8{\n",
       "            background-color:  #ecc5cc;\n",
       "            color:  #000000;\n",
       "            max-width:  80px;\n",
       "            font-size:  12pt;\n",
       "        }#T_aa84261a_6a53_11eb_aaec_c0e4346c915brow13_col9,#T_aa84261a_6a53_11eb_aaec_c0e4346c915brow14_col15{\n",
       "            background-color:  #e9b5bf;\n",
       "            color:  #000000;\n",
       "            max-width:  80px;\n",
       "            font-size:  12pt;\n",
       "        }#T_aa84261a_6a53_11eb_aaec_c0e4346c915brow13_col10{\n",
       "            background-color:  #c0cfe3;\n",
       "            color:  #000000;\n",
       "            max-width:  80px;\n",
       "            font-size:  12pt;\n",
       "        }#T_aa84261a_6a53_11eb_aaec_c0e4346c915brow14_col0{\n",
       "            background-color:  #e0778c;\n",
       "            color:  #000000;\n",
       "            max-width:  80px;\n",
       "            font-size:  12pt;\n",
       "        }#T_aa84261a_6a53_11eb_aaec_c0e4346c915brow14_col1{\n",
       "            background-color:  #e69ead;\n",
       "            color:  #000000;\n",
       "            max-width:  80px;\n",
       "            font-size:  12pt;\n",
       "        }#T_aa84261a_6a53_11eb_aaec_c0e4346c915brow14_col12{\n",
       "            background-color:  #e28396;\n",
       "            color:  #000000;\n",
       "            max-width:  80px;\n",
       "            font-size:  12pt;\n",
       "        }#T_aa84261a_6a53_11eb_aaec_c0e4346c915brow15_col4,#T_aa84261a_6a53_11eb_aaec_c0e4346c915brow15_col6{\n",
       "            background-color:  #d8e0eb;\n",
       "            color:  #000000;\n",
       "            max-width:  80px;\n",
       "            font-size:  12pt;\n",
       "        }#T_aa84261a_6a53_11eb_aaec_c0e4346c915brow15_col8{\n",
       "            background-color:  #e8ebf0;\n",
       "            color:  #000000;\n",
       "            max-width:  80px;\n",
       "            font-size:  12pt;\n",
       "        }#T_aa84261a_6a53_11eb_aaec_c0e4346c915brow15_col9{\n",
       "            background-color:  #bacbe1;\n",
       "            color:  #000000;\n",
       "            max-width:  80px;\n",
       "            font-size:  12pt;\n",
       "        }#T_aa84261a_6a53_11eb_aaec_c0e4346c915brow15_col14{\n",
       "            background-color:  #ecc6ce;\n",
       "            color:  #000000;\n",
       "            max-width:  80px;\n",
       "            font-size:  12pt;\n",
       "        }</style><table id=\"T_aa84261a_6a53_11eb_aaec_c0e4346c915b\" ><caption>correlation matrix</caption><thead>    <tr>        <th class=\"blank level0\" ></th>        <th class=\"col_heading level0 col0\" >bodyType</th>        <th class=\"col_heading level0 col1\" >brand</th>        <th class=\"col_heading level0 col2\" >color</th>        <th class=\"col_heading level0 col3\" >fuelType</th>        <th class=\"col_heading level0 col4\" >modelDate</th>        <th class=\"col_heading level0 col5\" >numberOfDoors</th>        <th class=\"col_heading level0 col6\" >productionDate</th>        <th class=\"col_heading level0 col7\" >vehicleConfiguration</th>        <th class=\"col_heading level0 col8\" >engineDisplacement</th>        <th class=\"col_heading level0 col9\" >enginePower</th>        <th class=\"col_heading level0 col10\" >mileage</th>        <th class=\"col_heading level0 col11\" >Привод</th>        <th class=\"col_heading level0 col12\" >Руль</th>        <th class=\"col_heading level0 col13\" >Владельцы</th>        <th class=\"col_heading level0 col14\" >ПТС</th>        <th class=\"col_heading level0 col15\" >Price</th>    </tr></thead><tbody>\n",
       "                <tr>\n",
       "                        <th id=\"T_aa84261a_6a53_11eb_aaec_c0e4346c915blevel0_row0\" class=\"row_heading level0 row0\" >bodyType</th>\n",
       "                        <td id=\"T_aa84261a_6a53_11eb_aaec_c0e4346c915brow0_col0\" class=\"data row0 col0\" >1.00</td>\n",
       "                        <td id=\"T_aa84261a_6a53_11eb_aaec_c0e4346c915brow0_col1\" class=\"data row0 col1\" >0.05</td>\n",
       "                        <td id=\"T_aa84261a_6a53_11eb_aaec_c0e4346c915brow0_col2\" class=\"data row0 col2\" >0.01</td>\n",
       "                        <td id=\"T_aa84261a_6a53_11eb_aaec_c0e4346c915brow0_col3\" class=\"data row0 col3\" >-0.19</td>\n",
       "                        <td id=\"T_aa84261a_6a53_11eb_aaec_c0e4346c915brow0_col4\" class=\"data row0 col4\" >-0.21</td>\n",
       "                        <td id=\"T_aa84261a_6a53_11eb_aaec_c0e4346c915brow0_col5\" class=\"data row0 col5\" >-0.42</td>\n",
       "                        <td id=\"T_aa84261a_6a53_11eb_aaec_c0e4346c915brow0_col6\" class=\"data row0 col6\" >-0.21</td>\n",
       "                        <td id=\"T_aa84261a_6a53_11eb_aaec_c0e4346c915brow0_col7\" class=\"data row0 col7\" >-0.01</td>\n",
       "                        <td id=\"T_aa84261a_6a53_11eb_aaec_c0e4346c915brow0_col8\" class=\"data row0 col8\" >-0.17</td>\n",
       "                        <td id=\"T_aa84261a_6a53_11eb_aaec_c0e4346c915brow0_col9\" class=\"data row0 col9\" >-0.29</td>\n",
       "                        <td id=\"T_aa84261a_6a53_11eb_aaec_c0e4346c915brow0_col10\" class=\"data row0 col10\" >0.17</td>\n",
       "                        <td id=\"T_aa84261a_6a53_11eb_aaec_c0e4346c915brow0_col11\" class=\"data row0 col11\" >-0.57</td>\n",
       "                        <td id=\"T_aa84261a_6a53_11eb_aaec_c0e4346c915brow0_col12\" class=\"data row0 col12\" >0.07</td>\n",
       "                        <td id=\"T_aa84261a_6a53_11eb_aaec_c0e4346c915brow0_col13\" class=\"data row0 col13\" >0.17</td>\n",
       "                        <td id=\"T_aa84261a_6a53_11eb_aaec_c0e4346c915brow0_col14\" class=\"data row0 col14\" >-0.10</td>\n",
       "                        <td id=\"T_aa84261a_6a53_11eb_aaec_c0e4346c915brow0_col15\" class=\"data row0 col15\" >-0.22</td>\n",
       "            </tr>\n",
       "            <tr>\n",
       "                        <th id=\"T_aa84261a_6a53_11eb_aaec_c0e4346c915blevel0_row1\" class=\"row_heading level0 row1\" >brand</th>\n",
       "                        <td id=\"T_aa84261a_6a53_11eb_aaec_c0e4346c915brow1_col0\" class=\"data row1 col0\" >0.05</td>\n",
       "                        <td id=\"T_aa84261a_6a53_11eb_aaec_c0e4346c915brow1_col1\" class=\"data row1 col1\" >1.00</td>\n",
       "                        <td id=\"T_aa84261a_6a53_11eb_aaec_c0e4346c915brow1_col2\" class=\"data row1 col2\" >0.09</td>\n",
       "                        <td id=\"T_aa84261a_6a53_11eb_aaec_c0e4346c915brow1_col3\" class=\"data row1 col3\" >-0.04</td>\n",
       "                        <td id=\"T_aa84261a_6a53_11eb_aaec_c0e4346c915brow1_col4\" class=\"data row1 col4\" >-0.03</td>\n",
       "                        <td id=\"T_aa84261a_6a53_11eb_aaec_c0e4346c915brow1_col5\" class=\"data row1 col5\" >0.10</td>\n",
       "                        <td id=\"T_aa84261a_6a53_11eb_aaec_c0e4346c915brow1_col6\" class=\"data row1 col6\" >-0.01</td>\n",
       "                        <td id=\"T_aa84261a_6a53_11eb_aaec_c0e4346c915brow1_col7\" class=\"data row1 col7\" >0.08</td>\n",
       "                        <td id=\"T_aa84261a_6a53_11eb_aaec_c0e4346c915brow1_col8\" class=\"data row1 col8\" >-0.35</td>\n",
       "                        <td id=\"T_aa84261a_6a53_11eb_aaec_c0e4346c915brow1_col9\" class=\"data row1 col9\" >-0.34</td>\n",
       "                        <td id=\"T_aa84261a_6a53_11eb_aaec_c0e4346c915brow1_col10\" class=\"data row1 col10\" >0.03</td>\n",
       "                        <td id=\"T_aa84261a_6a53_11eb_aaec_c0e4346c915brow1_col11\" class=\"data row1 col11\" >-0.01</td>\n",
       "                        <td id=\"T_aa84261a_6a53_11eb_aaec_c0e4346c915brow1_col12\" class=\"data row1 col12\" >0.06</td>\n",
       "                        <td id=\"T_aa84261a_6a53_11eb_aaec_c0e4346c915brow1_col13\" class=\"data row1 col13\" >-0.07</td>\n",
       "                        <td id=\"T_aa84261a_6a53_11eb_aaec_c0e4346c915brow1_col14\" class=\"data row1 col14\" >0.04</td>\n",
       "                        <td id=\"T_aa84261a_6a53_11eb_aaec_c0e4346c915brow1_col15\" class=\"data row1 col15\" >-0.15</td>\n",
       "            </tr>\n",
       "            <tr>\n",
       "                        <th id=\"T_aa84261a_6a53_11eb_aaec_c0e4346c915blevel0_row2\" class=\"row_heading level0 row2\" >color</th>\n",
       "                        <td id=\"T_aa84261a_6a53_11eb_aaec_c0e4346c915brow2_col0\" class=\"data row2 col0\" >0.01</td>\n",
       "                        <td id=\"T_aa84261a_6a53_11eb_aaec_c0e4346c915brow2_col1\" class=\"data row2 col1\" >0.09</td>\n",
       "                        <td id=\"T_aa84261a_6a53_11eb_aaec_c0e4346c915brow2_col2\" class=\"data row2 col2\" >1.00</td>\n",
       "                        <td id=\"T_aa84261a_6a53_11eb_aaec_c0e4346c915brow2_col3\" class=\"data row2 col3\" >-0.06</td>\n",
       "                        <td id=\"T_aa84261a_6a53_11eb_aaec_c0e4346c915brow2_col4\" class=\"data row2 col4\" >0.06</td>\n",
       "                        <td id=\"T_aa84261a_6a53_11eb_aaec_c0e4346c915brow2_col5\" class=\"data row2 col5\" >0.01</td>\n",
       "                        <td id=\"T_aa84261a_6a53_11eb_aaec_c0e4346c915brow2_col6\" class=\"data row2 col6\" >0.07</td>\n",
       "                        <td id=\"T_aa84261a_6a53_11eb_aaec_c0e4346c915brow2_col7\" class=\"data row2 col7\" >0.08</td>\n",
       "                        <td id=\"T_aa84261a_6a53_11eb_aaec_c0e4346c915brow2_col8\" class=\"data row2 col8\" >-0.14</td>\n",
       "                        <td id=\"T_aa84261a_6a53_11eb_aaec_c0e4346c915brow2_col9\" class=\"data row2 col9\" >-0.15</td>\n",
       "                        <td id=\"T_aa84261a_6a53_11eb_aaec_c0e4346c915brow2_col10\" class=\"data row2 col10\" >-0.07</td>\n",
       "                        <td id=\"T_aa84261a_6a53_11eb_aaec_c0e4346c915brow2_col11\" class=\"data row2 col11\" >-0.06</td>\n",
       "                        <td id=\"T_aa84261a_6a53_11eb_aaec_c0e4346c915brow2_col12\" class=\"data row2 col12\" >0.05</td>\n",
       "                        <td id=\"T_aa84261a_6a53_11eb_aaec_c0e4346c915brow2_col13\" class=\"data row2 col13\" >-0.07</td>\n",
       "                        <td id=\"T_aa84261a_6a53_11eb_aaec_c0e4346c915brow2_col14\" class=\"data row2 col14\" >0.04</td>\n",
       "                        <td id=\"T_aa84261a_6a53_11eb_aaec_c0e4346c915brow2_col15\" class=\"data row2 col15\" >-0.06</td>\n",
       "            </tr>\n",
       "            <tr>\n",
       "                        <th id=\"T_aa84261a_6a53_11eb_aaec_c0e4346c915blevel0_row3\" class=\"row_heading level0 row3\" >fuelType</th>\n",
       "                        <td id=\"T_aa84261a_6a53_11eb_aaec_c0e4346c915brow3_col0\" class=\"data row3 col0\" >-0.19</td>\n",
       "                        <td id=\"T_aa84261a_6a53_11eb_aaec_c0e4346c915brow3_col1\" class=\"data row3 col1\" >-0.04</td>\n",
       "                        <td id=\"T_aa84261a_6a53_11eb_aaec_c0e4346c915brow3_col2\" class=\"data row3 col2\" >-0.06</td>\n",
       "                        <td id=\"T_aa84261a_6a53_11eb_aaec_c0e4346c915brow3_col3\" class=\"data row3 col3\" >1.00</td>\n",
       "                        <td id=\"T_aa84261a_6a53_11eb_aaec_c0e4346c915brow3_col4\" class=\"data row3 col4\" >0.12</td>\n",
       "                        <td id=\"T_aa84261a_6a53_11eb_aaec_c0e4346c915brow3_col5\" class=\"data row3 col5\" >0.14</td>\n",
       "                        <td id=\"T_aa84261a_6a53_11eb_aaec_c0e4346c915brow3_col6\" class=\"data row3 col6\" >0.13</td>\n",
       "                        <td id=\"T_aa84261a_6a53_11eb_aaec_c0e4346c915brow3_col7\" class=\"data row3 col7\" >-0.20</td>\n",
       "                        <td id=\"T_aa84261a_6a53_11eb_aaec_c0e4346c915brow3_col8\" class=\"data row3 col8\" >0.17</td>\n",
       "                        <td id=\"T_aa84261a_6a53_11eb_aaec_c0e4346c915brow3_col9\" class=\"data row3 col9\" >0.05</td>\n",
       "                        <td id=\"T_aa84261a_6a53_11eb_aaec_c0e4346c915brow3_col10\" class=\"data row3 col10\" >-0.02</td>\n",
       "                        <td id=\"T_aa84261a_6a53_11eb_aaec_c0e4346c915brow3_col11\" class=\"data row3 col11\" >0.25</td>\n",
       "                        <td id=\"T_aa84261a_6a53_11eb_aaec_c0e4346c915brow3_col12\" class=\"data row3 col12\" >-0.03</td>\n",
       "                        <td id=\"T_aa84261a_6a53_11eb_aaec_c0e4346c915brow3_col13\" class=\"data row3 col13\" >-0.09</td>\n",
       "                        <td id=\"T_aa84261a_6a53_11eb_aaec_c0e4346c915brow3_col14\" class=\"data row3 col14\" >0.06</td>\n",
       "                        <td id=\"T_aa84261a_6a53_11eb_aaec_c0e4346c915brow3_col15\" class=\"data row3 col15\" >0.23</td>\n",
       "            </tr>\n",
       "            <tr>\n",
       "                        <th id=\"T_aa84261a_6a53_11eb_aaec_c0e4346c915blevel0_row4\" class=\"row_heading level0 row4\" >modelDate</th>\n",
       "                        <td id=\"T_aa84261a_6a53_11eb_aaec_c0e4346c915brow4_col0\" class=\"data row4 col0\" >-0.21</td>\n",
       "                        <td id=\"T_aa84261a_6a53_11eb_aaec_c0e4346c915brow4_col1\" class=\"data row4 col1\" >-0.03</td>\n",
       "                        <td id=\"T_aa84261a_6a53_11eb_aaec_c0e4346c915brow4_col2\" class=\"data row4 col2\" >0.06</td>\n",
       "                        <td id=\"T_aa84261a_6a53_11eb_aaec_c0e4346c915brow4_col3\" class=\"data row4 col3\" >0.12</td>\n",
       "                        <td id=\"T_aa84261a_6a53_11eb_aaec_c0e4346c915brow4_col4\" class=\"data row4 col4\" >1.00</td>\n",
       "                        <td id=\"T_aa84261a_6a53_11eb_aaec_c0e4346c915brow4_col5\" class=\"data row4 col5\" >0.17</td>\n",
       "                        <td id=\"T_aa84261a_6a53_11eb_aaec_c0e4346c915brow4_col6\" class=\"data row4 col6\" >0.97</td>\n",
       "                        <td id=\"T_aa84261a_6a53_11eb_aaec_c0e4346c915brow4_col7\" class=\"data row4 col7\" >0.09</td>\n",
       "                        <td id=\"T_aa84261a_6a53_11eb_aaec_c0e4346c915brow4_col8\" class=\"data row4 col8\" >0.06</td>\n",
       "                        <td id=\"T_aa84261a_6a53_11eb_aaec_c0e4346c915brow4_col9\" class=\"data row4 col9\" >0.23</td>\n",
       "                        <td id=\"T_aa84261a_6a53_11eb_aaec_c0e4346c915brow4_col10\" class=\"data row4 col10\" >-0.68</td>\n",
       "                        <td id=\"T_aa84261a_6a53_11eb_aaec_c0e4346c915brow4_col11\" class=\"data row4 col11\" >0.23</td>\n",
       "                        <td id=\"T_aa84261a_6a53_11eb_aaec_c0e4346c915brow4_col12\" class=\"data row4 col12\" >-0.20</td>\n",
       "                        <td id=\"T_aa84261a_6a53_11eb_aaec_c0e4346c915brow4_col13\" class=\"data row4 col13\" >-0.49</td>\n",
       "                        <td id=\"T_aa84261a_6a53_11eb_aaec_c0e4346c915brow4_col14\" class=\"data row4 col14\" >0.27</td>\n",
       "                        <td id=\"T_aa84261a_6a53_11eb_aaec_c0e4346c915brow4_col15\" class=\"data row4 col15\" >0.40</td>\n",
       "            </tr>\n",
       "            <tr>\n",
       "                        <th id=\"T_aa84261a_6a53_11eb_aaec_c0e4346c915blevel0_row5\" class=\"row_heading level0 row5\" >numberOfDoors</th>\n",
       "                        <td id=\"T_aa84261a_6a53_11eb_aaec_c0e4346c915brow5_col0\" class=\"data row5 col0\" >-0.42</td>\n",
       "                        <td id=\"T_aa84261a_6a53_11eb_aaec_c0e4346c915brow5_col1\" class=\"data row5 col1\" >0.10</td>\n",
       "                        <td id=\"T_aa84261a_6a53_11eb_aaec_c0e4346c915brow5_col2\" class=\"data row5 col2\" >0.01</td>\n",
       "                        <td id=\"T_aa84261a_6a53_11eb_aaec_c0e4346c915brow5_col3\" class=\"data row5 col3\" >0.14</td>\n",
       "                        <td id=\"T_aa84261a_6a53_11eb_aaec_c0e4346c915brow5_col4\" class=\"data row5 col4\" >0.17</td>\n",
       "                        <td id=\"T_aa84261a_6a53_11eb_aaec_c0e4346c915brow5_col5\" class=\"data row5 col5\" >1.00</td>\n",
       "                        <td id=\"T_aa84261a_6a53_11eb_aaec_c0e4346c915brow5_col6\" class=\"data row5 col6\" >0.18</td>\n",
       "                        <td id=\"T_aa84261a_6a53_11eb_aaec_c0e4346c915brow5_col7\" class=\"data row5 col7\" >0.09</td>\n",
       "                        <td id=\"T_aa84261a_6a53_11eb_aaec_c0e4346c915brow5_col8\" class=\"data row5 col8\" >-0.05</td>\n",
       "                        <td id=\"T_aa84261a_6a53_11eb_aaec_c0e4346c915brow5_col9\" class=\"data row5 col9\" >-0.01</td>\n",
       "                        <td id=\"T_aa84261a_6a53_11eb_aaec_c0e4346c915brow5_col10\" class=\"data row5 col10\" >-0.07</td>\n",
       "                        <td id=\"T_aa84261a_6a53_11eb_aaec_c0e4346c915brow5_col11\" class=\"data row5 col11\" >0.43</td>\n",
       "                        <td id=\"T_aa84261a_6a53_11eb_aaec_c0e4346c915brow5_col12\" class=\"data row5 col12\" >-0.02</td>\n",
       "                        <td id=\"T_aa84261a_6a53_11eb_aaec_c0e4346c915brow5_col13\" class=\"data row5 col13\" >-0.16</td>\n",
       "                        <td id=\"T_aa84261a_6a53_11eb_aaec_c0e4346c915brow5_col14\" class=\"data row5 col14\" >0.11</td>\n",
       "                        <td id=\"T_aa84261a_6a53_11eb_aaec_c0e4346c915brow5_col15\" class=\"data row5 col15\" >0.02</td>\n",
       "            </tr>\n",
       "            <tr>\n",
       "                        <th id=\"T_aa84261a_6a53_11eb_aaec_c0e4346c915blevel0_row6\" class=\"row_heading level0 row6\" >productionDate</th>\n",
       "                        <td id=\"T_aa84261a_6a53_11eb_aaec_c0e4346c915brow6_col0\" class=\"data row6 col0\" >-0.21</td>\n",
       "                        <td id=\"T_aa84261a_6a53_11eb_aaec_c0e4346c915brow6_col1\" class=\"data row6 col1\" >-0.01</td>\n",
       "                        <td id=\"T_aa84261a_6a53_11eb_aaec_c0e4346c915brow6_col2\" class=\"data row6 col2\" >0.07</td>\n",
       "                        <td id=\"T_aa84261a_6a53_11eb_aaec_c0e4346c915brow6_col3\" class=\"data row6 col3\" >0.13</td>\n",
       "                        <td id=\"T_aa84261a_6a53_11eb_aaec_c0e4346c915brow6_col4\" class=\"data row6 col4\" >0.97</td>\n",
       "                        <td id=\"T_aa84261a_6a53_11eb_aaec_c0e4346c915brow6_col5\" class=\"data row6 col5\" >0.18</td>\n",
       "                        <td id=\"T_aa84261a_6a53_11eb_aaec_c0e4346c915brow6_col6\" class=\"data row6 col6\" >1.00</td>\n",
       "                        <td id=\"T_aa84261a_6a53_11eb_aaec_c0e4346c915brow6_col7\" class=\"data row6 col7\" >0.09</td>\n",
       "                        <td id=\"T_aa84261a_6a53_11eb_aaec_c0e4346c915brow6_col8\" class=\"data row6 col8\" >0.05</td>\n",
       "                        <td id=\"T_aa84261a_6a53_11eb_aaec_c0e4346c915brow6_col9\" class=\"data row6 col9\" >0.20</td>\n",
       "                        <td id=\"T_aa84261a_6a53_11eb_aaec_c0e4346c915brow6_col10\" class=\"data row6 col10\" >-0.70</td>\n",
       "                        <td id=\"T_aa84261a_6a53_11eb_aaec_c0e4346c915brow6_col11\" class=\"data row6 col11\" >0.23</td>\n",
       "                        <td id=\"T_aa84261a_6a53_11eb_aaec_c0e4346c915brow6_col12\" class=\"data row6 col12\" >-0.21</td>\n",
       "                        <td id=\"T_aa84261a_6a53_11eb_aaec_c0e4346c915brow6_col13\" class=\"data row6 col13\" >-0.51</td>\n",
       "                        <td id=\"T_aa84261a_6a53_11eb_aaec_c0e4346c915brow6_col14\" class=\"data row6 col14\" >0.28</td>\n",
       "                        <td id=\"T_aa84261a_6a53_11eb_aaec_c0e4346c915brow6_col15\" class=\"data row6 col15\" >0.40</td>\n",
       "            </tr>\n",
       "            <tr>\n",
       "                        <th id=\"T_aa84261a_6a53_11eb_aaec_c0e4346c915blevel0_row7\" class=\"row_heading level0 row7\" >vehicleConfiguration</th>\n",
       "                        <td id=\"T_aa84261a_6a53_11eb_aaec_c0e4346c915brow7_col0\" class=\"data row7 col0\" >-0.01</td>\n",
       "                        <td id=\"T_aa84261a_6a53_11eb_aaec_c0e4346c915brow7_col1\" class=\"data row7 col1\" >0.08</td>\n",
       "                        <td id=\"T_aa84261a_6a53_11eb_aaec_c0e4346c915brow7_col2\" class=\"data row7 col2\" >0.08</td>\n",
       "                        <td id=\"T_aa84261a_6a53_11eb_aaec_c0e4346c915brow7_col3\" class=\"data row7 col3\" >-0.20</td>\n",
       "                        <td id=\"T_aa84261a_6a53_11eb_aaec_c0e4346c915brow7_col4\" class=\"data row7 col4\" >0.09</td>\n",
       "                        <td id=\"T_aa84261a_6a53_11eb_aaec_c0e4346c915brow7_col5\" class=\"data row7 col5\" >0.09</td>\n",
       "                        <td id=\"T_aa84261a_6a53_11eb_aaec_c0e4346c915brow7_col6\" class=\"data row7 col6\" >0.09</td>\n",
       "                        <td id=\"T_aa84261a_6a53_11eb_aaec_c0e4346c915brow7_col7\" class=\"data row7 col7\" >1.00</td>\n",
       "                        <td id=\"T_aa84261a_6a53_11eb_aaec_c0e4346c915brow7_col8\" class=\"data row7 col8\" >-0.29</td>\n",
       "                        <td id=\"T_aa84261a_6a53_11eb_aaec_c0e4346c915brow7_col9\" class=\"data row7 col9\" >-0.29</td>\n",
       "                        <td id=\"T_aa84261a_6a53_11eb_aaec_c0e4346c915brow7_col10\" class=\"data row7 col10\" >-0.11</td>\n",
       "                        <td id=\"T_aa84261a_6a53_11eb_aaec_c0e4346c915brow7_col11\" class=\"data row7 col11\" >-0.02</td>\n",
       "                        <td id=\"T_aa84261a_6a53_11eb_aaec_c0e4346c915brow7_col12\" class=\"data row7 col12\" >0.00</td>\n",
       "                        <td id=\"T_aa84261a_6a53_11eb_aaec_c0e4346c915brow7_col13\" class=\"data row7 col13\" >-0.12</td>\n",
       "                        <td id=\"T_aa84261a_6a53_11eb_aaec_c0e4346c915brow7_col14\" class=\"data row7 col14\" >0.05</td>\n",
       "                        <td id=\"T_aa84261a_6a53_11eb_aaec_c0e4346c915brow7_col15\" class=\"data row7 col15\" >-0.15</td>\n",
       "            </tr>\n",
       "            <tr>\n",
       "                        <th id=\"T_aa84261a_6a53_11eb_aaec_c0e4346c915blevel0_row8\" class=\"row_heading level0 row8\" >engineDisplacement</th>\n",
       "                        <td id=\"T_aa84261a_6a53_11eb_aaec_c0e4346c915brow8_col0\" class=\"data row8 col0\" >-0.17</td>\n",
       "                        <td id=\"T_aa84261a_6a53_11eb_aaec_c0e4346c915brow8_col1\" class=\"data row8 col1\" >-0.35</td>\n",
       "                        <td id=\"T_aa84261a_6a53_11eb_aaec_c0e4346c915brow8_col2\" class=\"data row8 col2\" >-0.14</td>\n",
       "                        <td id=\"T_aa84261a_6a53_11eb_aaec_c0e4346c915brow8_col3\" class=\"data row8 col3\" >0.17</td>\n",
       "                        <td id=\"T_aa84261a_6a53_11eb_aaec_c0e4346c915brow8_col4\" class=\"data row8 col4\" >0.06</td>\n",
       "                        <td id=\"T_aa84261a_6a53_11eb_aaec_c0e4346c915brow8_col5\" class=\"data row8 col5\" >-0.05</td>\n",
       "                        <td id=\"T_aa84261a_6a53_11eb_aaec_c0e4346c915brow8_col6\" class=\"data row8 col6\" >0.05</td>\n",
       "                        <td id=\"T_aa84261a_6a53_11eb_aaec_c0e4346c915brow8_col7\" class=\"data row8 col7\" >-0.29</td>\n",
       "                        <td id=\"T_aa84261a_6a53_11eb_aaec_c0e4346c915brow8_col8\" class=\"data row8 col8\" >1.00</td>\n",
       "                        <td id=\"T_aa84261a_6a53_11eb_aaec_c0e4346c915brow8_col9\" class=\"data row8 col9\" >0.66</td>\n",
       "                        <td id=\"T_aa84261a_6a53_11eb_aaec_c0e4346c915brow8_col10\" class=\"data row8 col10\" >-0.02</td>\n",
       "                        <td id=\"T_aa84261a_6a53_11eb_aaec_c0e4346c915brow8_col11\" class=\"data row8 col11\" >0.18</td>\n",
       "                        <td id=\"T_aa84261a_6a53_11eb_aaec_c0e4346c915brow8_col12\" class=\"data row8 col12\" >-0.04</td>\n",
       "                        <td id=\"T_aa84261a_6a53_11eb_aaec_c0e4346c915brow8_col13\" class=\"data row8 col13\" >0.06</td>\n",
       "                        <td id=\"T_aa84261a_6a53_11eb_aaec_c0e4346c915brow8_col14\" class=\"data row8 col14\" >-0.04</td>\n",
       "                        <td id=\"T_aa84261a_6a53_11eb_aaec_c0e4346c915brow8_col15\" class=\"data row8 col15\" >0.33</td>\n",
       "            </tr>\n",
       "            <tr>\n",
       "                        <th id=\"T_aa84261a_6a53_11eb_aaec_c0e4346c915blevel0_row9\" class=\"row_heading level0 row9\" >enginePower</th>\n",
       "                        <td id=\"T_aa84261a_6a53_11eb_aaec_c0e4346c915brow9_col0\" class=\"data row9 col0\" >-0.29</td>\n",
       "                        <td id=\"T_aa84261a_6a53_11eb_aaec_c0e4346c915brow9_col1\" class=\"data row9 col1\" >-0.34</td>\n",
       "                        <td id=\"T_aa84261a_6a53_11eb_aaec_c0e4346c915brow9_col2\" class=\"data row9 col2\" >-0.15</td>\n",
       "                        <td id=\"T_aa84261a_6a53_11eb_aaec_c0e4346c915brow9_col3\" class=\"data row9 col3\" >0.05</td>\n",
       "                        <td id=\"T_aa84261a_6a53_11eb_aaec_c0e4346c915brow9_col4\" class=\"data row9 col4\" >0.23</td>\n",
       "                        <td id=\"T_aa84261a_6a53_11eb_aaec_c0e4346c915brow9_col5\" class=\"data row9 col5\" >-0.01</td>\n",
       "                        <td id=\"T_aa84261a_6a53_11eb_aaec_c0e4346c915brow9_col6\" class=\"data row9 col6\" >0.20</td>\n",
       "                        <td id=\"T_aa84261a_6a53_11eb_aaec_c0e4346c915brow9_col7\" class=\"data row9 col7\" >-0.29</td>\n",
       "                        <td id=\"T_aa84261a_6a53_11eb_aaec_c0e4346c915brow9_col8\" class=\"data row9 col8\" >0.66</td>\n",
       "                        <td id=\"T_aa84261a_6a53_11eb_aaec_c0e4346c915brow9_col9\" class=\"data row9 col9\" >1.00</td>\n",
       "                        <td id=\"T_aa84261a_6a53_11eb_aaec_c0e4346c915brow9_col10\" class=\"data row9 col10\" >-0.17</td>\n",
       "                        <td id=\"T_aa84261a_6a53_11eb_aaec_c0e4346c915brow9_col11\" class=\"data row9 col11\" >0.34</td>\n",
       "                        <td id=\"T_aa84261a_6a53_11eb_aaec_c0e4346c915brow9_col12\" class=\"data row9 col12\" >-0.10</td>\n",
       "                        <td id=\"T_aa84261a_6a53_11eb_aaec_c0e4346c915brow9_col13\" class=\"data row9 col13\" >-0.01</td>\n",
       "                        <td id=\"T_aa84261a_6a53_11eb_aaec_c0e4346c915brow9_col14\" class=\"data row9 col14\" >-0.00</td>\n",
       "                        <td id=\"T_aa84261a_6a53_11eb_aaec_c0e4346c915brow9_col15\" class=\"data row9 col15\" >0.52</td>\n",
       "            </tr>\n",
       "            <tr>\n",
       "                        <th id=\"T_aa84261a_6a53_11eb_aaec_c0e4346c915blevel0_row10\" class=\"row_heading level0 row10\" >mileage</th>\n",
       "                        <td id=\"T_aa84261a_6a53_11eb_aaec_c0e4346c915brow10_col0\" class=\"data row10 col0\" >0.17</td>\n",
       "                        <td id=\"T_aa84261a_6a53_11eb_aaec_c0e4346c915brow10_col1\" class=\"data row10 col1\" >0.03</td>\n",
       "                        <td id=\"T_aa84261a_6a53_11eb_aaec_c0e4346c915brow10_col2\" class=\"data row10 col2\" >-0.07</td>\n",
       "                        <td id=\"T_aa84261a_6a53_11eb_aaec_c0e4346c915brow10_col3\" class=\"data row10 col3\" >-0.02</td>\n",
       "                        <td id=\"T_aa84261a_6a53_11eb_aaec_c0e4346c915brow10_col4\" class=\"data row10 col4\" >-0.68</td>\n",
       "                        <td id=\"T_aa84261a_6a53_11eb_aaec_c0e4346c915brow10_col5\" class=\"data row10 col5\" >-0.07</td>\n",
       "                        <td id=\"T_aa84261a_6a53_11eb_aaec_c0e4346c915brow10_col6\" class=\"data row10 col6\" >-0.70</td>\n",
       "                        <td id=\"T_aa84261a_6a53_11eb_aaec_c0e4346c915brow10_col7\" class=\"data row10 col7\" >-0.11</td>\n",
       "                        <td id=\"T_aa84261a_6a53_11eb_aaec_c0e4346c915brow10_col8\" class=\"data row10 col8\" >-0.02</td>\n",
       "                        <td id=\"T_aa84261a_6a53_11eb_aaec_c0e4346c915brow10_col9\" class=\"data row10 col9\" >-0.17</td>\n",
       "                        <td id=\"T_aa84261a_6a53_11eb_aaec_c0e4346c915brow10_col10\" class=\"data row10 col10\" >1.00</td>\n",
       "                        <td id=\"T_aa84261a_6a53_11eb_aaec_c0e4346c915brow10_col11\" class=\"data row10 col11\" >-0.16</td>\n",
       "                        <td id=\"T_aa84261a_6a53_11eb_aaec_c0e4346c915brow10_col12\" class=\"data row10 col12\" >0.13</td>\n",
       "                        <td id=\"T_aa84261a_6a53_11eb_aaec_c0e4346c915brow10_col13\" class=\"data row10 col13\" >0.46</td>\n",
       "                        <td id=\"T_aa84261a_6a53_11eb_aaec_c0e4346c915brow10_col14\" class=\"data row10 col14\" >-0.26</td>\n",
       "                        <td id=\"T_aa84261a_6a53_11eb_aaec_c0e4346c915brow10_col15\" class=\"data row10 col15\" >-0.41</td>\n",
       "            </tr>\n",
       "            <tr>\n",
       "                        <th id=\"T_aa84261a_6a53_11eb_aaec_c0e4346c915blevel0_row11\" class=\"row_heading level0 row11\" >Привод</th>\n",
       "                        <td id=\"T_aa84261a_6a53_11eb_aaec_c0e4346c915brow11_col0\" class=\"data row11 col0\" >-0.57</td>\n",
       "                        <td id=\"T_aa84261a_6a53_11eb_aaec_c0e4346c915brow11_col1\" class=\"data row11 col1\" >-0.01</td>\n",
       "                        <td id=\"T_aa84261a_6a53_11eb_aaec_c0e4346c915brow11_col2\" class=\"data row11 col2\" >-0.06</td>\n",
       "                        <td id=\"T_aa84261a_6a53_11eb_aaec_c0e4346c915brow11_col3\" class=\"data row11 col3\" >0.25</td>\n",
       "                        <td id=\"T_aa84261a_6a53_11eb_aaec_c0e4346c915brow11_col4\" class=\"data row11 col4\" >0.23</td>\n",
       "                        <td id=\"T_aa84261a_6a53_11eb_aaec_c0e4346c915brow11_col5\" class=\"data row11 col5\" >0.43</td>\n",
       "                        <td id=\"T_aa84261a_6a53_11eb_aaec_c0e4346c915brow11_col6\" class=\"data row11 col6\" >0.23</td>\n",
       "                        <td id=\"T_aa84261a_6a53_11eb_aaec_c0e4346c915brow11_col7\" class=\"data row11 col7\" >-0.02</td>\n",
       "                        <td id=\"T_aa84261a_6a53_11eb_aaec_c0e4346c915brow11_col8\" class=\"data row11 col8\" >0.18</td>\n",
       "                        <td id=\"T_aa84261a_6a53_11eb_aaec_c0e4346c915brow11_col9\" class=\"data row11 col9\" >0.34</td>\n",
       "                        <td id=\"T_aa84261a_6a53_11eb_aaec_c0e4346c915brow11_col10\" class=\"data row11 col10\" >-0.16</td>\n",
       "                        <td id=\"T_aa84261a_6a53_11eb_aaec_c0e4346c915brow11_col11\" class=\"data row11 col11\" >1.00</td>\n",
       "                        <td id=\"T_aa84261a_6a53_11eb_aaec_c0e4346c915brow11_col12\" class=\"data row11 col12\" >-0.06</td>\n",
       "                        <td id=\"T_aa84261a_6a53_11eb_aaec_c0e4346c915brow11_col13\" class=\"data row11 col13\" >-0.15</td>\n",
       "                        <td id=\"T_aa84261a_6a53_11eb_aaec_c0e4346c915brow11_col14\" class=\"data row11 col14\" >0.10</td>\n",
       "                        <td id=\"T_aa84261a_6a53_11eb_aaec_c0e4346c915brow11_col15\" class=\"data row11 col15\" >0.25</td>\n",
       "            </tr>\n",
       "            <tr>\n",
       "                        <th id=\"T_aa84261a_6a53_11eb_aaec_c0e4346c915blevel0_row12\" class=\"row_heading level0 row12\" >Руль</th>\n",
       "                        <td id=\"T_aa84261a_6a53_11eb_aaec_c0e4346c915brow12_col0\" class=\"data row12 col0\" >0.07</td>\n",
       "                        <td id=\"T_aa84261a_6a53_11eb_aaec_c0e4346c915brow12_col1\" class=\"data row12 col1\" >0.06</td>\n",
       "                        <td id=\"T_aa84261a_6a53_11eb_aaec_c0e4346c915brow12_col2\" class=\"data row12 col2\" >0.05</td>\n",
       "                        <td id=\"T_aa84261a_6a53_11eb_aaec_c0e4346c915brow12_col3\" class=\"data row12 col3\" >-0.03</td>\n",
       "                        <td id=\"T_aa84261a_6a53_11eb_aaec_c0e4346c915brow12_col4\" class=\"data row12 col4\" >-0.20</td>\n",
       "                        <td id=\"T_aa84261a_6a53_11eb_aaec_c0e4346c915brow12_col5\" class=\"data row12 col5\" >-0.02</td>\n",
       "                        <td id=\"T_aa84261a_6a53_11eb_aaec_c0e4346c915brow12_col6\" class=\"data row12 col6\" >-0.21</td>\n",
       "                        <td id=\"T_aa84261a_6a53_11eb_aaec_c0e4346c915brow12_col7\" class=\"data row12 col7\" >0.00</td>\n",
       "                        <td id=\"T_aa84261a_6a53_11eb_aaec_c0e4346c915brow12_col8\" class=\"data row12 col8\" >-0.04</td>\n",
       "                        <td id=\"T_aa84261a_6a53_11eb_aaec_c0e4346c915brow12_col9\" class=\"data row12 col9\" >-0.10</td>\n",
       "                        <td id=\"T_aa84261a_6a53_11eb_aaec_c0e4346c915brow12_col10\" class=\"data row12 col10\" >0.13</td>\n",
       "                        <td id=\"T_aa84261a_6a53_11eb_aaec_c0e4346c915brow12_col11\" class=\"data row12 col11\" >-0.06</td>\n",
       "                        <td id=\"T_aa84261a_6a53_11eb_aaec_c0e4346c915brow12_col12\" class=\"data row12 col12\" >1.00</td>\n",
       "                        <td id=\"T_aa84261a_6a53_11eb_aaec_c0e4346c915brow12_col13\" class=\"data row12 col13\" >0.05</td>\n",
       "                        <td id=\"T_aa84261a_6a53_11eb_aaec_c0e4346c915brow12_col14\" class=\"data row12 col14\" >-0.05</td>\n",
       "                        <td id=\"T_aa84261a_6a53_11eb_aaec_c0e4346c915brow12_col15\" class=\"data row12 col15\" >-0.08</td>\n",
       "            </tr>\n",
       "            <tr>\n",
       "                        <th id=\"T_aa84261a_6a53_11eb_aaec_c0e4346c915blevel0_row13\" class=\"row_heading level0 row13\" >Владельцы</th>\n",
       "                        <td id=\"T_aa84261a_6a53_11eb_aaec_c0e4346c915brow13_col0\" class=\"data row13 col0\" >0.17</td>\n",
       "                        <td id=\"T_aa84261a_6a53_11eb_aaec_c0e4346c915brow13_col1\" class=\"data row13 col1\" >-0.07</td>\n",
       "                        <td id=\"T_aa84261a_6a53_11eb_aaec_c0e4346c915brow13_col2\" class=\"data row13 col2\" >-0.07</td>\n",
       "                        <td id=\"T_aa84261a_6a53_11eb_aaec_c0e4346c915brow13_col3\" class=\"data row13 col3\" >-0.09</td>\n",
       "                        <td id=\"T_aa84261a_6a53_11eb_aaec_c0e4346c915brow13_col4\" class=\"data row13 col4\" >-0.49</td>\n",
       "                        <td id=\"T_aa84261a_6a53_11eb_aaec_c0e4346c915brow13_col5\" class=\"data row13 col5\" >-0.16</td>\n",
       "                        <td id=\"T_aa84261a_6a53_11eb_aaec_c0e4346c915brow13_col6\" class=\"data row13 col6\" >-0.51</td>\n",
       "                        <td id=\"T_aa84261a_6a53_11eb_aaec_c0e4346c915brow13_col7\" class=\"data row13 col7\" >-0.12</td>\n",
       "                        <td id=\"T_aa84261a_6a53_11eb_aaec_c0e4346c915brow13_col8\" class=\"data row13 col8\" >0.06</td>\n",
       "                        <td id=\"T_aa84261a_6a53_11eb_aaec_c0e4346c915brow13_col9\" class=\"data row13 col9\" >-0.01</td>\n",
       "                        <td id=\"T_aa84261a_6a53_11eb_aaec_c0e4346c915brow13_col10\" class=\"data row13 col10\" >0.46</td>\n",
       "                        <td id=\"T_aa84261a_6a53_11eb_aaec_c0e4346c915brow13_col11\" class=\"data row13 col11\" >-0.15</td>\n",
       "                        <td id=\"T_aa84261a_6a53_11eb_aaec_c0e4346c915brow13_col12\" class=\"data row13 col12\" >0.05</td>\n",
       "                        <td id=\"T_aa84261a_6a53_11eb_aaec_c0e4346c915brow13_col13\" class=\"data row13 col13\" >1.00</td>\n",
       "                        <td id=\"T_aa84261a_6a53_11eb_aaec_c0e4346c915brow13_col14\" class=\"data row13 col14\" >-0.31</td>\n",
       "                        <td id=\"T_aa84261a_6a53_11eb_aaec_c0e4346c915brow13_col15\" class=\"data row13 col15\" >-0.29</td>\n",
       "            </tr>\n",
       "            <tr>\n",
       "                        <th id=\"T_aa84261a_6a53_11eb_aaec_c0e4346c915blevel0_row14\" class=\"row_heading level0 row14\" >ПТС</th>\n",
       "                        <td id=\"T_aa84261a_6a53_11eb_aaec_c0e4346c915brow14_col0\" class=\"data row14 col0\" >-0.10</td>\n",
       "                        <td id=\"T_aa84261a_6a53_11eb_aaec_c0e4346c915brow14_col1\" class=\"data row14 col1\" >0.04</td>\n",
       "                        <td id=\"T_aa84261a_6a53_11eb_aaec_c0e4346c915brow14_col2\" class=\"data row14 col2\" >0.04</td>\n",
       "                        <td id=\"T_aa84261a_6a53_11eb_aaec_c0e4346c915brow14_col3\" class=\"data row14 col3\" >0.06</td>\n",
       "                        <td id=\"T_aa84261a_6a53_11eb_aaec_c0e4346c915brow14_col4\" class=\"data row14 col4\" >0.27</td>\n",
       "                        <td id=\"T_aa84261a_6a53_11eb_aaec_c0e4346c915brow14_col5\" class=\"data row14 col5\" >0.11</td>\n",
       "                        <td id=\"T_aa84261a_6a53_11eb_aaec_c0e4346c915brow14_col6\" class=\"data row14 col6\" >0.28</td>\n",
       "                        <td id=\"T_aa84261a_6a53_11eb_aaec_c0e4346c915brow14_col7\" class=\"data row14 col7\" >0.05</td>\n",
       "                        <td id=\"T_aa84261a_6a53_11eb_aaec_c0e4346c915brow14_col8\" class=\"data row14 col8\" >-0.04</td>\n",
       "                        <td id=\"T_aa84261a_6a53_11eb_aaec_c0e4346c915brow14_col9\" class=\"data row14 col9\" >-0.00</td>\n",
       "                        <td id=\"T_aa84261a_6a53_11eb_aaec_c0e4346c915brow14_col10\" class=\"data row14 col10\" >-0.26</td>\n",
       "                        <td id=\"T_aa84261a_6a53_11eb_aaec_c0e4346c915brow14_col11\" class=\"data row14 col11\" >0.10</td>\n",
       "                        <td id=\"T_aa84261a_6a53_11eb_aaec_c0e4346c915brow14_col12\" class=\"data row14 col12\" >-0.05</td>\n",
       "                        <td id=\"T_aa84261a_6a53_11eb_aaec_c0e4346c915brow14_col13\" class=\"data row14 col13\" >-0.31</td>\n",
       "                        <td id=\"T_aa84261a_6a53_11eb_aaec_c0e4346c915brow14_col14\" class=\"data row14 col14\" >1.00</td>\n",
       "                        <td id=\"T_aa84261a_6a53_11eb_aaec_c0e4346c915brow14_col15\" class=\"data row14 col15\" >0.13</td>\n",
       "            </tr>\n",
       "            <tr>\n",
       "                        <th id=\"T_aa84261a_6a53_11eb_aaec_c0e4346c915blevel0_row15\" class=\"row_heading level0 row15\" >Price</th>\n",
       "                        <td id=\"T_aa84261a_6a53_11eb_aaec_c0e4346c915brow15_col0\" class=\"data row15 col0\" >-0.22</td>\n",
       "                        <td id=\"T_aa84261a_6a53_11eb_aaec_c0e4346c915brow15_col1\" class=\"data row15 col1\" >-0.15</td>\n",
       "                        <td id=\"T_aa84261a_6a53_11eb_aaec_c0e4346c915brow15_col2\" class=\"data row15 col2\" >-0.06</td>\n",
       "                        <td id=\"T_aa84261a_6a53_11eb_aaec_c0e4346c915brow15_col3\" class=\"data row15 col3\" >0.23</td>\n",
       "                        <td id=\"T_aa84261a_6a53_11eb_aaec_c0e4346c915brow15_col4\" class=\"data row15 col4\" >0.40</td>\n",
       "                        <td id=\"T_aa84261a_6a53_11eb_aaec_c0e4346c915brow15_col5\" class=\"data row15 col5\" >0.02</td>\n",
       "                        <td id=\"T_aa84261a_6a53_11eb_aaec_c0e4346c915brow15_col6\" class=\"data row15 col6\" >0.40</td>\n",
       "                        <td id=\"T_aa84261a_6a53_11eb_aaec_c0e4346c915brow15_col7\" class=\"data row15 col7\" >-0.15</td>\n",
       "                        <td id=\"T_aa84261a_6a53_11eb_aaec_c0e4346c915brow15_col8\" class=\"data row15 col8\" >0.33</td>\n",
       "                        <td id=\"T_aa84261a_6a53_11eb_aaec_c0e4346c915brow15_col9\" class=\"data row15 col9\" >0.52</td>\n",
       "                        <td id=\"T_aa84261a_6a53_11eb_aaec_c0e4346c915brow15_col10\" class=\"data row15 col10\" >-0.41</td>\n",
       "                        <td id=\"T_aa84261a_6a53_11eb_aaec_c0e4346c915brow15_col11\" class=\"data row15 col11\" >0.25</td>\n",
       "                        <td id=\"T_aa84261a_6a53_11eb_aaec_c0e4346c915brow15_col12\" class=\"data row15 col12\" >-0.08</td>\n",
       "                        <td id=\"T_aa84261a_6a53_11eb_aaec_c0e4346c915brow15_col13\" class=\"data row15 col13\" >-0.29</td>\n",
       "                        <td id=\"T_aa84261a_6a53_11eb_aaec_c0e4346c915brow15_col14\" class=\"data row15 col14\" >0.13</td>\n",
       "                        <td id=\"T_aa84261a_6a53_11eb_aaec_c0e4346c915brow15_col15\" class=\"data row15 col15\" >1.00</td>\n",
       "            </tr>\n",
       "    </tbody></table>"
      ],
      "text/plain": [
       "<pandas.io.formats.style.Styler at 0x24b6d8d20d0>"
      ]
     },
     "execution_count": 198,
     "metadata": {},
     "output_type": "execute_result"
    }
   ],
   "source": [
    "corr = df.corr()\n",
    "\n",
    "cmap = sns.diverging_palette(5, 250, as_cmap=True)\n",
    "\n",
    "def magnify():\n",
    "    return [dict(selector=\"th\",\n",
    "                 props=[(\"font-size\", \"6pt\")]),\n",
    "            dict(selector=\"td\",\n",
    "                 props=[('padding', \"0.4em 0.4em\")]),\n",
    "            dict(selector=\"th:hover\",\n",
    "                 props=[(\"font-size\", \"8pt\")]),\n",
    "            dict(selector=\"tr:hover td:hover\",\n",
    "                 props=[('max-width', '80px'),\n",
    "                        ('font-size', '8pt'),\n",
    "                        ('min-width','80px')])\n",
    "]\n",
    "\n",
    "corr.style.background_gradient(cmap, axis=1)\\\n",
    "    .set_properties(**{'max-width': '80px', 'font-size': '12pt'})\\\n",
    "    .set_caption(\"correlation matrix\")\\\n",
    "    .set_precision(2)\\\n",
    "    .set_table_styles(magnify())"
   ]
  },
  {
   "cell_type": "markdown",
   "metadata": {},
   "source": [
    "We can drop one of date columns - сorelation coeficient of them is 0.97"
   ]
  },
  {
   "cell_type": "code",
   "execution_count": 199,
   "metadata": {},
   "outputs": [
    {
     "data": {
      "text/plain": [
       "<matplotlib.collections.PathCollection at 0x24b5eb125e0>"
      ]
     },
     "execution_count": 199,
     "metadata": {},
     "output_type": "execute_result"
    },
    {
     "data": {
      "image/png": "[encoded data removed]",
      "text/plain": [
       "<Figure size 432x288 with 1 Axes>"
      ]
     },
     "metadata": {
      "needs_background": "light"
     },
     "output_type": "display_data"
    }
   ],
   "source": [
    "plt.title('Production/model date')\n",
    "plt.xlabel('productionDate')\n",
    "plt.ylabel('modelDate')\n",
    "plt.scatter(df.productionDate,df.modelDate)"
   ]
  },
  {
   "cell_type": "code",
   "execution_count": 200,
   "metadata": {},
   "outputs": [],
   "source": [
    "df.drop('modelDate',axis=1,inplace=True)"
   ]
  },
  {
   "cell_type": "code",
   "execution_count": 201,
   "metadata": {
    "jupyter": {
     "source_hidden": true
    }
   },
   "outputs": [
    {
     "data": {
      "image/png": "[encoded data removed]",
      "text/plain": [
       "<Figure size 432x288 with 1 Axes>"
      ]
     },
     "metadata": {
      "needs_background": "light"
     },
     "output_type": "display_data"
    }
   ],
   "source": [
    "_ = plt.hist(df['Price'],bins = 150)\n",
    "plt.title('Histogram of price')\n",
    "plt.xlabel('target')\n",
    "plt.show()"
   ]
  },
  {
   "cell_type": "code",
   "execution_count": 24,
   "metadata": {
    "jupyter": {
     "source_hidden": true
    }
   },
   "outputs": [
    {
     "data": {
      "image/png": "[encoded data removed]",
      "text/plain": [
       "<Figure size 432x288 with 1 Axes>"
      ]
     },
     "metadata": {
      "needs_background": "light"
     },
     "output_type": "display_data"
    }
   ],
   "source": [
    "_ = plt.hist(np.log10(df['Price']),bins = 'auto')\n",
    "plt.title('Logarithm of price')\n",
    "plt.xlabel('log of target')\n",
    "plt.show()"
   ]
  },
  {
   "cell_type": "markdown",
   "metadata": {},
   "source": [
    "As we can see, logarithm of price has a normal distribution."
   ]
  },
  {
   "cell_type": "code",
   "execution_count": 25,
   "metadata": {
    "jupyter": {
     "source_hidden": true
    }
   },
   "outputs": [
    {
     "data": {
      "image/png": "[encoded data removed]",
      "text/plain": [
       "<Figure size 432x288 with 1 Axes>"
      ]
     },
     "metadata": {
      "needs_background": "light"
     },
     "output_type": "display_data"
    }
   ],
   "source": [
    "_ = plt.hist(df['productionDate'],bins = 50)\n",
    "plt.title('Year of production')\n",
    "plt.xlabel('productionDate')\n",
    "plt.show()"
   ]
  },
  {
   "cell_type": "code",
   "execution_count": 26,
   "metadata": {
    "jupyter": {
     "source_hidden": true
    }
   },
   "outputs": [
    {
     "data": {
      "image/png": "[encoded data removed]",
      "text/plain": [
       "<Figure size 432x288 with 1 Axes>"
      ]
     },
     "metadata": {
      "needs_background": "light"
     },
     "output_type": "display_data"
    }
   ],
   "source": [
    "_ = plt.hist(df['numberOfDoors'],bins = 11)\n",
    "plt.title('Number of doors')\n",
    "plt.xlabel('numberOfDoors')\n",
    "plt.show()"
   ]
  },
  {
   "cell_type": "code",
   "execution_count": 27,
   "metadata": {
    "jupyter": {
     "source_hidden": true
    }
   },
   "outputs": [
    {
     "data": {
      "image/png": "[encoded data removed]",
      "text/plain": [
       "<Figure size 432x288 with 1 Axes>"
      ]
     },
     "metadata": {
      "needs_background": "light"
     },
     "output_type": "display_data"
    }
   ],
   "source": [
    "_ = plt.hist(df['mileage'],bins = 'auto')\n",
    "plt.title('Mileage in km')\n",
    "plt.xlabel('mileage')\n",
    "plt.show()"
   ]
  },
  {
   "cell_type": "code",
   "execution_count": 28,
   "metadata": {
    "jupyter": {
     "source_hidden": true
    }
   },
   "outputs": [
    {
     "data": {
      "image/png": "[encoded data removed]",
      "text/plain": [
       "<Figure size 432x288 with 1 Axes>"
      ]
     },
     "metadata": {
      "needs_background": "light"
     },
     "output_type": "display_data"
    }
   ],
   "source": [
    "_ = plt.hist(np.log10(df['mileage']),bins = 'auto')\n",
    "plt.title('Logarithm of mileage in km')\n",
    "plt.xlabel('log of mileage')\n",
    "plt.show()"
   ]
  },
  {
   "cell_type": "code",
   "execution_count": 29,
   "metadata": {
    "jupyter": {
     "source_hidden": true
    }
   },
   "outputs": [
    {
     "data": {
      "image/png": "[encoded data removed]",
      "text/plain": [
       "<Figure size 432x288 with 1 Axes>"
      ]
     },
     "metadata": {
      "needs_background": "light"
     },
     "output_type": "display_data"
    }
   ],
   "source": [
    "_ = plt.hist(df['Владельцы'],bins = 5)\n",
    "plt.title('Number of owners')\n",
    "plt.xlabel('Владельцы')\n",
    "plt.show()"
   ]
  },
  {
   "cell_type": "markdown",
   "metadata": {},
   "source": [
    "#### Scatter"
   ]
  },
  {
   "cell_type": "code",
   "execution_count": 30,
   "metadata": {
    "jupyter": {
     "source_hidden": true
    }
   },
   "outputs": [
    {
     "data": {
      "image/png": "[encoded data removed]",
      "text/plain": [
       "<Figure size 432x288 with 1 Axes>"
      ]
     },
     "metadata": {
      "needs_background": "light"
     },
     "output_type": "display_data"
    }
   ],
   "source": [
    "_ = plt.scatter(df['mileage'],df['productionDate'])\n",
    "\n",
    "plt.title('Mileage/Year of production')\n",
    "plt.xlabel('mileage')\n",
    "plt.ylabel('prdoctionDate')\n",
    "\n",
    "plt.show()"
   ]
  },
  {
   "cell_type": "code",
   "execution_count": 31,
   "metadata": {
    "jupyter": {
     "source_hidden": true
    }
   },
   "outputs": [
    {
     "data": {
      "image/png": "[encoded data removed]",
      "text/plain": [
       "<Figure size 432x288 with 1 Axes>"
      ]
     },
     "metadata": {
      "needs_background": "light"
     },
     "output_type": "display_data"
    }
   ],
   "source": [
    "_ = plt.scatter(df['enginePower'],df['engineDisplacement'])\n",
    "\n",
    "plt.title('Engine power/Engine displacement')\n",
    "plt.xlabel('enginePower')\n",
    "plt.ylabel('engineDisplacement')\n",
    "\n",
    "plt.show()"
   ]
  },
  {
   "cell_type": "code",
   "execution_count": 32,
   "metadata": {
    "jupyter": {
     "source_hidden": true
    }
   },
   "outputs": [
    {
     "data": {
      "image/png": "[encoded data removed]",
      "text/plain": [
       "<Figure size 432x288 with 1 Axes>"
      ]
     },
     "metadata": {
      "needs_background": "light"
     },
     "output_type": "display_data"
    }
   ],
   "source": [
    "_ = plt.scatter(df['productionDate'],\n",
    "                np.log10(df['Price']))\n",
    "\n",
    "plt.title('Year of production/Logarithm of price')\n",
    "plt.xlabel('productionDate')\n",
    "plt.ylabel('Log of Price')\n",
    "\n",
    "plt.show()"
   ]
  },
  {
   "cell_type": "code",
   "execution_count": 33,
   "metadata": {
    "jupyter": {
     "source_hidden": true
    }
   },
   "outputs": [
    {
     "data": {
      "image/png": "[encoded data removed]",
      "text/plain": [
       "<Figure size 432x288 with 1 Axes>"
      ]
     },
     "metadata": {
      "needs_background": "light"
     },
     "output_type": "display_data"
    }
   ],
   "source": [
    "_ = plt.scatter(df['engineDisplacement'],\n",
    "                np.log10(df['Price']))\n",
    "\n",
    "plt.title('Engine displacement/Logarithm of price')\n",
    "plt.xlabel('engineDisplacement')\n",
    "plt.ylabel('Log of price')\n",
    "\n",
    "plt.show()"
   ]
  },
  {
   "cell_type": "code",
   "execution_count": 34,
   "metadata": {
    "jupyter": {
     "source_hidden": true
    }
   },
   "outputs": [
    {
     "data": {
      "image/png": "[encoded data removed]",
      "text/plain": [
       "<Figure size 432x288 with 1 Axes>"
      ]
     },
     "metadata": {
      "needs_background": "light"
     },
     "output_type": "display_data"
    }
   ],
   "source": [
    "_ = plt.scatter(df['enginePower'],\n",
    "                np.log10(df['Price']))\n",
    "\n",
    "plt.title('Engine power/Logarithm of price')\n",
    "plt.xlabel('enginePower')\n",
    "plt.ylabel('Log of price')\n",
    "\n",
    "plt.show()"
   ]
  },
  {
   "cell_type": "code",
   "execution_count": 35,
   "metadata": {
    "jupyter": {
     "source_hidden": true
    }
   },
   "outputs": [
    {
     "data": {
      "image/png": "[encoded data removed]",
      "text/plain": [
       "<Figure size 432x288 with 1 Axes>"
      ]
     },
     "metadata": {
      "needs_background": "light"
     },
     "output_type": "display_data"
    }
   ],
   "source": [
    "_ = plt.scatter(np.log10(df['mileage']),\n",
    "                np.log10(df['Price']))\n",
    "\n",
    "plt.title('Logarithm of mileage in km/Logarithm of price')\n",
    "plt.xlabel('log of mileage')\n",
    "plt.ylabel('log of price')\n",
    "\n",
    "plt.show()"
   ]
  },
  {
   "cell_type": "markdown",
   "metadata": {},
   "source": [
    "So, as we can see, logarithms of mileage and price have normal distribution. So, we will apply `np.log10()` to this columns"
   ]
  },
  {
   "cell_type": "code",
   "execution_count": 202,
   "metadata": {},
   "outputs": [],
   "source": [
    "df['Price'] = df['Price'].apply(np.log10)\n",
    "df['mileage'] = df['mileage'].apply(np.log10)"
   ]
  },
  {
   "cell_type": "markdown",
   "metadata": {},
   "source": [
    "#### Baseline"
   ]
  },
  {
   "cell_type": "code",
   "execution_count": 203,
   "metadata": {},
   "outputs": [],
   "source": [
    "y = df['Price']\n",
    "X = df.drop('Price',axis=1)"
   ]
  },
  {
   "cell_type": "code",
   "execution_count": 204,
   "metadata": {},
   "outputs": [],
   "source": [
    "X_train, X_test, y_train, y_test = train_test_split(X, y, test_size=0.2, shuffle=True, random_state=RANDOM_SEED)"
   ]
  },
  {
   "cell_type": "code",
   "execution_count": 205,
   "metadata": {},
   "outputs": [],
   "source": [
    "tmp_train = X_train.copy()\n",
    "tmp_train['price'] = y_train"
   ]
  },
  {
   "cell_type": "code",
   "execution_count": 206,
   "metadata": {},
   "outputs": [
    {
     "name": "stdout",
     "output_type": "stream",
     "text": [
      "Точность наивной модели по метрике MAPE: 71.35%\n"
     ]
    }
   ],
   "source": [
    "predict = X_test['bodyType'].map(tmp_train.groupby('bodyType')['price'].median())\n",
    "\n",
    "#оцениваем точность\n",
    "print(f\"Точность наивной модели по метрике MAPE: {(mean_absolute_percentage_error(np.power(10,y_test), np.power(10,predict.values)))*100:0.2f}%\")"
   ]
  },
  {
   "cell_type": "markdown",
   "metadata": {},
   "source": [
    "## Machine Learning"
   ]
  },
  {
   "cell_type": "code",
   "execution_count": 211,
   "metadata": {},
   "outputs": [
    {
     "name": "stderr",
     "output_type": "stream",
     "text": [
      "\u001b[32m[I 2021-02-08 23:32:41,674]\u001b[0m A new study created in memory with name: no-name-cf6bc9f4-c93a-43b2-a080-272ef2f10cb6\u001b[0m\n",
      "\u001b[32m[I 2021-02-08 23:33:40,479]\u001b[0m Trial 0 finished with value: 0.13567310988942693 and parameters: {'gb_max_depth': 19, 'gb_n_estimators': 90}. Best is trial 0 with value: 0.13567310988942693.\u001b[0m\n",
      "\u001b[32m[I 2021-02-08 23:34:27,900]\u001b[0m Trial 1 finished with value: 0.1290350896409346 and parameters: {'gb_max_depth': 17, 'gb_n_estimators': 78}. Best is trial 1 with value: 0.1290350896409346.\u001b[0m\n",
      "\u001b[32m[I 2021-02-08 23:35:09,357]\u001b[0m Trial 2 finished with value: 0.12383126696317598 and parameters: {'gb_max_depth': 12, 'gb_n_estimators': 88}. Best is trial 2 with value: 0.12383126696317598.\u001b[0m\n",
      "\u001b[32m[I 2021-02-08 23:35:40,784]\u001b[0m Trial 3 finished with value: 0.1302063522198425 and parameters: {'gb_max_depth': 9, 'gb_n_estimators': 84}. Best is trial 2 with value: 0.12383126696317598.\u001b[0m\n",
      "\u001b[32m[I 2021-02-08 23:36:11,667]\u001b[0m Trial 4 finished with value: 0.1265276577721569 and parameters: {'gb_max_depth': 11, 'gb_n_estimators': 70}. Best is trial 2 with value: 0.12383126696317598.\u001b[0m\n",
      "\u001b[32m[I 2021-02-08 23:36:47,302]\u001b[0m Trial 5 finished with value: 0.1275339254334453 and parameters: {'gb_max_depth': 10, 'gb_n_estimators': 87}. Best is trial 2 with value: 0.12383126696317598.\u001b[0m\n",
      "\u001b[32m[I 2021-02-08 23:37:30,574]\u001b[0m Trial 6 finished with value: 0.12278473932947238 and parameters: {'gb_max_depth': 13, 'gb_n_estimators': 86}. Best is trial 6 with value: 0.12278473932947238.\u001b[0m\n",
      "\u001b[32m[I 2021-02-08 23:38:14,304]\u001b[0m Trial 7 finished with value: 0.12312584179531572 and parameters: {'gb_max_depth': 14, 'gb_n_estimators': 82}. Best is trial 6 with value: 0.12278473932947238.\u001b[0m\n",
      "\u001b[32m[I 2021-02-08 23:39:01,747]\u001b[0m Trial 8 finished with value: 0.12659420880108715 and parameters: {'gb_max_depth': 16, 'gb_n_estimators': 79}. Best is trial 6 with value: 0.12278473932947238.\u001b[0m\n",
      "\u001b[32m[I 2021-02-08 23:39:45,594]\u001b[0m Trial 9 finished with value: 0.12313025620569053 and parameters: {'gb_max_depth': 14, 'gb_n_estimators': 81}. Best is trial 6 with value: 0.12278473932947238.\u001b[0m\n",
      "\u001b[32m[I 2021-02-08 23:40:34,981]\u001b[0m Trial 10 finished with value: 0.13560752107625956 and parameters: {'gb_max_depth': 19, 'gb_n_estimators': 74}. Best is trial 6 with value: 0.12278473932947238.\u001b[0m\n",
      "\u001b[32m[I 2021-02-08 23:41:21,111]\u001b[0m Trial 11 finished with value: 0.12310492066577675 and parameters: {'gb_max_depth': 14, 'gb_n_estimators': 84}. Best is trial 6 with value: 0.12278473932947238.\u001b[0m\n",
      "\u001b[32m[I 2021-02-08 23:42:04,366]\u001b[0m Trial 12 finished with value: 0.12278257015014661 and parameters: {'gb_max_depth': 13, 'gb_n_estimators': 85}. Best is trial 12 with value: 0.12278257015014661.\u001b[0m\n",
      "\u001b[32m[I 2021-02-08 23:42:45,912]\u001b[0m Trial 13 finished with value: 0.12384223810876882 and parameters: {'gb_max_depth': 12, 'gb_n_estimators': 86}. Best is trial 12 with value: 0.12278257015014661.\u001b[0m\n",
      "\u001b[32m[I 2021-02-08 23:43:30,557]\u001b[0m Trial 14 finished with value: 0.12276248833716517 and parameters: {'gb_max_depth': 13, 'gb_n_estimators': 88}. Best is trial 14 with value: 0.12276248833716517.\u001b[0m\n",
      "\u001b[32m[I 2021-02-08 23:44:24,176]\u001b[0m Trial 15 finished with value: 0.1265741589515575 and parameters: {'gb_max_depth': 16, 'gb_n_estimators': 90}. Best is trial 14 with value: 0.12276248833716517.\u001b[0m\n",
      "\u001b[32m[I 2021-02-08 23:44:58,644]\u001b[0m Trial 16 finished with value: 0.12990603090189637 and parameters: {'gb_max_depth': 9, 'gb_n_estimators': 90}. Best is trial 14 with value: 0.12276248833716517.\u001b[0m\n",
      "\u001b[32m[I 2021-02-08 23:45:55,971]\u001b[0m Trial 17 finished with value: 0.1411007456913431 and parameters: {'gb_max_depth': 21, 'gb_n_estimators': 84}. Best is trial 14 with value: 0.12276248833716517.\u001b[0m\n",
      "\u001b[32m[I 2021-02-08 23:46:36,877]\u001b[0m Trial 18 finished with value: 0.12615732673230076 and parameters: {'gb_max_depth': 11, 'gb_n_estimators': 89}. Best is trial 14 with value: 0.12276248833716517.\u001b[0m\n",
      "\u001b[32m[I 2021-02-08 23:47:20,136]\u001b[0m Trial 19 finished with value: 0.12436236921148992 and parameters: {'gb_max_depth': 15, 'gb_n_estimators': 77}. Best is trial 14 with value: 0.12276248833716517.\u001b[0m\n",
      "\u001b[32m[I 2021-02-08 23:47:59,754]\u001b[0m Trial 20 finished with value: 0.12382650353102774 and parameters: {'gb_max_depth': 12, 'gb_n_estimators': 83}. Best is trial 14 with value: 0.12276248833716517.\u001b[0m\n",
      "\u001b[32m[I 2021-02-08 23:48:44,701]\u001b[0m Trial 21 finished with value: 0.12278473932947238 and parameters: {'gb_max_depth': 13, 'gb_n_estimators': 86}. Best is trial 14 with value: 0.12276248833716517.\u001b[0m\n",
      "\u001b[32m[I 2021-02-08 23:49:29,186]\u001b[0m Trial 22 finished with value: 0.12278473932947238 and parameters: {'gb_max_depth': 13, 'gb_n_estimators': 86}. Best is trial 14 with value: 0.12276248833716517.\u001b[0m\n",
      "\u001b[32m[I 2021-02-08 23:50:14,391]\u001b[0m Trial 23 finished with value: 0.12276248833716517 and parameters: {'gb_max_depth': 13, 'gb_n_estimators': 88}. Best is trial 14 with value: 0.12276248833716517.\u001b[0m\n",
      "\u001b[32m[I 2021-02-08 23:51:05,676]\u001b[0m Trial 24 finished with value: 0.12426460392774745 and parameters: {'gb_max_depth': 15, 'gb_n_estimators': 88}. Best is trial 14 with value: 0.12276248833716517.\u001b[0m\n",
      "\u001b[32m[I 2021-02-08 23:51:44,862]\u001b[0m Trial 25 finished with value: 0.12618330060165528 and parameters: {'gb_max_depth': 11, 'gb_n_estimators': 88}. Best is trial 14 with value: 0.12276248833716517.\u001b[0m\n",
      "\u001b[32m[I 2021-02-08 23:52:21,023]\u001b[0m Trial 26 finished with value: 0.1276174935407183 and parameters: {'gb_max_depth': 10, 'gb_n_estimators': 85}. Best is trial 14 with value: 0.12276248833716517.\u001b[0m\n",
      "\u001b[32m[I 2021-02-08 23:53:11,102]\u001b[0m Trial 27 finished with value: 0.1290270442860618 and parameters: {'gb_max_depth': 17, 'gb_n_estimators': 81}. Best is trial 14 with value: 0.12276248833716517.\u001b[0m\n",
      "\u001b[32m[I 2021-02-08 23:53:56,845]\u001b[0m Trial 28 finished with value: 0.12274064657171192 and parameters: {'gb_max_depth': 13, 'gb_n_estimators': 89}. Best is trial 28 with value: 0.12274064657171192.\u001b[0m\n",
      "\u001b[32m[I 2021-02-08 23:54:46,319]\u001b[0m Trial 29 finished with value: 0.12303641254714509 and parameters: {'gb_max_depth': 14, 'gb_n_estimators': 90}. Best is trial 28 with value: 0.12274064657171192.\u001b[0m\n"
     ]
    }
   ],
   "source": [
    "def objective(trial):\n",
    "    gb_max_depth = trial.suggest_int('gb_max_depth', 9, 21)\n",
    "    gb_n_estimators = trial.suggest_int('gb_n_estimators', 70, 90)\n",
    "    \n",
    "    gradientboosting = GradientBoostingRegressor(n_estimators = gb_n_estimators, \n",
    "                                                 max_depth = gb_max_depth,\n",
    "                                                 loss = 'ls',\n",
    "                                                 random_state = RANDOM_SEED)\n",
    "\n",
    "    gradientboosting.fit(X_train, y_train)\n",
    "\n",
    "    test_predict = gradientboosting.predict(X_test)\n",
    "\n",
    "    return mean_absolute_percentage_error(np.power(10,y_test),np.power(10,test_predict))\n",
    "\n",
    "study = optuna.create_study(direction = \"minimize\")\n",
    "study.optimize(objective, n_trials = 30)"
   ]
  },
  {
   "cell_type": "code",
   "execution_count": 72,
   "metadata": {},
   "outputs": [
    {
     "data": {
      "text/plain": [
       "0.12594225006374424"
      ]
     },
     "execution_count": 72,
     "metadata": {},
     "output_type": "execute_result"
    }
   ],
   "source": [
    "prediction = sklearn_model.predict(X_test)\n",
    "mean_absolute_percentage_error(np.power(10,y_test),np.power(10,prediction))"
   ]
  },
  {
   "cell_type": "code",
   "execution_count": 61,
   "metadata": {},
   "outputs": [
    {
     "data": {
      "text/plain": [
       "<catboost.core.CatBoostRegressor at 0x2a3227f67c0>"
      ]
     },
     "execution_count": 61,
     "metadata": {},
     "output_type": "execute_result"
    }
   ],
   "source": [
    "model = CatBoostRegressor(iterations = 5000,\n",
    "                          random_seed = RANDOM_SEED,\n",
    "                          eval_metric='MAPE',\n",
    "                          custom_metric=['R2', 'MAE'],\n",
    "                          silent=True,\n",
    "                         )\n",
    "model.fit(X_tray_train_train,\n",
    "         #cat_features=cat_features_ids,\n",
    "         eval_set=(X_test, y_test),\n",
    "         verbose_eval=0,\n",
    "         use_best_model=True,\n",
    "         #plot=True\n",
    "         )"
   ]
  },
  {
   "cell_type": "code",
   "execution_count": 62,
   "metadata": {},
   "outputs": [
    {
     "data": {
      "text/plain": [
       "0.1277907535412283"
      ]
     },
     "execution_count": 62,
     "metadata": {},
     "output_type": "execute_result"
    }
   ],
   "source": [
    "prediction = np.power(10,model.predict(X_test))\n",
    "mean_absolute_percentage_error(np.power(10,y_test),prediction)"
   ]
  },
  {
   "cell_type": "code",
   "execution_count": null,
   "metadata": {},
   "outputs": [],
   "source": []
  },
  {
   "cell_type": "code",
   "execution_count": null,
   "metadata": {},
   "outputs": [],
   "source": []
  },
  {
   "cell_type": "code",
   "execution_count": null,
   "metadata": {},
   "outputs": [],
   "source": []
  },
  {
   "cell_type": "code",
   "execution_count": null,
   "metadata": {},
   "outputs": [],
   "source": []
  },
  {
   "cell_type": "markdown",
   "metadata": {},
   "source": [
    "## Submission"
   ]
  },
  {
   "cell_type": "code",
   "execution_count": 136,
   "metadata": {},
   "outputs": [],
   "source": [
    "submission= pd.read_csv('submission_data1.csv')"
   ]
  },
  {
   "cell_type": "code",
   "execution_count": 15,
   "metadata": {},
   "outputs": [
    {
     "data": {
      "text/plain": [
       "Index(['bodyType', 'brand', 'car_url', 'color', 'complectation_dict',\n",
       "       'description', 'engineDisplacement', 'enginePower', 'equipment_dict',\n",
       "       'fuelType', 'image', 'mileage', 'modelDate', 'model_info', 'model_name',\n",
       "       'name', 'numberOfDoors', 'parsing_unixtime', 'priceCurrency',\n",
       "       'productionDate', 'sell_id', 'super_gen', 'vehicleConfiguration',\n",
       "       'vehicleTransmission', 'vendor', 'Владельцы', 'Владение', 'ПТС',\n",
       "       'Привод', 'Руль', 'Состояние', 'Таможня'],\n",
       "      dtype='object')"
      ]
     },
     "execution_count": 15,
     "metadata": {},
     "output_type": "execute_result"
    }
   ],
   "source": [
    "submission.columns"
   ]
  },
  {
   "cell_type": "code",
   "execution_count": 137,
   "metadata": {},
   "outputs": [
    {
     "data": {
      "text/html": [
       "<div>\n",
       "<style scoped>\n",
       "    .dataframe tbody tr th:only-of-type {\n",
       "        vertical-align: middle;\n",
       "    }\n",
       "\n",
       "    .dataframe tbody tr th {\n",
       "        vertical-align: top;\n",
       "    }\n",
       "\n",
       "    .dataframe thead th {\n",
       "        text-align: right;\n",
       "    }\n",
       "</style>\n",
       "<table border=\"1\" class=\"dataframe\">\n",
       "  <thead>\n",
       "    <tr style=\"text-align: right;\">\n",
       "      <th></th>\n",
       "      <th>Unnamed: 0</th>\n",
       "      <th>bodyType</th>\n",
       "      <th>brand</th>\n",
       "      <th>color</th>\n",
       "      <th>fuelType</th>\n",
       "      <th>modelDate</th>\n",
       "      <th>numberOfDoors</th>\n",
       "      <th>productionDate</th>\n",
       "      <th>vehicleConfiguration</th>\n",
       "      <th>engineDisplacement</th>\n",
       "      <th>enginePower</th>\n",
       "      <th>mileage</th>\n",
       "      <th>Привод</th>\n",
       "      <th>Руль</th>\n",
       "      <th>Владельцы</th>\n",
       "      <th>ПТС</th>\n",
       "    </tr>\n",
       "  </thead>\n",
       "  <tbody>\n",
       "    <tr>\n",
       "      <th>0</th>\n",
       "      <td>0</td>\n",
       "      <td>Лифтбек</td>\n",
       "      <td>SKODA</td>\n",
       "      <td>синий</td>\n",
       "      <td>бензин</td>\n",
       "      <td>2013</td>\n",
       "      <td>5</td>\n",
       "      <td>2014</td>\n",
       "      <td>ROBOT</td>\n",
       "      <td>1.2 LTR</td>\n",
       "      <td>105 N12</td>\n",
       "      <td>74000</td>\n",
       "      <td>передний</td>\n",
       "      <td>LEFT</td>\n",
       "      <td>3.0</td>\n",
       "      <td>ORIGINAL</td>\n",
       "    </tr>\n",
       "    <tr>\n",
       "      <th>1</th>\n",
       "      <td>1</td>\n",
       "      <td>Лифтбек</td>\n",
       "      <td>SKODA</td>\n",
       "      <td>чёрный</td>\n",
       "      <td>бензин</td>\n",
       "      <td>2017</td>\n",
       "      <td>5</td>\n",
       "      <td>2017</td>\n",
       "      <td>MECHANICAL</td>\n",
       "      <td>1.6 LTR</td>\n",
       "      <td>110 N12</td>\n",
       "      <td>60563</td>\n",
       "      <td>передний</td>\n",
       "      <td>LEFT</td>\n",
       "      <td>1.0</td>\n",
       "      <td>ORIGINAL</td>\n",
       "    </tr>\n",
       "  </tbody>\n",
       "</table>\n",
       "</div>"
      ],
      "text/plain": [
       "   Unnamed: 0 bodyType  brand   color fuelType  modelDate  numberOfDoors  \\\n",
       "0           0  Лифтбек  SKODA   синий   бензин       2013              5   \n",
       "1           1  Лифтбек  SKODA  чёрный   бензин       2017              5   \n",
       "\n",
       "   productionDate vehicleConfiguration engineDisplacement enginePower  \\\n",
       "0            2014                ROBOT            1.2 LTR     105 N12   \n",
       "1            2017           MECHANICAL            1.6 LTR     110 N12   \n",
       "\n",
       "   mileage    Привод  Руль  Владельцы       ПТС  \n",
       "0    74000  передний  LEFT        3.0  ORIGINAL  \n",
       "1    60563  передний  LEFT        1.0  ORIGINAL  "
      ]
     },
     "execution_count": 137,
     "metadata": {},
     "output_type": "execute_result"
    }
   ],
   "source": [
    "submission.head(2)"
   ]
  },
  {
   "cell_type": "code",
   "execution_count": 16,
   "metadata": {},
   "outputs": [
    {
     "data": {
      "text/html": [
       "<div>\n",
       "<style scoped>\n",
       "    .dataframe tbody tr th:only-of-type {\n",
       "        vertical-align: middle;\n",
       "    }\n",
       "\n",
       "    .dataframe tbody tr th {\n",
       "        vertical-align: top;\n",
       "    }\n",
       "\n",
       "    .dataframe thead th {\n",
       "        text-align: right;\n",
       "    }\n",
       "</style>\n",
       "<table border=\"1\" class=\"dataframe\">\n",
       "  <thead>\n",
       "    <tr style=\"text-align: right;\">\n",
       "      <th></th>\n",
       "      <th>bodyType</th>\n",
       "      <th>brand</th>\n",
       "      <th>color</th>\n",
       "      <th>fuelType</th>\n",
       "      <th>modelDate</th>\n",
       "      <th>numberOfDoors</th>\n",
       "      <th>productionDate</th>\n",
       "      <th>vehicleConfiguration</th>\n",
       "      <th>engineDisplacement</th>\n",
       "      <th>enginePower</th>\n",
       "      <th>mileage</th>\n",
       "      <th>Привод</th>\n",
       "      <th>Руль</th>\n",
       "      <th>Владельцы</th>\n",
       "      <th>ПТС</th>\n",
       "      <th>Price</th>\n",
       "    </tr>\n",
       "  </thead>\n",
       "  <tbody>\n",
       "    <tr>\n",
       "      <th>0</th>\n",
       "      <td>Седан</td>\n",
       "      <td>AUDI</td>\n",
       "      <td>040001</td>\n",
       "      <td>бензин</td>\n",
       "      <td>1990.0</td>\n",
       "      <td>4.0</td>\n",
       "      <td>1991</td>\n",
       "      <td>MECHANICAL</td>\n",
       "      <td>2.3</td>\n",
       "      <td>133.0</td>\n",
       "      <td>10000</td>\n",
       "      <td>передний</td>\n",
       "      <td>LEFT</td>\n",
       "      <td>3.0</td>\n",
       "      <td>ORIGINAL</td>\n",
       "      <td>135000</td>\n",
       "    </tr>\n",
       "    <tr>\n",
       "      <th>1</th>\n",
       "      <td>Седан</td>\n",
       "      <td>AUDI</td>\n",
       "      <td>040001</td>\n",
       "      <td>бензин</td>\n",
       "      <td>1988.0</td>\n",
       "      <td>4.0</td>\n",
       "      <td>1989</td>\n",
       "      <td>MECHANICAL</td>\n",
       "      <td>2.0</td>\n",
       "      <td>115.0</td>\n",
       "      <td>300000</td>\n",
       "      <td>передний</td>\n",
       "      <td>LEFT</td>\n",
       "      <td>3.0</td>\n",
       "      <td>DUPLICATE</td>\n",
       "      <td>42000</td>\n",
       "    </tr>\n",
       "  </tbody>\n",
       "</table>\n",
       "</div>"
      ],
      "text/plain": [
       "  bodyType brand   color fuelType  modelDate  numberOfDoors  productionDate  \\\n",
       "0    Седан  AUDI  040001   бензин     1990.0            4.0            1991   \n",
       "1    Седан  AUDI  040001   бензин     1988.0            4.0            1989   \n",
       "\n",
       "  vehicleConfiguration engineDisplacement  enginePower  mileage    Привод  \\\n",
       "0           MECHANICAL                2.3        133.0    10000  передний   \n",
       "1           MECHANICAL                2.0        115.0   300000  передний   \n",
       "\n",
       "   Руль  Владельцы        ПТС   Price  \n",
       "0  LEFT        3.0   ORIGINAL  135000  \n",
       "1  LEFT        3.0  DUPLICATE   42000  "
      ]
     },
     "execution_count": 16,
     "metadata": {},
     "output_type": "execute_result"
    }
   ],
   "source": [
    "df.head(2)"
   ]
  },
  {
   "cell_type": "code",
   "execution_count": 18,
   "metadata": {},
   "outputs": [
    {
     "data": {
      "text/html": [
       "<div>\n",
       "<style scoped>\n",
       "    .dataframe tbody tr th:only-of-type {\n",
       "        vertical-align: middle;\n",
       "    }\n",
       "\n",
       "    .dataframe tbody tr th {\n",
       "        vertical-align: top;\n",
       "    }\n",
       "\n",
       "    .dataframe thead th {\n",
       "        text-align: right;\n",
       "    }\n",
       "</style>\n",
       "<table border=\"1\" class=\"dataframe\">\n",
       "  <thead>\n",
       "    <tr style=\"text-align: right;\">\n",
       "      <th></th>\n",
       "      <th>bodyType</th>\n",
       "      <th>brand</th>\n",
       "      <th>car_url</th>\n",
       "      <th>color</th>\n",
       "      <th>complectation_dict</th>\n",
       "      <th>description</th>\n",
       "      <th>engineDisplacement</th>\n",
       "      <th>enginePower</th>\n",
       "      <th>equipment_dict</th>\n",
       "      <th>fuelType</th>\n",
       "      <th>...</th>\n",
       "      <th>super_gen</th>\n",
       "      <th>vendor</th>\n",
       "      <th>Владельцы</th>\n",
       "      <th>Владение</th>\n",
       "      <th>ПТС</th>\n",
       "      <th>Привод</th>\n",
       "      <th>Руль</th>\n",
       "      <th>Состояние</th>\n",
       "      <th>Таможня</th>\n",
       "      <th>vehicleConfiguration</th>\n",
       "    </tr>\n",
       "  </thead>\n",
       "  <tbody>\n",
       "    <tr>\n",
       "      <th>0</th>\n",
       "      <td>лифтбек</td>\n",
       "      <td>SKODA</td>\n",
       "      <td>https://auto.ru/cars/used/sale/skoda/octavia/1...</td>\n",
       "      <td>синий</td>\n",
       "      <td>NaN</td>\n",
       "      <td>Все автомобили, представленные в продаже, прох...</td>\n",
       "      <td>1.2 LTR</td>\n",
       "      <td>105 N12</td>\n",
       "      <td>{\"engine-proof\":true,\"tinted-glass\":true,\"airb...</td>\n",
       "      <td>бензин</td>\n",
       "      <td>...</td>\n",
       "      <td>{\"id\":\"10373605\",\"displacement\":1197,\"engine_t...</td>\n",
       "      <td>EUROPEAN</td>\n",
       "      <td>3 или более</td>\n",
       "      <td>NaN</td>\n",
       "      <td>Оригинал</td>\n",
       "      <td>передний</td>\n",
       "      <td>Левый</td>\n",
       "      <td>Не требует ремонта</td>\n",
       "      <td>Растаможен</td>\n",
       "      <td>роботизированная</td>\n",
       "    </tr>\n",
       "    <tr>\n",
       "      <th>1</th>\n",
       "      <td>лифтбек</td>\n",
       "      <td>SKODA</td>\n",
       "      <td>https://auto.ru/cars/used/sale/skoda/octavia/1...</td>\n",
       "      <td>чёрный</td>\n",
       "      <td>NaN</td>\n",
       "      <td>ЛОТ: 01217195\\nАвтопрага Север\\nДанный автомоб...</td>\n",
       "      <td>1.6 LTR</td>\n",
       "      <td>110 N12</td>\n",
       "      <td>{\"cruise-control\":true,\"asr\":true,\"esp\":true,\"...</td>\n",
       "      <td>бензин</td>\n",
       "      <td>...</td>\n",
       "      <td>{\"id\":\"20913311\",\"displacement\":1598,\"engine_t...</td>\n",
       "      <td>EUROPEAN</td>\n",
       "      <td>1 владелец</td>\n",
       "      <td>NaN</td>\n",
       "      <td>Оригинал</td>\n",
       "      <td>передний</td>\n",
       "      <td>Левый</td>\n",
       "      <td>Не требует ремонта</td>\n",
       "      <td>Растаможен</td>\n",
       "      <td>механическая</td>\n",
       "    </tr>\n",
       "  </tbody>\n",
       "</table>\n",
       "<p>2 rows × 31 columns</p>\n",
       "</div>"
      ],
      "text/plain": [
       "  bodyType  brand                                            car_url   color  \\\n",
       "0  лифтбек  SKODA  https://auto.ru/cars/used/sale/skoda/octavia/1...   синий   \n",
       "1  лифтбек  SKODA  https://auto.ru/cars/used/sale/skoda/octavia/1...  чёрный   \n",
       "\n",
       "  complectation_dict                                        description  \\\n",
       "0                NaN  Все автомобили, представленные в продаже, прох...   \n",
       "1                NaN  ЛОТ: 01217195\\nАвтопрага Север\\nДанный автомоб...   \n",
       "\n",
       "  engineDisplacement enginePower  \\\n",
       "0            1.2 LTR     105 N12   \n",
       "1            1.6 LTR     110 N12   \n",
       "\n",
       "                                      equipment_dict fuelType  ...  \\\n",
       "0  {\"engine-proof\":true,\"tinted-glass\":true,\"airb...   бензин  ...   \n",
       "1  {\"cruise-control\":true,\"asr\":true,\"esp\":true,\"...   бензин  ...   \n",
       "\n",
       "                                           super_gen    vendor    Владельцы  \\\n",
       "0  {\"id\":\"10373605\",\"displacement\":1197,\"engine_t...  EUROPEAN  3 или более   \n",
       "1  {\"id\":\"20913311\",\"displacement\":1598,\"engine_t...  EUROPEAN   1 владелец   \n",
       "\n",
       "  Владение       ПТС    Привод   Руль           Состояние     Таможня  \\\n",
       "0      NaN  Оригинал  передний  Левый  Не требует ремонта  Растаможен   \n",
       "1      NaN  Оригинал  передний  Левый  Не требует ремонта  Растаможен   \n",
       "\n",
       "   vehicleConfiguration  \n",
       "0      роботизированная  \n",
       "1          механическая  \n",
       "\n",
       "[2 rows x 31 columns]"
      ]
     },
     "execution_count": 18,
     "metadata": {},
     "output_type": "execute_result"
    }
   ],
   "source": [
    "submission.drop(['vehicleConfiguration'],axis=1,inplace=True)\n",
    "submission['vehicleConfiguration'] = submission['vehicleTransmission']\n",
    "submission.drop(['vehicleTransmission'],axis=1,inplace=True)\n",
    "submission.head(2)"
   ]
  },
  {
   "cell_type": "code",
   "execution_count": 19,
   "metadata": {},
   "outputs": [],
   "source": [
    "submission['ПТС'].fillna('DUPLICATE',inplace=True)"
   ]
  },
  {
   "cell_type": "code",
   "execution_count": 20,
   "metadata": {},
   "outputs": [
    {
     "data": {
      "text/plain": [
       "Index(['bodyType', 'brand', 'color', 'fuelType', 'modelDate', 'numberOfDoors',\n",
       "       'productionDate', 'vehicleConfiguration', 'engineDisplacement',\n",
       "       'enginePower', 'mileage', 'Привод', 'Руль', 'Владельцы', 'ПТС'],\n",
       "      dtype='object')"
      ]
     },
     "execution_count": 20,
     "metadata": {},
     "output_type": "execute_result"
    }
   ],
   "source": [
    "df.drop('Price',axis=1).columns"
   ]
  },
  {
   "cell_type": "code",
   "execution_count": 82,
   "metadata": {},
   "outputs": [
    {
     "data": {
      "text/html": [
       "<div>\n",
       "<style scoped>\n",
       "    .dataframe tbody tr th:only-of-type {\n",
       "        vertical-align: middle;\n",
       "    }\n",
       "\n",
       "    .dataframe tbody tr th {\n",
       "        vertical-align: top;\n",
       "    }\n",
       "\n",
       "    .dataframe thead th {\n",
       "        text-align: right;\n",
       "    }\n",
       "</style>\n",
       "<table border=\"1\" class=\"dataframe\">\n",
       "  <thead>\n",
       "    <tr style=\"text-align: right;\">\n",
       "      <th></th>\n",
       "      <th>bodyType</th>\n",
       "      <th>brand</th>\n",
       "      <th>color</th>\n",
       "      <th>fuelType</th>\n",
       "      <th>modelDate</th>\n",
       "      <th>numberOfDoors</th>\n",
       "      <th>productionDate</th>\n",
       "      <th>vehicleConfiguration</th>\n",
       "      <th>engineDisplacement</th>\n",
       "      <th>enginePower</th>\n",
       "      <th>mileage</th>\n",
       "      <th>Привод</th>\n",
       "      <th>Руль</th>\n",
       "      <th>Владельцы</th>\n",
       "      <th>ПТС</th>\n",
       "    </tr>\n",
       "  </thead>\n",
       "  <tbody>\n",
       "    <tr>\n",
       "      <th>0</th>\n",
       "      <td>Лифтбек</td>\n",
       "      <td>SKODA</td>\n",
       "      <td>синий</td>\n",
       "      <td>бензин</td>\n",
       "      <td>2013</td>\n",
       "      <td>5</td>\n",
       "      <td>2014</td>\n",
       "      <td>роботизированная</td>\n",
       "      <td>1.2 LTR</td>\n",
       "      <td>105 N12</td>\n",
       "      <td>74000</td>\n",
       "      <td>передний</td>\n",
       "      <td>LEFT</td>\n",
       "      <td>3.0</td>\n",
       "      <td>Оригинал</td>\n",
       "    </tr>\n",
       "    <tr>\n",
       "      <th>1</th>\n",
       "      <td>Лифтбек</td>\n",
       "      <td>SKODA</td>\n",
       "      <td>чёрный</td>\n",
       "      <td>бензин</td>\n",
       "      <td>2017</td>\n",
       "      <td>5</td>\n",
       "      <td>2017</td>\n",
       "      <td>механическая</td>\n",
       "      <td>1.6 LTR</td>\n",
       "      <td>110 N12</td>\n",
       "      <td>60563</td>\n",
       "      <td>передний</td>\n",
       "      <td>LEFT</td>\n",
       "      <td>1.0</td>\n",
       "      <td>Оригинал</td>\n",
       "    </tr>\n",
       "  </tbody>\n",
       "</table>\n",
       "</div>"
      ],
      "text/plain": [
       "  bodyType  brand   color fuelType  modelDate  numberOfDoors  productionDate  \\\n",
       "0  Лифтбек  SKODA   синий   бензин       2013              5            2014   \n",
       "1  Лифтбек  SKODA  чёрный   бензин       2017              5            2017   \n",
       "\n",
       "  vehicleConfiguration engineDisplacement enginePower  mileage    Привод  \\\n",
       "0     роботизированная            1.2 LTR     105 N12    74000  передний   \n",
       "1         механическая            1.6 LTR     110 N12    60563  передний   \n",
       "\n",
       "   Руль  Владельцы       ПТС  \n",
       "0  LEFT        3.0  Оригинал  \n",
       "1  LEFT        1.0  Оригинал  "
      ]
     },
     "execution_count": 82,
     "metadata": {},
     "output_type": "execute_result"
    }
   ],
   "source": [
    "#submission = submission[df.drop('Price',axis=1).columns]\n",
    "submission.head(2)"
   ]
  },
  {
   "cell_type": "code",
   "execution_count": 44,
   "metadata": {},
   "outputs": [],
   "source": [
    "submission['bodyType'] = submission.bodyType.apply(lambda x: x.split()[0].capitalize())"
   ]
  },
  {
   "cell_type": "code",
   "execution_count": 84,
   "metadata": {},
   "outputs": [
    {
     "data": {
      "text/html": [
       "<div>\n",
       "<style scoped>\n",
       "    .dataframe tbody tr th:only-of-type {\n",
       "        vertical-align: middle;\n",
       "    }\n",
       "\n",
       "    .dataframe tbody tr th {\n",
       "        vertical-align: top;\n",
       "    }\n",
       "\n",
       "    .dataframe thead th {\n",
       "        text-align: right;\n",
       "    }\n",
       "</style>\n",
       "<table border=\"1\" class=\"dataframe\">\n",
       "  <thead>\n",
       "    <tr style=\"text-align: right;\">\n",
       "      <th></th>\n",
       "      <th>bodyType</th>\n",
       "      <th>brand</th>\n",
       "      <th>color</th>\n",
       "      <th>fuelType</th>\n",
       "      <th>modelDate</th>\n",
       "      <th>numberOfDoors</th>\n",
       "      <th>productionDate</th>\n",
       "      <th>vehicleConfiguration</th>\n",
       "      <th>engineDisplacement</th>\n",
       "      <th>enginePower</th>\n",
       "      <th>mileage</th>\n",
       "      <th>Привод</th>\n",
       "      <th>Руль</th>\n",
       "      <th>Владельцы</th>\n",
       "      <th>ПТС</th>\n",
       "    </tr>\n",
       "  </thead>\n",
       "  <tbody>\n",
       "    <tr>\n",
       "      <th>0</th>\n",
       "      <td>Седан</td>\n",
       "      <td>AUDI</td>\n",
       "      <td>040001</td>\n",
       "      <td>бензин</td>\n",
       "      <td>1990.0</td>\n",
       "      <td>4.0</td>\n",
       "      <td>1991</td>\n",
       "      <td>MECHANICAL</td>\n",
       "      <td>2.3</td>\n",
       "      <td>133.0</td>\n",
       "      <td>10000</td>\n",
       "      <td>передний</td>\n",
       "      <td>LEFT</td>\n",
       "      <td>3.0</td>\n",
       "      <td>ORIGINAL</td>\n",
       "    </tr>\n",
       "    <tr>\n",
       "      <th>1</th>\n",
       "      <td>Седан</td>\n",
       "      <td>AUDI</td>\n",
       "      <td>040001</td>\n",
       "      <td>бензин</td>\n",
       "      <td>1988.0</td>\n",
       "      <td>4.0</td>\n",
       "      <td>1989</td>\n",
       "      <td>MECHANICAL</td>\n",
       "      <td>2.0</td>\n",
       "      <td>115.0</td>\n",
       "      <td>300000</td>\n",
       "      <td>передний</td>\n",
       "      <td>LEFT</td>\n",
       "      <td>3.0</td>\n",
       "      <td>DUPLICATE</td>\n",
       "    </tr>\n",
       "  </tbody>\n",
       "</table>\n",
       "</div>"
      ],
      "text/plain": [
       "  bodyType brand   color fuelType  modelDate  numberOfDoors  productionDate  \\\n",
       "0    Седан  AUDI  040001   бензин     1990.0            4.0            1991   \n",
       "1    Седан  AUDI  040001   бензин     1988.0            4.0            1989   \n",
       "\n",
       "  vehicleConfiguration engineDisplacement  enginePower  mileage    Привод  \\\n",
       "0           MECHANICAL                2.3        133.0    10000  передний   \n",
       "1           MECHANICAL                2.0        115.0   300000  передний   \n",
       "\n",
       "   Руль  Владельцы        ПТС  \n",
       "0  LEFT        3.0   ORIGINAL  \n",
       "1  LEFT        3.0  DUPLICATE  "
      ]
     },
     "execution_count": 84,
     "metadata": {},
     "output_type": "execute_result"
    }
   ],
   "source": [
    "df.drop('Price',axis=1).head(2)"
   ]
  },
  {
   "cell_type": "code",
   "execution_count": 34,
   "metadata": {},
   "outputs": [],
   "source": [
    "submission['enginePower'] = submission['enginePower'].apply(lambda x: int(x.split()[0])).astype('float')"
   ]
  },
  {
   "cell_type": "code",
   "execution_count": 35,
   "metadata": {},
   "outputs": [
    {
     "data": {
      "text/plain": [
       "1.6      14236\n",
       "2.0      13739\n",
       "1.8       8034\n",
       "1.4       4713\n",
       "2.5       4676\n",
       "         ...  \n",
       "600        117\n",
       "535i       116\n",
       "325xi      114\n",
       "25d        114\n",
       "M50d       111\n",
       "Name: engineDisplacement, Length: 100, dtype: int64"
      ]
     },
     "execution_count": 35,
     "metadata": {},
     "output_type": "execute_result"
    }
   ],
   "source": [
    "df.engineDisplacement.value_counts()[:100]"
   ]
  },
  {
   "cell_type": "code",
   "execution_count": 153,
   "metadata": {},
   "outputs": [],
   "source": [
    "def func(x):\n",
    "    median = 2\n",
    "    x = re.sub('[^0-9\\.]', '', str(x))\n",
    "    try:\n",
    "        x = float(x)\n",
    "        if x>10:\n",
    "            x=2\n",
    "        return str(x)\n",
    "    except ValueError:\n",
    "        return median"
   ]
  },
  {
   "cell_type": "code",
   "execution_count": 63,
   "metadata": {},
   "outputs": [
    {
     "data": {
      "text/plain": [
       "array(['передний', 'полный', 'задний'], dtype=object)"
      ]
     },
     "execution_count": 63,
     "metadata": {},
     "output_type": "execute_result"
    }
   ],
   "source": [
    "submission.Привод.unique()"
   ]
  },
  {
   "cell_type": "code",
   "execution_count": 49,
   "metadata": {},
   "outputs": [
    {
     "data": {
      "text/plain": [
       "array(['бензин', 'дизель', 'гибрид', 'электро', 'газ'], dtype=object)"
      ]
     },
     "execution_count": 49,
     "metadata": {},
     "output_type": "execute_result"
    }
   ],
   "source": [
    "df.fuelType.unique()"
   ]
  },
  {
   "cell_type": "code",
   "execution_count": 66,
   "metadata": {},
   "outputs": [],
   "source": [
    "submission.Руль = submission.Руль.apply(lambda x: 'LEFT' if x=='Левый' else 'RIGHT')"
   ]
  },
  {
   "cell_type": "code",
   "execution_count": 73,
   "metadata": {},
   "outputs": [],
   "source": [
    "submission.Владельцы =submission.Владельцы.apply(lambda x: float(x.split()[0]))"
   ]
  },
  {
   "cell_type": "code",
   "execution_count": 91,
   "metadata": {},
   "outputs": [
    {
     "data": {
      "text/plain": [
       "array(['Оригинал', 'Дубликат', 'DUPLICATE'], dtype=object)"
      ]
     },
     "execution_count": 91,
     "metadata": {},
     "output_type": "execute_result"
    }
   ],
   "source": [
    "submission.ПТС.unique()"
   ]
  },
  {
   "cell_type": "code",
   "execution_count": 92,
   "metadata": {},
   "outputs": [],
   "source": [
    "submission.ПТС = submission.ПТС.apply(lambda x: \"ORIGINAL\" if x=='Оригинал' else \"DUPLICATE\")"
   ]
  },
  {
   "cell_type": "code",
   "execution_count": 138,
   "metadata": {},
   "outputs": [
    {
     "data": {
      "text/html": [
       "<div>\n",
       "<style scoped>\n",
       "    .dataframe tbody tr th:only-of-type {\n",
       "        vertical-align: middle;\n",
       "    }\n",
       "\n",
       "    .dataframe tbody tr th {\n",
       "        vertical-align: top;\n",
       "    }\n",
       "\n",
       "    .dataframe thead th {\n",
       "        text-align: right;\n",
       "    }\n",
       "</style>\n",
       "<table border=\"1\" class=\"dataframe\">\n",
       "  <thead>\n",
       "    <tr style=\"text-align: right;\">\n",
       "      <th></th>\n",
       "      <th>Unnamed: 0</th>\n",
       "      <th>bodyType</th>\n",
       "      <th>brand</th>\n",
       "      <th>color</th>\n",
       "      <th>fuelType</th>\n",
       "      <th>modelDate</th>\n",
       "      <th>numberOfDoors</th>\n",
       "      <th>productionDate</th>\n",
       "      <th>vehicleConfiguration</th>\n",
       "      <th>engineDisplacement</th>\n",
       "      <th>enginePower</th>\n",
       "      <th>mileage</th>\n",
       "      <th>Привод</th>\n",
       "      <th>Руль</th>\n",
       "      <th>Владельцы</th>\n",
       "      <th>ПТС</th>\n",
       "    </tr>\n",
       "  </thead>\n",
       "  <tbody>\n",
       "    <tr>\n",
       "      <th>0</th>\n",
       "      <td>0</td>\n",
       "      <td>Лифтбек</td>\n",
       "      <td>SKODA</td>\n",
       "      <td>синий</td>\n",
       "      <td>бензин</td>\n",
       "      <td>2013</td>\n",
       "      <td>5</td>\n",
       "      <td>2014</td>\n",
       "      <td>ROBOT</td>\n",
       "      <td>1.2 LTR</td>\n",
       "      <td>105 N12</td>\n",
       "      <td>74000</td>\n",
       "      <td>передний</td>\n",
       "      <td>LEFT</td>\n",
       "      <td>3.0</td>\n",
       "      <td>ORIGINAL</td>\n",
       "    </tr>\n",
       "  </tbody>\n",
       "</table>\n",
       "</div>"
      ],
      "text/plain": [
       "   Unnamed: 0 bodyType  brand  color fuelType  modelDate  numberOfDoors  \\\n",
       "0           0  Лифтбек  SKODA  синий   бензин       2013              5   \n",
       "\n",
       "   productionDate vehicleConfiguration engineDisplacement enginePower  \\\n",
       "0            2014                ROBOT            1.2 LTR     105 N12   \n",
       "\n",
       "   mileage    Привод  Руль  Владельцы       ПТС  \n",
       "0    74000  передний  LEFT        3.0  ORIGINAL  "
      ]
     },
     "execution_count": 138,
     "metadata": {},
     "output_type": "execute_result"
    }
   ],
   "source": [
    "submission.head(1)"
   ]
  },
  {
   "cell_type": "code",
   "execution_count": 99,
   "metadata": {},
   "outputs": [
    {
     "data": {
      "text/html": [
       "<div>\n",
       "<style scoped>\n",
       "    .dataframe tbody tr th:only-of-type {\n",
       "        vertical-align: middle;\n",
       "    }\n",
       "\n",
       "    .dataframe tbody tr th {\n",
       "        vertical-align: top;\n",
       "    }\n",
       "\n",
       "    .dataframe thead th {\n",
       "        text-align: right;\n",
       "    }\n",
       "</style>\n",
       "<table border=\"1\" class=\"dataframe\">\n",
       "  <thead>\n",
       "    <tr style=\"text-align: right;\">\n",
       "      <th></th>\n",
       "      <th>bodyType</th>\n",
       "      <th>brand</th>\n",
       "      <th>color</th>\n",
       "      <th>fuelType</th>\n",
       "      <th>modelDate</th>\n",
       "      <th>numberOfDoors</th>\n",
       "      <th>productionDate</th>\n",
       "      <th>vehicleConfiguration</th>\n",
       "      <th>engineDisplacement</th>\n",
       "      <th>enginePower</th>\n",
       "      <th>mileage</th>\n",
       "      <th>Привод</th>\n",
       "      <th>Руль</th>\n",
       "      <th>Владельцы</th>\n",
       "      <th>ПТС</th>\n",
       "      <th>Price</th>\n",
       "    </tr>\n",
       "  </thead>\n",
       "  <tbody>\n",
       "    <tr>\n",
       "      <th>0</th>\n",
       "      <td>Седан</td>\n",
       "      <td>AUDI</td>\n",
       "      <td>040001</td>\n",
       "      <td>бензин</td>\n",
       "      <td>1990.0</td>\n",
       "      <td>4.0</td>\n",
       "      <td>1991</td>\n",
       "      <td>MECHANICAL</td>\n",
       "      <td>2.3</td>\n",
       "      <td>133.0</td>\n",
       "      <td>10000</td>\n",
       "      <td>передний</td>\n",
       "      <td>LEFT</td>\n",
       "      <td>3.0</td>\n",
       "      <td>ORIGINAL</td>\n",
       "      <td>135000</td>\n",
       "    </tr>\n",
       "  </tbody>\n",
       "</table>\n",
       "</div>"
      ],
      "text/plain": [
       "  bodyType brand   color fuelType  modelDate  numberOfDoors  productionDate  \\\n",
       "0    Седан  AUDI  040001   бензин     1990.0            4.0            1991   \n",
       "\n",
       "  vehicleConfiguration engineDisplacement  enginePower  mileage    Привод  \\\n",
       "0           MECHANICAL                2.3        133.0    10000  передний   \n",
       "\n",
       "   Руль  Владельцы       ПТС   Price  \n",
       "0  LEFT        3.0  ORIGINAL  135000  "
      ]
     },
     "execution_count": 99,
     "metadata": {},
     "output_type": "execute_result"
    }
   ],
   "source": [
    "df.head(1)"
   ]
  },
  {
   "cell_type": "code",
   "execution_count": 109,
   "metadata": {},
   "outputs": [
    {
     "data": {
      "text/plain": [
       "array(['роботизированная', 'механическая', 'автоматическая', 'вариатор'],\n",
       "      dtype=object)"
      ]
     },
     "execution_count": 109,
     "metadata": {},
     "output_type": "execute_result"
    }
   ],
   "source": [
    "submission.vehicleConfiguration.unique()"
   ]
  },
  {
   "cell_type": "code",
   "execution_count": 110,
   "metadata": {},
   "outputs": [
    {
     "data": {
      "text/plain": [
       "array(['MECHANICAL', 'AUTOMATIC', 'ROBOT', 'VARIATOR'], dtype=object)"
      ]
     },
     "execution_count": 110,
     "metadata": {},
     "output_type": "execute_result"
    }
   ],
   "source": [
    "df.vehicleConfiguration.unique()"
   ]
  },
  {
   "cell_type": "code",
   "execution_count": 111,
   "metadata": {},
   "outputs": [],
   "source": [
    "def conf_func(russian):\n",
    "    if russian=='роботизированная':\n",
    "        return 'ROBOT'\n",
    "    elif russian=='механическая':\n",
    "        return 'MECHANICAL'\n",
    "    elif russian=='автоматическая':\n",
    "        return 'AUTOMATIC'\n",
    "    else:\n",
    "        return 'VARIATOR'"
   ]
  },
  {
   "cell_type": "code",
   "execution_count": 133,
   "metadata": {},
   "outputs": [],
   "source": [
    "submission.vehicleConfiguration = submission1.vehicleTransmission.apply(conf_func)"
   ]
  },
  {
   "cell_type": "code",
   "execution_count": 135,
   "metadata": {},
   "outputs": [],
   "source": [
    "submission.to_csv(\"submission_data1.csv\")"
   ]
  },
  {
   "cell_type": "code",
   "execution_count": 134,
   "metadata": {},
   "outputs": [
    {
     "data": {
      "text/plain": [
       "AUTOMATIC     19596\n",
       "MECHANICAL     7209\n",
       "VARIATOR       3999\n",
       "ROBOT          3882\n",
       "Name: vehicleConfiguration, dtype: int64"
      ]
     },
     "execution_count": 134,
     "metadata": {},
     "output_type": "execute_result"
    }
   ],
   "source": [
    "submission.vehicleConfiguration.value_counts()"
   ]
  },
  {
   "cell_type": "code",
   "execution_count": 147,
   "metadata": {},
   "outputs": [
    {
     "data": {
      "text/plain": [
       "1.6     14236\n",
       "2.0     13739\n",
       "1.8      8034\n",
       "1.4      4713\n",
       "2.5      4676\n",
       "2.4      4056\n",
       "350      3182\n",
       "200      2771\n",
       "3.5      2620\n",
       "3.0d     2584\n",
       "Name: engineDisplacement, dtype: int64"
      ]
     },
     "execution_count": 147,
     "metadata": {},
     "output_type": "execute_result"
    }
   ],
   "source": [
    "df.engineDisplacement.value_counts()[:10]"
   ]
  },
  {
   "cell_type": "code",
   "execution_count": 155,
   "metadata": {},
   "outputs": [],
   "source": [
    "submission.engineDisplacement = submission.engineDisplacement.apply(func)"
   ]
  },
  {
   "cell_type": "code",
   "execution_count": 162,
   "metadata": {},
   "outputs": [],
   "source": [
    "submission.enginePower = submission.enginePower.apply(func1)"
   ]
  },
  {
   "cell_type": "code",
   "execution_count": 160,
   "metadata": {},
   "outputs": [],
   "source": [
    "def func1(x):\n",
    "    x = re.sub('N12', '', str(x))\n",
    "    return float(x)"
   ]
  },
  {
   "cell_type": "code",
   "execution_count": 165,
   "metadata": {},
   "outputs": [],
   "source": [
    "submission.to_csv(\"submission_data2.csv\")"
   ]
  },
  {
   "cell_type": "code",
   "execution_count": 239,
   "metadata": {},
   "outputs": [
    {
     "data": {
      "text/plain": [
       "040001    35229\n",
       "FAFBFB    19636\n",
       "CACECB    12700\n",
       "97948F    12622\n",
       "0000CC     9858\n",
       "200204     5524\n",
       "EE1D19     4372\n",
       "007F00     2413\n",
       "C49648     2124\n",
       "22A0F8     1243\n",
       "660099      861\n",
       "DEA522      833\n",
       "4A2197      673\n",
       "FFD600      542\n",
       "FF8649      425\n",
       "FFC0CB       15\n",
       "Name: color, dtype: int64"
      ]
     },
     "execution_count": 239,
     "metadata": {},
     "output_type": "execute_result"
    }
   ],
   "source": [
    "df.color.value_counts()"
   ]
  },
  {
   "cell_type": "code",
   "execution_count": 238,
   "metadata": {},
   "outputs": [
    {
     "data": {
      "text/plain": [
       "чёрный         11010\n",
       "белый           6133\n",
       "серебристый     4113\n",
       "серый           3984\n",
       "синий           3289\n",
       "красный         1531\n",
       "коричневый      1501\n",
       "зелёный          952\n",
       "бежевый          639\n",
       "голубой          457\n",
       "золотистый       266\n",
       "пурпурный        254\n",
       "фиолетовый       219\n",
       "жёлтый           194\n",
       "оранжевый        131\n",
       "розовый           13\n",
       "Name: color, dtype: int64"
      ]
     },
     "execution_count": 238,
     "metadata": {},
     "output_type": "execute_result"
    }
   ],
   "source": [
    "submission.color.value_counts()"
   ]
  },
  {
   "cell_type": "code",
   "execution_count": 244,
   "metadata": {},
   "outputs": [],
   "source": [
    "colors_codes={\n",
    "    'чёрный':'040001',\n",
    "    'белый':'FAFBFB',\n",
    "    'серебристый':'CACECB',\n",
    "    'серый':'97948F',\n",
    "    'синий':'0000CC',\n",
    "    'красный':'EE1D19',\n",
    "    'коричневый':'200204',\n",
    "    'зелёный':'007F00',\n",
    "    'бежевый':'C49648',\n",
    "    'голубой':'22A0F8',\n",
    "    'золотистый':'DEA522',\n",
    "    'пурпурный':'4A2197',\n",
    "    'фиолетовый':'660099',\n",
    "    'жёлтый':'FFD600',\n",
    "    'оранжевый':'FF8649',\n",
    "    'розовый':'FF8649'    \n",
    "}\n"
   ]
  },
  {
   "cell_type": "code",
   "execution_count": 246,
   "metadata": {},
   "outputs": [],
   "source": [
    "submission['color']=submission['color'].apply(lambda x: colors_codes[x])"
   ]
  },
  {
   "cell_type": "code",
   "execution_count": 23,
   "metadata": {},
   "outputs": [],
   "source": [
    "submission.drop('Unnamed: 0',axis=1,inplace=True)"
   ]
  },
  {
   "cell_type": "code",
   "execution_count": 30,
   "metadata": {},
   "outputs": [],
   "source": [
    "submission.to_csv('prepared_submission_data.csv')"
   ]
  },
  {
   "cell_type": "code",
   "execution_count": 28,
   "metadata": {},
   "outputs": [
    {
     "data": {
      "text/plain": [
       "bodyType                 object\n",
       "brand                    object\n",
       "color                    object\n",
       "fuelType                 object\n",
       "modelDate               float64\n",
       "numberOfDoors           float64\n",
       "productionDate            int64\n",
       "vehicleConfiguration     object\n",
       "engineDisplacement       object\n",
       "enginePower             float64\n",
       "mileage                   int64\n",
       "Привод                   object\n",
       "Руль                     object\n",
       "Владельцы               float64\n",
       "ПТС                      object\n",
       "Price                     int64\n",
       "dtype: object"
      ]
     },
     "execution_count": 28,
     "metadata": {},
     "output_type": "execute_result"
    }
   ],
   "source": [
    "df.dtypes"
   ]
  },
  {
   "cell_type": "code",
   "execution_count": 31,
   "metadata": {},
   "outputs": [],
   "source": [
    "submission = pd.read_csv('prepared_submission_data.csv')"
   ]
  },
  {
   "cell_type": "code",
   "execution_count": 29,
   "metadata": {},
   "outputs": [
    {
     "data": {
      "text/plain": [
       "bodyType                 object\n",
       "brand                    object\n",
       "color                    object\n",
       "fuelType                 object\n",
       "modelDate                 int64\n",
       "numberOfDoors             int64\n",
       "productionDate            int64\n",
       "vehicleConfiguration     object\n",
       "engineDisplacement       object\n",
       "enginePower             float64\n",
       "mileage                   int64\n",
       "Привод                   object\n",
       "Руль                     object\n",
       "Владельцы               float64\n",
       "ПТС                      object\n",
       "dtype: object"
      ]
     },
     "execution_count": 29,
     "metadata": {},
     "output_type": "execute_result"
    }
   ],
   "source": [
    "submission.drop('Unnamed: 0',axis=1).dtypes"
   ]
  },
  {
   "cell_type": "code",
   "execution_count": 27,
   "metadata": {},
   "outputs": [],
   "source": [
    "submission['engineDisplacement'] = submission.engineDisplacement.astype('object')"
   ]
  },
  {
   "cell_type": "code",
   "execution_count": null,
   "metadata": {},
   "outputs": [],
   "source": []
  }
 ],
 "metadata": {
  "kernelspec": {
   "display_name": "Python 3",
   "language": "python",
   "name": "python3"
  },
  "language_info": {
   "codemirror_mode": {
    "name": "ipython",
    "version": 3
   },
   "file_extension": ".py",
   "mimetype": "text/x-python",
   "name": "python",
   "nbconvert_exporter": "python",
   "pygments_lexer": "ipython3",
   "version": "3.8.5"
  }
 },
 "nbformat": 4,
 "nbformat_minor": 4
}
