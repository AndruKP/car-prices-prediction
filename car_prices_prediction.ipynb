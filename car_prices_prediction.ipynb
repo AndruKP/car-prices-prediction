{
 "cells": [
  {
   "cell_type": "markdown",
   "metadata": {},
   "source": [
    "# Car price prediction"
   ]
  },
  {
   "cell_type": "markdown",
   "metadata": {},
   "source": [
    "## Import libraries"
   ]
  },
  {
   "cell_type": "code",
   "execution_count": 1,
   "metadata": {},
   "outputs": [],
   "source": [
    "import pandas as pd\n",
    "import numpy as np\n",
    "import re\n",
    "\n",
    "import matplotlib\n",
    "import matplotlib.pyplot as plt\n",
    "import seaborn as sns\n",
    "\n",
    "from sklearn import preprocessing\n",
    "from sklearn.model_selection import train_test_split, KFold, GridSearchCV\n",
    "\n",
    "from sklearn.metrics import mean_squared_error , max_error, mean_absolute_error\n",
    "def mean_absolute_percentage_error(y_true, y_pred):\n",
    "    return np.mean(np.abs((y_true - y_pred) / (y_true)))\n",
    "\n",
    "from sklearn.linear_model import LinearRegression\n",
    "from sklearn.ensemble import GradientBoostingRegressor, StackingRegressor\n",
    "from xgboost import XGBRegressor\n",
    "from lightgbm import LGBMRegressor\n",
    "from catboost import CatBoostRegressor\n",
    "\n",
    "RANDOM_SEED=42"
   ]
  },
  {
   "cell_type": "markdown",
   "metadata": {},
   "source": [
    "## Preprocessing and EDA"
   ]
  },
  {
   "cell_type": "code",
   "execution_count": 2,
   "metadata": {},
   "outputs": [
    {
     "data": {
      "text/html": [
       "<div>\n",
       "<style scoped>\n",
       "    .dataframe tbody tr th:only-of-type {\n",
       "        vertical-align: middle;\n",
       "    }\n",
       "\n",
       "    .dataframe tbody tr th {\n",
       "        vertical-align: top;\n",
       "    }\n",
       "\n",
       "    .dataframe thead th {\n",
       "        text-align: right;\n",
       "    }\n",
       "</style>\n",
       "<table border=\"1\" class=\"dataframe\">\n",
       "  <thead>\n",
       "    <tr style=\"text-align: right;\">\n",
       "      <th></th>\n",
       "      <th>Unnamed: 0</th>\n",
       "      <th>bodyType</th>\n",
       "      <th>brand</th>\n",
       "      <th>color</th>\n",
       "      <th>fuelType</th>\n",
       "      <th>modelDate</th>\n",
       "      <th>name</th>\n",
       "      <th>numberOfDoors</th>\n",
       "      <th>productionDate</th>\n",
       "      <th>vehicleConfiguration</th>\n",
       "      <th>...</th>\n",
       "      <th>description</th>\n",
       "      <th>mileage</th>\n",
       "      <th>Комплектация</th>\n",
       "      <th>Привод</th>\n",
       "      <th>Руль</th>\n",
       "      <th>Владельцы</th>\n",
       "      <th>ПТС</th>\n",
       "      <th>Таможня</th>\n",
       "      <th>Владение</th>\n",
       "      <th>Price</th>\n",
       "    </tr>\n",
       "  </thead>\n",
       "  <tbody>\n",
       "    <tr>\n",
       "      <th>0</th>\n",
       "      <td>0</td>\n",
       "      <td>Седан</td>\n",
       "      <td>AUDI</td>\n",
       "      <td>040001</td>\n",
       "      <td>бензин</td>\n",
       "      <td>1990.0</td>\n",
       "      <td>2.3 MT (133 л.с.)</td>\n",
       "      <td>4.0</td>\n",
       "      <td>1991</td>\n",
       "      <td>MECHANICAL</td>\n",
       "      <td>...</td>\n",
       "      <td>\\nБыстрым торг.Обмен интересен на авто с неисп...</td>\n",
       "      <td>10000</td>\n",
       "      <td>{'id': '0'}</td>\n",
       "      <td>передний</td>\n",
       "      <td>LEFT</td>\n",
       "      <td>3.0</td>\n",
       "      <td>ORIGINAL</td>\n",
       "      <td>True</td>\n",
       "      <td>NaN</td>\n",
       "      <td>135000</td>\n",
       "    </tr>\n",
       "    <tr>\n",
       "      <th>1</th>\n",
       "      <td>1</td>\n",
       "      <td>Седан</td>\n",
       "      <td>AUDI</td>\n",
       "      <td>040001</td>\n",
       "      <td>бензин</td>\n",
       "      <td>1988.0</td>\n",
       "      <td>2.0 MT (115 л.с.)</td>\n",
       "      <td>4.0</td>\n",
       "      <td>1989</td>\n",
       "      <td>MECHANICAL</td>\n",
       "      <td>...</td>\n",
       "      <td>На ходу!Очень много сделано!До аварии ездил 1....</td>\n",
       "      <td>300000</td>\n",
       "      <td>{'id': '0'}</td>\n",
       "      <td>передний</td>\n",
       "      <td>LEFT</td>\n",
       "      <td>3.0</td>\n",
       "      <td>DUPLICATE</td>\n",
       "      <td>True</td>\n",
       "      <td>NaN</td>\n",
       "      <td>42000</td>\n",
       "    </tr>\n",
       "    <tr>\n",
       "      <th>2</th>\n",
       "      <td>2</td>\n",
       "      <td>Универсал 5 дв.</td>\n",
       "      <td>AUDI</td>\n",
       "      <td>CACECB</td>\n",
       "      <td>бензин</td>\n",
       "      <td>1990.0</td>\n",
       "      <td>2.3 MT (133 л.с.)</td>\n",
       "      <td>5.0</td>\n",
       "      <td>1991</td>\n",
       "      <td>MECHANICAL</td>\n",
       "      <td>...</td>\n",
       "      <td>Новый перешитый потолок. \\nМашина на полном ходу</td>\n",
       "      <td>205636</td>\n",
       "      <td>{'id': '0'}</td>\n",
       "      <td>передний</td>\n",
       "      <td>LEFT</td>\n",
       "      <td>2.0</td>\n",
       "      <td>ORIGINAL</td>\n",
       "      <td>True</td>\n",
       "      <td>NaN</td>\n",
       "      <td>200000</td>\n",
       "    </tr>\n",
       "  </tbody>\n",
       "</table>\n",
       "<p>3 rows × 22 columns</p>\n",
       "</div>"
      ],
      "text/plain": [
       "   Unnamed: 0         bodyType brand   color fuelType  modelDate  \\\n",
       "0           0            Седан  AUDI  040001   бензин     1990.0   \n",
       "1           1            Седан  AUDI  040001   бензин     1988.0   \n",
       "2           2  Универсал 5 дв.  AUDI  CACECB   бензин     1990.0   \n",
       "\n",
       "                name  numberOfDoors  productionDate vehicleConfiguration  ...  \\\n",
       "0  2.3 MT (133 л.с.)            4.0            1991           MECHANICAL  ...   \n",
       "1  2.0 MT (115 л.с.)            4.0            1989           MECHANICAL  ...   \n",
       "2  2.3 MT (133 л.с.)            5.0            1991           MECHANICAL  ...   \n",
       "\n",
       "                                         description  mileage Комплектация  \\\n",
       "0  \\nБыстрым торг.Обмен интересен на авто с неисп...    10000  {'id': '0'}   \n",
       "1  На ходу!Очень много сделано!До аварии ездил 1....   300000  {'id': '0'}   \n",
       "2   Новый перешитый потолок. \\nМашина на полном ходу   205636  {'id': '0'}   \n",
       "\n",
       "     Привод  Руль Владельцы        ПТС  Таможня Владение   Price  \n",
       "0  передний  LEFT       3.0   ORIGINAL     True      NaN  135000  \n",
       "1  передний  LEFT       3.0  DUPLICATE     True      NaN   42000  \n",
       "2  передний  LEFT       2.0   ORIGINAL     True      NaN  200000  \n",
       "\n",
       "[3 rows x 22 columns]"
      ]
     },
     "execution_count": 2,
     "metadata": {},
     "output_type": "execute_result"
    }
   ],
   "source": [
    "df = pd.read_csv('train.csv')\n",
    "df.head(3)"
   ]
  },
  {
   "cell_type": "code",
   "execution_count": 3,
   "metadata": {},
   "outputs": [
    {
     "data": {
      "text/plain": [
       "Index(['Unnamed: 0', 'bodyType', 'brand', 'color', 'fuelType', 'modelDate',\n",
       "       'name', 'numberOfDoors', 'productionDate', 'vehicleConfiguration',\n",
       "       'engineDisplacement', 'enginePower', 'description', 'mileage',\n",
       "       'Комплектация', 'Привод', 'Руль', 'Владельцы', 'ПТС', 'Таможня',\n",
       "       'Владение', 'Price'],\n",
       "      dtype='object')"
      ]
     },
     "execution_count": 3,
     "metadata": {},
     "output_type": "execute_result"
    }
   ],
   "source": [
    "df.columns"
   ]
  },
  {
   "cell_type": "code",
   "execution_count": 4,
   "metadata": {},
   "outputs": [
    {
     "data": {
      "text/plain": [
       "Unnamed: 0                                                             2\n",
       "bodyType                                                 Универсал 5 дв.\n",
       "brand                                                               AUDI\n",
       "color                                                             CACECB\n",
       "fuelType                                                          бензин\n",
       "modelDate                                                           1990\n",
       "name                                                   2.3 MT (133 л.с.)\n",
       "numberOfDoors                                                          5\n",
       "productionDate                                                      1991\n",
       "vehicleConfiguration                                          MECHANICAL\n",
       "engineDisplacement                                                   2.3\n",
       "enginePower                                                          133\n",
       "description             Новый перешитый потолок. \\nМашина на полном ходу\n",
       "mileage                                                           205636\n",
       "Комплектация                                                 {'id': '0'}\n",
       "Привод                                                          передний\n",
       "Руль                                                                LEFT\n",
       "Владельцы                                                              2\n",
       "ПТС                                                             ORIGINAL\n",
       "Таможня                                                             True\n",
       "Владение                                                             NaN\n",
       "Price                                                             200000\n",
       "Name: 2, dtype: object"
      ]
     },
     "execution_count": 4,
     "metadata": {},
     "output_type": "execute_result"
    }
   ],
   "source": [
    "df.iloc[2]"
   ]
  },
  {
   "cell_type": "code",
   "execution_count": 5,
   "metadata": {},
   "outputs": [
    {
     "data": {
      "text/plain": [
       "(109080, 22)"
      ]
     },
     "execution_count": 5,
     "metadata": {},
     "output_type": "execute_result"
    }
   ],
   "source": [
    "df.shape"
   ]
  },
  {
   "cell_type": "code",
   "execution_count": 6,
   "metadata": {},
   "outputs": [
    {
     "data": {
      "text/plain": [
       "Unnamed: 0               0.000000\n",
       "bodyType                 0.000917\n",
       "brand                    0.000000\n",
       "color                    0.000000\n",
       "fuelType                 0.000000\n",
       "modelDate                0.000917\n",
       "name                     0.000917\n",
       "numberOfDoors            0.000917\n",
       "productionDate           0.000000\n",
       "vehicleConfiguration     0.000917\n",
       "engineDisplacement       0.000917\n",
       "enginePower              0.000917\n",
       "description              2.980381\n",
       "mileage                  0.000000\n",
       "Комплектация             0.000000\n",
       "Привод                   0.000917\n",
       "Руль                     0.000000\n",
       "Владельцы                0.006417\n",
       "ПТС                      0.001834\n",
       "Таможня                  0.000000\n",
       "Владение                63.431426\n",
       "Price                    0.000000\n",
       "dtype: float64"
      ]
     },
     "execution_count": 6,
     "metadata": {},
     "output_type": "execute_result"
    }
   ],
   "source": [
    "# Percent of missing values\n",
    "df.isna().sum() / (df.shape[0])*100 "
   ]
  },
  {
   "cell_type": "code",
   "execution_count": 7,
   "metadata": {},
   "outputs": [
    {
     "data": {
      "text/plain": [
       "array([ True])"
      ]
     },
     "execution_count": 7,
     "metadata": {},
     "output_type": "execute_result"
    }
   ],
   "source": [
    "df.Таможня.unique()"
   ]
  },
  {
   "cell_type": "code",
   "execution_count": 8,
   "metadata": {},
   "outputs": [
    {
     "data": {
      "text/plain": [
       "{'id': '0'}                                                                                                                                                                                                                                                                                                                                                                                                                                                                                                                                                                                                               77978\n",
       "{'id': '4562904', 'name': 'Elegance', 'available_options': ['cruise-control', 'multi-wheel', 'airbag-passenger', 'lock', 'electro-mirrors', 'mirrors-heat', 'cooling-box', 'computer', 'seat-transformation', 'wheel-power', 'fabric-seats', 'airbag-side', 'abs', 'wheel-leather', 'climate-control-1', 'esp', 'audiopreparation', 'electro-window-back', 'condition', 'music-super', 'park-assist-r', 'airbag-driver', 'isofix', 'aux', 'electro-window-front', 'light-sensor', 'hcc', 'alarm', 'ptf', 'rain-sensor', 'audiosystem-cd', 'front-seats-heat', 'wheel-configuration2', 'wheel-configuration1', 'immo']}      266\n",
       "Name: Комплектация, dtype: int64"
      ]
     },
     "execution_count": 8,
     "metadata": {},
     "output_type": "execute_result"
    }
   ],
   "source": [
    "df['Комплектация'].value_counts()[:2]"
   ]
  },
  {
   "cell_type": "markdown",
   "metadata": {},
   "source": [
    "We have to delete some columns:\n",
    "- Unnamed: 0 - we don't need the index of object\n",
    "- description - in this case, we can't use RNN for NLP task\n",
    "- Таможня - has only 1 value: True\n",
    "- Владение - over 60% of all values - missing\n",
    "- name - converted to 2 single columns: engineDisplacement and enginePower\n",
    "- Комплектация - over 60% of all values are missing: {'id': '0'}"
   ]
  },
  {
   "cell_type": "code",
   "execution_count": 9,
   "metadata": {},
   "outputs": [],
   "source": [
    "df.drop(['Unnamed: 0','description','Таможня','Владение','name','Комплектация'],axis=1,inplace=True)\n",
    "df.dropna(inplace=True)"
   ]
  },
  {
   "cell_type": "code",
   "execution_count": 10,
   "metadata": {},
   "outputs": [
    {
     "data": {
      "text/html": [
       "<div>\n",
       "<style scoped>\n",
       "    .dataframe tbody tr th:only-of-type {\n",
       "        vertical-align: middle;\n",
       "    }\n",
       "\n",
       "    .dataframe tbody tr th {\n",
       "        vertical-align: top;\n",
       "    }\n",
       "\n",
       "    .dataframe thead th {\n",
       "        text-align: right;\n",
       "    }\n",
       "</style>\n",
       "<table border=\"1\" class=\"dataframe\">\n",
       "  <thead>\n",
       "    <tr style=\"text-align: right;\">\n",
       "      <th></th>\n",
       "      <th>bodyType</th>\n",
       "      <th>brand</th>\n",
       "      <th>color</th>\n",
       "      <th>fuelType</th>\n",
       "      <th>modelDate</th>\n",
       "      <th>numberOfDoors</th>\n",
       "      <th>productionDate</th>\n",
       "      <th>vehicleConfiguration</th>\n",
       "      <th>engineDisplacement</th>\n",
       "      <th>enginePower</th>\n",
       "      <th>mileage</th>\n",
       "      <th>Привод</th>\n",
       "      <th>Руль</th>\n",
       "      <th>Владельцы</th>\n",
       "      <th>ПТС</th>\n",
       "      <th>Price</th>\n",
       "    </tr>\n",
       "  </thead>\n",
       "  <tbody>\n",
       "    <tr>\n",
       "      <th>0</th>\n",
       "      <td>Седан</td>\n",
       "      <td>AUDI</td>\n",
       "      <td>040001</td>\n",
       "      <td>бензин</td>\n",
       "      <td>1990.0</td>\n",
       "      <td>4.0</td>\n",
       "      <td>1991</td>\n",
       "      <td>MECHANICAL</td>\n",
       "      <td>2.3</td>\n",
       "      <td>133.0</td>\n",
       "      <td>10000</td>\n",
       "      <td>передний</td>\n",
       "      <td>LEFT</td>\n",
       "      <td>3.0</td>\n",
       "      <td>ORIGINAL</td>\n",
       "      <td>135000</td>\n",
       "    </tr>\n",
       "    <tr>\n",
       "      <th>1</th>\n",
       "      <td>Седан</td>\n",
       "      <td>AUDI</td>\n",
       "      <td>040001</td>\n",
       "      <td>бензин</td>\n",
       "      <td>1988.0</td>\n",
       "      <td>4.0</td>\n",
       "      <td>1989</td>\n",
       "      <td>MECHANICAL</td>\n",
       "      <td>2.0</td>\n",
       "      <td>115.0</td>\n",
       "      <td>300000</td>\n",
       "      <td>передний</td>\n",
       "      <td>LEFT</td>\n",
       "      <td>3.0</td>\n",
       "      <td>DUPLICATE</td>\n",
       "      <td>42000</td>\n",
       "    </tr>\n",
       "    <tr>\n",
       "      <th>2</th>\n",
       "      <td>Универсал 5 дв.</td>\n",
       "      <td>AUDI</td>\n",
       "      <td>CACECB</td>\n",
       "      <td>бензин</td>\n",
       "      <td>1990.0</td>\n",
       "      <td>5.0</td>\n",
       "      <td>1991</td>\n",
       "      <td>MECHANICAL</td>\n",
       "      <td>2.3</td>\n",
       "      <td>133.0</td>\n",
       "      <td>205636</td>\n",
       "      <td>передний</td>\n",
       "      <td>LEFT</td>\n",
       "      <td>2.0</td>\n",
       "      <td>ORIGINAL</td>\n",
       "      <td>200000</td>\n",
       "    </tr>\n",
       "  </tbody>\n",
       "</table>\n",
       "</div>"
      ],
      "text/plain": [
       "          bodyType brand   color fuelType  modelDate  numberOfDoors  \\\n",
       "0            Седан  AUDI  040001   бензин     1990.0            4.0   \n",
       "1            Седан  AUDI  040001   бензин     1988.0            4.0   \n",
       "2  Универсал 5 дв.  AUDI  CACECB   бензин     1990.0            5.0   \n",
       "\n",
       "   productionDate vehicleConfiguration engineDisplacement  enginePower  \\\n",
       "0            1991           MECHANICAL                2.3        133.0   \n",
       "1            1989           MECHANICAL                2.0        115.0   \n",
       "2            1991           MECHANICAL                2.3        133.0   \n",
       "\n",
       "   mileage    Привод  Руль  Владельцы        ПТС   Price  \n",
       "0    10000  передний  LEFT        3.0   ORIGINAL  135000  \n",
       "1   300000  передний  LEFT        3.0  DUPLICATE   42000  \n",
       "2   205636  передний  LEFT        2.0   ORIGINAL  200000  "
      ]
     },
     "execution_count": 10,
     "metadata": {},
     "output_type": "execute_result"
    }
   ],
   "source": [
    "df.head(3)"
   ]
  },
  {
   "cell_type": "code",
   "execution_count": 11,
   "metadata": {},
   "outputs": [
    {
     "data": {
      "text/plain": [
       "bodyType                0.0\n",
       "brand                   0.0\n",
       "color                   0.0\n",
       "fuelType                0.0\n",
       "modelDate               0.0\n",
       "numberOfDoors           0.0\n",
       "productionDate          0.0\n",
       "vehicleConfiguration    0.0\n",
       "engineDisplacement      0.0\n",
       "enginePower             0.0\n",
       "mileage                 0.0\n",
       "Привод                  0.0\n",
       "Руль                    0.0\n",
       "Владельцы               0.0\n",
       "ПТС                     0.0\n",
       "Price                   0.0\n",
       "dtype: float64"
      ]
     },
     "execution_count": 11,
     "metadata": {},
     "output_type": "execute_result"
    }
   ],
   "source": [
    "df.isna().sum() / (df.shape[0])*100 "
   ]
  },
  {
   "cell_type": "markdown",
   "metadata": {},
   "source": [
    "### Encoding"
   ]
  },
  {
   "cell_type": "code",
   "execution_count": 12,
   "metadata": {},
   "outputs": [
    {
     "data": {
      "text/plain": [
       "bodyType                 object\n",
       "brand                    object\n",
       "color                    object\n",
       "fuelType                 object\n",
       "modelDate               float64\n",
       "numberOfDoors           float64\n",
       "productionDate            int64\n",
       "vehicleConfiguration     object\n",
       "engineDisplacement       object\n",
       "enginePower             float64\n",
       "mileage                   int64\n",
       "Привод                   object\n",
       "Руль                     object\n",
       "Владельцы               float64\n",
       "ПТС                      object\n",
       "Price                     int64\n",
       "dtype: object"
      ]
     },
     "execution_count": 12,
     "metadata": {},
     "output_type": "execute_result"
    }
   ],
   "source": [
    "df.dtypes"
   ]
  },
  {
   "cell_type": "code",
   "execution_count": 13,
   "metadata": {},
   "outputs": [
    {
     "data": {
      "text/plain": [
       "Index(['bodyType', 'brand', 'color', 'fuelType', 'modelDate', 'numberOfDoors',\n",
       "       'productionDate', 'vehicleConfiguration', 'engineDisplacement',\n",
       "       'enginePower', 'mileage', 'Привод', 'Руль', 'Владельцы', 'ПТС',\n",
       "       'Price'],\n",
       "      dtype='object')"
      ]
     },
     "execution_count": 13,
     "metadata": {},
     "output_type": "execute_result"
    }
   ],
   "source": [
    "df.columns"
   ]
  },
  {
   "cell_type": "code",
   "execution_count": 14,
   "metadata": {},
   "outputs": [
    {
     "data": {
      "text/plain": [
       "bodyType                  112\n",
       "brand                      13\n",
       "color                      16\n",
       "fuelType                    5\n",
       "modelDate                  70\n",
       "numberOfDoors               5\n",
       "productionDate             73\n",
       "vehicleConfiguration        4\n",
       "engineDisplacement        431\n",
       "enginePower               330\n",
       "mileage                 23363\n",
       "Привод                      3\n",
       "Руль                        2\n",
       "Владельцы                   3\n",
       "ПТС                         2\n",
       "Price                    5709\n",
       "dtype: int64"
      ]
     },
     "execution_count": 14,
     "metadata": {},
     "output_type": "execute_result"
    }
   ],
   "source": [
    "df.nunique()"
   ]
  },
  {
   "cell_type": "code",
   "execution_count": 15,
   "metadata": {},
   "outputs": [],
   "source": [
    "# Decrease length of bodyType column from 2-3 words to 1 word ('Компактвэн Gran Tourer' -> 'Компактвэн') \n",
    "df['bodyType'] = df['bodyType'].apply(lambda x: x.split()[0])"
   ]
  },
  {
   "cell_type": "markdown",
   "metadata": {},
   "source": [
    "For correct processing we will add train and submission data:"
   ]
  },
  {
   "cell_type": "code",
   "execution_count": 16,
   "metadata": {},
   "outputs": [
    {
     "data": {
      "text/html": [
       "<div>\n",
       "<style scoped>\n",
       "    .dataframe tbody tr th:only-of-type {\n",
       "        vertical-align: middle;\n",
       "    }\n",
       "\n",
       "    .dataframe tbody tr th {\n",
       "        vertical-align: top;\n",
       "    }\n",
       "\n",
       "    .dataframe thead th {\n",
       "        text-align: right;\n",
       "    }\n",
       "</style>\n",
       "<table border=\"1\" class=\"dataframe\">\n",
       "  <thead>\n",
       "    <tr style=\"text-align: right;\">\n",
       "      <th></th>\n",
       "      <th>bodyType</th>\n",
       "      <th>brand</th>\n",
       "      <th>color</th>\n",
       "      <th>fuelType</th>\n",
       "      <th>modelDate</th>\n",
       "      <th>numberOfDoors</th>\n",
       "      <th>productionDate</th>\n",
       "      <th>vehicleConfiguration</th>\n",
       "      <th>engineDisplacement</th>\n",
       "      <th>enginePower</th>\n",
       "      <th>mileage</th>\n",
       "      <th>Привод</th>\n",
       "      <th>Руль</th>\n",
       "      <th>Владельцы</th>\n",
       "      <th>ПТС</th>\n",
       "    </tr>\n",
       "  </thead>\n",
       "  <tbody>\n",
       "    <tr>\n",
       "      <th>0</th>\n",
       "      <td>Лифтбек</td>\n",
       "      <td>SKODA</td>\n",
       "      <td>0000CC</td>\n",
       "      <td>бензин</td>\n",
       "      <td>2013</td>\n",
       "      <td>5</td>\n",
       "      <td>2014</td>\n",
       "      <td>ROBOT</td>\n",
       "      <td>1.2</td>\n",
       "      <td>105.0</td>\n",
       "      <td>74000</td>\n",
       "      <td>передний</td>\n",
       "      <td>LEFT</td>\n",
       "      <td>3.0</td>\n",
       "      <td>ORIGINAL</td>\n",
       "    </tr>\n",
       "    <tr>\n",
       "      <th>1</th>\n",
       "      <td>Лифтбек</td>\n",
       "      <td>SKODA</td>\n",
       "      <td>040001</td>\n",
       "      <td>бензин</td>\n",
       "      <td>2017</td>\n",
       "      <td>5</td>\n",
       "      <td>2017</td>\n",
       "      <td>MECHANICAL</td>\n",
       "      <td>1.6</td>\n",
       "      <td>110.0</td>\n",
       "      <td>60563</td>\n",
       "      <td>передний</td>\n",
       "      <td>LEFT</td>\n",
       "      <td>1.0</td>\n",
       "      <td>ORIGINAL</td>\n",
       "    </tr>\n",
       "    <tr>\n",
       "      <th>2</th>\n",
       "      <td>Лифтбек</td>\n",
       "      <td>SKODA</td>\n",
       "      <td>97948F</td>\n",
       "      <td>бензин</td>\n",
       "      <td>2013</td>\n",
       "      <td>5</td>\n",
       "      <td>2014</td>\n",
       "      <td>ROBOT</td>\n",
       "      <td>1.8</td>\n",
       "      <td>152.0</td>\n",
       "      <td>88000</td>\n",
       "      <td>передний</td>\n",
       "      <td>LEFT</td>\n",
       "      <td>1.0</td>\n",
       "      <td>ORIGINAL</td>\n",
       "    </tr>\n",
       "    <tr>\n",
       "      <th>3</th>\n",
       "      <td>Лифтбек</td>\n",
       "      <td>SKODA</td>\n",
       "      <td>200204</td>\n",
       "      <td>бензин</td>\n",
       "      <td>2013</td>\n",
       "      <td>5</td>\n",
       "      <td>2014</td>\n",
       "      <td>AUTOMATIC</td>\n",
       "      <td>1.6</td>\n",
       "      <td>110.0</td>\n",
       "      <td>95000</td>\n",
       "      <td>передний</td>\n",
       "      <td>LEFT</td>\n",
       "      <td>1.0</td>\n",
       "      <td>ORIGINAL</td>\n",
       "    </tr>\n",
       "    <tr>\n",
       "      <th>4</th>\n",
       "      <td>Лифтбек</td>\n",
       "      <td>SKODA</td>\n",
       "      <td>FAFBFB</td>\n",
       "      <td>бензин</td>\n",
       "      <td>2008</td>\n",
       "      <td>5</td>\n",
       "      <td>2012</td>\n",
       "      <td>AUTOMATIC</td>\n",
       "      <td>1.8</td>\n",
       "      <td>152.0</td>\n",
       "      <td>58536</td>\n",
       "      <td>передний</td>\n",
       "      <td>LEFT</td>\n",
       "      <td>1.0</td>\n",
       "      <td>ORIGINAL</td>\n",
       "    </tr>\n",
       "  </tbody>\n",
       "</table>\n",
       "</div>"
      ],
      "text/plain": [
       "  bodyType  brand   color fuelType  modelDate  numberOfDoors  productionDate  \\\n",
       "0  Лифтбек  SKODA  0000CC   бензин       2013              5            2014   \n",
       "1  Лифтбек  SKODA  040001   бензин       2017              5            2017   \n",
       "2  Лифтбек  SKODA  97948F   бензин       2013              5            2014   \n",
       "3  Лифтбек  SKODA  200204   бензин       2013              5            2014   \n",
       "4  Лифтбек  SKODA  FAFBFB   бензин       2008              5            2012   \n",
       "\n",
       "  vehicleConfiguration  engineDisplacement  enginePower  mileage    Привод  \\\n",
       "0                ROBOT                 1.2        105.0    74000  передний   \n",
       "1           MECHANICAL                 1.6        110.0    60563  передний   \n",
       "2                ROBOT                 1.8        152.0    88000  передний   \n",
       "3            AUTOMATIC                 1.6        110.0    95000  передний   \n",
       "4            AUTOMATIC                 1.8        152.0    58536  передний   \n",
       "\n",
       "   Руль  Владельцы       ПТС  \n",
       "0  LEFT        3.0  ORIGINAL  \n",
       "1  LEFT        1.0  ORIGINAL  \n",
       "2  LEFT        1.0  ORIGINAL  \n",
       "3  LEFT        1.0  ORIGINAL  \n",
       "4  LEFT        1.0  ORIGINAL  "
      ]
     },
     "execution_count": 16,
     "metadata": {},
     "output_type": "execute_result"
    }
   ],
   "source": [
    "submission_data = pd.read_csv('prepared_submission_data.csv')\n",
    "submission_data.drop(['Unnamed: 0','Unnamed: 0.1'],axis=1,inplace=True)\n",
    "submission_data.head()"
   ]
  },
  {
   "cell_type": "code",
   "execution_count": 17,
   "metadata": {},
   "outputs": [
    {
     "data": {
      "text/plain": [
       "bodyType                 object\n",
       "brand                    object\n",
       "color                    object\n",
       "fuelType                 object\n",
       "modelDate                 int64\n",
       "numberOfDoors             int64\n",
       "productionDate            int64\n",
       "vehicleConfiguration     object\n",
       "engineDisplacement      float64\n",
       "enginePower             float64\n",
       "mileage                   int64\n",
       "Привод                   object\n",
       "Руль                     object\n",
       "Владельцы               float64\n",
       "ПТС                      object\n",
       "dtype: object"
      ]
     },
     "execution_count": 17,
     "metadata": {},
     "output_type": "execute_result"
    }
   ],
   "source": [
    "submission_data.dtypes"
   ]
  },
  {
   "cell_type": "code",
   "execution_count": 18,
   "metadata": {},
   "outputs": [],
   "source": [
    "submission_data['engineDisplacement'] = submission_data['engineDisplacement'].astype('str')"
   ]
  },
  {
   "cell_type": "markdown",
   "metadata": {},
   "source": [
    "Convert labels from strings to integers by LabelEncoder:"
   ]
  },
  {
   "cell_type": "code",
   "execution_count": 19,
   "metadata": {},
   "outputs": [
    {
     "name": "stdout",
     "output_type": "stream",
     "text": [
      "bodyType\n",
      "brand\n",
      "color\n",
      "fuelType\n",
      "vehicleConfiguration\n",
      "engineDisplacement\n",
      "Привод\n",
      "Руль\n",
      "ПТС\n"
     ]
    }
   ],
   "source": [
    "categorical_columns = df.columns[df.dtypes == 'object']\n",
    "\n",
    "for column in categorical_columns:\n",
    "    le = preprocessing.LabelEncoder()\n",
    "    print(column)\n",
    "    le.fit(list(df[column])\n",
    "          +list(submission_data[column]))\n",
    "    \n",
    "    df[column] = le.transform(list(df[column]))\n",
    "    submission_data[column] = le.transform(list(submission_data[column]))"
   ]
  },
  {
   "cell_type": "markdown",
   "metadata": {},
   "source": [
    "### Graphs and visualization"
   ]
  },
  {
   "cell_type": "markdown",
   "metadata": {},
   "source": [
    "Plot correlation matrix:"
   ]
  },
  {
   "cell_type": "code",
   "execution_count": 20,
   "metadata": {},
   "outputs": [
    {
     "data": {
      "text/html": [
       "<style  type=\"text/css\" >\n",
       "    #T_4dbb32bd_6be6_11eb_8298_c0e4346c915b th {\n",
       "          font-size: 6pt;\n",
       "    }    #T_4dbb32bd_6be6_11eb_8298_c0e4346c915b td {\n",
       "          padding: 0.4em 0.4em;\n",
       "    }    #T_4dbb32bd_6be6_11eb_8298_c0e4346c915b th:hover {\n",
       "          font-size: 8pt;\n",
       "    }    #T_4dbb32bd_6be6_11eb_8298_c0e4346c915b tr:hover td:hover {\n",
       "          max-width: 80px;\n",
       "          font-size: 8pt;\n",
       "          min-width: 80px;\n",
       "    }#T_4dbb32bd_6be6_11eb_8298_c0e4346c915brow0_col0,#T_4dbb32bd_6be6_11eb_8298_c0e4346c915brow1_col1,#T_4dbb32bd_6be6_11eb_8298_c0e4346c915brow2_col2,#T_4dbb32bd_6be6_11eb_8298_c0e4346c915brow3_col3,#T_4dbb32bd_6be6_11eb_8298_c0e4346c915brow4_col4,#T_4dbb32bd_6be6_11eb_8298_c0e4346c915brow5_col5,#T_4dbb32bd_6be6_11eb_8298_c0e4346c915brow6_col6,#T_4dbb32bd_6be6_11eb_8298_c0e4346c915brow7_col7,#T_4dbb32bd_6be6_11eb_8298_c0e4346c915brow8_col8,#T_4dbb32bd_6be6_11eb_8298_c0e4346c915brow9_col9,#T_4dbb32bd_6be6_11eb_8298_c0e4346c915brow10_col10,#T_4dbb32bd_6be6_11eb_8298_c0e4346c915brow11_col11,#T_4dbb32bd_6be6_11eb_8298_c0e4346c915brow12_col12,#T_4dbb32bd_6be6_11eb_8298_c0e4346c915brow13_col13,#T_4dbb32bd_6be6_11eb_8298_c0e4346c915brow14_col14,#T_4dbb32bd_6be6_11eb_8298_c0e4346c915brow15_col15{\n",
       "            background-color:  #4479bb;\n",
       "            color:  #000000;\n",
       "            max-width:  80px;\n",
       "            font-size:  12pt;\n",
       "        }#T_4dbb32bd_6be6_11eb_8298_c0e4346c915brow0_col1,#T_4dbb32bd_6be6_11eb_8298_c0e4346c915brow8_col11{\n",
       "            background-color:  #edcad1;\n",
       "            color:  #000000;\n",
       "            max-width:  80px;\n",
       "            font-size:  12pt;\n",
       "        }#T_4dbb32bd_6be6_11eb_8298_c0e4346c915brow0_col2,#T_4dbb32bd_6be6_11eb_8298_c0e4346c915brow5_col14,#T_4dbb32bd_6be6_11eb_8298_c0e4346c915brow10_col2,#T_4dbb32bd_6be6_11eb_8298_c0e4346c915brow10_col5{\n",
       "            background-color:  #ebc2ca;\n",
       "            color:  #000000;\n",
       "            max-width:  80px;\n",
       "            font-size:  12pt;\n",
       "        }#T_4dbb32bd_6be6_11eb_8298_c0e4346c915brow0_col3,#T_4dbb32bd_6be6_11eb_8298_c0e4346c915brow5_col10,#T_4dbb32bd_6be6_11eb_8298_c0e4346c915brow8_col10,#T_4dbb32bd_6be6_11eb_8298_c0e4346c915brow13_col11,#T_4dbb32bd_6be6_11eb_8298_c0e4346c915brow14_col9{\n",
       "            background-color:  #e492a3;\n",
       "            color:  #000000;\n",
       "            max-width:  80px;\n",
       "            font-size:  12pt;\n",
       "        }#T_4dbb32bd_6be6_11eb_8298_c0e4346c915brow0_col4,#T_4dbb32bd_6be6_11eb_8298_c0e4346c915brow0_col6,#T_4dbb32bd_6be6_11eb_8298_c0e4346c915brow12_col1{\n",
       "            background-color:  #e38d9e;\n",
       "            color:  #000000;\n",
       "            max-width:  80px;\n",
       "            font-size:  12pt;\n",
       "        }#T_4dbb32bd_6be6_11eb_8298_c0e4346c915brow0_col5,#T_4dbb32bd_6be6_11eb_8298_c0e4346c915brow12_col9{\n",
       "            background-color:  #dc5e77;\n",
       "            color:  #000000;\n",
       "            max-width:  80px;\n",
       "            font-size:  12pt;\n",
       "        }#T_4dbb32bd_6be6_11eb_8298_c0e4346c915brow0_col7,#T_4dbb32bd_6be6_11eb_8298_c0e4346c915brow11_col1{\n",
       "            background-color:  #eabcc5;\n",
       "            color:  #000000;\n",
       "            max-width:  80px;\n",
       "            font-size:  12pt;\n",
       "        }#T_4dbb32bd_6be6_11eb_8298_c0e4346c915brow0_col8,#T_4dbb32bd_6be6_11eb_8298_c0e4346c915brow1_col6,#T_4dbb32bd_6be6_11eb_8298_c0e4346c915brow1_col11,#T_4dbb32bd_6be6_11eb_8298_c0e4346c915brow9_col13{\n",
       "            background-color:  #e597a7;\n",
       "            color:  #000000;\n",
       "            max-width:  80px;\n",
       "            font-size:  12pt;\n",
       "        }#T_4dbb32bd_6be6_11eb_8298_c0e4346c915brow0_col9{\n",
       "            background-color:  #e17a8f;\n",
       "            color:  #000000;\n",
       "            max-width:  80px;\n",
       "            font-size:  12pt;\n",
       "        }#T_4dbb32bd_6be6_11eb_8298_c0e4346c915brow0_col10,#T_4dbb32bd_6be6_11eb_8298_c0e4346c915brow6_col7{\n",
       "            background-color:  #f1e5e7;\n",
       "            color:  #000000;\n",
       "            max-width:  80px;\n",
       "            font-size:  12pt;\n",
       "        }#T_4dbb32bd_6be6_11eb_8298_c0e4346c915brow0_col11,#T_4dbb32bd_6be6_11eb_8298_c0e4346c915brow1_col8,#T_4dbb32bd_6be6_11eb_8298_c0e4346c915brow2_col9,#T_4dbb32bd_6be6_11eb_8298_c0e4346c915brow3_col7,#T_4dbb32bd_6be6_11eb_8298_c0e4346c915brow4_col10,#T_4dbb32bd_6be6_11eb_8298_c0e4346c915brow5_col0,#T_4dbb32bd_6be6_11eb_8298_c0e4346c915brow6_col10,#T_4dbb32bd_6be6_11eb_8298_c0e4346c915brow7_col8,#T_4dbb32bd_6be6_11eb_8298_c0e4346c915brow7_col9,#T_4dbb32bd_6be6_11eb_8298_c0e4346c915brow8_col1,#T_4dbb32bd_6be6_11eb_8298_c0e4346c915brow9_col1,#T_4dbb32bd_6be6_11eb_8298_c0e4346c915brow10_col6,#T_4dbb32bd_6be6_11eb_8298_c0e4346c915brow11_col0,#T_4dbb32bd_6be6_11eb_8298_c0e4346c915brow12_col6,#T_4dbb32bd_6be6_11eb_8298_c0e4346c915brow13_col6,#T_4dbb32bd_6be6_11eb_8298_c0e4346c915brow14_col13,#T_4dbb32bd_6be6_11eb_8298_c0e4346c915brow15_col10{\n",
       "            background-color:  #d73c5b;\n",
       "            color:  #f1f1f1;\n",
       "            max-width:  80px;\n",
       "            font-size:  12pt;\n",
       "        }#T_4dbb32bd_6be6_11eb_8298_c0e4346c915brow0_col12,#T_4dbb32bd_6be6_11eb_8298_c0e4346c915brow6_col1{\n",
       "            background-color:  #edd0d6;\n",
       "            color:  #000000;\n",
       "            max-width:  80px;\n",
       "            font-size:  12pt;\n",
       "        }#T_4dbb32bd_6be6_11eb_8298_c0e4346c915brow0_col13,#T_4dbb32bd_6be6_11eb_8298_c0e4346c915brow15_col11{\n",
       "            background-color:  #f1e7e9;\n",
       "            color:  #000000;\n",
       "            max-width:  80px;\n",
       "            font-size:  12pt;\n",
       "        }#T_4dbb32bd_6be6_11eb_8298_c0e4346c915brow0_col14,#T_4dbb32bd_6be6_11eb_8298_c0e4346c915brow5_col2,#T_4dbb32bd_6be6_11eb_8298_c0e4346c915brow7_col4,#T_4dbb32bd_6be6_11eb_8298_c0e4346c915brow7_col5,#T_4dbb32bd_6be6_11eb_8298_c0e4346c915brow7_col6{\n",
       "            background-color:  #e7a8b5;\n",
       "            color:  #000000;\n",
       "            max-width:  80px;\n",
       "            font-size:  12pt;\n",
       "        }#T_4dbb32bd_6be6_11eb_8298_c0e4346c915brow0_col15,#T_4dbb32bd_6be6_11eb_8298_c0e4346c915brow3_col14,#T_4dbb32bd_6be6_11eb_8298_c0e4346c915brow7_col0,#T_4dbb32bd_6be6_11eb_8298_c0e4346c915brow8_col5,#T_4dbb32bd_6be6_11eb_8298_c0e4346c915brow12_col2,#T_4dbb32bd_6be6_11eb_8298_c0e4346c915brow12_col13{\n",
       "            background-color:  #e38b9d;\n",
       "            color:  #000000;\n",
       "            max-width:  80px;\n",
       "            font-size:  12pt;\n",
       "        }#T_4dbb32bd_6be6_11eb_8298_c0e4346c915brow1_col0,#T_4dbb32bd_6be6_11eb_8298_c0e4346c915brow8_col6,#T_4dbb32bd_6be6_11eb_8298_c0e4346c915brow9_col3{\n",
       "            background-color:  #e7a7b4;\n",
       "            color:  #000000;\n",
       "            max-width:  80px;\n",
       "            font-size:  12pt;\n",
       "        }#T_4dbb32bd_6be6_11eb_8298_c0e4346c915brow1_col2,#T_4dbb32bd_6be6_11eb_8298_c0e4346c915brow1_col7,#T_4dbb32bd_6be6_11eb_8298_c0e4346c915brow11_col12,#T_4dbb32bd_6be6_11eb_8298_c0e4346c915brow14_col5{\n",
       "            background-color:  #e9b1bc;\n",
       "            color:  #000000;\n",
       "            max-width:  80px;\n",
       "            font-size:  12pt;\n",
       "        }#T_4dbb32bd_6be6_11eb_8298_c0e4346c915brow1_col3,#T_4dbb32bd_6be6_11eb_8298_c0e4346c915brow8_col14,#T_4dbb32bd_6be6_11eb_8298_c0e4346c915brow15_col12{\n",
       "            background-color:  #e48fa0;\n",
       "            color:  #000000;\n",
       "            max-width:  80px;\n",
       "            font-size:  12pt;\n",
       "        }#T_4dbb32bd_6be6_11eb_8298_c0e4346c915brow1_col4,#T_4dbb32bd_6be6_11eb_8298_c0e4346c915brow12_col0,#T_4dbb32bd_6be6_11eb_8298_c0e4346c915brow13_col5{\n",
       "            background-color:  #e491a1;\n",
       "            color:  #000000;\n",
       "            max-width:  80px;\n",
       "            font-size:  12pt;\n",
       "        }#T_4dbb32bd_6be6_11eb_8298_c0e4346c915brow1_col5{\n",
       "            background-color:  #eab7c1;\n",
       "            color:  #000000;\n",
       "            max-width:  80px;\n",
       "            font-size:  12pt;\n",
       "        }#T_4dbb32bd_6be6_11eb_8298_c0e4346c915brow1_col9{\n",
       "            background-color:  #d73d5c;\n",
       "            color:  #f1f1f1;\n",
       "            max-width:  80px;\n",
       "            font-size:  12pt;\n",
       "        }#T_4dbb32bd_6be6_11eb_8298_c0e4346c915brow1_col10,#T_4dbb32bd_6be6_11eb_8298_c0e4346c915brow6_col0,#T_4dbb32bd_6be6_11eb_8298_c0e4346c915brow6_col12,#T_4dbb32bd_6be6_11eb_8298_c0e4346c915brow14_col3{\n",
       "            background-color:  #e7a4b1;\n",
       "            color:  #000000;\n",
       "            max-width:  80px;\n",
       "            font-size:  12pt;\n",
       "        }#T_4dbb32bd_6be6_11eb_8298_c0e4346c915brow1_col12,#T_4dbb32bd_6be6_11eb_8298_c0e4346c915brow8_col13{\n",
       "            background-color:  #e8aab6;\n",
       "            color:  #000000;\n",
       "            max-width:  80px;\n",
       "            font-size:  12pt;\n",
       "        }#T_4dbb32bd_6be6_11eb_8298_c0e4346c915brow1_col13,#T_4dbb32bd_6be6_11eb_8298_c0e4346c915brow2_col1,#T_4dbb32bd_6be6_11eb_8298_c0e4346c915brow2_col7{\n",
       "            background-color:  #e28698;\n",
       "            color:  #000000;\n",
       "            max-width:  80px;\n",
       "            font-size:  12pt;\n",
       "        }#T_4dbb32bd_6be6_11eb_8298_c0e4346c915brow1_col14,#T_4dbb32bd_6be6_11eb_8298_c0e4346c915brow7_col1,#T_4dbb32bd_6be6_11eb_8298_c0e4346c915brow7_col2,#T_4dbb32bd_6be6_11eb_8298_c0e4346c915brow13_col1,#T_4dbb32bd_6be6_11eb_8298_c0e4346c915brow13_col2{\n",
       "            background-color:  #e7a5b2;\n",
       "            color:  #000000;\n",
       "            max-width:  80px;\n",
       "            font-size:  12pt;\n",
       "        }#T_4dbb32bd_6be6_11eb_8298_c0e4346c915brow1_col15,#T_4dbb32bd_6be6_11eb_8298_c0e4346c915brow13_col15{\n",
       "            background-color:  #df7288;\n",
       "            color:  #000000;\n",
       "            max-width:  80px;\n",
       "            font-size:  12pt;\n",
       "        }#T_4dbb32bd_6be6_11eb_8298_c0e4346c915brow2_col0,#T_4dbb32bd_6be6_11eb_8298_c0e4346c915brow2_col5,#T_4dbb32bd_6be6_11eb_8298_c0e4346c915brow12_col8,#T_4dbb32bd_6be6_11eb_8298_c0e4346c915brow15_col0{\n",
       "            background-color:  #df6d84;\n",
       "            color:  #000000;\n",
       "            max-width:  80px;\n",
       "            font-size:  12pt;\n",
       "        }#T_4dbb32bd_6be6_11eb_8298_c0e4346c915brow2_col3,#T_4dbb32bd_6be6_11eb_8298_c0e4346c915brow2_col11{\n",
       "            background-color:  #db5872;\n",
       "            color:  #000000;\n",
       "            max-width:  80px;\n",
       "            font-size:  12pt;\n",
       "        }#T_4dbb32bd_6be6_11eb_8298_c0e4346c915brow2_col4,#T_4dbb32bd_6be6_11eb_8298_c0e4346c915brow5_col13{\n",
       "            background-color:  #e17d91;\n",
       "            color:  #000000;\n",
       "            max-width:  80px;\n",
       "            font-size:  12pt;\n",
       "        }#T_4dbb32bd_6be6_11eb_8298_c0e4346c915brow2_col6{\n",
       "            background-color:  #e18093;\n",
       "            color:  #000000;\n",
       "            max-width:  80px;\n",
       "            font-size:  12pt;\n",
       "        }#T_4dbb32bd_6be6_11eb_8298_c0e4346c915brow2_col8,#T_4dbb32bd_6be6_11eb_8298_c0e4346c915brow3_col0,#T_4dbb32bd_6be6_11eb_8298_c0e4346c915brow12_col4{\n",
       "            background-color:  #d83e5d;\n",
       "            color:  #f1f1f1;\n",
       "            max-width:  80px;\n",
       "            font-size:  12pt;\n",
       "        }#T_4dbb32bd_6be6_11eb_8298_c0e4346c915brow2_col10{\n",
       "            background-color:  #db546f;\n",
       "            color:  #000000;\n",
       "            max-width:  80px;\n",
       "            font-size:  12pt;\n",
       "        }#T_4dbb32bd_6be6_11eb_8298_c0e4346c915brow2_col12,#T_4dbb32bd_6be6_11eb_8298_c0e4346c915brow12_col7{\n",
       "            background-color:  #e17c90;\n",
       "            color:  #000000;\n",
       "            max-width:  80px;\n",
       "            font-size:  12pt;\n",
       "        }#T_4dbb32bd_6be6_11eb_8298_c0e4346c915brow2_col13{\n",
       "            background-color:  #db526e;\n",
       "            color:  #000000;\n",
       "            max-width:  80px;\n",
       "            font-size:  12pt;\n",
       "        }#T_4dbb32bd_6be6_11eb_8298_c0e4346c915brow2_col14,#T_4dbb32bd_6be6_11eb_8298_c0e4346c915brow12_col5{\n",
       "            background-color:  #e0768b;\n",
       "            color:  #000000;\n",
       "            max-width:  80px;\n",
       "            font-size:  12pt;\n",
       "        }#T_4dbb32bd_6be6_11eb_8298_c0e4346c915brow2_col15{\n",
       "            background-color:  #db5771;\n",
       "            color:  #000000;\n",
       "            max-width:  80px;\n",
       "            font-size:  12pt;\n",
       "        }#T_4dbb32bd_6be6_11eb_8298_c0e4346c915brow3_col1,#T_4dbb32bd_6be6_11eb_8298_c0e4346c915brow7_col13,#T_4dbb32bd_6be6_11eb_8298_c0e4346c915brow8_col0{\n",
       "            background-color:  #de6c83;\n",
       "            color:  #000000;\n",
       "            max-width:  80px;\n",
       "            font-size:  12pt;\n",
       "        }#T_4dbb32bd_6be6_11eb_8298_c0e4346c915brow3_col2{\n",
       "            background-color:  #de667e;\n",
       "            color:  #000000;\n",
       "            max-width:  80px;\n",
       "            font-size:  12pt;\n",
       "        }#T_4dbb32bd_6be6_11eb_8298_c0e4346c915brow3_col4,#T_4dbb32bd_6be6_11eb_8298_c0e4346c915brow7_col14,#T_4dbb32bd_6be6_11eb_8298_c0e4346c915brow14_col2{\n",
       "            background-color:  #e69dab;\n",
       "            color:  #000000;\n",
       "            max-width:  80px;\n",
       "            font-size:  12pt;\n",
       "        }#T_4dbb32bd_6be6_11eb_8298_c0e4346c915brow3_col5,#T_4dbb32bd_6be6_11eb_8298_c0e4346c915brow3_col6,#T_4dbb32bd_6be6_11eb_8298_c0e4346c915brow5_col12,#T_4dbb32bd_6be6_11eb_8298_c0e4346c915brow12_col10,#T_4dbb32bd_6be6_11eb_8298_c0e4346c915brow13_col3,#T_4dbb32bd_6be6_11eb_8298_c0e4346c915brow14_col7{\n",
       "            background-color:  #e6a1af;\n",
       "            color:  #000000;\n",
       "            max-width:  80px;\n",
       "            font-size:  12pt;\n",
       "        }#T_4dbb32bd_6be6_11eb_8298_c0e4346c915brow3_col8,#T_4dbb32bd_6be6_11eb_8298_c0e4346c915brow5_col15,#T_4dbb32bd_6be6_11eb_8298_c0e4346c915brow8_col4,#T_4dbb32bd_6be6_11eb_8298_c0e4346c915brow15_col5{\n",
       "            background-color:  #e8abb7;\n",
       "            color:  #000000;\n",
       "            max-width:  80px;\n",
       "            font-size:  12pt;\n",
       "        }#T_4dbb32bd_6be6_11eb_8298_c0e4346c915brow3_col9,#T_4dbb32bd_6be6_11eb_8298_c0e4346c915brow7_col11,#T_4dbb32bd_6be6_11eb_8298_c0e4346c915brow14_col8{\n",
       "            background-color:  #e28799;\n",
       "            color:  #000000;\n",
       "            max-width:  80px;\n",
       "            font-size:  12pt;\n",
       "        }#T_4dbb32bd_6be6_11eb_8298_c0e4346c915brow3_col10,#T_4dbb32bd_6be6_11eb_8298_c0e4346c915brow9_col2{\n",
       "            background-color:  #df7086;\n",
       "            color:  #000000;\n",
       "            max-width:  80px;\n",
       "            font-size:  12pt;\n",
       "        }#T_4dbb32bd_6be6_11eb_8298_c0e4346c915brow3_col11,#T_4dbb32bd_6be6_11eb_8298_c0e4346c915brow13_col12{\n",
       "            background-color:  #ecc3cb;\n",
       "            color:  #000000;\n",
       "            max-width:  80px;\n",
       "            font-size:  12pt;\n",
       "        }#T_4dbb32bd_6be6_11eb_8298_c0e4346c915brow3_col12,#T_4dbb32bd_6be6_11eb_8298_c0e4346c915brow7_col10{\n",
       "            background-color:  #df6f85;\n",
       "            color:  #000000;\n",
       "            max-width:  80px;\n",
       "            font-size:  12pt;\n",
       "        }#T_4dbb32bd_6be6_11eb_8298_c0e4346c915brow3_col13,#T_4dbb32bd_6be6_11eb_8298_c0e4346c915brow15_col13{\n",
       "            background-color:  #dc5b75;\n",
       "            color:  #000000;\n",
       "            max-width:  80px;\n",
       "            font-size:  12pt;\n",
       "        }#T_4dbb32bd_6be6_11eb_8298_c0e4346c915brow3_col15{\n",
       "            background-color:  #ebbfc8;\n",
       "            color:  #000000;\n",
       "            max-width:  80px;\n",
       "            font-size:  12pt;\n",
       "        }#T_4dbb32bd_6be6_11eb_8298_c0e4346c915brow4_col0{\n",
       "            background-color:  #e6a0ae;\n",
       "            color:  #000000;\n",
       "            max-width:  80px;\n",
       "            font-size:  12pt;\n",
       "        }#T_4dbb32bd_6be6_11eb_8298_c0e4346c915brow4_col1,#T_4dbb32bd_6be6_11eb_8298_c0e4346c915brow8_col3{\n",
       "            background-color:  #ecc8cf;\n",
       "            color:  #000000;\n",
       "            max-width:  80px;\n",
       "            font-size:  12pt;\n",
       "        }#T_4dbb32bd_6be6_11eb_8298_c0e4346c915brow4_col2,#T_4dbb32bd_6be6_11eb_8298_c0e4346c915brow6_col8{\n",
       "            background-color:  #efdcdf;\n",
       "            color:  #000000;\n",
       "            max-width:  80px;\n",
       "            font-size:  12pt;\n",
       "        }#T_4dbb32bd_6be6_11eb_8298_c0e4346c915brow4_col3{\n",
       "            background-color:  #f1eaeb;\n",
       "            color:  #000000;\n",
       "            max-width:  80px;\n",
       "            font-size:  12pt;\n",
       "        }#T_4dbb32bd_6be6_11eb_8298_c0e4346c915brow4_col5,#T_4dbb32bd_6be6_11eb_8298_c0e4346c915brow8_col15{\n",
       "            background-color:  #eff0f2;\n",
       "            color:  #000000;\n",
       "            max-width:  80px;\n",
       "            font-size:  12pt;\n",
       "        }#T_4dbb32bd_6be6_11eb_8298_c0e4346c915brow4_col6,#T_4dbb32bd_6be6_11eb_8298_c0e4346c915brow6_col4{\n",
       "            background-color:  #497dbc;\n",
       "            color:  #000000;\n",
       "            max-width:  80px;\n",
       "            font-size:  12pt;\n",
       "        }#T_4dbb32bd_6be6_11eb_8298_c0e4346c915brow4_col7,#T_4dbb32bd_6be6_11eb_8298_c0e4346c915brow15_col3{\n",
       "            background-color:  #f0e3e5;\n",
       "            color:  #000000;\n",
       "            max-width:  80px;\n",
       "            font-size:  12pt;\n",
       "        }#T_4dbb32bd_6be6_11eb_8298_c0e4346c915brow4_col8,#T_4dbb32bd_6be6_11eb_8298_c0e4346c915brow14_col4{\n",
       "            background-color:  #efdde0;\n",
       "            color:  #000000;\n",
       "            max-width:  80px;\n",
       "            font-size:  12pt;\n",
       "        }#T_4dbb32bd_6be6_11eb_8298_c0e4346c915brow4_col9,#T_4dbb32bd_6be6_11eb_8298_c0e4346c915brow4_col11{\n",
       "            background-color:  #e3e8ee;\n",
       "            color:  #000000;\n",
       "            max-width:  80px;\n",
       "            font-size:  12pt;\n",
       "        }#T_4dbb32bd_6be6_11eb_8298_c0e4346c915brow4_col12,#T_4dbb32bd_6be6_11eb_8298_c0e4346c915brow5_col9{\n",
       "            background-color:  #e7a3b0;\n",
       "            color:  #000000;\n",
       "            max-width:  80px;\n",
       "            font-size:  12pt;\n",
       "        }#T_4dbb32bd_6be6_11eb_8298_c0e4346c915brow4_col13{\n",
       "            background-color:  #dd657d;\n",
       "            color:  #000000;\n",
       "            max-width:  80px;\n",
       "            font-size:  12pt;\n",
       "        }#T_4dbb32bd_6be6_11eb_8298_c0e4346c915brow4_col14{\n",
       "            background-color:  #dbe2eb;\n",
       "            color:  #000000;\n",
       "            max-width:  80px;\n",
       "            font-size:  12pt;\n",
       "        }#T_4dbb32bd_6be6_11eb_8298_c0e4346c915brow4_col15,#T_4dbb32bd_6be6_11eb_8298_c0e4346c915brow9_col15,#T_4dbb32bd_6be6_11eb_8298_c0e4346c915brow11_col5{\n",
       "            background-color:  #c1d0e3;\n",
       "            color:  #000000;\n",
       "            max-width:  80px;\n",
       "            font-size:  12pt;\n",
       "        }#T_4dbb32bd_6be6_11eb_8298_c0e4346c915brow5_col1{\n",
       "            background-color:  #ebc1c9;\n",
       "            color:  #000000;\n",
       "            max-width:  80px;\n",
       "            font-size:  12pt;\n",
       "        }#T_4dbb32bd_6be6_11eb_8298_c0e4346c915brow5_col3{\n",
       "            background-color:  #ecc9d0;\n",
       "            color:  #000000;\n",
       "            max-width:  80px;\n",
       "            font-size:  12pt;\n",
       "        }#T_4dbb32bd_6be6_11eb_8298_c0e4346c915brow5_col4{\n",
       "            background-color:  #eed2d7;\n",
       "            color:  #000000;\n",
       "            max-width:  80px;\n",
       "            font-size:  12pt;\n",
       "        }#T_4dbb32bd_6be6_11eb_8298_c0e4346c915brow5_col6{\n",
       "            background-color:  #eed3d8;\n",
       "            color:  #000000;\n",
       "            max-width:  80px;\n",
       "            font-size:  12pt;\n",
       "        }#T_4dbb32bd_6be6_11eb_8298_c0e4346c915brow5_col7{\n",
       "            background-color:  #ebbec6;\n",
       "            color:  #000000;\n",
       "            max-width:  80px;\n",
       "            font-size:  12pt;\n",
       "        }#T_4dbb32bd_6be6_11eb_8298_c0e4346c915brow5_col8,#T_4dbb32bd_6be6_11eb_8298_c0e4346c915brow9_col14,#T_4dbb32bd_6be6_11eb_8298_c0e4346c915brow11_col10{\n",
       "            background-color:  #e599a8;\n",
       "            color:  #000000;\n",
       "            max-width:  80px;\n",
       "            font-size:  12pt;\n",
       "        }#T_4dbb32bd_6be6_11eb_8298_c0e4346c915brow5_col11{\n",
       "            background-color:  #cfdae7;\n",
       "            color:  #000000;\n",
       "            max-width:  80px;\n",
       "            font-size:  12pt;\n",
       "        }#T_4dbb32bd_6be6_11eb_8298_c0e4346c915brow6_col2,#T_4dbb32bd_6be6_11eb_8298_c0e4346c915brow14_col6{\n",
       "            background-color:  #f0e1e4;\n",
       "            color:  #000000;\n",
       "            max-width:  80px;\n",
       "            font-size:  12pt;\n",
       "        }#T_4dbb32bd_6be6_11eb_8298_c0e4346c915brow6_col3{\n",
       "            background-color:  #f2eeef;\n",
       "            color:  #000000;\n",
       "            max-width:  80px;\n",
       "            font-size:  12pt;\n",
       "        }#T_4dbb32bd_6be6_11eb_8298_c0e4346c915brow6_col5,#T_4dbb32bd_6be6_11eb_8298_c0e4346c915brow11_col3{\n",
       "            background-color:  #ebedf1;\n",
       "            color:  #000000;\n",
       "            max-width:  80px;\n",
       "            font-size:  12pt;\n",
       "        }#T_4dbb32bd_6be6_11eb_8298_c0e4346c915brow6_col9{\n",
       "            background-color:  #e7eaef;\n",
       "            color:  #000000;\n",
       "            max-width:  80px;\n",
       "            font-size:  12pt;\n",
       "        }#T_4dbb32bd_6be6_11eb_8298_c0e4346c915brow6_col11{\n",
       "            background-color:  #e0e6ed;\n",
       "            color:  #000000;\n",
       "            max-width:  80px;\n",
       "            font-size:  12pt;\n",
       "        }#T_4dbb32bd_6be6_11eb_8298_c0e4346c915brow6_col13,#T_4dbb32bd_6be6_11eb_8298_c0e4346c915brow7_col15{\n",
       "            background-color:  #dd637c;\n",
       "            color:  #000000;\n",
       "            max-width:  80px;\n",
       "            font-size:  12pt;\n",
       "        }#T_4dbb32bd_6be6_11eb_8298_c0e4346c915brow6_col14,#T_4dbb32bd_6be6_11eb_8298_c0e4346c915brow11_col9{\n",
       "            background-color:  #d5deea;\n",
       "            color:  #000000;\n",
       "            max-width:  80px;\n",
       "            font-size:  12pt;\n",
       "        }#T_4dbb32bd_6be6_11eb_8298_c0e4346c915brow6_col15{\n",
       "            background-color:  #becee2;\n",
       "            color:  #000000;\n",
       "            max-width:  80px;\n",
       "            font-size:  12pt;\n",
       "        }#T_4dbb32bd_6be6_11eb_8298_c0e4346c915brow7_col3{\n",
       "            background-color:  #db5570;\n",
       "            color:  #000000;\n",
       "            max-width:  80px;\n",
       "            font-size:  12pt;\n",
       "        }#T_4dbb32bd_6be6_11eb_8298_c0e4346c915brow7_col12,#T_4dbb32bd_6be6_11eb_8298_c0e4346c915brow8_col12{\n",
       "            background-color:  #e48e9f;\n",
       "            color:  #000000;\n",
       "            max-width:  80px;\n",
       "            font-size:  12pt;\n",
       "        }#T_4dbb32bd_6be6_11eb_8298_c0e4346c915brow8_col2{\n",
       "            background-color:  #e0748a;\n",
       "            color:  #000000;\n",
       "            max-width:  80px;\n",
       "            font-size:  12pt;\n",
       "        }#T_4dbb32bd_6be6_11eb_8298_c0e4346c915brow8_col7,#T_4dbb32bd_6be6_11eb_8298_c0e4346c915brow14_col10{\n",
       "            background-color:  #da4b68;\n",
       "            color:  #000000;\n",
       "            max-width:  80px;\n",
       "            font-size:  12pt;\n",
       "        }#T_4dbb32bd_6be6_11eb_8298_c0e4346c915brow8_col9{\n",
       "            background-color:  #99b4d6;\n",
       "            color:  #000000;\n",
       "            max-width:  80px;\n",
       "            font-size:  12pt;\n",
       "        }#T_4dbb32bd_6be6_11eb_8298_c0e4346c915brow9_col0{\n",
       "            background-color:  #d94865;\n",
       "            color:  #000000;\n",
       "            max-width:  80px;\n",
       "            font-size:  12pt;\n",
       "        }#T_4dbb32bd_6be6_11eb_8298_c0e4346c915brow9_col4{\n",
       "            background-color:  #efd7dc;\n",
       "            color:  #000000;\n",
       "            max-width:  80px;\n",
       "            font-size:  12pt;\n",
       "        }#T_4dbb32bd_6be6_11eb_8298_c0e4346c915brow9_col5,#T_4dbb32bd_6be6_11eb_8298_c0e4346c915brow15_col2{\n",
       "            background-color:  #e595a5;\n",
       "            color:  #000000;\n",
       "            max-width:  80px;\n",
       "            font-size:  12pt;\n",
       "        }#T_4dbb32bd_6be6_11eb_8298_c0e4346c915brow9_col6{\n",
       "            background-color:  #edcfd5;\n",
       "            color:  #000000;\n",
       "            max-width:  80px;\n",
       "            font-size:  12pt;\n",
       "        }#T_4dbb32bd_6be6_11eb_8298_c0e4346c915brow9_col7{\n",
       "            background-color:  #d94a67;\n",
       "            color:  #000000;\n",
       "            max-width:  80px;\n",
       "            font-size:  12pt;\n",
       "        }#T_4dbb32bd_6be6_11eb_8298_c0e4346c915brow9_col8{\n",
       "            background-color:  #9bb6d7;\n",
       "            color:  #000000;\n",
       "            max-width:  80px;\n",
       "            font-size:  12pt;\n",
       "        }#T_4dbb32bd_6be6_11eb_8298_c0e4346c915brow9_col10,#T_4dbb32bd_6be6_11eb_8298_c0e4346c915brow12_col14,#T_4dbb32bd_6be6_11eb_8298_c0e4346c915brow13_col14{\n",
       "            background-color:  #de6b82;\n",
       "            color:  #000000;\n",
       "            max-width:  80px;\n",
       "            font-size:  12pt;\n",
       "        }#T_4dbb32bd_6be6_11eb_8298_c0e4346c915brow9_col11,#T_4dbb32bd_6be6_11eb_8298_c0e4346c915brow10_col0,#T_4dbb32bd_6be6_11eb_8298_c0e4346c915brow11_col4,#T_4dbb32bd_6be6_11eb_8298_c0e4346c915brow11_col6{\n",
       "            background-color:  #eeeff2;\n",
       "            color:  #000000;\n",
       "            max-width:  80px;\n",
       "            font-size:  12pt;\n",
       "        }#T_4dbb32bd_6be6_11eb_8298_c0e4346c915brow9_col12,#T_4dbb32bd_6be6_11eb_8298_c0e4346c915brow15_col1,#T_4dbb32bd_6be6_11eb_8298_c0e4346c915brow15_col7{\n",
       "            background-color:  #e17e92;\n",
       "            color:  #000000;\n",
       "            max-width:  80px;\n",
       "            font-size:  12pt;\n",
       "        }#T_4dbb32bd_6be6_11eb_8298_c0e4346c915brow10_col1{\n",
       "            background-color:  #efd9dd;\n",
       "            color:  #000000;\n",
       "            max-width:  80px;\n",
       "            font-size:  12pt;\n",
       "        }#T_4dbb32bd_6be6_11eb_8298_c0e4346c915brow10_col3{\n",
       "            background-color:  #edcdd3;\n",
       "            color:  #000000;\n",
       "            max-width:  80px;\n",
       "            font-size:  12pt;\n",
       "        }#T_4dbb32bd_6be6_11eb_8298_c0e4346c915brow10_col4{\n",
       "            background-color:  #d8405e;\n",
       "            color:  #f1f1f1;\n",
       "            max-width:  80px;\n",
       "            font-size:  12pt;\n",
       "        }#T_4dbb32bd_6be6_11eb_8298_c0e4346c915brow10_col7{\n",
       "            background-color:  #eabbc4;\n",
       "            color:  #000000;\n",
       "            max-width:  80px;\n",
       "            font-size:  12pt;\n",
       "        }#T_4dbb32bd_6be6_11eb_8298_c0e4346c915brow10_col8{\n",
       "            background-color:  #edccd2;\n",
       "            color:  #000000;\n",
       "            max-width:  80px;\n",
       "            font-size:  12pt;\n",
       "        }#T_4dbb32bd_6be6_11eb_8298_c0e4346c915brow10_col9,#T_4dbb32bd_6be6_11eb_8298_c0e4346c915brow10_col11,#T_4dbb32bd_6be6_11eb_8298_c0e4346c915brow14_col11{\n",
       "            background-color:  #e8aeba;\n",
       "            color:  #000000;\n",
       "            max-width:  80px;\n",
       "            font-size:  12pt;\n",
       "        }#T_4dbb32bd_6be6_11eb_8298_c0e4346c915brow10_col12{\n",
       "            background-color:  #f2eded;\n",
       "            color:  #000000;\n",
       "            max-width:  80px;\n",
       "            font-size:  12pt;\n",
       "        }#T_4dbb32bd_6be6_11eb_8298_c0e4346c915brow10_col13{\n",
       "            background-color:  #b2c6de;\n",
       "            color:  #000000;\n",
       "            max-width:  80px;\n",
       "            font-size:  12pt;\n",
       "        }#T_4dbb32bd_6be6_11eb_8298_c0e4346c915brow10_col14,#T_4dbb32bd_6be6_11eb_8298_c0e4346c915brow13_col7{\n",
       "            background-color:  #e59aa9;\n",
       "            color:  #000000;\n",
       "            max-width:  80px;\n",
       "            font-size:  12pt;\n",
       "        }#T_4dbb32bd_6be6_11eb_8298_c0e4346c915brow10_col15{\n",
       "            background-color:  #e0798d;\n",
       "            color:  #000000;\n",
       "            max-width:  80px;\n",
       "            font-size:  12pt;\n",
       "        }#T_4dbb32bd_6be6_11eb_8298_c0e4346c915brow11_col2{\n",
       "            background-color:  #e9b2bd;\n",
       "            color:  #000000;\n",
       "            max-width:  80px;\n",
       "            font-size:  12pt;\n",
       "        }#T_4dbb32bd_6be6_11eb_8298_c0e4346c915brow11_col7{\n",
       "            background-color:  #eab9c3;\n",
       "            color:  #000000;\n",
       "            max-width:  80px;\n",
       "            font-size:  12pt;\n",
       "        }#T_4dbb32bd_6be6_11eb_8298_c0e4346c915brow11_col8{\n",
       "            background-color:  #f1e8ea;\n",
       "            color:  #000000;\n",
       "            max-width:  80px;\n",
       "            font-size:  12pt;\n",
       "        }#T_4dbb32bd_6be6_11eb_8298_c0e4346c915brow11_col13{\n",
       "            background-color:  #e69caa;\n",
       "            color:  #000000;\n",
       "            max-width:  80px;\n",
       "            font-size:  12pt;\n",
       "        }#T_4dbb32bd_6be6_11eb_8298_c0e4346c915brow11_col14{\n",
       "            background-color:  #eed6db;\n",
       "            color:  #000000;\n",
       "            max-width:  80px;\n",
       "            font-size:  12pt;\n",
       "        }#T_4dbb32bd_6be6_11eb_8298_c0e4346c915brow11_col15{\n",
       "            background-color:  #eaecf0;\n",
       "            color:  #000000;\n",
       "            max-width:  80px;\n",
       "            font-size:  12pt;\n",
       "        }#T_4dbb32bd_6be6_11eb_8298_c0e4346c915brow12_col3{\n",
       "            background-color:  #e07389;\n",
       "            color:  #000000;\n",
       "            max-width:  80px;\n",
       "            font-size:  12pt;\n",
       "        }#T_4dbb32bd_6be6_11eb_8298_c0e4346c915brow12_col11{\n",
       "            background-color:  #de6980;\n",
       "            color:  #000000;\n",
       "            max-width:  80px;\n",
       "            font-size:  12pt;\n",
       "        }#T_4dbb32bd_6be6_11eb_8298_c0e4346c915brow12_col15{\n",
       "            background-color:  #dd627b;\n",
       "            color:  #000000;\n",
       "            max-width:  80px;\n",
       "            font-size:  12pt;\n",
       "        }#T_4dbb32bd_6be6_11eb_8298_c0e4346c915brow13_col0{\n",
       "            background-color:  #f0e0e3;\n",
       "            color:  #000000;\n",
       "            max-width:  80px;\n",
       "            font-size:  12pt;\n",
       "        }#T_4dbb32bd_6be6_11eb_8298_c0e4346c915brow13_col4{\n",
       "            background-color:  #d8415f;\n",
       "            color:  #f1f1f1;\n",
       "            max-width:  80px;\n",
       "            font-size:  12pt;\n",
       "        }#T_4dbb32bd_6be6_11eb_8298_c0e4346c915brow13_col8{\n",
       "            background-color:  #ecc5cc;\n",
       "            color:  #000000;\n",
       "            max-width:  80px;\n",
       "            font-size:  12pt;\n",
       "        }#T_4dbb32bd_6be6_11eb_8298_c0e4346c915brow13_col9,#T_4dbb32bd_6be6_11eb_8298_c0e4346c915brow14_col15{\n",
       "            background-color:  #e9b5bf;\n",
       "            color:  #000000;\n",
       "            max-width:  80px;\n",
       "            font-size:  12pt;\n",
       "        }#T_4dbb32bd_6be6_11eb_8298_c0e4346c915brow13_col10{\n",
       "            background-color:  #c0cfe3;\n",
       "            color:  #000000;\n",
       "            max-width:  80px;\n",
       "            font-size:  12pt;\n",
       "        }#T_4dbb32bd_6be6_11eb_8298_c0e4346c915brow14_col0{\n",
       "            background-color:  #e0778c;\n",
       "            color:  #000000;\n",
       "            max-width:  80px;\n",
       "            font-size:  12pt;\n",
       "        }#T_4dbb32bd_6be6_11eb_8298_c0e4346c915brow14_col1{\n",
       "            background-color:  #e69ead;\n",
       "            color:  #000000;\n",
       "            max-width:  80px;\n",
       "            font-size:  12pt;\n",
       "        }#T_4dbb32bd_6be6_11eb_8298_c0e4346c915brow14_col12{\n",
       "            background-color:  #e28396;\n",
       "            color:  #000000;\n",
       "            max-width:  80px;\n",
       "            font-size:  12pt;\n",
       "        }#T_4dbb32bd_6be6_11eb_8298_c0e4346c915brow15_col4,#T_4dbb32bd_6be6_11eb_8298_c0e4346c915brow15_col6{\n",
       "            background-color:  #d8e0eb;\n",
       "            color:  #000000;\n",
       "            max-width:  80px;\n",
       "            font-size:  12pt;\n",
       "        }#T_4dbb32bd_6be6_11eb_8298_c0e4346c915brow15_col8{\n",
       "            background-color:  #e8ebf0;\n",
       "            color:  #000000;\n",
       "            max-width:  80px;\n",
       "            font-size:  12pt;\n",
       "        }#T_4dbb32bd_6be6_11eb_8298_c0e4346c915brow15_col9{\n",
       "            background-color:  #bacbe1;\n",
       "            color:  #000000;\n",
       "            max-width:  80px;\n",
       "            font-size:  12pt;\n",
       "        }#T_4dbb32bd_6be6_11eb_8298_c0e4346c915brow15_col14{\n",
       "            background-color:  #ecc6ce;\n",
       "            color:  #000000;\n",
       "            max-width:  80px;\n",
       "            font-size:  12pt;\n",
       "        }</style><table id=\"T_4dbb32bd_6be6_11eb_8298_c0e4346c915b\" ><caption>correlation matrix</caption><thead>    <tr>        <th class=\"blank level0\" ></th>        <th class=\"col_heading level0 col0\" >bodyType</th>        <th class=\"col_heading level0 col1\" >brand</th>        <th class=\"col_heading level0 col2\" >color</th>        <th class=\"col_heading level0 col3\" >fuelType</th>        <th class=\"col_heading level0 col4\" >modelDate</th>        <th class=\"col_heading level0 col5\" >numberOfDoors</th>        <th class=\"col_heading level0 col6\" >productionDate</th>        <th class=\"col_heading level0 col7\" >vehicleConfiguration</th>        <th class=\"col_heading level0 col8\" >engineDisplacement</th>        <th class=\"col_heading level0 col9\" >enginePower</th>        <th class=\"col_heading level0 col10\" >mileage</th>        <th class=\"col_heading level0 col11\" >Привод</th>        <th class=\"col_heading level0 col12\" >Руль</th>        <th class=\"col_heading level0 col13\" >Владельцы</th>        <th class=\"col_heading level0 col14\" >ПТС</th>        <th class=\"col_heading level0 col15\" >Price</th>    </tr></thead><tbody>\n",
       "                <tr>\n",
       "                        <th id=\"T_4dbb32bd_6be6_11eb_8298_c0e4346c915blevel0_row0\" class=\"row_heading level0 row0\" >bodyType</th>\n",
       "                        <td id=\"T_4dbb32bd_6be6_11eb_8298_c0e4346c915brow0_col0\" class=\"data row0 col0\" >1.00</td>\n",
       "                        <td id=\"T_4dbb32bd_6be6_11eb_8298_c0e4346c915brow0_col1\" class=\"data row0 col1\" >0.05</td>\n",
       "                        <td id=\"T_4dbb32bd_6be6_11eb_8298_c0e4346c915brow0_col2\" class=\"data row0 col2\" >0.01</td>\n",
       "                        <td id=\"T_4dbb32bd_6be6_11eb_8298_c0e4346c915brow0_col3\" class=\"data row0 col3\" >-0.19</td>\n",
       "                        <td id=\"T_4dbb32bd_6be6_11eb_8298_c0e4346c915brow0_col4\" class=\"data row0 col4\" >-0.21</td>\n",
       "                        <td id=\"T_4dbb32bd_6be6_11eb_8298_c0e4346c915brow0_col5\" class=\"data row0 col5\" >-0.41</td>\n",
       "                        <td id=\"T_4dbb32bd_6be6_11eb_8298_c0e4346c915brow0_col6\" class=\"data row0 col6\" >-0.21</td>\n",
       "                        <td id=\"T_4dbb32bd_6be6_11eb_8298_c0e4346c915brow0_col7\" class=\"data row0 col7\" >-0.01</td>\n",
       "                        <td id=\"T_4dbb32bd_6be6_11eb_8298_c0e4346c915brow0_col8\" class=\"data row0 col8\" >-0.17</td>\n",
       "                        <td id=\"T_4dbb32bd_6be6_11eb_8298_c0e4346c915brow0_col9\" class=\"data row0 col9\" >-0.29</td>\n",
       "                        <td id=\"T_4dbb32bd_6be6_11eb_8298_c0e4346c915brow0_col10\" class=\"data row0 col10\" >0.16</td>\n",
       "                        <td id=\"T_4dbb32bd_6be6_11eb_8298_c0e4346c915brow0_col11\" class=\"data row0 col11\" >-0.56</td>\n",
       "                        <td id=\"T_4dbb32bd_6be6_11eb_8298_c0e4346c915brow0_col12\" class=\"data row0 col12\" >0.07</td>\n",
       "                        <td id=\"T_4dbb32bd_6be6_11eb_8298_c0e4346c915brow0_col13\" class=\"data row0 col13\" >0.17</td>\n",
       "                        <td id=\"T_4dbb32bd_6be6_11eb_8298_c0e4346c915brow0_col14\" class=\"data row0 col14\" >-0.10</td>\n",
       "                        <td id=\"T_4dbb32bd_6be6_11eb_8298_c0e4346c915brow0_col15\" class=\"data row0 col15\" >-0.22</td>\n",
       "            </tr>\n",
       "            <tr>\n",
       "                        <th id=\"T_4dbb32bd_6be6_11eb_8298_c0e4346c915blevel0_row1\" class=\"row_heading level0 row1\" >brand</th>\n",
       "                        <td id=\"T_4dbb32bd_6be6_11eb_8298_c0e4346c915brow1_col0\" class=\"data row1 col0\" >0.05</td>\n",
       "                        <td id=\"T_4dbb32bd_6be6_11eb_8298_c0e4346c915brow1_col1\" class=\"data row1 col1\" >1.00</td>\n",
       "                        <td id=\"T_4dbb32bd_6be6_11eb_8298_c0e4346c915brow1_col2\" class=\"data row1 col2\" >0.09</td>\n",
       "                        <td id=\"T_4dbb32bd_6be6_11eb_8298_c0e4346c915brow1_col3\" class=\"data row1 col3\" >-0.04</td>\n",
       "                        <td id=\"T_4dbb32bd_6be6_11eb_8298_c0e4346c915brow1_col4\" class=\"data row1 col4\" >-0.03</td>\n",
       "                        <td id=\"T_4dbb32bd_6be6_11eb_8298_c0e4346c915brow1_col5\" class=\"data row1 col5\" >0.10</td>\n",
       "                        <td id=\"T_4dbb32bd_6be6_11eb_8298_c0e4346c915brow1_col6\" class=\"data row1 col6\" >-0.01</td>\n",
       "                        <td id=\"T_4dbb32bd_6be6_11eb_8298_c0e4346c915brow1_col7\" class=\"data row1 col7\" >0.08</td>\n",
       "                        <td id=\"T_4dbb32bd_6be6_11eb_8298_c0e4346c915brow1_col8\" class=\"data row1 col8\" >-0.35</td>\n",
       "                        <td id=\"T_4dbb32bd_6be6_11eb_8298_c0e4346c915brow1_col9\" class=\"data row1 col9\" >-0.34</td>\n",
       "                        <td id=\"T_4dbb32bd_6be6_11eb_8298_c0e4346c915brow1_col10\" class=\"data row1 col10\" >0.03</td>\n",
       "                        <td id=\"T_4dbb32bd_6be6_11eb_8298_c0e4346c915brow1_col11\" class=\"data row1 col11\" >-0.01</td>\n",
       "                        <td id=\"T_4dbb32bd_6be6_11eb_8298_c0e4346c915brow1_col12\" class=\"data row1 col12\" >0.06</td>\n",
       "                        <td id=\"T_4dbb32bd_6be6_11eb_8298_c0e4346c915brow1_col13\" class=\"data row1 col13\" >-0.07</td>\n",
       "                        <td id=\"T_4dbb32bd_6be6_11eb_8298_c0e4346c915brow1_col14\" class=\"data row1 col14\" >0.04</td>\n",
       "                        <td id=\"T_4dbb32bd_6be6_11eb_8298_c0e4346c915brow1_col15\" class=\"data row1 col15\" >-0.15</td>\n",
       "            </tr>\n",
       "            <tr>\n",
       "                        <th id=\"T_4dbb32bd_6be6_11eb_8298_c0e4346c915blevel0_row2\" class=\"row_heading level0 row2\" >color</th>\n",
       "                        <td id=\"T_4dbb32bd_6be6_11eb_8298_c0e4346c915brow2_col0\" class=\"data row2 col0\" >0.01</td>\n",
       "                        <td id=\"T_4dbb32bd_6be6_11eb_8298_c0e4346c915brow2_col1\" class=\"data row2 col1\" >0.09</td>\n",
       "                        <td id=\"T_4dbb32bd_6be6_11eb_8298_c0e4346c915brow2_col2\" class=\"data row2 col2\" >1.00</td>\n",
       "                        <td id=\"T_4dbb32bd_6be6_11eb_8298_c0e4346c915brow2_col3\" class=\"data row2 col3\" >-0.06</td>\n",
       "                        <td id=\"T_4dbb32bd_6be6_11eb_8298_c0e4346c915brow2_col4\" class=\"data row2 col4\" >0.06</td>\n",
       "                        <td id=\"T_4dbb32bd_6be6_11eb_8298_c0e4346c915brow2_col5\" class=\"data row2 col5\" >0.01</td>\n",
       "                        <td id=\"T_4dbb32bd_6be6_11eb_8298_c0e4346c915brow2_col6\" class=\"data row2 col6\" >0.07</td>\n",
       "                        <td id=\"T_4dbb32bd_6be6_11eb_8298_c0e4346c915brow2_col7\" class=\"data row2 col7\" >0.08</td>\n",
       "                        <td id=\"T_4dbb32bd_6be6_11eb_8298_c0e4346c915brow2_col8\" class=\"data row2 col8\" >-0.14</td>\n",
       "                        <td id=\"T_4dbb32bd_6be6_11eb_8298_c0e4346c915brow2_col9\" class=\"data row2 col9\" >-0.15</td>\n",
       "                        <td id=\"T_4dbb32bd_6be6_11eb_8298_c0e4346c915brow2_col10\" class=\"data row2 col10\" >-0.07</td>\n",
       "                        <td id=\"T_4dbb32bd_6be6_11eb_8298_c0e4346c915brow2_col11\" class=\"data row2 col11\" >-0.06</td>\n",
       "                        <td id=\"T_4dbb32bd_6be6_11eb_8298_c0e4346c915brow2_col12\" class=\"data row2 col12\" >0.05</td>\n",
       "                        <td id=\"T_4dbb32bd_6be6_11eb_8298_c0e4346c915brow2_col13\" class=\"data row2 col13\" >-0.07</td>\n",
       "                        <td id=\"T_4dbb32bd_6be6_11eb_8298_c0e4346c915brow2_col14\" class=\"data row2 col14\" >0.04</td>\n",
       "                        <td id=\"T_4dbb32bd_6be6_11eb_8298_c0e4346c915brow2_col15\" class=\"data row2 col15\" >-0.06</td>\n",
       "            </tr>\n",
       "            <tr>\n",
       "                        <th id=\"T_4dbb32bd_6be6_11eb_8298_c0e4346c915blevel0_row3\" class=\"row_heading level0 row3\" >fuelType</th>\n",
       "                        <td id=\"T_4dbb32bd_6be6_11eb_8298_c0e4346c915brow3_col0\" class=\"data row3 col0\" >-0.19</td>\n",
       "                        <td id=\"T_4dbb32bd_6be6_11eb_8298_c0e4346c915brow3_col1\" class=\"data row3 col1\" >-0.04</td>\n",
       "                        <td id=\"T_4dbb32bd_6be6_11eb_8298_c0e4346c915brow3_col2\" class=\"data row3 col2\" >-0.06</td>\n",
       "                        <td id=\"T_4dbb32bd_6be6_11eb_8298_c0e4346c915brow3_col3\" class=\"data row3 col3\" >1.00</td>\n",
       "                        <td id=\"T_4dbb32bd_6be6_11eb_8298_c0e4346c915brow3_col4\" class=\"data row3 col4\" >0.12</td>\n",
       "                        <td id=\"T_4dbb32bd_6be6_11eb_8298_c0e4346c915brow3_col5\" class=\"data row3 col5\" >0.14</td>\n",
       "                        <td id=\"T_4dbb32bd_6be6_11eb_8298_c0e4346c915brow3_col6\" class=\"data row3 col6\" >0.13</td>\n",
       "                        <td id=\"T_4dbb32bd_6be6_11eb_8298_c0e4346c915brow3_col7\" class=\"data row3 col7\" >-0.20</td>\n",
       "                        <td id=\"T_4dbb32bd_6be6_11eb_8298_c0e4346c915brow3_col8\" class=\"data row3 col8\" >0.17</td>\n",
       "                        <td id=\"T_4dbb32bd_6be6_11eb_8298_c0e4346c915brow3_col9\" class=\"data row3 col9\" >0.05</td>\n",
       "                        <td id=\"T_4dbb32bd_6be6_11eb_8298_c0e4346c915brow3_col10\" class=\"data row3 col10\" >-0.02</td>\n",
       "                        <td id=\"T_4dbb32bd_6be6_11eb_8298_c0e4346c915brow3_col11\" class=\"data row3 col11\" >0.25</td>\n",
       "                        <td id=\"T_4dbb32bd_6be6_11eb_8298_c0e4346c915brow3_col12\" class=\"data row3 col12\" >-0.03</td>\n",
       "                        <td id=\"T_4dbb32bd_6be6_11eb_8298_c0e4346c915brow3_col13\" class=\"data row3 col13\" >-0.09</td>\n",
       "                        <td id=\"T_4dbb32bd_6be6_11eb_8298_c0e4346c915brow3_col14\" class=\"data row3 col14\" >0.06</td>\n",
       "                        <td id=\"T_4dbb32bd_6be6_11eb_8298_c0e4346c915brow3_col15\" class=\"data row3 col15\" >0.23</td>\n",
       "            </tr>\n",
       "            <tr>\n",
       "                        <th id=\"T_4dbb32bd_6be6_11eb_8298_c0e4346c915blevel0_row4\" class=\"row_heading level0 row4\" >modelDate</th>\n",
       "                        <td id=\"T_4dbb32bd_6be6_11eb_8298_c0e4346c915brow4_col0\" class=\"data row4 col0\" >-0.21</td>\n",
       "                        <td id=\"T_4dbb32bd_6be6_11eb_8298_c0e4346c915brow4_col1\" class=\"data row4 col1\" >-0.03</td>\n",
       "                        <td id=\"T_4dbb32bd_6be6_11eb_8298_c0e4346c915brow4_col2\" class=\"data row4 col2\" >0.06</td>\n",
       "                        <td id=\"T_4dbb32bd_6be6_11eb_8298_c0e4346c915brow4_col3\" class=\"data row4 col3\" >0.12</td>\n",
       "                        <td id=\"T_4dbb32bd_6be6_11eb_8298_c0e4346c915brow4_col4\" class=\"data row4 col4\" >1.00</td>\n",
       "                        <td id=\"T_4dbb32bd_6be6_11eb_8298_c0e4346c915brow4_col5\" class=\"data row4 col5\" >0.17</td>\n",
       "                        <td id=\"T_4dbb32bd_6be6_11eb_8298_c0e4346c915brow4_col6\" class=\"data row4 col6\" >0.97</td>\n",
       "                        <td id=\"T_4dbb32bd_6be6_11eb_8298_c0e4346c915brow4_col7\" class=\"data row4 col7\" >0.09</td>\n",
       "                        <td id=\"T_4dbb32bd_6be6_11eb_8298_c0e4346c915brow4_col8\" class=\"data row4 col8\" >0.06</td>\n",
       "                        <td id=\"T_4dbb32bd_6be6_11eb_8298_c0e4346c915brow4_col9\" class=\"data row4 col9\" >0.23</td>\n",
       "                        <td id=\"T_4dbb32bd_6be6_11eb_8298_c0e4346c915brow4_col10\" class=\"data row4 col10\" >-0.68</td>\n",
       "                        <td id=\"T_4dbb32bd_6be6_11eb_8298_c0e4346c915brow4_col11\" class=\"data row4 col11\" >0.23</td>\n",
       "                        <td id=\"T_4dbb32bd_6be6_11eb_8298_c0e4346c915brow4_col12\" class=\"data row4 col12\" >-0.20</td>\n",
       "                        <td id=\"T_4dbb32bd_6be6_11eb_8298_c0e4346c915brow4_col13\" class=\"data row4 col13\" >-0.49</td>\n",
       "                        <td id=\"T_4dbb32bd_6be6_11eb_8298_c0e4346c915brow4_col14\" class=\"data row4 col14\" >0.27</td>\n",
       "                        <td id=\"T_4dbb32bd_6be6_11eb_8298_c0e4346c915brow4_col15\" class=\"data row4 col15\" >0.40</td>\n",
       "            </tr>\n",
       "            <tr>\n",
       "                        <th id=\"T_4dbb32bd_6be6_11eb_8298_c0e4346c915blevel0_row5\" class=\"row_heading level0 row5\" >numberOfDoors</th>\n",
       "                        <td id=\"T_4dbb32bd_6be6_11eb_8298_c0e4346c915brow5_col0\" class=\"data row5 col0\" >-0.41</td>\n",
       "                        <td id=\"T_4dbb32bd_6be6_11eb_8298_c0e4346c915brow5_col1\" class=\"data row5 col1\" >0.10</td>\n",
       "                        <td id=\"T_4dbb32bd_6be6_11eb_8298_c0e4346c915brow5_col2\" class=\"data row5 col2\" >0.01</td>\n",
       "                        <td id=\"T_4dbb32bd_6be6_11eb_8298_c0e4346c915brow5_col3\" class=\"data row5 col3\" >0.14</td>\n",
       "                        <td id=\"T_4dbb32bd_6be6_11eb_8298_c0e4346c915brow5_col4\" class=\"data row5 col4\" >0.17</td>\n",
       "                        <td id=\"T_4dbb32bd_6be6_11eb_8298_c0e4346c915brow5_col5\" class=\"data row5 col5\" >1.00</td>\n",
       "                        <td id=\"T_4dbb32bd_6be6_11eb_8298_c0e4346c915brow5_col6\" class=\"data row5 col6\" >0.18</td>\n",
       "                        <td id=\"T_4dbb32bd_6be6_11eb_8298_c0e4346c915brow5_col7\" class=\"data row5 col7\" >0.09</td>\n",
       "                        <td id=\"T_4dbb32bd_6be6_11eb_8298_c0e4346c915brow5_col8\" class=\"data row5 col8\" >-0.05</td>\n",
       "                        <td id=\"T_4dbb32bd_6be6_11eb_8298_c0e4346c915brow5_col9\" class=\"data row5 col9\" >-0.01</td>\n",
       "                        <td id=\"T_4dbb32bd_6be6_11eb_8298_c0e4346c915brow5_col10\" class=\"data row5 col10\" >-0.07</td>\n",
       "                        <td id=\"T_4dbb32bd_6be6_11eb_8298_c0e4346c915brow5_col11\" class=\"data row5 col11\" >0.43</td>\n",
       "                        <td id=\"T_4dbb32bd_6be6_11eb_8298_c0e4346c915brow5_col12\" class=\"data row5 col12\" >-0.02</td>\n",
       "                        <td id=\"T_4dbb32bd_6be6_11eb_8298_c0e4346c915brow5_col13\" class=\"data row5 col13\" >-0.16</td>\n",
       "                        <td id=\"T_4dbb32bd_6be6_11eb_8298_c0e4346c915brow5_col14\" class=\"data row5 col14\" >0.11</td>\n",
       "                        <td id=\"T_4dbb32bd_6be6_11eb_8298_c0e4346c915brow5_col15\" class=\"data row5 col15\" >0.02</td>\n",
       "            </tr>\n",
       "            <tr>\n",
       "                        <th id=\"T_4dbb32bd_6be6_11eb_8298_c0e4346c915blevel0_row6\" class=\"row_heading level0 row6\" >productionDate</th>\n",
       "                        <td id=\"T_4dbb32bd_6be6_11eb_8298_c0e4346c915brow6_col0\" class=\"data row6 col0\" >-0.21</td>\n",
       "                        <td id=\"T_4dbb32bd_6be6_11eb_8298_c0e4346c915brow6_col1\" class=\"data row6 col1\" >-0.01</td>\n",
       "                        <td id=\"T_4dbb32bd_6be6_11eb_8298_c0e4346c915brow6_col2\" class=\"data row6 col2\" >0.07</td>\n",
       "                        <td id=\"T_4dbb32bd_6be6_11eb_8298_c0e4346c915brow6_col3\" class=\"data row6 col3\" >0.13</td>\n",
       "                        <td id=\"T_4dbb32bd_6be6_11eb_8298_c0e4346c915brow6_col4\" class=\"data row6 col4\" >0.97</td>\n",
       "                        <td id=\"T_4dbb32bd_6be6_11eb_8298_c0e4346c915brow6_col5\" class=\"data row6 col5\" >0.18</td>\n",
       "                        <td id=\"T_4dbb32bd_6be6_11eb_8298_c0e4346c915brow6_col6\" class=\"data row6 col6\" >1.00</td>\n",
       "                        <td id=\"T_4dbb32bd_6be6_11eb_8298_c0e4346c915brow6_col7\" class=\"data row6 col7\" >0.09</td>\n",
       "                        <td id=\"T_4dbb32bd_6be6_11eb_8298_c0e4346c915brow6_col8\" class=\"data row6 col8\" >0.04</td>\n",
       "                        <td id=\"T_4dbb32bd_6be6_11eb_8298_c0e4346c915brow6_col9\" class=\"data row6 col9\" >0.20</td>\n",
       "                        <td id=\"T_4dbb32bd_6be6_11eb_8298_c0e4346c915brow6_col10\" class=\"data row6 col10\" >-0.70</td>\n",
       "                        <td id=\"T_4dbb32bd_6be6_11eb_8298_c0e4346c915brow6_col11\" class=\"data row6 col11\" >0.23</td>\n",
       "                        <td id=\"T_4dbb32bd_6be6_11eb_8298_c0e4346c915brow6_col12\" class=\"data row6 col12\" >-0.21</td>\n",
       "                        <td id=\"T_4dbb32bd_6be6_11eb_8298_c0e4346c915brow6_col13\" class=\"data row6 col13\" >-0.51</td>\n",
       "                        <td id=\"T_4dbb32bd_6be6_11eb_8298_c0e4346c915brow6_col14\" class=\"data row6 col14\" >0.28</td>\n",
       "                        <td id=\"T_4dbb32bd_6be6_11eb_8298_c0e4346c915brow6_col15\" class=\"data row6 col15\" >0.40</td>\n",
       "            </tr>\n",
       "            <tr>\n",
       "                        <th id=\"T_4dbb32bd_6be6_11eb_8298_c0e4346c915blevel0_row7\" class=\"row_heading level0 row7\" >vehicleConfiguration</th>\n",
       "                        <td id=\"T_4dbb32bd_6be6_11eb_8298_c0e4346c915brow7_col0\" class=\"data row7 col0\" >-0.01</td>\n",
       "                        <td id=\"T_4dbb32bd_6be6_11eb_8298_c0e4346c915brow7_col1\" class=\"data row7 col1\" >0.08</td>\n",
       "                        <td id=\"T_4dbb32bd_6be6_11eb_8298_c0e4346c915brow7_col2\" class=\"data row7 col2\" >0.08</td>\n",
       "                        <td id=\"T_4dbb32bd_6be6_11eb_8298_c0e4346c915brow7_col3\" class=\"data row7 col3\" >-0.20</td>\n",
       "                        <td id=\"T_4dbb32bd_6be6_11eb_8298_c0e4346c915brow7_col4\" class=\"data row7 col4\" >0.09</td>\n",
       "                        <td id=\"T_4dbb32bd_6be6_11eb_8298_c0e4346c915brow7_col5\" class=\"data row7 col5\" >0.09</td>\n",
       "                        <td id=\"T_4dbb32bd_6be6_11eb_8298_c0e4346c915brow7_col6\" class=\"data row7 col6\" >0.09</td>\n",
       "                        <td id=\"T_4dbb32bd_6be6_11eb_8298_c0e4346c915brow7_col7\" class=\"data row7 col7\" >1.00</td>\n",
       "                        <td id=\"T_4dbb32bd_6be6_11eb_8298_c0e4346c915brow7_col8\" class=\"data row7 col8\" >-0.29</td>\n",
       "                        <td id=\"T_4dbb32bd_6be6_11eb_8298_c0e4346c915brow7_col9\" class=\"data row7 col9\" >-0.29</td>\n",
       "                        <td id=\"T_4dbb32bd_6be6_11eb_8298_c0e4346c915brow7_col10\" class=\"data row7 col10\" >-0.11</td>\n",
       "                        <td id=\"T_4dbb32bd_6be6_11eb_8298_c0e4346c915brow7_col11\" class=\"data row7 col11\" >-0.02</td>\n",
       "                        <td id=\"T_4dbb32bd_6be6_11eb_8298_c0e4346c915brow7_col12\" class=\"data row7 col12\" >0.00</td>\n",
       "                        <td id=\"T_4dbb32bd_6be6_11eb_8298_c0e4346c915brow7_col13\" class=\"data row7 col13\" >-0.12</td>\n",
       "                        <td id=\"T_4dbb32bd_6be6_11eb_8298_c0e4346c915brow7_col14\" class=\"data row7 col14\" >0.05</td>\n",
       "                        <td id=\"T_4dbb32bd_6be6_11eb_8298_c0e4346c915brow7_col15\" class=\"data row7 col15\" >-0.15</td>\n",
       "            </tr>\n",
       "            <tr>\n",
       "                        <th id=\"T_4dbb32bd_6be6_11eb_8298_c0e4346c915blevel0_row8\" class=\"row_heading level0 row8\" >engineDisplacement</th>\n",
       "                        <td id=\"T_4dbb32bd_6be6_11eb_8298_c0e4346c915brow8_col0\" class=\"data row8 col0\" >-0.17</td>\n",
       "                        <td id=\"T_4dbb32bd_6be6_11eb_8298_c0e4346c915brow8_col1\" class=\"data row8 col1\" >-0.35</td>\n",
       "                        <td id=\"T_4dbb32bd_6be6_11eb_8298_c0e4346c915brow8_col2\" class=\"data row8 col2\" >-0.14</td>\n",
       "                        <td id=\"T_4dbb32bd_6be6_11eb_8298_c0e4346c915brow8_col3\" class=\"data row8 col3\" >0.17</td>\n",
       "                        <td id=\"T_4dbb32bd_6be6_11eb_8298_c0e4346c915brow8_col4\" class=\"data row8 col4\" >0.06</td>\n",
       "                        <td id=\"T_4dbb32bd_6be6_11eb_8298_c0e4346c915brow8_col5\" class=\"data row8 col5\" >-0.05</td>\n",
       "                        <td id=\"T_4dbb32bd_6be6_11eb_8298_c0e4346c915brow8_col6\" class=\"data row8 col6\" >0.04</td>\n",
       "                        <td id=\"T_4dbb32bd_6be6_11eb_8298_c0e4346c915brow8_col7\" class=\"data row8 col7\" >-0.29</td>\n",
       "                        <td id=\"T_4dbb32bd_6be6_11eb_8298_c0e4346c915brow8_col8\" class=\"data row8 col8\" >1.00</td>\n",
       "                        <td id=\"T_4dbb32bd_6be6_11eb_8298_c0e4346c915brow8_col9\" class=\"data row8 col9\" >0.66</td>\n",
       "                        <td id=\"T_4dbb32bd_6be6_11eb_8298_c0e4346c915brow8_col10\" class=\"data row8 col10\" >-0.02</td>\n",
       "                        <td id=\"T_4dbb32bd_6be6_11eb_8298_c0e4346c915brow8_col11\" class=\"data row8 col11\" >0.18</td>\n",
       "                        <td id=\"T_4dbb32bd_6be6_11eb_8298_c0e4346c915brow8_col12\" class=\"data row8 col12\" >-0.04</td>\n",
       "                        <td id=\"T_4dbb32bd_6be6_11eb_8298_c0e4346c915brow8_col13\" class=\"data row8 col13\" >0.06</td>\n",
       "                        <td id=\"T_4dbb32bd_6be6_11eb_8298_c0e4346c915brow8_col14\" class=\"data row8 col14\" >-0.04</td>\n",
       "                        <td id=\"T_4dbb32bd_6be6_11eb_8298_c0e4346c915brow8_col15\" class=\"data row8 col15\" >0.33</td>\n",
       "            </tr>\n",
       "            <tr>\n",
       "                        <th id=\"T_4dbb32bd_6be6_11eb_8298_c0e4346c915blevel0_row9\" class=\"row_heading level0 row9\" >enginePower</th>\n",
       "                        <td id=\"T_4dbb32bd_6be6_11eb_8298_c0e4346c915brow9_col0\" class=\"data row9 col0\" >-0.29</td>\n",
       "                        <td id=\"T_4dbb32bd_6be6_11eb_8298_c0e4346c915brow9_col1\" class=\"data row9 col1\" >-0.34</td>\n",
       "                        <td id=\"T_4dbb32bd_6be6_11eb_8298_c0e4346c915brow9_col2\" class=\"data row9 col2\" >-0.15</td>\n",
       "                        <td id=\"T_4dbb32bd_6be6_11eb_8298_c0e4346c915brow9_col3\" class=\"data row9 col3\" >0.05</td>\n",
       "                        <td id=\"T_4dbb32bd_6be6_11eb_8298_c0e4346c915brow9_col4\" class=\"data row9 col4\" >0.23</td>\n",
       "                        <td id=\"T_4dbb32bd_6be6_11eb_8298_c0e4346c915brow9_col5\" class=\"data row9 col5\" >-0.01</td>\n",
       "                        <td id=\"T_4dbb32bd_6be6_11eb_8298_c0e4346c915brow9_col6\" class=\"data row9 col6\" >0.20</td>\n",
       "                        <td id=\"T_4dbb32bd_6be6_11eb_8298_c0e4346c915brow9_col7\" class=\"data row9 col7\" >-0.29</td>\n",
       "                        <td id=\"T_4dbb32bd_6be6_11eb_8298_c0e4346c915brow9_col8\" class=\"data row9 col8\" >0.66</td>\n",
       "                        <td id=\"T_4dbb32bd_6be6_11eb_8298_c0e4346c915brow9_col9\" class=\"data row9 col9\" >1.00</td>\n",
       "                        <td id=\"T_4dbb32bd_6be6_11eb_8298_c0e4346c915brow9_col10\" class=\"data row9 col10\" >-0.17</td>\n",
       "                        <td id=\"T_4dbb32bd_6be6_11eb_8298_c0e4346c915brow9_col11\" class=\"data row9 col11\" >0.34</td>\n",
       "                        <td id=\"T_4dbb32bd_6be6_11eb_8298_c0e4346c915brow9_col12\" class=\"data row9 col12\" >-0.10</td>\n",
       "                        <td id=\"T_4dbb32bd_6be6_11eb_8298_c0e4346c915brow9_col13\" class=\"data row9 col13\" >-0.01</td>\n",
       "                        <td id=\"T_4dbb32bd_6be6_11eb_8298_c0e4346c915brow9_col14\" class=\"data row9 col14\" >-0.00</td>\n",
       "                        <td id=\"T_4dbb32bd_6be6_11eb_8298_c0e4346c915brow9_col15\" class=\"data row9 col15\" >0.52</td>\n",
       "            </tr>\n",
       "            <tr>\n",
       "                        <th id=\"T_4dbb32bd_6be6_11eb_8298_c0e4346c915blevel0_row10\" class=\"row_heading level0 row10\" >mileage</th>\n",
       "                        <td id=\"T_4dbb32bd_6be6_11eb_8298_c0e4346c915brow10_col0\" class=\"data row10 col0\" >0.16</td>\n",
       "                        <td id=\"T_4dbb32bd_6be6_11eb_8298_c0e4346c915brow10_col1\" class=\"data row10 col1\" >0.03</td>\n",
       "                        <td id=\"T_4dbb32bd_6be6_11eb_8298_c0e4346c915brow10_col2\" class=\"data row10 col2\" >-0.07</td>\n",
       "                        <td id=\"T_4dbb32bd_6be6_11eb_8298_c0e4346c915brow10_col3\" class=\"data row10 col3\" >-0.02</td>\n",
       "                        <td id=\"T_4dbb32bd_6be6_11eb_8298_c0e4346c915brow10_col4\" class=\"data row10 col4\" >-0.68</td>\n",
       "                        <td id=\"T_4dbb32bd_6be6_11eb_8298_c0e4346c915brow10_col5\" class=\"data row10 col5\" >-0.07</td>\n",
       "                        <td id=\"T_4dbb32bd_6be6_11eb_8298_c0e4346c915brow10_col6\" class=\"data row10 col6\" >-0.70</td>\n",
       "                        <td id=\"T_4dbb32bd_6be6_11eb_8298_c0e4346c915brow10_col7\" class=\"data row10 col7\" >-0.11</td>\n",
       "                        <td id=\"T_4dbb32bd_6be6_11eb_8298_c0e4346c915brow10_col8\" class=\"data row10 col8\" >-0.02</td>\n",
       "                        <td id=\"T_4dbb32bd_6be6_11eb_8298_c0e4346c915brow10_col9\" class=\"data row10 col9\" >-0.17</td>\n",
       "                        <td id=\"T_4dbb32bd_6be6_11eb_8298_c0e4346c915brow10_col10\" class=\"data row10 col10\" >1.00</td>\n",
       "                        <td id=\"T_4dbb32bd_6be6_11eb_8298_c0e4346c915brow10_col11\" class=\"data row10 col11\" >-0.16</td>\n",
       "                        <td id=\"T_4dbb32bd_6be6_11eb_8298_c0e4346c915brow10_col12\" class=\"data row10 col12\" >0.13</td>\n",
       "                        <td id=\"T_4dbb32bd_6be6_11eb_8298_c0e4346c915brow10_col13\" class=\"data row10 col13\" >0.46</td>\n",
       "                        <td id=\"T_4dbb32bd_6be6_11eb_8298_c0e4346c915brow10_col14\" class=\"data row10 col14\" >-0.26</td>\n",
       "                        <td id=\"T_4dbb32bd_6be6_11eb_8298_c0e4346c915brow10_col15\" class=\"data row10 col15\" >-0.41</td>\n",
       "            </tr>\n",
       "            <tr>\n",
       "                        <th id=\"T_4dbb32bd_6be6_11eb_8298_c0e4346c915blevel0_row11\" class=\"row_heading level0 row11\" >Привод</th>\n",
       "                        <td id=\"T_4dbb32bd_6be6_11eb_8298_c0e4346c915brow11_col0\" class=\"data row11 col0\" >-0.56</td>\n",
       "                        <td id=\"T_4dbb32bd_6be6_11eb_8298_c0e4346c915brow11_col1\" class=\"data row11 col1\" >-0.01</td>\n",
       "                        <td id=\"T_4dbb32bd_6be6_11eb_8298_c0e4346c915brow11_col2\" class=\"data row11 col2\" >-0.06</td>\n",
       "                        <td id=\"T_4dbb32bd_6be6_11eb_8298_c0e4346c915brow11_col3\" class=\"data row11 col3\" >0.25</td>\n",
       "                        <td id=\"T_4dbb32bd_6be6_11eb_8298_c0e4346c915brow11_col4\" class=\"data row11 col4\" >0.23</td>\n",
       "                        <td id=\"T_4dbb32bd_6be6_11eb_8298_c0e4346c915brow11_col5\" class=\"data row11 col5\" >0.43</td>\n",
       "                        <td id=\"T_4dbb32bd_6be6_11eb_8298_c0e4346c915brow11_col6\" class=\"data row11 col6\" >0.23</td>\n",
       "                        <td id=\"T_4dbb32bd_6be6_11eb_8298_c0e4346c915brow11_col7\" class=\"data row11 col7\" >-0.02</td>\n",
       "                        <td id=\"T_4dbb32bd_6be6_11eb_8298_c0e4346c915brow11_col8\" class=\"data row11 col8\" >0.18</td>\n",
       "                        <td id=\"T_4dbb32bd_6be6_11eb_8298_c0e4346c915brow11_col9\" class=\"data row11 col9\" >0.34</td>\n",
       "                        <td id=\"T_4dbb32bd_6be6_11eb_8298_c0e4346c915brow11_col10\" class=\"data row11 col10\" >-0.16</td>\n",
       "                        <td id=\"T_4dbb32bd_6be6_11eb_8298_c0e4346c915brow11_col11\" class=\"data row11 col11\" >1.00</td>\n",
       "                        <td id=\"T_4dbb32bd_6be6_11eb_8298_c0e4346c915brow11_col12\" class=\"data row11 col12\" >-0.06</td>\n",
       "                        <td id=\"T_4dbb32bd_6be6_11eb_8298_c0e4346c915brow11_col13\" class=\"data row11 col13\" >-0.15</td>\n",
       "                        <td id=\"T_4dbb32bd_6be6_11eb_8298_c0e4346c915brow11_col14\" class=\"data row11 col14\" >0.10</td>\n",
       "                        <td id=\"T_4dbb32bd_6be6_11eb_8298_c0e4346c915brow11_col15\" class=\"data row11 col15\" >0.25</td>\n",
       "            </tr>\n",
       "            <tr>\n",
       "                        <th id=\"T_4dbb32bd_6be6_11eb_8298_c0e4346c915blevel0_row12\" class=\"row_heading level0 row12\" >Руль</th>\n",
       "                        <td id=\"T_4dbb32bd_6be6_11eb_8298_c0e4346c915brow12_col0\" class=\"data row12 col0\" >0.07</td>\n",
       "                        <td id=\"T_4dbb32bd_6be6_11eb_8298_c0e4346c915brow12_col1\" class=\"data row12 col1\" >0.06</td>\n",
       "                        <td id=\"T_4dbb32bd_6be6_11eb_8298_c0e4346c915brow12_col2\" class=\"data row12 col2\" >0.05</td>\n",
       "                        <td id=\"T_4dbb32bd_6be6_11eb_8298_c0e4346c915brow12_col3\" class=\"data row12 col3\" >-0.03</td>\n",
       "                        <td id=\"T_4dbb32bd_6be6_11eb_8298_c0e4346c915brow12_col4\" class=\"data row12 col4\" >-0.20</td>\n",
       "                        <td id=\"T_4dbb32bd_6be6_11eb_8298_c0e4346c915brow12_col5\" class=\"data row12 col5\" >-0.02</td>\n",
       "                        <td id=\"T_4dbb32bd_6be6_11eb_8298_c0e4346c915brow12_col6\" class=\"data row12 col6\" >-0.21</td>\n",
       "                        <td id=\"T_4dbb32bd_6be6_11eb_8298_c0e4346c915brow12_col7\" class=\"data row12 col7\" >0.00</td>\n",
       "                        <td id=\"T_4dbb32bd_6be6_11eb_8298_c0e4346c915brow12_col8\" class=\"data row12 col8\" >-0.04</td>\n",
       "                        <td id=\"T_4dbb32bd_6be6_11eb_8298_c0e4346c915brow12_col9\" class=\"data row12 col9\" >-0.10</td>\n",
       "                        <td id=\"T_4dbb32bd_6be6_11eb_8298_c0e4346c915brow12_col10\" class=\"data row12 col10\" >0.13</td>\n",
       "                        <td id=\"T_4dbb32bd_6be6_11eb_8298_c0e4346c915brow12_col11\" class=\"data row12 col11\" >-0.06</td>\n",
       "                        <td id=\"T_4dbb32bd_6be6_11eb_8298_c0e4346c915brow12_col12\" class=\"data row12 col12\" >1.00</td>\n",
       "                        <td id=\"T_4dbb32bd_6be6_11eb_8298_c0e4346c915brow12_col13\" class=\"data row12 col13\" >0.05</td>\n",
       "                        <td id=\"T_4dbb32bd_6be6_11eb_8298_c0e4346c915brow12_col14\" class=\"data row12 col14\" >-0.05</td>\n",
       "                        <td id=\"T_4dbb32bd_6be6_11eb_8298_c0e4346c915brow12_col15\" class=\"data row12 col15\" >-0.08</td>\n",
       "            </tr>\n",
       "            <tr>\n",
       "                        <th id=\"T_4dbb32bd_6be6_11eb_8298_c0e4346c915blevel0_row13\" class=\"row_heading level0 row13\" >Владельцы</th>\n",
       "                        <td id=\"T_4dbb32bd_6be6_11eb_8298_c0e4346c915brow13_col0\" class=\"data row13 col0\" >0.17</td>\n",
       "                        <td id=\"T_4dbb32bd_6be6_11eb_8298_c0e4346c915brow13_col1\" class=\"data row13 col1\" >-0.07</td>\n",
       "                        <td id=\"T_4dbb32bd_6be6_11eb_8298_c0e4346c915brow13_col2\" class=\"data row13 col2\" >-0.07</td>\n",
       "                        <td id=\"T_4dbb32bd_6be6_11eb_8298_c0e4346c915brow13_col3\" class=\"data row13 col3\" >-0.09</td>\n",
       "                        <td id=\"T_4dbb32bd_6be6_11eb_8298_c0e4346c915brow13_col4\" class=\"data row13 col4\" >-0.49</td>\n",
       "                        <td id=\"T_4dbb32bd_6be6_11eb_8298_c0e4346c915brow13_col5\" class=\"data row13 col5\" >-0.16</td>\n",
       "                        <td id=\"T_4dbb32bd_6be6_11eb_8298_c0e4346c915brow13_col6\" class=\"data row13 col6\" >-0.51</td>\n",
       "                        <td id=\"T_4dbb32bd_6be6_11eb_8298_c0e4346c915brow13_col7\" class=\"data row13 col7\" >-0.12</td>\n",
       "                        <td id=\"T_4dbb32bd_6be6_11eb_8298_c0e4346c915brow13_col8\" class=\"data row13 col8\" >0.06</td>\n",
       "                        <td id=\"T_4dbb32bd_6be6_11eb_8298_c0e4346c915brow13_col9\" class=\"data row13 col9\" >-0.01</td>\n",
       "                        <td id=\"T_4dbb32bd_6be6_11eb_8298_c0e4346c915brow13_col10\" class=\"data row13 col10\" >0.46</td>\n",
       "                        <td id=\"T_4dbb32bd_6be6_11eb_8298_c0e4346c915brow13_col11\" class=\"data row13 col11\" >-0.15</td>\n",
       "                        <td id=\"T_4dbb32bd_6be6_11eb_8298_c0e4346c915brow13_col12\" class=\"data row13 col12\" >0.05</td>\n",
       "                        <td id=\"T_4dbb32bd_6be6_11eb_8298_c0e4346c915brow13_col13\" class=\"data row13 col13\" >1.00</td>\n",
       "                        <td id=\"T_4dbb32bd_6be6_11eb_8298_c0e4346c915brow13_col14\" class=\"data row13 col14\" >-0.31</td>\n",
       "                        <td id=\"T_4dbb32bd_6be6_11eb_8298_c0e4346c915brow13_col15\" class=\"data row13 col15\" >-0.29</td>\n",
       "            </tr>\n",
       "            <tr>\n",
       "                        <th id=\"T_4dbb32bd_6be6_11eb_8298_c0e4346c915blevel0_row14\" class=\"row_heading level0 row14\" >ПТС</th>\n",
       "                        <td id=\"T_4dbb32bd_6be6_11eb_8298_c0e4346c915brow14_col0\" class=\"data row14 col0\" >-0.10</td>\n",
       "                        <td id=\"T_4dbb32bd_6be6_11eb_8298_c0e4346c915brow14_col1\" class=\"data row14 col1\" >0.04</td>\n",
       "                        <td id=\"T_4dbb32bd_6be6_11eb_8298_c0e4346c915brow14_col2\" class=\"data row14 col2\" >0.04</td>\n",
       "                        <td id=\"T_4dbb32bd_6be6_11eb_8298_c0e4346c915brow14_col3\" class=\"data row14 col3\" >0.06</td>\n",
       "                        <td id=\"T_4dbb32bd_6be6_11eb_8298_c0e4346c915brow14_col4\" class=\"data row14 col4\" >0.27</td>\n",
       "                        <td id=\"T_4dbb32bd_6be6_11eb_8298_c0e4346c915brow14_col5\" class=\"data row14 col5\" >0.11</td>\n",
       "                        <td id=\"T_4dbb32bd_6be6_11eb_8298_c0e4346c915brow14_col6\" class=\"data row14 col6\" >0.28</td>\n",
       "                        <td id=\"T_4dbb32bd_6be6_11eb_8298_c0e4346c915brow14_col7\" class=\"data row14 col7\" >0.05</td>\n",
       "                        <td id=\"T_4dbb32bd_6be6_11eb_8298_c0e4346c915brow14_col8\" class=\"data row14 col8\" >-0.04</td>\n",
       "                        <td id=\"T_4dbb32bd_6be6_11eb_8298_c0e4346c915brow14_col9\" class=\"data row14 col9\" >-0.00</td>\n",
       "                        <td id=\"T_4dbb32bd_6be6_11eb_8298_c0e4346c915brow14_col10\" class=\"data row14 col10\" >-0.26</td>\n",
       "                        <td id=\"T_4dbb32bd_6be6_11eb_8298_c0e4346c915brow14_col11\" class=\"data row14 col11\" >0.10</td>\n",
       "                        <td id=\"T_4dbb32bd_6be6_11eb_8298_c0e4346c915brow14_col12\" class=\"data row14 col12\" >-0.05</td>\n",
       "                        <td id=\"T_4dbb32bd_6be6_11eb_8298_c0e4346c915brow14_col13\" class=\"data row14 col13\" >-0.31</td>\n",
       "                        <td id=\"T_4dbb32bd_6be6_11eb_8298_c0e4346c915brow14_col14\" class=\"data row14 col14\" >1.00</td>\n",
       "                        <td id=\"T_4dbb32bd_6be6_11eb_8298_c0e4346c915brow14_col15\" class=\"data row14 col15\" >0.13</td>\n",
       "            </tr>\n",
       "            <tr>\n",
       "                        <th id=\"T_4dbb32bd_6be6_11eb_8298_c0e4346c915blevel0_row15\" class=\"row_heading level0 row15\" >Price</th>\n",
       "                        <td id=\"T_4dbb32bd_6be6_11eb_8298_c0e4346c915brow15_col0\" class=\"data row15 col0\" >-0.22</td>\n",
       "                        <td id=\"T_4dbb32bd_6be6_11eb_8298_c0e4346c915brow15_col1\" class=\"data row15 col1\" >-0.15</td>\n",
       "                        <td id=\"T_4dbb32bd_6be6_11eb_8298_c0e4346c915brow15_col2\" class=\"data row15 col2\" >-0.06</td>\n",
       "                        <td id=\"T_4dbb32bd_6be6_11eb_8298_c0e4346c915brow15_col3\" class=\"data row15 col3\" >0.23</td>\n",
       "                        <td id=\"T_4dbb32bd_6be6_11eb_8298_c0e4346c915brow15_col4\" class=\"data row15 col4\" >0.40</td>\n",
       "                        <td id=\"T_4dbb32bd_6be6_11eb_8298_c0e4346c915brow15_col5\" class=\"data row15 col5\" >0.02</td>\n",
       "                        <td id=\"T_4dbb32bd_6be6_11eb_8298_c0e4346c915brow15_col6\" class=\"data row15 col6\" >0.40</td>\n",
       "                        <td id=\"T_4dbb32bd_6be6_11eb_8298_c0e4346c915brow15_col7\" class=\"data row15 col7\" >-0.15</td>\n",
       "                        <td id=\"T_4dbb32bd_6be6_11eb_8298_c0e4346c915brow15_col8\" class=\"data row15 col8\" >0.33</td>\n",
       "                        <td id=\"T_4dbb32bd_6be6_11eb_8298_c0e4346c915brow15_col9\" class=\"data row15 col9\" >0.52</td>\n",
       "                        <td id=\"T_4dbb32bd_6be6_11eb_8298_c0e4346c915brow15_col10\" class=\"data row15 col10\" >-0.41</td>\n",
       "                        <td id=\"T_4dbb32bd_6be6_11eb_8298_c0e4346c915brow15_col11\" class=\"data row15 col11\" >0.25</td>\n",
       "                        <td id=\"T_4dbb32bd_6be6_11eb_8298_c0e4346c915brow15_col12\" class=\"data row15 col12\" >-0.08</td>\n",
       "                        <td id=\"T_4dbb32bd_6be6_11eb_8298_c0e4346c915brow15_col13\" class=\"data row15 col13\" >-0.29</td>\n",
       "                        <td id=\"T_4dbb32bd_6be6_11eb_8298_c0e4346c915brow15_col14\" class=\"data row15 col14\" >0.13</td>\n",
       "                        <td id=\"T_4dbb32bd_6be6_11eb_8298_c0e4346c915brow15_col15\" class=\"data row15 col15\" >1.00</td>\n",
       "            </tr>\n",
       "    </tbody></table>"
      ],
      "text/plain": [
       "<pandas.io.formats.style.Styler at 0x229b0de79a0>"
      ]
     },
     "execution_count": 20,
     "metadata": {},
     "output_type": "execute_result"
    }
   ],
   "source": [
    "corr = df.corr()\n",
    "\n",
    "cmap = sns.diverging_palette(5, 250, as_cmap=True)\n",
    "\n",
    "def magnify():\n",
    "    return [dict(selector=\"th\",\n",
    "                 props=[(\"font-size\", \"6pt\")]),\n",
    "            dict(selector=\"td\",\n",
    "                 props=[('padding', \"0.4em 0.4em\")]),\n",
    "            dict(selector=\"th:hover\",\n",
    "                 props=[(\"font-size\", \"8pt\")]),\n",
    "            dict(selector=\"tr:hover td:hover\",\n",
    "                 props=[('max-width', '80px'),\n",
    "                        ('font-size', '8pt'),\n",
    "                        ('min-width','80px')])\n",
    "]\n",
    "\n",
    "corr.style.background_gradient(cmap, axis=1)\\\n",
    "    .set_properties(**{'max-width': '80px', 'font-size': '12pt'})\\\n",
    "    .set_caption(\"correlation matrix\")\\\n",
    "    .set_precision(2)\\\n",
    "    .set_table_styles(magnify())"
   ]
  },
  {
   "cell_type": "markdown",
   "metadata": {},
   "source": [
    "We can drop one of date columns - сorelation coeficient of them is 0.97"
   ]
  },
  {
   "cell_type": "code",
   "execution_count": 21,
   "metadata": {},
   "outputs": [
    {
     "data": {
      "text/plain": [
       "<matplotlib.collections.PathCollection at 0x229b1a06790>"
      ]
     },
     "execution_count": 21,
     "metadata": {},
     "output_type": "execute_result"
    },
    {
     "data": {
      "image/png": "[encoded data removed]",
      "text/plain": [
       "<Figure size 432x288 with 1 Axes>"
      ]
     },
     "metadata": {
      "needs_background": "light"
     },
     "output_type": "display_data"
    }
   ],
   "source": [
    "plt.title('Production/model date')\n",
    "plt.xlabel('productionDate')\n",
    "plt.ylabel('modelDate')\n",
    "plt.scatter(df.productionDate,df.modelDate)"
   ]
  },
  {
   "cell_type": "markdown",
   "metadata": {},
   "source": [
    "### Histograms"
   ]
  },
  {
   "cell_type": "code",
   "execution_count": 22,
   "metadata": {},
   "outputs": [],
   "source": [
    "df.drop('modelDate',axis=1,inplace=True)"
   ]
  },
  {
   "cell_type": "code",
   "execution_count": 23,
   "metadata": {},
   "outputs": [
    {
     "data": {
      "image/png": "[encoded data removed]",
      "text/plain": [
       "<Figure size 432x288 with 1 Axes>"
      ]
     },
     "metadata": {
      "needs_background": "light"
     },
     "output_type": "display_data"
    }
   ],
   "source": [
    "_ = plt.hist(df['Price'],bins = 150)\n",
    "plt.title('Histogram of price')\n",
    "plt.xlabel('target')\n",
    "plt.show()"
   ]
  },
  {
   "cell_type": "code",
   "execution_count": 24,
   "metadata": {},
   "outputs": [
    {
     "data": {
      "image/png": "[encoded data removed]",
      "text/plain": [
       "<Figure size 432x288 with 1 Axes>"
      ]
     },
     "metadata": {
      "needs_background": "light"
     },
     "output_type": "display_data"
    }
   ],
   "source": [
    "_ = plt.hist(np.log10(df['Price']),bins = 'auto')\n",
    "plt.title('Logarithm of price')\n",
    "plt.xlabel('log of target')\n",
    "plt.show()"
   ]
  },
  {
   "cell_type": "markdown",
   "metadata": {},
   "source": [
    "As we can see, logarithm of price has a normal distribution."
   ]
  },
  {
   "cell_type": "code",
   "execution_count": 25,
   "metadata": {},
   "outputs": [
    {
     "data": {
      "image/png": "[encoded data removed]",
      "text/plain": [
       "<Figure size 432x288 with 1 Axes>"
      ]
     },
     "metadata": {
      "needs_background": "light"
     },
     "output_type": "display_data"
    }
   ],
   "source": [
    "_ = plt.hist(df['productionDate'],bins = 50)\n",
    "plt.title('Year of production')\n",
    "plt.xlabel('productionDate')\n",
    "plt.show()"
   ]
  },
  {
   "cell_type": "code",
   "execution_count": 26,
   "metadata": {},
   "outputs": [
    {
     "data": {
      "image/png": "[encoded data removed]",
      "text/plain": [
       "<Figure size 432x288 with 1 Axes>"
      ]
     },
     "metadata": {
      "needs_background": "light"
     },
     "output_type": "display_data"
    }
   ],
   "source": [
    "_ = plt.hist(df['numberOfDoors'],bins = 11)\n",
    "plt.title('Number of doors')\n",
    "plt.xlabel('numberOfDoors')\n",
    "plt.show()"
   ]
  },
  {
   "cell_type": "code",
   "execution_count": 27,
   "metadata": {},
   "outputs": [
    {
     "data": {
      "image/png": "[encoded data removed]",
      "text/plain": [
       "<Figure size 432x288 with 1 Axes>"
      ]
     },
     "metadata": {
      "needs_background": "light"
     },
     "output_type": "display_data"
    }
   ],
   "source": [
    "_ = plt.hist(df['mileage'],bins = 'auto')\n",
    "plt.title('Mileage in km')\n",
    "plt.xlabel('mileage')\n",
    "plt.show()"
   ]
  },
  {
   "cell_type": "code",
   "execution_count": 28,
   "metadata": {},
   "outputs": [
    {
     "data": {
      "image/png": "[encoded data removed]",
      "text/plain": [
       "<Figure size 432x288 with 1 Axes>"
      ]
     },
     "metadata": {
      "needs_background": "light"
     },
     "output_type": "display_data"
    }
   ],
   "source": [
    "_ = plt.hist(np.log10(df['mileage']),bins = 'auto')\n",
    "plt.title('Logarithm of mileage in km')\n",
    "plt.xlabel('log of mileage')\n",
    "plt.show()"
   ]
  },
  {
   "cell_type": "code",
   "execution_count": 29,
   "metadata": {},
   "outputs": [
    {
     "data": {
      "image/png": "[encoded data removed]",
      "text/plain": [
       "<Figure size 432x288 with 1 Axes>"
      ]
     },
     "metadata": {
      "needs_background": "light"
     },
     "output_type": "display_data"
    }
   ],
   "source": [
    "_ = plt.hist(df['Владельцы'],bins = 5)\n",
    "plt.title('Number of owners')\n",
    "plt.xlabel('Владельцы')\n",
    "plt.show()"
   ]
  },
  {
   "cell_type": "markdown",
   "metadata": {},
   "source": [
    "#### Scatter plots"
   ]
  },
  {
   "cell_type": "code",
   "execution_count": 30,
   "metadata": {},
   "outputs": [
    {
     "data": {
      "image/png": "[encoded data removed]",
      "text/plain": [
       "<Figure size 432x288 with 1 Axes>"
      ]
     },
     "metadata": {
      "needs_background": "light"
     },
     "output_type": "display_data"
    }
   ],
   "source": [
    "_ = plt.scatter(df['mileage'],df['productionDate'])\n",
    "\n",
    "plt.title('Mileage/Year of production')\n",
    "plt.xlabel('mileage')\n",
    "plt.ylabel('prdoctionDate')\n",
    "\n",
    "plt.show()"
   ]
  },
  {
   "cell_type": "code",
   "execution_count": 31,
   "metadata": {},
   "outputs": [
    {
     "data": {
      "image/png": "[encoded data removed]",
      "text/plain": [
       "<Figure size 432x288 with 1 Axes>"
      ]
     },
     "metadata": {
      "needs_background": "light"
     },
     "output_type": "display_data"
    }
   ],
   "source": [
    "_ = plt.scatter(df['enginePower'],df['engineDisplacement'])\n",
    "\n",
    "plt.title('Engine power/Engine displacement')\n",
    "plt.xlabel('enginePower')\n",
    "plt.ylabel('engineDisplacement')\n",
    "\n",
    "plt.show()"
   ]
  },
  {
   "cell_type": "code",
   "execution_count": 32,
   "metadata": {},
   "outputs": [
    {
     "data": {
      "image/png": "[encoded data removed]",
      "text/plain": [
       "<Figure size 432x288 with 1 Axes>"
      ]
     },
     "metadata": {
      "needs_background": "light"
     },
     "output_type": "display_data"
    }
   ],
   "source": [
    "_ = plt.scatter(df['productionDate'],\n",
    "                np.log10(df['Price']))\n",
    "\n",
    "plt.title('Year of production/Logarithm of price')\n",
    "plt.xlabel('productionDate')\n",
    "plt.ylabel('Log of Price')\n",
    "\n",
    "plt.show()"
   ]
  },
  {
   "cell_type": "code",
   "execution_count": 33,
   "metadata": {},
   "outputs": [
    {
     "data": {
      "image/png": "[encoded data removed]",
      "text/plain": [
       "<Figure size 432x288 with 1 Axes>"
      ]
     },
     "metadata": {
      "needs_background": "light"
     },
     "output_type": "display_data"
    }
   ],
   "source": [
    "_ = plt.scatter(df['engineDisplacement'],\n",
    "                np.log10(df['Price']))\n",
    "\n",
    "plt.title('Engine displacement/Logarithm of price')\n",
    "plt.xlabel('engineDisplacement')\n",
    "plt.ylabel('Log of price')\n",
    "\n",
    "plt.show()"
   ]
  },
  {
   "cell_type": "code",
   "execution_count": 34,
   "metadata": {},
   "outputs": [
    {
     "data": {
      "image/png": "[encoded data removed]",
      "text/plain": [
       "<Figure size 432x288 with 1 Axes>"
      ]
     },
     "metadata": {
      "needs_background": "light"
     },
     "output_type": "display_data"
    }
   ],
   "source": [
    "_ = plt.scatter(df['enginePower'],\n",
    "                np.log10(df['Price']))\n",
    "\n",
    "plt.title('Engine power/Logarithm of price')\n",
    "plt.xlabel('enginePower')\n",
    "plt.ylabel('Log of price')\n",
    "\n",
    "plt.show()"
   ]
  },
  {
   "cell_type": "code",
   "execution_count": 35,
   "metadata": {},
   "outputs": [
    {
     "data": {
      "image/png": "[encoded data removed]",
      "text/plain": [
       "<Figure size 432x288 with 1 Axes>"
      ]
     },
     "metadata": {
      "needs_background": "light"
     },
     "output_type": "display_data"
    }
   ],
   "source": [
    "_ = plt.scatter(np.log10(df['mileage']),\n",
    "                np.log10(df['Price']))\n",
    "\n",
    "plt.title('Logarithm of mileage in km/Logarithm of price')\n",
    "plt.xlabel('log of mileage')\n",
    "plt.ylabel('log of price')\n",
    "\n",
    "plt.show()"
   ]
  },
  {
   "cell_type": "markdown",
   "metadata": {},
   "source": [
    "So, as we can see, logarithms of mileage and price have normal distribution. So, we will apply `np.log10` to this columns"
   ]
  },
  {
   "cell_type": "code",
   "execution_count": 36,
   "metadata": {},
   "outputs": [],
   "source": [
    "df['Price'] = df['Price'].apply(np.log10)\n",
    "df['mileage'] = df['mileage'].apply(np.log10)"
   ]
  },
  {
   "cell_type": "markdown",
   "metadata": {},
   "source": [
    "#### Baseline"
   ]
  },
  {
   "cell_type": "code",
   "execution_count": 37,
   "metadata": {},
   "outputs": [],
   "source": [
    "y = df['Price']\n",
    "X = df.drop('Price',axis=1)"
   ]
  },
  {
   "cell_type": "code",
   "execution_count": 38,
   "metadata": {},
   "outputs": [],
   "source": [
    "X_train, X_test, y_train, y_test = train_test_split(X, y, test_size=0.2, shuffle=True, random_state=RANDOM_SEED)"
   ]
  },
  {
   "cell_type": "code",
   "execution_count": 39,
   "metadata": {},
   "outputs": [],
   "source": [
    "tmp_train = X_train.copy()\n",
    "tmp_train['price'] = y_train"
   ]
  },
  {
   "cell_type": "code",
   "execution_count": 40,
   "metadata": {},
   "outputs": [
    {
     "name": "stdout",
     "output_type": "stream",
     "text": [
      "Точность наивной модели по метрике MAPE: 71.35%\n"
     ]
    }
   ],
   "source": [
    "y_pred = X_test['bodyType'].map(tmp_train.groupby('bodyType')['price'].median())\n",
    "\n",
    "#оцениваем точность\n",
    "print(f\"Точность наивной модели по метрике MAPE: {(mean_absolute_percentage_error(np.power(10,y_test), np.power(10,y_pred.values)))*100:0.2f}%\")"
   ]
  },
  {
   "cell_type": "markdown",
   "metadata": {},
   "source": [
    "## Machine Learning"
   ]
  },
  {
   "cell_type": "markdown",
   "metadata": {},
   "source": [
    "Set KFold split for validation:"
   ]
  },
  {
   "cell_type": "code",
   "execution_count": 41,
   "metadata": {},
   "outputs": [],
   "source": [
    "kf = KFold(n_splits=5,shuffle=True,random_state=RANDOM_SEED)"
   ]
  },
  {
   "cell_type": "markdown",
   "metadata": {},
   "source": [
    "### Sklearn GradientBoostingRegressor"
   ]
  },
  {
   "cell_type": "code",
   "execution_count": 42,
   "metadata": {},
   "outputs": [
    {
     "name": "stdout",
     "output_type": "stream",
     "text": [
      "Fitting 3 folds for each of 4 candidates, totalling 12 fits\n"
     ]
    },
    {
     "name": "stderr",
     "output_type": "stream",
     "text": [
      "[Parallel(n_jobs=-1)]: Using backend LokyBackend with 8 concurrent workers.\n",
      "[Parallel(n_jobs=-1)]: Done   1 tasks      | elapsed:  2.9min\n",
      "[Parallel(n_jobs=-1)]: Done   3 out of  12 | elapsed:  3.0min remaining:  8.9min\n",
      "[Parallel(n_jobs=-1)]: Done   5 out of  12 | elapsed:  3.3min remaining:  4.6min\n",
      "[Parallel(n_jobs=-1)]: Done   7 out of  12 | elapsed:  3.6min remaining:  2.5min\n",
      "[Parallel(n_jobs=-1)]: Done   9 out of  12 | elapsed:  5.3min remaining:  1.7min\n",
      "[Parallel(n_jobs=-1)]: Done  12 out of  12 | elapsed:  6.0min finished\n"
     ]
    },
    {
     "data": {
      "text/plain": [
       "GridSearchCV(cv=3, estimator=GradientBoostingRegressor(random_state=42),\n",
       "             n_jobs=-1,\n",
       "             param_grid={'max_depth': [8, 9], 'min_samples_leaf': [2],\n",
       "                         'min_samples_split': [5], 'n_estimators': [400, 500]},\n",
       "             verbose=10)"
      ]
     },
     "execution_count": 42,
     "metadata": {},
     "output_type": "execute_result"
    }
   ],
   "source": [
    "# experimentally derived range of best params\n",
    "param_grid = {'max_depth':[8,9],\n",
    "              'n_estimators':[400,500],\n",
    "              'min_samples_split': [5],\n",
    "              'min_samples_leaf': [2]}\n",
    "\n",
    "GRB = GradientBoostingRegressor(loss='ls',random_state=RANDOM_SEED)\n",
    "GRB_cv = GridSearchCV(GRB, \n",
    "                      param_grid=param_grid,\n",
    "                      cv=3,\n",
    "                      verbose=10,\n",
    "                      n_jobs=-1)\n",
    "\n",
    "GRB_cv.fit(X,y)"
   ]
  },
  {
   "cell_type": "code",
   "execution_count": 43,
   "metadata": {},
   "outputs": [
    {
     "data": {
      "text/plain": [
       "{'max_depth': 9,\n",
       " 'min_samples_leaf': 2,\n",
       " 'min_samples_split': 5,\n",
       " 'n_estimators': 500}"
      ]
     },
     "execution_count": 43,
     "metadata": {},
     "output_type": "execute_result"
    }
   ],
   "source": [
    "GRB_cv.best_params_"
   ]
  },
  {
   "cell_type": "code",
   "execution_count": 44,
   "metadata": {},
   "outputs": [
    {
     "name": "stdout",
     "output_type": "stream",
     "text": [
      "Fold number: 1\n",
      "MAPE: 12.2833 %\n",
      "MAE:  114911 RUB\n",
      "\n",
      "Fold number: 2\n",
      "MAPE: 12.3285 %\n",
      "MAE:  118457 RUB\n",
      "\n",
      "Fold number: 3\n",
      "MAPE: 12.1883 %\n",
      "MAE:  115662 RUB\n",
      "\n",
      "Fold number: 4\n",
      "MAPE: 12.1824 %\n",
      "MAE:  109865 RUB\n",
      "\n",
      "Fold number: 5\n",
      "MAPE: 12.0779 %\n",
      "MAE:  119177 RUB\n",
      "\n"
     ]
    }
   ],
   "source": [
    "GRB = GradientBoostingRegressor(max_depth=9, \n",
    "                                n_estimators=500,\n",
    "                                min_samples_leaf=2,\n",
    "                                min_samples_split=5,\n",
    "                                loss='ls',\n",
    "                                random_state=RANDOM_SEED)\n",
    "fold_number=1\n",
    "for train, test in kf.split(X,y):\n",
    "    GRB.fit(X.iloc[train],y.iloc[train])\n",
    "    \n",
    "    y_pred = np.power(10,GRB.predict(X.iloc[test]))\n",
    "    y_test = np.power(10,y.iloc[test])\n",
    "    \n",
    "    mape = np.round(mean_absolute_percentage_error(y_test,y_pred)*100, decimals=4)\n",
    "    mae = int(mean_absolute_error(y_test,y_pred))\n",
    "    \n",
    "    print(f'Fold number: {fold_number}')\n",
    "    print(f'MAPE: {mape} %')\n",
    "    print(f'MAE:  {mae} RUB\\n')\n",
    "    \n",
    "    fold_number+=1\n"
   ]
  },
  {
   "cell_type": "markdown",
   "metadata": {},
   "source": [
    "### LightGBM Regressor"
   ]
  },
  {
   "cell_type": "code",
   "execution_count": 50,
   "metadata": {},
   "outputs": [
    {
     "name": "stdout",
     "output_type": "stream",
     "text": [
      "Fitting 3 folds for each of 6 candidates, totalling 18 fits\n"
     ]
    },
    {
     "name": "stderr",
     "output_type": "stream",
     "text": [
      "[Parallel(n_jobs=-1)]: Using backend LokyBackend with 8 concurrent workers.\n",
      "[Parallel(n_jobs=-1)]: Done   2 tasks      | elapsed:   29.7s\n",
      "[Parallel(n_jobs=-1)]: Done   5 out of  18 | elapsed:   33.2s remaining:  1.4min\n",
      "[Parallel(n_jobs=-1)]: Done   7 out of  18 | elapsed:   35.9s remaining:   56.4s\n",
      "[Parallel(n_jobs=-1)]: Done   9 out of  18 | elapsed:   59.2s remaining:   59.2s\n",
      "[Parallel(n_jobs=-1)]: Done  11 out of  18 | elapsed:  1.1min remaining:   41.8s\n",
      "[Parallel(n_jobs=-1)]: Done  13 out of  18 | elapsed:  1.1min remaining:   26.1s\n",
      "[Parallel(n_jobs=-1)]: Done  15 out of  18 | elapsed:  1.2min remaining:   13.8s\n",
      "[Parallel(n_jobs=-1)]: Done  18 out of  18 | elapsed:  1.3min finished\n"
     ]
    },
    {
     "data": {
      "text/plain": [
       "GridSearchCV(cv=3, estimator=LGBMRegressor(random_state=42), n_jobs=-1,\n",
       "             param_grid={'max_depth': [8, 9, 10], 'n_estimators': [625, 700],\n",
       "                         'num_leaves': [1024]},\n",
       "             verbose=10)"
      ]
     },
     "execution_count": 50,
     "metadata": {},
     "output_type": "execute_result"
    }
   ],
   "source": [
    "param_grid={'max_depth':[8,9,10],\n",
    "           'num_leaves':[2**10],\n",
    "           'n_estimators':[625,700]}\n",
    "LGBM = LGBMRegressor(n_jobs=-1,random_state=RANDOM_SEED)\n",
    "LGBM_cv = GridSearchCV(LGBM, param_grid=param_grid,cv=3,n_jobs=-1,verbose=10)\n",
    "LGBM_cv.fit(X,y)"
   ]
  },
  {
   "cell_type": "code",
   "execution_count": 52,
   "metadata": {},
   "outputs": [
    {
     "data": {
      "text/plain": [
       "{'max_depth': 9, 'n_estimators': 625, 'num_leaves': 1024}"
      ]
     },
     "execution_count": 52,
     "metadata": {},
     "output_type": "execute_result"
    }
   ],
   "source": [
    "LGBM_cv.best_params_"
   ]
  },
  {
   "cell_type": "code",
   "execution_count": 45,
   "metadata": {},
   "outputs": [
    {
     "name": "stdout",
     "output_type": "stream",
     "text": [
      "Fold number: 1\n",
      "MAPE: 12.5363 %\n",
      "MAE:  122254 RUB\n",
      "\n",
      "Fold number: 2\n",
      "MAPE: 12.5372 %\n",
      "MAE:  121665 RUB\n",
      "\n",
      "Fold number: 3\n",
      "MAPE: 12.401 %\n",
      "MAE:  120808 RUB\n",
      "\n",
      "Fold number: 4\n",
      "MAPE: 12.3703 %\n",
      "MAE:  113614 RUB\n",
      "\n",
      "Fold number: 5\n",
      "MAPE: 12.3056 %\n",
      "MAE:  121934 RUB\n",
      "\n"
     ]
    }
   ],
   "source": [
    "LGBM = LGBMRegressor(max_depth=9, \n",
    "                     n_estimators=625, \n",
    "                     num_leaves=2**9, \n",
    "                     n_jobs = -1)\n",
    "\n",
    "fold_number=1\n",
    "for train, test in kf.split(X,y):\n",
    "    LGBM.fit(X.iloc[train],y.iloc[train])\n",
    "    \n",
    "    y_pred = np.power(10,LGBM.predict(X.iloc[test]))\n",
    "    y_test = np.power(10,y.iloc[test])\n",
    "    \n",
    "    mape = np.round(mean_absolute_percentage_error(y_test,y_pred)*100, decimals=4)\n",
    "    mae = int(mean_absolute_error(y_test,y_pred))\n",
    "    \n",
    "    print(f'Fold number: {fold_number}')\n",
    "    print(f'MAPE: {mape} %')\n",
    "    print(f'MAE:  {mae} RUB\\n')\n",
    "    \n",
    "    fold_number+=1\n"
   ]
  },
  {
   "cell_type": "markdown",
   "metadata": {},
   "source": [
    "### XGBoost"
   ]
  },
  {
   "cell_type": "code",
   "execution_count": 68,
   "metadata": {},
   "outputs": [
    {
     "name": "stdout",
     "output_type": "stream",
     "text": [
      "Fitting 3 folds for each of 16 candidates, totalling 48 fits\n"
     ]
    },
    {
     "name": "stderr",
     "output_type": "stream",
     "text": [
      "[Parallel(n_jobs=-1)]: Using backend LokyBackend with 8 concurrent workers.\n",
      "[Parallel(n_jobs=-1)]: Done  16 tasks      | elapsed:  2.4min\n",
      "[Parallel(n_jobs=-1)]: Done  48 out of  48 | elapsed:  7.0min finished\n"
     ]
    },
    {
     "data": {
      "text/plain": [
       "GridSearchCV(cv=3,\n",
       "             estimator=XGBRegressor(base_score=None, booster=None,\n",
       "                                    colsample_bylevel=None,\n",
       "                                    colsample_bynode=None,\n",
       "                                    colsample_bytree=None, gamma=None,\n",
       "                                    gpu_id=None, importance_type='gain',\n",
       "                                    interaction_constraints=None,\n",
       "                                    learning_rate=None, max_delta_step=None,\n",
       "                                    max_depth=None, min_child_weight=None,\n",
       "                                    missing=nan, monotone_constraints=None,\n",
       "                                    n_estimators=100, n_jobs=None,\n",
       "                                    num_parallel_tree=None, random_state=42,\n",
       "                                    reg_alpha=None, reg_lambda=None,\n",
       "                                    scale_pos_weight=None, subsample=None,\n",
       "                                    tree_method=None, validate_parameters=None,\n",
       "                                    verbosity=None),\n",
       "             n_jobs=-1,\n",
       "             param_grid={'learning_rate': [0.1, 0.12, 0.15, None],\n",
       "                         'max_depth': [11, 12, 13, 14], 'n_estimators': [200]},\n",
       "             verbose=3)"
      ]
     },
     "execution_count": 68,
     "metadata": {},
     "output_type": "execute_result"
    }
   ],
   "source": [
    "param_grid = {'max_depth':[11,12,13,14],\n",
    "              'n_estimators':[200],\n",
    "              'learning_rate':[0.10,0.12,0.15,None]\n",
    "              #'max_features': ['auto', 'sqrt', 'log2'],\n",
    "             }\n",
    "\n",
    "XGRB = XGBRegressor(random_state=RANDOM_SEED)\n",
    "XGRB_cv = GridSearchCV(GRB, \n",
    "                      param_grid=param_grid,\n",
    "                      cv=3,\n",
    "                      verbose=3,\n",
    "                      n_jobs=-1)\n",
    "XGRB_cv.fit(X,y)"
   ]
  },
  {
   "cell_type": "code",
   "execution_count": 73,
   "metadata": {},
   "outputs": [
    {
     "data": {
      "text/plain": [
       "{'learning_rate': 0.1, 'max_depth': 12, 'n_estimators': 200}"
      ]
     },
     "execution_count": 73,
     "metadata": {},
     "output_type": "execute_result"
    }
   ],
   "source": [
    "XGRB_cv.best_params_"
   ]
  },
  {
   "cell_type": "code",
   "execution_count": 46,
   "metadata": {},
   "outputs": [
    {
     "name": "stdout",
     "output_type": "stream",
     "text": [
      "Fold number: 1\n",
      "MAPE: 12.1384 %\n",
      "MAE:  113503 RUB\n",
      "\n",
      "Fold number: 2\n",
      "MAPE: 12.1647 %\n",
      "MAE:  115682 RUB\n",
      "\n",
      "Fold number: 3\n",
      "MAPE: 11.9457 %\n",
      "MAE:  113499 RUB\n",
      "\n",
      "Fold number: 4\n",
      "MAPE: 12.0243 %\n",
      "MAE:  108494 RUB\n",
      "\n",
      "Fold number: 5\n",
      "MAPE: 11.856 %\n",
      "MAE:  115868 RUB\n",
      "\n"
     ]
    }
   ],
   "source": [
    "XGRB = XGBRegressor(max_depth=12, \n",
    "            n_estimators=200, \n",
    "            learning_rate=0.1,\n",
    "            n_jobs = -1)\n",
    "\n",
    "fold_number=1\n",
    "for train, test in kf.split(X,y):\n",
    "    XGRB.fit(X.iloc[train],y.iloc[train])\n",
    "    \n",
    "    y_pred = np.power(10,XGRB.predict(X.iloc[test]))\n",
    "    y_test = np.power(10,y.iloc[test])\n",
    "    \n",
    "    mape = np.round(mean_absolute_percentage_error(y_test,y_pred)*100, decimals=4)\n",
    "    mae = int(mean_absolute_error(y_test,y_pred))\n",
    "    \n",
    "    print(f'Fold number: {fold_number}')\n",
    "    print(f'MAPE: {mape} %')\n",
    "    print(f'MAE:  {mae} RUB\\n')\n",
    "    \n",
    "    fold_number+=1\n"
   ]
  },
  {
   "cell_type": "markdown",
   "metadata": {},
   "source": [
    "### CatBoostRegressor"
   ]
  },
  {
   "cell_type": "code",
   "execution_count": 81,
   "metadata": {},
   "outputs": [
    {
     "name": "stdout",
     "output_type": "stream",
     "text": [
      "Fitting 3 folds for each of 5 candidates, totalling 15 fits\n"
     ]
    },
    {
     "name": "stderr",
     "output_type": "stream",
     "text": [
      "[Parallel(n_jobs=-1)]: Using backend LokyBackend with 8 concurrent workers.\n",
      "[Parallel(n_jobs=-1)]: Done   2 out of  15 | elapsed:  1.0min remaining:  6.6min\n",
      "[Parallel(n_jobs=-1)]: Done   4 out of  15 | elapsed:  1.6min remaining:  4.5min\n",
      "[Parallel(n_jobs=-1)]: Done   6 out of  15 | elapsed:  1.6min remaining:  2.5min\n",
      "[Parallel(n_jobs=-1)]: Done   8 out of  15 | elapsed:  2.5min remaining:  2.2min\n",
      "[Parallel(n_jobs=-1)]: Done  10 out of  15 | elapsed:  4.4min remaining:  2.2min\n",
      "[Parallel(n_jobs=-1)]: Done  12 out of  15 | elapsed:  4.7min remaining:  1.2min\n",
      "[Parallel(n_jobs=-1)]: Done  15 out of  15 | elapsed:  6.0min finished\n"
     ]
    },
    {
     "name": "stdout",
     "output_type": "stream",
     "text": [
      "Learning rate set to 0.132653\n",
      "0:\tlearn: 0.0435383\ttotal: 46.1ms\tremaining: 27.6s\n",
      "1:\tlearn: 0.0387635\ttotal: 102ms\tremaining: 30.6s\n",
      "2:\tlearn: 0.0345640\ttotal: 151ms\tremaining: 30.1s\n",
      "3:\tlearn: 0.0308619\ttotal: 203ms\tremaining: 30.2s\n",
      "4:\tlearn: 0.0278334\ttotal: 254ms\tremaining: 30.3s\n",
      "5:\tlearn: 0.0253220\ttotal: 306ms\tremaining: 30.3s\n",
      "6:\tlearn: 0.0231329\ttotal: 358ms\tremaining: 30.3s\n",
      "7:\tlearn: 0.0212337\ttotal: 410ms\tremaining: 30.3s\n",
      "8:\tlearn: 0.0196640\ttotal: 463ms\tremaining: 30.4s\n",
      "9:\tlearn: 0.0183908\ttotal: 514ms\tremaining: 30.3s\n",
      "10:\tlearn: 0.0171890\ttotal: 565ms\tremaining: 30.3s\n",
      "11:\tlearn: 0.0162560\ttotal: 616ms\tremaining: 30.2s\n",
      "12:\tlearn: 0.0154626\ttotal: 670ms\tremaining: 30.3s\n",
      "13:\tlearn: 0.0148109\ttotal: 721ms\tremaining: 30.2s\n",
      "14:\tlearn: 0.0142870\ttotal: 772ms\tremaining: 30.1s\n",
      "15:\tlearn: 0.0137651\ttotal: 821ms\tremaining: 30s\n",
      "16:\tlearn: 0.0134188\ttotal: 876ms\tremaining: 30.1s\n",
      "17:\tlearn: 0.0131177\ttotal: 928ms\tremaining: 30s\n",
      "18:\tlearn: 0.0127774\ttotal: 980ms\tremaining: 30s\n",
      "19:\tlearn: 0.0125517\ttotal: 1.03s\tremaining: 29.9s\n",
      "20:\tlearn: 0.0123372\ttotal: 1.08s\tremaining: 29.8s\n",
      "21:\tlearn: 0.0121711\ttotal: 1.13s\tremaining: 29.8s\n",
      "22:\tlearn: 0.0120002\ttotal: 1.18s\tremaining: 29.7s\n",
      "23:\tlearn: 0.0118556\ttotal: 1.24s\tremaining: 29.7s\n",
      "24:\tlearn: 0.0117556\ttotal: 1.29s\tremaining: 29.7s\n",
      "25:\tlearn: 0.0116882\ttotal: 1.34s\tremaining: 29.6s\n",
      "26:\tlearn: 0.0116169\ttotal: 1.4s\tremaining: 29.6s\n",
      "27:\tlearn: 0.0115319\ttotal: 1.45s\tremaining: 29.5s\n",
      "28:\tlearn: 0.0114868\ttotal: 1.5s\tremaining: 29.5s\n",
      "29:\tlearn: 0.0114569\ttotal: 1.55s\tremaining: 29.5s\n",
      "30:\tlearn: 0.0113957\ttotal: 1.6s\tremaining: 29.4s\n",
      "31:\tlearn: 0.0113430\ttotal: 1.65s\tremaining: 29.3s\n",
      "32:\tlearn: 0.0113210\ttotal: 1.71s\tremaining: 29.3s\n",
      "33:\tlearn: 0.0112996\ttotal: 1.76s\tremaining: 29.3s\n",
      "34:\tlearn: 0.0112542\ttotal: 1.81s\tremaining: 29.2s\n",
      "35:\tlearn: 0.0112111\ttotal: 1.86s\tremaining: 29.1s\n",
      "36:\tlearn: 0.0111212\ttotal: 1.91s\tremaining: 29.1s\n",
      "37:\tlearn: 0.0110895\ttotal: 1.97s\tremaining: 29.1s\n",
      "38:\tlearn: 0.0110473\ttotal: 2.02s\tremaining: 29s\n",
      "39:\tlearn: 0.0109980\ttotal: 2.07s\tremaining: 29s\n",
      "40:\tlearn: 0.0109562\ttotal: 2.12s\tremaining: 28.9s\n",
      "41:\tlearn: 0.0109308\ttotal: 2.17s\tremaining: 28.9s\n",
      "42:\tlearn: 0.0108821\ttotal: 2.23s\tremaining: 28.8s\n",
      "43:\tlearn: 0.0108684\ttotal: 2.28s\tremaining: 28.8s\n",
      "44:\tlearn: 0.0108451\ttotal: 2.33s\tremaining: 28.7s\n",
      "45:\tlearn: 0.0107877\ttotal: 2.38s\tremaining: 28.7s\n",
      "46:\tlearn: 0.0107412\ttotal: 2.44s\tremaining: 28.7s\n",
      "47:\tlearn: 0.0107205\ttotal: 2.49s\tremaining: 28.6s\n",
      "48:\tlearn: 0.0106794\ttotal: 2.54s\tremaining: 28.6s\n",
      "49:\tlearn: 0.0106210\ttotal: 2.59s\tremaining: 28.5s\n",
      "50:\tlearn: 0.0106108\ttotal: 2.65s\tremaining: 28.5s\n",
      "51:\tlearn: 0.0105995\ttotal: 2.7s\tremaining: 28.5s\n",
      "52:\tlearn: 0.0105782\ttotal: 2.75s\tremaining: 28.4s\n",
      "53:\tlearn: 0.0105600\ttotal: 2.81s\tremaining: 28.4s\n",
      "54:\tlearn: 0.0105405\ttotal: 2.87s\tremaining: 28.4s\n",
      "55:\tlearn: 0.0105143\ttotal: 2.92s\tremaining: 28.4s\n",
      "56:\tlearn: 0.0104762\ttotal: 2.98s\tremaining: 28.4s\n",
      "57:\tlearn: 0.0104442\ttotal: 3.03s\tremaining: 28.3s\n",
      "58:\tlearn: 0.0104292\ttotal: 3.08s\tremaining: 28.3s\n",
      "59:\tlearn: 0.0104050\ttotal: 3.13s\tremaining: 28.2s\n",
      "60:\tlearn: 0.0103777\ttotal: 3.19s\tremaining: 28.1s\n",
      "61:\tlearn: 0.0103527\ttotal: 3.24s\tremaining: 28.1s\n",
      "62:\tlearn: 0.0103296\ttotal: 3.29s\tremaining: 28s\n",
      "63:\tlearn: 0.0103169\ttotal: 3.34s\tremaining: 28s\n",
      "64:\tlearn: 0.0102948\ttotal: 3.39s\tremaining: 27.9s\n",
      "65:\tlearn: 0.0102787\ttotal: 3.44s\tremaining: 27.9s\n",
      "66:\tlearn: 0.0102552\ttotal: 3.5s\tremaining: 27.8s\n",
      "67:\tlearn: 0.0102213\ttotal: 3.55s\tremaining: 27.8s\n",
      "68:\tlearn: 0.0102050\ttotal: 3.61s\tremaining: 27.8s\n",
      "69:\tlearn: 0.0101899\ttotal: 3.67s\tremaining: 27.8s\n",
      "70:\tlearn: 0.0101722\ttotal: 3.72s\tremaining: 27.7s\n",
      "71:\tlearn: 0.0101598\ttotal: 3.78s\tremaining: 27.7s\n",
      "72:\tlearn: 0.0101449\ttotal: 3.83s\tremaining: 27.7s\n",
      "73:\tlearn: 0.0101289\ttotal: 3.88s\tremaining: 27.6s\n",
      "74:\tlearn: 0.0101184\ttotal: 3.93s\tremaining: 27.5s\n",
      "75:\tlearn: 0.0101058\ttotal: 3.99s\tremaining: 27.5s\n",
      "76:\tlearn: 0.0100924\ttotal: 4.04s\tremaining: 27.5s\n",
      "77:\tlearn: 0.0100686\ttotal: 4.09s\tremaining: 27.4s\n",
      "78:\tlearn: 0.0100574\ttotal: 4.14s\tremaining: 27.3s\n",
      "79:\tlearn: 0.0100436\ttotal: 4.2s\tremaining: 27.3s\n",
      "80:\tlearn: 0.0100325\ttotal: 4.25s\tremaining: 27.2s\n",
      "81:\tlearn: 0.0100242\ttotal: 4.3s\tremaining: 27.2s\n",
      "82:\tlearn: 0.0100135\ttotal: 4.35s\tremaining: 27.1s\n",
      "83:\tlearn: 0.0099998\ttotal: 4.4s\tremaining: 27s\n",
      "84:\tlearn: 0.0099744\ttotal: 4.45s\tremaining: 27s\n",
      "85:\tlearn: 0.0099652\ttotal: 4.51s\tremaining: 26.9s\n",
      "86:\tlearn: 0.0099574\ttotal: 4.56s\tremaining: 26.9s\n",
      "87:\tlearn: 0.0099372\ttotal: 4.61s\tremaining: 26.8s\n",
      "88:\tlearn: 0.0099235\ttotal: 4.66s\tremaining: 26.8s\n",
      "89:\tlearn: 0.0099137\ttotal: 4.71s\tremaining: 26.7s\n",
      "90:\tlearn: 0.0098991\ttotal: 4.77s\tremaining: 26.7s\n",
      "91:\tlearn: 0.0098921\ttotal: 4.82s\tremaining: 26.6s\n",
      "92:\tlearn: 0.0098845\ttotal: 4.87s\tremaining: 26.6s\n",
      "93:\tlearn: 0.0098725\ttotal: 4.92s\tremaining: 26.5s\n",
      "94:\tlearn: 0.0098453\ttotal: 4.97s\tremaining: 26.4s\n",
      "95:\tlearn: 0.0098296\ttotal: 5.02s\tremaining: 26.4s\n",
      "96:\tlearn: 0.0098062\ttotal: 5.08s\tremaining: 26.3s\n",
      "97:\tlearn: 0.0097957\ttotal: 5.13s\tremaining: 26.3s\n",
      "98:\tlearn: 0.0097816\ttotal: 5.18s\tremaining: 26.2s\n",
      "99:\tlearn: 0.0097775\ttotal: 5.23s\tremaining: 26.2s\n",
      "100:\tlearn: 0.0097679\ttotal: 5.28s\tremaining: 26.1s\n",
      "101:\tlearn: 0.0097572\ttotal: 5.34s\tremaining: 26.1s\n",
      "102:\tlearn: 0.0097362\ttotal: 5.39s\tremaining: 26s\n",
      "103:\tlearn: 0.0097285\ttotal: 5.44s\tremaining: 26s\n",
      "104:\tlearn: 0.0097117\ttotal: 5.49s\tremaining: 25.9s\n",
      "105:\tlearn: 0.0097018\ttotal: 5.54s\tremaining: 25.8s\n",
      "106:\tlearn: 0.0096856\ttotal: 5.59s\tremaining: 25.8s\n",
      "107:\tlearn: 0.0096769\ttotal: 5.65s\tremaining: 25.7s\n",
      "108:\tlearn: 0.0096621\ttotal: 5.7s\tremaining: 25.7s\n",
      "109:\tlearn: 0.0096554\ttotal: 5.75s\tremaining: 25.6s\n",
      "110:\tlearn: 0.0096473\ttotal: 5.8s\tremaining: 25.6s\n",
      "111:\tlearn: 0.0096398\ttotal: 5.86s\tremaining: 25.5s\n",
      "112:\tlearn: 0.0096332\ttotal: 5.91s\tremaining: 25.5s\n",
      "113:\tlearn: 0.0096236\ttotal: 5.96s\tremaining: 25.4s\n",
      "114:\tlearn: 0.0096103\ttotal: 6.01s\tremaining: 25.4s\n",
      "115:\tlearn: 0.0095852\ttotal: 6.06s\tremaining: 25.3s\n",
      "116:\tlearn: 0.0095760\ttotal: 6.12s\tremaining: 25.3s\n",
      "117:\tlearn: 0.0095613\ttotal: 6.17s\tremaining: 25.2s\n",
      "118:\tlearn: 0.0095520\ttotal: 6.22s\tremaining: 25.2s\n",
      "119:\tlearn: 0.0095307\ttotal: 6.28s\tremaining: 25.1s\n",
      "120:\tlearn: 0.0095228\ttotal: 6.33s\tremaining: 25s\n",
      "121:\tlearn: 0.0095152\ttotal: 6.38s\tremaining: 25s\n",
      "122:\tlearn: 0.0095047\ttotal: 6.44s\tremaining: 25s\n",
      "123:\tlearn: 0.0094961\ttotal: 6.49s\tremaining: 24.9s\n",
      "124:\tlearn: 0.0094836\ttotal: 6.54s\tremaining: 24.9s\n",
      "125:\tlearn: 0.0094737\ttotal: 6.59s\tremaining: 24.8s\n",
      "126:\tlearn: 0.0094639\ttotal: 6.65s\tremaining: 24.8s\n",
      "127:\tlearn: 0.0094569\ttotal: 6.7s\tremaining: 24.7s\n",
      "128:\tlearn: 0.0094420\ttotal: 6.75s\tremaining: 24.6s\n",
      "129:\tlearn: 0.0094347\ttotal: 6.8s\tremaining: 24.6s\n",
      "130:\tlearn: 0.0094260\ttotal: 6.86s\tremaining: 24.6s\n",
      "131:\tlearn: 0.0094143\ttotal: 6.91s\tremaining: 24.5s\n",
      "132:\tlearn: 0.0094059\ttotal: 6.96s\tremaining: 24.5s\n",
      "133:\tlearn: 0.0093977\ttotal: 7.01s\tremaining: 24.4s\n",
      "134:\tlearn: 0.0093868\ttotal: 7.07s\tremaining: 24.3s\n",
      "135:\tlearn: 0.0093766\ttotal: 7.12s\tremaining: 24.3s\n",
      "136:\tlearn: 0.0093682\ttotal: 7.17s\tremaining: 24.2s\n",
      "137:\tlearn: 0.0093640\ttotal: 7.22s\tremaining: 24.2s\n",
      "138:\tlearn: 0.0093561\ttotal: 7.27s\tremaining: 24.1s\n",
      "139:\tlearn: 0.0093483\ttotal: 7.33s\tremaining: 24.1s\n",
      "140:\tlearn: 0.0093404\ttotal: 7.38s\tremaining: 24s\n",
      "141:\tlearn: 0.0093313\ttotal: 7.43s\tremaining: 24s\n",
      "142:\tlearn: 0.0093162\ttotal: 7.48s\tremaining: 23.9s\n",
      "143:\tlearn: 0.0093062\ttotal: 7.53s\tremaining: 23.9s\n",
      "144:\tlearn: 0.0092999\ttotal: 7.59s\tremaining: 23.8s\n",
      "145:\tlearn: 0.0092945\ttotal: 7.64s\tremaining: 23.8s\n",
      "146:\tlearn: 0.0092875\ttotal: 7.69s\tremaining: 23.7s\n",
      "147:\tlearn: 0.0092746\ttotal: 7.74s\tremaining: 23.7s\n",
      "148:\tlearn: 0.0092663\ttotal: 7.8s\tremaining: 23.6s\n",
      "149:\tlearn: 0.0092620\ttotal: 7.85s\tremaining: 23.6s\n",
      "150:\tlearn: 0.0092467\ttotal: 7.9s\tremaining: 23.5s\n",
      "151:\tlearn: 0.0092410\ttotal: 7.95s\tremaining: 23.4s\n",
      "152:\tlearn: 0.0092272\ttotal: 8.01s\tremaining: 23.4s\n",
      "153:\tlearn: 0.0092241\ttotal: 8.06s\tremaining: 23.3s\n",
      "154:\tlearn: 0.0092164\ttotal: 8.11s\tremaining: 23.3s\n",
      "155:\tlearn: 0.0092057\ttotal: 8.17s\tremaining: 23.2s\n",
      "156:\tlearn: 0.0092006\ttotal: 8.22s\tremaining: 23.2s\n",
      "157:\tlearn: 0.0091903\ttotal: 8.28s\tremaining: 23.2s\n",
      "158:\tlearn: 0.0091829\ttotal: 8.33s\tremaining: 23.1s\n",
      "159:\tlearn: 0.0091762\ttotal: 8.38s\tremaining: 23.1s\n",
      "160:\tlearn: 0.0091705\ttotal: 8.44s\tremaining: 23s\n",
      "161:\tlearn: 0.0091663\ttotal: 8.49s\tremaining: 23s\n",
      "162:\tlearn: 0.0091633\ttotal: 8.54s\tremaining: 22.9s\n",
      "163:\tlearn: 0.0091522\ttotal: 8.59s\tremaining: 22.8s\n",
      "164:\tlearn: 0.0091474\ttotal: 8.64s\tremaining: 22.8s\n",
      "165:\tlearn: 0.0091350\ttotal: 8.69s\tremaining: 22.7s\n",
      "166:\tlearn: 0.0091298\ttotal: 8.75s\tremaining: 22.7s\n",
      "167:\tlearn: 0.0091187\ttotal: 8.81s\tremaining: 22.7s\n",
      "168:\tlearn: 0.0091151\ttotal: 8.86s\tremaining: 22.6s\n",
      "169:\tlearn: 0.0091125\ttotal: 8.91s\tremaining: 22.5s\n",
      "170:\tlearn: 0.0091100\ttotal: 8.96s\tremaining: 22.5s\n",
      "171:\tlearn: 0.0091074\ttotal: 9.02s\tremaining: 22.4s\n",
      "172:\tlearn: 0.0090966\ttotal: 9.07s\tremaining: 22.4s\n",
      "173:\tlearn: 0.0090929\ttotal: 9.12s\tremaining: 22.3s\n",
      "174:\tlearn: 0.0090872\ttotal: 9.17s\tremaining: 22.3s\n",
      "175:\tlearn: 0.0090810\ttotal: 9.22s\tremaining: 22.2s\n",
      "176:\tlearn: 0.0090726\ttotal: 9.27s\tremaining: 22.2s\n",
      "177:\tlearn: 0.0090679\ttotal: 9.32s\tremaining: 22.1s\n",
      "178:\tlearn: 0.0090546\ttotal: 9.38s\tremaining: 22.1s\n",
      "179:\tlearn: 0.0090460\ttotal: 9.43s\tremaining: 22s\n",
      "180:\tlearn: 0.0090400\ttotal: 9.48s\tremaining: 21.9s\n",
      "181:\tlearn: 0.0090345\ttotal: 9.53s\tremaining: 21.9s\n",
      "182:\tlearn: 0.0090234\ttotal: 9.58s\tremaining: 21.8s\n",
      "183:\tlearn: 0.0090181\ttotal: 9.63s\tremaining: 21.8s\n",
      "184:\tlearn: 0.0090135\ttotal: 9.69s\tremaining: 21.7s\n",
      "185:\tlearn: 0.0090092\ttotal: 9.74s\tremaining: 21.7s\n",
      "186:\tlearn: 0.0089995\ttotal: 9.79s\tremaining: 21.6s\n",
      "187:\tlearn: 0.0089881\ttotal: 9.85s\tremaining: 21.6s\n",
      "188:\tlearn: 0.0089825\ttotal: 9.9s\tremaining: 21.5s\n",
      "189:\tlearn: 0.0089759\ttotal: 9.96s\tremaining: 21.5s\n",
      "190:\tlearn: 0.0089728\ttotal: 10s\tremaining: 21.4s\n",
      "191:\tlearn: 0.0089677\ttotal: 10.1s\tremaining: 21.4s\n",
      "192:\tlearn: 0.0089638\ttotal: 10.1s\tremaining: 21.3s\n",
      "193:\tlearn: 0.0089545\ttotal: 10.2s\tremaining: 21.3s\n",
      "194:\tlearn: 0.0089510\ttotal: 10.2s\tremaining: 21.2s\n",
      "195:\tlearn: 0.0089451\ttotal: 10.3s\tremaining: 21.2s\n",
      "196:\tlearn: 0.0089403\ttotal: 10.3s\tremaining: 21.1s\n",
      "197:\tlearn: 0.0089340\ttotal: 10.4s\tremaining: 21.1s\n",
      "198:\tlearn: 0.0089239\ttotal: 10.4s\tremaining: 21s\n",
      "199:\tlearn: 0.0089194\ttotal: 10.5s\tremaining: 21s\n",
      "200:\tlearn: 0.0089166\ttotal: 10.5s\tremaining: 20.9s\n",
      "201:\tlearn: 0.0089123\ttotal: 10.6s\tremaining: 20.8s\n",
      "202:\tlearn: 0.0089095\ttotal: 10.6s\tremaining: 20.8s\n",
      "203:\tlearn: 0.0088967\ttotal: 10.7s\tremaining: 20.7s\n",
      "204:\tlearn: 0.0088932\ttotal: 10.7s\tremaining: 20.7s\n",
      "205:\tlearn: 0.0088893\ttotal: 10.8s\tremaining: 20.6s\n",
      "206:\tlearn: 0.0088845\ttotal: 10.8s\tremaining: 20.6s\n",
      "207:\tlearn: 0.0088747\ttotal: 10.9s\tremaining: 20.5s\n",
      "208:\tlearn: 0.0088657\ttotal: 11s\tremaining: 20.5s\n",
      "209:\tlearn: 0.0088580\ttotal: 11s\tremaining: 20.4s\n",
      "210:\tlearn: 0.0088407\ttotal: 11.1s\tremaining: 20.4s\n",
      "211:\tlearn: 0.0088367\ttotal: 11.1s\tremaining: 20.3s\n",
      "212:\tlearn: 0.0088243\ttotal: 11.2s\tremaining: 20.3s\n",
      "213:\tlearn: 0.0088212\ttotal: 11.2s\tremaining: 20.2s\n",
      "214:\tlearn: 0.0088167\ttotal: 11.3s\tremaining: 20.2s\n",
      "215:\tlearn: 0.0088102\ttotal: 11.3s\tremaining: 20.2s\n",
      "216:\tlearn: 0.0088032\ttotal: 11.4s\tremaining: 20.1s\n",
      "217:\tlearn: 0.0087986\ttotal: 11.4s\tremaining: 20.1s\n",
      "218:\tlearn: 0.0087940\ttotal: 11.5s\tremaining: 20s\n",
      "219:\tlearn: 0.0087918\ttotal: 11.6s\tremaining: 20s\n",
      "220:\tlearn: 0.0087808\ttotal: 11.6s\tremaining: 19.9s\n",
      "221:\tlearn: 0.0087714\ttotal: 11.7s\tremaining: 19.9s\n",
      "222:\tlearn: 0.0087679\ttotal: 11.7s\tremaining: 19.8s\n",
      "223:\tlearn: 0.0087615\ttotal: 11.8s\tremaining: 19.7s\n",
      "224:\tlearn: 0.0087546\ttotal: 11.8s\tremaining: 19.7s\n",
      "225:\tlearn: 0.0087492\ttotal: 11.9s\tremaining: 19.6s\n",
      "226:\tlearn: 0.0087454\ttotal: 11.9s\tremaining: 19.6s\n",
      "227:\tlearn: 0.0087421\ttotal: 12s\tremaining: 19.5s\n",
      "228:\tlearn: 0.0087386\ttotal: 12s\tremaining: 19.5s\n",
      "229:\tlearn: 0.0087321\ttotal: 12.1s\tremaining: 19.5s\n",
      "230:\tlearn: 0.0087281\ttotal: 12.1s\tremaining: 19.4s\n",
      "231:\tlearn: 0.0087205\ttotal: 12.2s\tremaining: 19.4s\n",
      "232:\tlearn: 0.0087156\ttotal: 12.3s\tremaining: 19.3s\n",
      "233:\tlearn: 0.0087051\ttotal: 12.3s\tremaining: 19.3s\n",
      "234:\tlearn: 0.0086991\ttotal: 12.4s\tremaining: 19.2s\n",
      "235:\tlearn: 0.0086929\ttotal: 12.4s\tremaining: 19.2s\n",
      "236:\tlearn: 0.0086886\ttotal: 12.5s\tremaining: 19.1s\n",
      "237:\tlearn: 0.0086856\ttotal: 12.5s\tremaining: 19.1s\n",
      "238:\tlearn: 0.0086818\ttotal: 12.6s\tremaining: 19s\n",
      "239:\tlearn: 0.0086770\ttotal: 12.7s\tremaining: 19s\n",
      "240:\tlearn: 0.0086733\ttotal: 12.7s\tremaining: 18.9s\n",
      "241:\tlearn: 0.0086708\ttotal: 12.8s\tremaining: 18.9s\n",
      "242:\tlearn: 0.0086640\ttotal: 12.8s\tremaining: 18.8s\n",
      "243:\tlearn: 0.0086605\ttotal: 12.9s\tremaining: 18.8s\n",
      "244:\tlearn: 0.0086589\ttotal: 12.9s\tremaining: 18.7s\n",
      "245:\tlearn: 0.0086553\ttotal: 13s\tremaining: 18.7s\n",
      "246:\tlearn: 0.0086505\ttotal: 13.1s\tremaining: 18.7s\n",
      "247:\tlearn: 0.0086447\ttotal: 13.1s\tremaining: 18.6s\n",
      "248:\tlearn: 0.0086380\ttotal: 13.2s\tremaining: 18.6s\n",
      "249:\tlearn: 0.0086332\ttotal: 13.2s\tremaining: 18.5s\n",
      "250:\tlearn: 0.0086270\ttotal: 13.3s\tremaining: 18.5s\n",
      "251:\tlearn: 0.0086220\ttotal: 13.3s\tremaining: 18.4s\n",
      "252:\tlearn: 0.0086159\ttotal: 13.4s\tremaining: 18.4s\n",
      "253:\tlearn: 0.0086119\ttotal: 13.4s\tremaining: 18.3s\n",
      "254:\tlearn: 0.0086033\ttotal: 13.5s\tremaining: 18.3s\n",
      "255:\tlearn: 0.0085975\ttotal: 13.6s\tremaining: 18.2s\n",
      "256:\tlearn: 0.0085953\ttotal: 13.6s\tremaining: 18.2s\n",
      "257:\tlearn: 0.0085929\ttotal: 13.7s\tremaining: 18.1s\n",
      "258:\tlearn: 0.0085865\ttotal: 13.7s\tremaining: 18.1s\n",
      "259:\tlearn: 0.0085815\ttotal: 13.8s\tremaining: 18s\n",
      "260:\tlearn: 0.0085777\ttotal: 13.8s\tremaining: 18s\n",
      "261:\tlearn: 0.0085712\ttotal: 13.9s\tremaining: 17.9s\n",
      "262:\tlearn: 0.0085684\ttotal: 13.9s\tremaining: 17.9s\n",
      "263:\tlearn: 0.0085666\ttotal: 14s\tremaining: 17.8s\n",
      "264:\tlearn: 0.0085601\ttotal: 14s\tremaining: 17.7s\n",
      "265:\tlearn: 0.0085519\ttotal: 14.1s\tremaining: 17.7s\n",
      "266:\tlearn: 0.0085476\ttotal: 14.1s\tremaining: 17.6s\n",
      "267:\tlearn: 0.0085430\ttotal: 14.2s\tremaining: 17.6s\n",
      "268:\tlearn: 0.0085406\ttotal: 14.2s\tremaining: 17.5s\n",
      "269:\tlearn: 0.0085315\ttotal: 14.3s\tremaining: 17.5s\n",
      "270:\tlearn: 0.0085233\ttotal: 14.4s\tremaining: 17.4s\n",
      "271:\tlearn: 0.0085186\ttotal: 14.4s\tremaining: 17.4s\n",
      "272:\tlearn: 0.0085165\ttotal: 14.5s\tremaining: 17.3s\n",
      "273:\tlearn: 0.0085143\ttotal: 14.5s\tremaining: 17.3s\n",
      "274:\tlearn: 0.0085093\ttotal: 14.6s\tremaining: 17.2s\n",
      "275:\tlearn: 0.0085030\ttotal: 14.6s\tremaining: 17.2s\n",
      "276:\tlearn: 0.0085006\ttotal: 14.7s\tremaining: 17.1s\n",
      "277:\tlearn: 0.0084983\ttotal: 14.7s\tremaining: 17.1s\n",
      "278:\tlearn: 0.0084962\ttotal: 14.8s\tremaining: 17s\n",
      "279:\tlearn: 0.0084910\ttotal: 14.8s\tremaining: 16.9s\n",
      "280:\tlearn: 0.0084880\ttotal: 14.9s\tremaining: 16.9s\n",
      "281:\tlearn: 0.0084809\ttotal: 14.9s\tremaining: 16.8s\n",
      "282:\tlearn: 0.0084744\ttotal: 15s\tremaining: 16.8s\n",
      "283:\tlearn: 0.0084673\ttotal: 15s\tremaining: 16.7s\n",
      "284:\tlearn: 0.0084585\ttotal: 15.1s\tremaining: 16.7s\n",
      "285:\tlearn: 0.0084550\ttotal: 15.1s\tremaining: 16.6s\n",
      "286:\tlearn: 0.0084504\ttotal: 15.2s\tremaining: 16.6s\n",
      "287:\tlearn: 0.0084464\ttotal: 15.2s\tremaining: 16.5s\n",
      "288:\tlearn: 0.0084430\ttotal: 15.3s\tremaining: 16.5s\n",
      "289:\tlearn: 0.0084380\ttotal: 15.4s\tremaining: 16.4s\n",
      "290:\tlearn: 0.0084322\ttotal: 15.4s\tremaining: 16.4s\n",
      "291:\tlearn: 0.0084266\ttotal: 15.5s\tremaining: 16.3s\n",
      "292:\tlearn: 0.0084230\ttotal: 15.5s\tremaining: 16.3s\n",
      "293:\tlearn: 0.0084164\ttotal: 15.6s\tremaining: 16.2s\n",
      "294:\tlearn: 0.0084114\ttotal: 15.6s\tremaining: 16.2s\n",
      "295:\tlearn: 0.0084072\ttotal: 15.7s\tremaining: 16.1s\n",
      "296:\tlearn: 0.0084024\ttotal: 15.7s\tremaining: 16.1s\n",
      "297:\tlearn: 0.0083954\ttotal: 15.8s\tremaining: 16s\n",
      "298:\tlearn: 0.0083923\ttotal: 15.8s\tremaining: 16s\n",
      "299:\tlearn: 0.0083871\ttotal: 15.9s\tremaining: 15.9s\n",
      "300:\tlearn: 0.0083832\ttotal: 16s\tremaining: 15.8s\n",
      "301:\tlearn: 0.0083786\ttotal: 16s\tremaining: 15.8s\n",
      "302:\tlearn: 0.0083728\ttotal: 16.1s\tremaining: 15.7s\n",
      "303:\tlearn: 0.0083708\ttotal: 16.1s\tremaining: 15.7s\n",
      "304:\tlearn: 0.0083635\ttotal: 16.2s\tremaining: 15.6s\n",
      "305:\tlearn: 0.0083600\ttotal: 16.2s\tremaining: 15.6s\n",
      "306:\tlearn: 0.0083568\ttotal: 16.3s\tremaining: 15.5s\n",
      "307:\tlearn: 0.0083486\ttotal: 16.3s\tremaining: 15.5s\n",
      "308:\tlearn: 0.0083470\ttotal: 16.4s\tremaining: 15.4s\n",
      "309:\tlearn: 0.0083447\ttotal: 16.4s\tremaining: 15.4s\n",
      "310:\tlearn: 0.0083380\ttotal: 16.5s\tremaining: 15.3s\n",
      "311:\tlearn: 0.0083347\ttotal: 16.5s\tremaining: 15.3s\n",
      "312:\tlearn: 0.0083321\ttotal: 16.6s\tremaining: 15.2s\n",
      "313:\tlearn: 0.0083269\ttotal: 16.6s\tremaining: 15.2s\n",
      "314:\tlearn: 0.0083217\ttotal: 16.7s\tremaining: 15.1s\n",
      "315:\tlearn: 0.0083194\ttotal: 16.7s\tremaining: 15.1s\n",
      "316:\tlearn: 0.0083139\ttotal: 16.8s\tremaining: 15s\n",
      "317:\tlearn: 0.0083105\ttotal: 16.9s\tremaining: 14.9s\n",
      "318:\tlearn: 0.0083059\ttotal: 16.9s\tremaining: 14.9s\n",
      "319:\tlearn: 0.0082997\ttotal: 17s\tremaining: 14.8s\n",
      "320:\tlearn: 0.0082967\ttotal: 17s\tremaining: 14.8s\n",
      "321:\tlearn: 0.0082926\ttotal: 17.1s\tremaining: 14.7s\n",
      "322:\tlearn: 0.0082884\ttotal: 17.1s\tremaining: 14.7s\n",
      "323:\tlearn: 0.0082856\ttotal: 17.2s\tremaining: 14.6s\n",
      "324:\tlearn: 0.0082801\ttotal: 17.2s\tremaining: 14.6s\n",
      "325:\tlearn: 0.0082768\ttotal: 17.3s\tremaining: 14.5s\n",
      "326:\tlearn: 0.0082755\ttotal: 17.3s\tremaining: 14.5s\n",
      "327:\tlearn: 0.0082714\ttotal: 17.4s\tremaining: 14.4s\n",
      "328:\tlearn: 0.0082692\ttotal: 17.4s\tremaining: 14.4s\n",
      "329:\tlearn: 0.0082676\ttotal: 17.5s\tremaining: 14.3s\n",
      "330:\tlearn: 0.0082634\ttotal: 17.5s\tremaining: 14.2s\n",
      "331:\tlearn: 0.0082586\ttotal: 17.6s\tremaining: 14.2s\n",
      "332:\tlearn: 0.0082563\ttotal: 17.6s\tremaining: 14.1s\n",
      "333:\tlearn: 0.0082504\ttotal: 17.7s\tremaining: 14.1s\n",
      "334:\tlearn: 0.0082471\ttotal: 17.7s\tremaining: 14s\n",
      "335:\tlearn: 0.0082441\ttotal: 17.8s\tremaining: 14s\n",
      "336:\tlearn: 0.0082406\ttotal: 17.8s\tremaining: 13.9s\n",
      "337:\tlearn: 0.0082387\ttotal: 17.9s\tremaining: 13.9s\n",
      "338:\tlearn: 0.0082363\ttotal: 17.9s\tremaining: 13.8s\n",
      "339:\tlearn: 0.0082321\ttotal: 18s\tremaining: 13.8s\n",
      "340:\tlearn: 0.0082286\ttotal: 18.1s\tremaining: 13.7s\n",
      "341:\tlearn: 0.0082266\ttotal: 18.1s\tremaining: 13.7s\n",
      "342:\tlearn: 0.0082228\ttotal: 18.2s\tremaining: 13.6s\n",
      "343:\tlearn: 0.0082202\ttotal: 18.2s\tremaining: 13.6s\n",
      "344:\tlearn: 0.0082161\ttotal: 18.3s\tremaining: 13.5s\n",
      "345:\tlearn: 0.0082129\ttotal: 18.3s\tremaining: 13.4s\n",
      "346:\tlearn: 0.0082108\ttotal: 18.4s\tremaining: 13.4s\n",
      "347:\tlearn: 0.0082066\ttotal: 18.4s\tremaining: 13.3s\n",
      "348:\tlearn: 0.0082022\ttotal: 18.5s\tremaining: 13.3s\n",
      "349:\tlearn: 0.0081995\ttotal: 18.5s\tremaining: 13.2s\n",
      "350:\tlearn: 0.0081962\ttotal: 18.6s\tremaining: 13.2s\n",
      "351:\tlearn: 0.0081919\ttotal: 18.6s\tremaining: 13.1s\n",
      "352:\tlearn: 0.0081900\ttotal: 18.7s\tremaining: 13.1s\n",
      "353:\tlearn: 0.0081872\ttotal: 18.7s\tremaining: 13s\n",
      "354:\tlearn: 0.0081837\ttotal: 18.8s\tremaining: 13s\n",
      "355:\tlearn: 0.0081809\ttotal: 18.8s\tremaining: 12.9s\n",
      "356:\tlearn: 0.0081738\ttotal: 18.9s\tremaining: 12.9s\n",
      "357:\tlearn: 0.0081715\ttotal: 18.9s\tremaining: 12.8s\n",
      "358:\tlearn: 0.0081681\ttotal: 19s\tremaining: 12.8s\n",
      "359:\tlearn: 0.0081638\ttotal: 19.1s\tremaining: 12.7s\n",
      "360:\tlearn: 0.0081620\ttotal: 19.1s\tremaining: 12.6s\n",
      "361:\tlearn: 0.0081572\ttotal: 19.2s\tremaining: 12.6s\n",
      "362:\tlearn: 0.0081562\ttotal: 19.2s\tremaining: 12.5s\n",
      "363:\tlearn: 0.0081490\ttotal: 19.3s\tremaining: 12.5s\n",
      "364:\tlearn: 0.0081460\ttotal: 19.3s\tremaining: 12.4s\n",
      "365:\tlearn: 0.0081436\ttotal: 19.4s\tremaining: 12.4s\n",
      "366:\tlearn: 0.0081418\ttotal: 19.4s\tremaining: 12.3s\n",
      "367:\tlearn: 0.0081363\ttotal: 19.5s\tremaining: 12.3s\n",
      "368:\tlearn: 0.0081341\ttotal: 19.5s\tremaining: 12.2s\n",
      "369:\tlearn: 0.0081324\ttotal: 19.6s\tremaining: 12.2s\n",
      "370:\tlearn: 0.0081297\ttotal: 19.6s\tremaining: 12.1s\n",
      "371:\tlearn: 0.0081266\ttotal: 19.7s\tremaining: 12.1s\n",
      "372:\tlearn: 0.0081222\ttotal: 19.7s\tremaining: 12s\n",
      "373:\tlearn: 0.0081198\ttotal: 19.8s\tremaining: 12s\n",
      "374:\tlearn: 0.0081142\ttotal: 19.8s\tremaining: 11.9s\n",
      "375:\tlearn: 0.0081121\ttotal: 19.9s\tremaining: 11.8s\n",
      "376:\tlearn: 0.0081097\ttotal: 19.9s\tremaining: 11.8s\n",
      "377:\tlearn: 0.0081050\ttotal: 20s\tremaining: 11.7s\n",
      "378:\tlearn: 0.0080974\ttotal: 20.1s\tremaining: 11.7s\n",
      "379:\tlearn: 0.0080952\ttotal: 20.1s\tremaining: 11.6s\n",
      "380:\tlearn: 0.0080904\ttotal: 20.2s\tremaining: 11.6s\n",
      "381:\tlearn: 0.0080885\ttotal: 20.2s\tremaining: 11.5s\n",
      "382:\tlearn: 0.0080857\ttotal: 20.3s\tremaining: 11.5s\n",
      "383:\tlearn: 0.0080839\ttotal: 20.3s\tremaining: 11.4s\n",
      "384:\tlearn: 0.0080782\ttotal: 20.4s\tremaining: 11.4s\n",
      "385:\tlearn: 0.0080739\ttotal: 20.4s\tremaining: 11.3s\n",
      "386:\tlearn: 0.0080694\ttotal: 20.5s\tremaining: 11.3s\n",
      "387:\tlearn: 0.0080659\ttotal: 20.5s\tremaining: 11.2s\n",
      "388:\tlearn: 0.0080617\ttotal: 20.6s\tremaining: 11.2s\n",
      "389:\tlearn: 0.0080596\ttotal: 20.6s\tremaining: 11.1s\n",
      "390:\tlearn: 0.0080550\ttotal: 20.7s\tremaining: 11.1s\n",
      "391:\tlearn: 0.0080528\ttotal: 20.7s\tremaining: 11s\n",
      "392:\tlearn: 0.0080473\ttotal: 20.8s\tremaining: 10.9s\n",
      "393:\tlearn: 0.0080457\ttotal: 20.8s\tremaining: 10.9s\n",
      "394:\tlearn: 0.0080431\ttotal: 20.9s\tremaining: 10.8s\n",
      "395:\tlearn: 0.0080385\ttotal: 20.9s\tremaining: 10.8s\n",
      "396:\tlearn: 0.0080342\ttotal: 21s\tremaining: 10.7s\n",
      "397:\tlearn: 0.0080320\ttotal: 21s\tremaining: 10.7s\n",
      "398:\tlearn: 0.0080264\ttotal: 21.1s\tremaining: 10.6s\n",
      "399:\tlearn: 0.0080218\ttotal: 21.2s\tremaining: 10.6s\n",
      "400:\tlearn: 0.0080199\ttotal: 21.2s\tremaining: 10.5s\n",
      "401:\tlearn: 0.0080171\ttotal: 21.3s\tremaining: 10.5s\n",
      "402:\tlearn: 0.0080140\ttotal: 21.3s\tremaining: 10.4s\n",
      "403:\tlearn: 0.0080113\ttotal: 21.4s\tremaining: 10.4s\n",
      "404:\tlearn: 0.0080077\ttotal: 21.4s\tremaining: 10.3s\n",
      "405:\tlearn: 0.0080046\ttotal: 21.5s\tremaining: 10.3s\n",
      "406:\tlearn: 0.0080025\ttotal: 21.5s\tremaining: 10.2s\n",
      "407:\tlearn: 0.0079974\ttotal: 21.6s\tremaining: 10.2s\n",
      "408:\tlearn: 0.0079936\ttotal: 21.6s\tremaining: 10.1s\n",
      "409:\tlearn: 0.0079921\ttotal: 21.7s\tremaining: 10s\n",
      "410:\tlearn: 0.0079840\ttotal: 21.7s\tremaining: 10s\n",
      "411:\tlearn: 0.0079817\ttotal: 21.8s\tremaining: 9.94s\n",
      "412:\tlearn: 0.0079766\ttotal: 21.8s\tremaining: 9.89s\n",
      "413:\tlearn: 0.0079713\ttotal: 21.9s\tremaining: 9.84s\n",
      "414:\tlearn: 0.0079687\ttotal: 21.9s\tremaining: 9.78s\n",
      "415:\tlearn: 0.0079654\ttotal: 22s\tremaining: 9.73s\n",
      "416:\tlearn: 0.0079623\ttotal: 22.1s\tremaining: 9.68s\n",
      "417:\tlearn: 0.0079606\ttotal: 22.1s\tremaining: 9.62s\n",
      "418:\tlearn: 0.0079572\ttotal: 22.2s\tremaining: 9.57s\n",
      "419:\tlearn: 0.0079506\ttotal: 22.2s\tremaining: 9.52s\n",
      "420:\tlearn: 0.0079464\ttotal: 22.3s\tremaining: 9.47s\n",
      "421:\tlearn: 0.0079440\ttotal: 22.3s\tremaining: 9.41s\n",
      "422:\tlearn: 0.0079410\ttotal: 22.4s\tremaining: 9.36s\n",
      "423:\tlearn: 0.0079395\ttotal: 22.4s\tremaining: 9.31s\n",
      "424:\tlearn: 0.0079334\ttotal: 22.5s\tremaining: 9.26s\n",
      "425:\tlearn: 0.0079293\ttotal: 22.5s\tremaining: 9.2s\n",
      "426:\tlearn: 0.0079277\ttotal: 22.6s\tremaining: 9.15s\n",
      "427:\tlearn: 0.0079250\ttotal: 22.6s\tremaining: 9.1s\n",
      "428:\tlearn: 0.0079226\ttotal: 22.7s\tremaining: 9.04s\n",
      "429:\tlearn: 0.0079161\ttotal: 22.7s\tremaining: 8.99s\n",
      "430:\tlearn: 0.0079136\ttotal: 22.8s\tremaining: 8.94s\n",
      "431:\tlearn: 0.0079095\ttotal: 22.8s\tremaining: 8.88s\n",
      "432:\tlearn: 0.0079075\ttotal: 22.9s\tremaining: 8.83s\n",
      "433:\tlearn: 0.0078999\ttotal: 23s\tremaining: 8.78s\n",
      "434:\tlearn: 0.0078974\ttotal: 23s\tremaining: 8.73s\n",
      "435:\tlearn: 0.0078943\ttotal: 23.1s\tremaining: 8.67s\n",
      "436:\tlearn: 0.0078919\ttotal: 23.1s\tremaining: 8.62s\n",
      "437:\tlearn: 0.0078895\ttotal: 23.2s\tremaining: 8.57s\n",
      "438:\tlearn: 0.0078886\ttotal: 23.2s\tremaining: 8.51s\n",
      "439:\tlearn: 0.0078830\ttotal: 23.3s\tremaining: 8.46s\n",
      "440:\tlearn: 0.0078805\ttotal: 23.3s\tremaining: 8.41s\n",
      "441:\tlearn: 0.0078753\ttotal: 23.4s\tremaining: 8.36s\n",
      "442:\tlearn: 0.0078723\ttotal: 23.4s\tremaining: 8.3s\n",
      "443:\tlearn: 0.0078681\ttotal: 23.5s\tremaining: 8.25s\n",
      "444:\tlearn: 0.0078656\ttotal: 23.5s\tremaining: 8.2s\n",
      "445:\tlearn: 0.0078638\ttotal: 23.6s\tremaining: 8.14s\n",
      "446:\tlearn: 0.0078610\ttotal: 23.6s\tremaining: 8.09s\n",
      "447:\tlearn: 0.0078571\ttotal: 23.7s\tremaining: 8.04s\n",
      "448:\tlearn: 0.0078545\ttotal: 23.7s\tremaining: 7.99s\n",
      "449:\tlearn: 0.0078522\ttotal: 23.8s\tremaining: 7.93s\n",
      "450:\tlearn: 0.0078517\ttotal: 23.9s\tremaining: 7.88s\n",
      "451:\tlearn: 0.0078485\ttotal: 23.9s\tremaining: 7.83s\n",
      "452:\tlearn: 0.0078464\ttotal: 24s\tremaining: 7.77s\n",
      "453:\tlearn: 0.0078439\ttotal: 24s\tremaining: 7.72s\n",
      "454:\tlearn: 0.0078418\ttotal: 24.1s\tremaining: 7.67s\n",
      "455:\tlearn: 0.0078382\ttotal: 24.1s\tremaining: 7.61s\n",
      "456:\tlearn: 0.0078342\ttotal: 24.2s\tremaining: 7.56s\n",
      "457:\tlearn: 0.0078320\ttotal: 24.2s\tremaining: 7.51s\n",
      "458:\tlearn: 0.0078302\ttotal: 24.3s\tremaining: 7.46s\n",
      "459:\tlearn: 0.0078260\ttotal: 24.3s\tremaining: 7.4s\n",
      "460:\tlearn: 0.0078224\ttotal: 24.4s\tremaining: 7.35s\n",
      "461:\tlearn: 0.0078205\ttotal: 24.4s\tremaining: 7.3s\n",
      "462:\tlearn: 0.0078168\ttotal: 24.5s\tremaining: 7.24s\n",
      "463:\tlearn: 0.0078114\ttotal: 24.5s\tremaining: 7.19s\n",
      "464:\tlearn: 0.0078074\ttotal: 24.6s\tremaining: 7.14s\n",
      "465:\tlearn: 0.0078052\ttotal: 24.6s\tremaining: 7.08s\n",
      "466:\tlearn: 0.0078036\ttotal: 24.7s\tremaining: 7.03s\n",
      "467:\tlearn: 0.0078021\ttotal: 24.7s\tremaining: 6.98s\n",
      "468:\tlearn: 0.0077949\ttotal: 24.8s\tremaining: 6.93s\n",
      "469:\tlearn: 0.0077912\ttotal: 24.9s\tremaining: 6.87s\n",
      "470:\tlearn: 0.0077889\ttotal: 24.9s\tremaining: 6.82s\n",
      "471:\tlearn: 0.0077869\ttotal: 25s\tremaining: 6.77s\n",
      "472:\tlearn: 0.0077854\ttotal: 25s\tremaining: 6.71s\n",
      "473:\tlearn: 0.0077812\ttotal: 25.1s\tremaining: 6.66s\n",
      "474:\tlearn: 0.0077787\ttotal: 25.1s\tremaining: 6.61s\n",
      "475:\tlearn: 0.0077774\ttotal: 25.2s\tremaining: 6.56s\n",
      "476:\tlearn: 0.0077731\ttotal: 25.2s\tremaining: 6.5s\n",
      "477:\tlearn: 0.0077719\ttotal: 25.3s\tremaining: 6.45s\n",
      "478:\tlearn: 0.0077694\ttotal: 25.3s\tremaining: 6.4s\n",
      "479:\tlearn: 0.0077677\ttotal: 25.4s\tremaining: 6.34s\n",
      "480:\tlearn: 0.0077658\ttotal: 25.4s\tremaining: 6.29s\n",
      "481:\tlearn: 0.0077643\ttotal: 25.5s\tremaining: 6.24s\n",
      "482:\tlearn: 0.0077602\ttotal: 25.5s\tremaining: 6.18s\n",
      "483:\tlearn: 0.0077562\ttotal: 25.6s\tremaining: 6.13s\n",
      "484:\tlearn: 0.0077538\ttotal: 25.6s\tremaining: 6.08s\n",
      "485:\tlearn: 0.0077520\ttotal: 25.7s\tremaining: 6.03s\n",
      "486:\tlearn: 0.0077454\ttotal: 25.7s\tremaining: 5.97s\n",
      "487:\tlearn: 0.0077436\ttotal: 25.8s\tremaining: 5.92s\n",
      "488:\tlearn: 0.0077396\ttotal: 25.8s\tremaining: 5.87s\n",
      "489:\tlearn: 0.0077380\ttotal: 25.9s\tremaining: 5.81s\n",
      "490:\tlearn: 0.0077361\ttotal: 25.9s\tremaining: 5.76s\n",
      "491:\tlearn: 0.0077341\ttotal: 26s\tremaining: 5.71s\n",
      "492:\tlearn: 0.0077314\ttotal: 26.1s\tremaining: 5.66s\n",
      "493:\tlearn: 0.0077280\ttotal: 26.1s\tremaining: 5.6s\n",
      "494:\tlearn: 0.0077246\ttotal: 26.2s\tremaining: 5.55s\n",
      "495:\tlearn: 0.0077209\ttotal: 26.2s\tremaining: 5.5s\n",
      "496:\tlearn: 0.0077183\ttotal: 26.3s\tremaining: 5.44s\n",
      "497:\tlearn: 0.0077163\ttotal: 26.3s\tremaining: 5.39s\n",
      "498:\tlearn: 0.0077143\ttotal: 26.4s\tremaining: 5.34s\n",
      "499:\tlearn: 0.0077099\ttotal: 26.4s\tremaining: 5.28s\n",
      "500:\tlearn: 0.0077076\ttotal: 26.5s\tremaining: 5.23s\n",
      "501:\tlearn: 0.0077056\ttotal: 26.5s\tremaining: 5.18s\n",
      "502:\tlearn: 0.0077034\ttotal: 26.6s\tremaining: 5.13s\n",
      "503:\tlearn: 0.0077015\ttotal: 26.6s\tremaining: 5.07s\n",
      "504:\tlearn: 0.0076964\ttotal: 26.7s\tremaining: 5.02s\n",
      "505:\tlearn: 0.0076950\ttotal: 26.7s\tremaining: 4.97s\n",
      "506:\tlearn: 0.0076932\ttotal: 26.8s\tremaining: 4.91s\n",
      "507:\tlearn: 0.0076893\ttotal: 26.8s\tremaining: 4.86s\n",
      "508:\tlearn: 0.0076877\ttotal: 26.9s\tremaining: 4.81s\n",
      "509:\tlearn: 0.0076855\ttotal: 26.9s\tremaining: 4.75s\n",
      "510:\tlearn: 0.0076825\ttotal: 27s\tremaining: 4.7s\n",
      "511:\tlearn: 0.0076817\ttotal: 27s\tremaining: 4.65s\n",
      "512:\tlearn: 0.0076803\ttotal: 27.1s\tremaining: 4.59s\n",
      "513:\tlearn: 0.0076777\ttotal: 27.2s\tremaining: 4.54s\n",
      "514:\tlearn: 0.0076725\ttotal: 27.2s\tremaining: 4.49s\n",
      "515:\tlearn: 0.0076704\ttotal: 27.3s\tremaining: 4.44s\n",
      "516:\tlearn: 0.0076694\ttotal: 27.3s\tremaining: 4.38s\n",
      "517:\tlearn: 0.0076681\ttotal: 27.4s\tremaining: 4.33s\n",
      "518:\tlearn: 0.0076622\ttotal: 27.4s\tremaining: 4.28s\n",
      "519:\tlearn: 0.0076578\ttotal: 27.5s\tremaining: 4.23s\n",
      "520:\tlearn: 0.0076561\ttotal: 27.5s\tremaining: 4.17s\n",
      "521:\tlearn: 0.0076524\ttotal: 27.6s\tremaining: 4.12s\n",
      "522:\tlearn: 0.0076512\ttotal: 27.6s\tremaining: 4.07s\n",
      "523:\tlearn: 0.0076498\ttotal: 27.7s\tremaining: 4.01s\n",
      "524:\tlearn: 0.0076451\ttotal: 27.7s\tremaining: 3.96s\n",
      "525:\tlearn: 0.0076425\ttotal: 27.8s\tremaining: 3.91s\n",
      "526:\tlearn: 0.0076408\ttotal: 27.8s\tremaining: 3.86s\n",
      "527:\tlearn: 0.0076384\ttotal: 27.9s\tremaining: 3.8s\n",
      "528:\tlearn: 0.0076368\ttotal: 28s\tremaining: 3.75s\n",
      "529:\tlearn: 0.0076344\ttotal: 28s\tremaining: 3.7s\n",
      "530:\tlearn: 0.0076317\ttotal: 28.1s\tremaining: 3.65s\n",
      "531:\tlearn: 0.0076295\ttotal: 28.1s\tremaining: 3.59s\n",
      "532:\tlearn: 0.0076272\ttotal: 28.2s\tremaining: 3.54s\n",
      "533:\tlearn: 0.0076246\ttotal: 28.2s\tremaining: 3.49s\n",
      "534:\tlearn: 0.0076197\ttotal: 28.3s\tremaining: 3.44s\n",
      "535:\tlearn: 0.0076165\ttotal: 28.3s\tremaining: 3.38s\n",
      "536:\tlearn: 0.0076126\ttotal: 28.4s\tremaining: 3.33s\n",
      "537:\tlearn: 0.0076092\ttotal: 28.5s\tremaining: 3.28s\n",
      "538:\tlearn: 0.0076076\ttotal: 28.5s\tremaining: 3.23s\n",
      "539:\tlearn: 0.0076059\ttotal: 28.6s\tremaining: 3.17s\n",
      "540:\tlearn: 0.0076021\ttotal: 28.6s\tremaining: 3.12s\n",
      "541:\tlearn: 0.0075972\ttotal: 28.7s\tremaining: 3.07s\n",
      "542:\tlearn: 0.0075952\ttotal: 28.7s\tremaining: 3.02s\n",
      "543:\tlearn: 0.0075934\ttotal: 28.8s\tremaining: 2.96s\n",
      "544:\tlearn: 0.0075907\ttotal: 28.8s\tremaining: 2.91s\n",
      "545:\tlearn: 0.0075884\ttotal: 28.9s\tremaining: 2.86s\n",
      "546:\tlearn: 0.0075841\ttotal: 29s\tremaining: 2.81s\n",
      "547:\tlearn: 0.0075804\ttotal: 29s\tremaining: 2.75s\n",
      "548:\tlearn: 0.0075782\ttotal: 29.1s\tremaining: 2.7s\n",
      "549:\tlearn: 0.0075761\ttotal: 29.1s\tremaining: 2.65s\n",
      "550:\tlearn: 0.0075745\ttotal: 29.2s\tremaining: 2.6s\n",
      "551:\tlearn: 0.0075731\ttotal: 29.3s\tremaining: 2.54s\n",
      "552:\tlearn: 0.0075724\ttotal: 29.3s\tremaining: 2.49s\n",
      "553:\tlearn: 0.0075715\ttotal: 29.4s\tremaining: 2.44s\n",
      "554:\tlearn: 0.0075691\ttotal: 29.4s\tremaining: 2.38s\n",
      "555:\tlearn: 0.0075677\ttotal: 29.5s\tremaining: 2.33s\n",
      "556:\tlearn: 0.0075651\ttotal: 29.5s\tremaining: 2.28s\n",
      "557:\tlearn: 0.0075614\ttotal: 29.6s\tremaining: 2.23s\n",
      "558:\tlearn: 0.0075592\ttotal: 29.6s\tremaining: 2.17s\n",
      "559:\tlearn: 0.0075560\ttotal: 29.7s\tremaining: 2.12s\n",
      "560:\tlearn: 0.0075534\ttotal: 29.7s\tremaining: 2.07s\n",
      "561:\tlearn: 0.0075509\ttotal: 29.8s\tremaining: 2.01s\n",
      "562:\tlearn: 0.0075482\ttotal: 29.8s\tremaining: 1.96s\n",
      "563:\tlearn: 0.0075467\ttotal: 29.9s\tremaining: 1.91s\n",
      "564:\tlearn: 0.0075447\ttotal: 29.9s\tremaining: 1.85s\n",
      "565:\tlearn: 0.0075427\ttotal: 30s\tremaining: 1.8s\n",
      "566:\tlearn: 0.0075418\ttotal: 30s\tremaining: 1.75s\n",
      "567:\tlearn: 0.0075397\ttotal: 30.1s\tremaining: 1.7s\n",
      "568:\tlearn: 0.0075369\ttotal: 30.1s\tremaining: 1.64s\n",
      "569:\tlearn: 0.0075349\ttotal: 30.2s\tremaining: 1.59s\n",
      "570:\tlearn: 0.0075328\ttotal: 30.2s\tremaining: 1.54s\n",
      "571:\tlearn: 0.0075303\ttotal: 30.3s\tremaining: 1.48s\n",
      "572:\tlearn: 0.0075249\ttotal: 30.4s\tremaining: 1.43s\n",
      "573:\tlearn: 0.0075237\ttotal: 30.4s\tremaining: 1.38s\n",
      "574:\tlearn: 0.0075212\ttotal: 30.5s\tremaining: 1.32s\n",
      "575:\tlearn: 0.0075193\ttotal: 30.5s\tremaining: 1.27s\n",
      "576:\tlearn: 0.0075180\ttotal: 30.6s\tremaining: 1.22s\n",
      "577:\tlearn: 0.0075132\ttotal: 30.6s\tremaining: 1.17s\n",
      "578:\tlearn: 0.0075094\ttotal: 30.7s\tremaining: 1.11s\n",
      "579:\tlearn: 0.0075081\ttotal: 30.7s\tremaining: 1.06s\n",
      "580:\tlearn: 0.0075048\ttotal: 30.8s\tremaining: 1.01s\n",
      "581:\tlearn: 0.0075027\ttotal: 30.8s\tremaining: 953ms\n",
      "582:\tlearn: 0.0074998\ttotal: 30.9s\tremaining: 900ms\n",
      "583:\tlearn: 0.0074983\ttotal: 30.9s\tremaining: 847ms\n",
      "584:\tlearn: 0.0074951\ttotal: 31s\tremaining: 794ms\n",
      "585:\tlearn: 0.0074923\ttotal: 31s\tremaining: 741ms\n",
      "586:\tlearn: 0.0074882\ttotal: 31.1s\tremaining: 688ms\n",
      "587:\tlearn: 0.0074865\ttotal: 31.1s\tremaining: 635ms\n",
      "588:\tlearn: 0.0074851\ttotal: 31.2s\tremaining: 583ms\n",
      "589:\tlearn: 0.0074817\ttotal: 31.2s\tremaining: 530ms\n",
      "590:\tlearn: 0.0074810\ttotal: 31.3s\tremaining: 477ms\n",
      "591:\tlearn: 0.0074794\ttotal: 31.4s\tremaining: 424ms\n",
      "592:\tlearn: 0.0074777\ttotal: 31.4s\tremaining: 371ms\n",
      "593:\tlearn: 0.0074750\ttotal: 31.5s\tremaining: 318ms\n",
      "594:\tlearn: 0.0074719\ttotal: 31.5s\tremaining: 265ms\n",
      "595:\tlearn: 0.0074688\ttotal: 31.6s\tremaining: 212ms\n",
      "596:\tlearn: 0.0074676\ttotal: 31.6s\tremaining: 159ms\n",
      "597:\tlearn: 0.0074657\ttotal: 31.7s\tremaining: 106ms\n",
      "598:\tlearn: 0.0074641\ttotal: 31.7s\tremaining: 53ms\n",
      "599:\tlearn: 0.0074626\ttotal: 31.8s\tremaining: 0us\n"
     ]
    },
    {
     "data": {
      "text/plain": [
       "GridSearchCV(cv=3,\n",
       "             estimator=<catboost.core.CatBoostRegressor object at 0x0000027EA1D7AD60>,\n",
       "             n_jobs=-1,\n",
       "             param_grid={'depth': [9, 10, 11, 12, 13], 'iterations': [600]},\n",
       "             verbose=10)"
      ]
     },
     "execution_count": 81,
     "metadata": {},
     "output_type": "execute_result"
    }
   ],
   "source": [
    "param_grid = {'iterations': [400,500,600],\n",
    "          'depth': [9,10,11,12,13]\n",
    "         }\n",
    "CatGBR = CatBoostRegressor(eval_metric='MAPE',\n",
    "                           random_state=RANDOM_SEED\n",
    "                          )\n",
    "\n",
    "CatGBR_cv = GridSearchCV(CatGBR, param_grid=param_grid,cv=3,n_jobs=-1,verbose=10)\n",
    "CatGBR_cv.fit(X,y)"
   ]
  },
  {
   "cell_type": "code",
   "execution_count": 82,
   "metadata": {},
   "outputs": [
    {
     "data": {
      "text/plain": [
       "{'depth': 11, 'iterations': 600}"
      ]
     },
     "execution_count": 82,
     "metadata": {},
     "output_type": "execute_result"
    }
   ],
   "source": [
    "CatGBR_cv.best_params_"
   ]
  },
  {
   "cell_type": "code",
   "execution_count": 47,
   "metadata": {},
   "outputs": [
    {
     "name": "stdout",
     "output_type": "stream",
     "text": [
      "Fold number: 1\n",
      "MAPE: 12.5058 %\n",
      "MAE:  120697 RUB\n",
      "\n",
      "Fold number: 2\n",
      "MAPE: 12.4572 %\n",
      "MAE:  122159 RUB\n",
      "\n",
      "Fold number: 3\n",
      "MAPE: 12.3323 %\n",
      "MAE:  119689 RUB\n",
      "\n",
      "Fold number: 4\n",
      "MAPE: 12.385 %\n",
      "MAE:  113586 RUB\n",
      "\n",
      "Fold number: 5\n",
      "MAPE: 12.275 %\n",
      "MAE:  120480 RUB\n",
      "\n"
     ]
    }
   ],
   "source": [
    "CatGBR = CatBoostRegressor(iterations = 600,\n",
    "                          depth=11,\n",
    "                          random_seed = RANDOM_SEED,\n",
    "                          eval_metric='MAPE',\n",
    "                          custom_metric=['R2', 'MAE'],\n",
    "                         )\n",
    "cat_features_ids=['brand','bodyType','color','fuelType','vehicleConfiguration','Привод','Руль','ПТС']\n",
    "\n",
    "fold_number=1\n",
    "for train, test in kf.split(X,y):\n",
    "    CatGBR.fit(X.iloc[train], y.iloc[train],\n",
    "         #cat_features=cat_features_ids,\n",
    "         eval_set=(X.iloc[test], y.iloc[test]),\n",
    "         verbose_eval=0,\n",
    "         use_best_model=True,\n",
    "         #plot=True\n",
    "         )\n",
    "\n",
    "    \n",
    "    y_pred = np.power(10,CatGBR.predict(X.iloc[test]))\n",
    "    y_test = np.power(10,y.iloc[test])\n",
    "    \n",
    "    mape = np.round(mean_absolute_percentage_error(y_test,y_pred)*100, decimals=4)\n",
    "    mae = int(mean_absolute_error(y_test,y_pred))\n",
    "    \n",
    "    print(f'Fold number: {fold_number}')\n",
    "    print(f'MAPE: {mape} %')\n",
    "    print(f'MAE:  {mae} RUB\\n')\n",
    "    \n",
    "    fold_number+=1\n"
   ]
  },
  {
   "cell_type": "markdown",
   "metadata": {},
   "source": [
    "### Stacking"
   ]
  },
  {
   "cell_type": "code",
   "execution_count": 48,
   "metadata": {},
   "outputs": [
    {
     "data": {
      "text/plain": [
       "StackingRegressor(cv=3,\n",
       "                  estimators=[('GradientBoostingRegressor',\n",
       "                               GradientBoostingRegressor(max_depth=9,\n",
       "                                                         min_samples_leaf=2,\n",
       "                                                         min_samples_split=5,\n",
       "                                                         n_estimators=500,\n",
       "                                                         random_state=42)),\n",
       "                              ('LightGBM',\n",
       "                               LGBMRegressor(max_depth=9, n_estimators=625,\n",
       "                                             num_leaves=512)),\n",
       "                              ('XGBoost',\n",
       "                               XGBRegressor(base_score=0.5, booster='gbtree',\n",
       "                                            colsample_bylevel=1,\n",
       "                                            colsample_bynode=1,\n",
       "                                            colsamp...\n",
       "                                            interaction_constraints='',\n",
       "                                            learning_rate=0.1, max_delta_step=0,\n",
       "                                            max_depth=12, min_child_weight=1,\n",
       "                                            missing=nan,\n",
       "                                            monotone_constraints='()',\n",
       "                                            n_estimators=200, n_jobs=-1,\n",
       "                                            num_parallel_tree=1, random_state=0,\n",
       "                                            reg_alpha=0, reg_lambda=1,\n",
       "                                            scale_pos_weight=1, subsample=1,\n",
       "                                            tree_method='exact',\n",
       "                                            validate_parameters=1,\n",
       "                                            verbosity=None))],\n",
       "                  final_estimator=LinearRegression(), n_jobs=-1, verbose=1)"
      ]
     },
     "execution_count": 48,
     "metadata": {},
     "output_type": "execute_result"
    }
   ],
   "source": [
    "estimators = [('GradientBoostingRegressor',GRB),\n",
    "             ('LightGBM',LGBM),\n",
    "             ('XGBoost',XGRB)]\n",
    "\n",
    "stacking = StackingRegressor(estimators=estimators,\n",
    "                             final_estimator=LinearRegression(),\n",
    "                             cv=3,\n",
    "                             n_jobs=-1,\n",
    "                             verbose=1)\n",
    "stacking.fit(X_train,y_train)"
   ]
  },
  {
   "cell_type": "markdown",
   "metadata": {},
   "source": [
    "## Submission"
   ]
  },
  {
   "cell_type": "code",
   "execution_count": 51,
   "metadata": {},
   "outputs": [],
   "source": [
    "sub_predict = np.power(10,stacking.predict(submission_data.drop(['modelDate'],axis=1)))"
   ]
  },
  {
   "cell_type": "code",
   "execution_count": 52,
   "metadata": {},
   "outputs": [
    {
     "data": {
      "text/plain": [
       "array([ 425699.49311353,  718231.85942402,  671451.74085256, ...,\n",
       "        261825.92555582, 1068614.97385421,  950300.31648349])"
      ]
     },
     "execution_count": 52,
     "metadata": {},
     "output_type": "execute_result"
    }
   ],
   "source": [
    "sub_predict"
   ]
  },
  {
   "cell_type": "code",
   "execution_count": 53,
   "metadata": {},
   "outputs": [],
   "source": [
    "sell_id = pd.read_csv('submission_data.csv')['sell_id']"
   ]
  },
  {
   "cell_type": "code",
   "execution_count": 54,
   "metadata": {},
   "outputs": [],
   "source": [
    "submission_data['sell_id']=sell_id"
   ]
  },
  {
   "cell_type": "code",
   "execution_count": 55,
   "metadata": {},
   "outputs": [],
   "source": [
    "submission_data['price'] = sub_predict"
   ]
  },
  {
   "cell_type": "code",
   "execution_count": 56,
   "metadata": {},
   "outputs": [],
   "source": [
    "VERSION = 6\n",
    "submission_data[['sell_id','price']].to_csv(f'submission_price_v{VERSION}.csv',index=False)"
   ]
  },
  {
   "cell_type": "markdown",
   "metadata": {},
   "source": [
    "## What's next?"
   ]
  },
  {
   "cell_type": "markdown",
   "metadata": {},
   "source": [
    "- Improved FE\n",
    "- Special libraries for models tuning (hyperopt, optuna, Bayesian Optimization)"
   ]
  },
  {
   "cell_type": "markdown",
   "metadata": {},
   "source": [
    "## Links\n",
    "#### Parsed data: \n",
    "- https://www.kaggle.com/sokolovaleks/parsing-all-moscow-auto-ru-09-09-2020\n",
    "- https://www.kaggle.com/macsunmood/autoru-parsed-0603-1304"
   ]
  }
 ],
 "metadata": {
  "kernelspec": {
   "display_name": "Python 3",
   "language": "python",
   "name": "python3"
  },
  "language_info": {
   "codemirror_mode": {
    "name": "ipython",
    "version": 3
   },
   "file_extension": ".py",
   "mimetype": "text/x-python",
   "name": "python",
   "nbconvert_exporter": "python",
   "pygments_lexer": "ipython3",
   "version": "3.8.5"
  }
 },
 "nbformat": 4,
 "nbformat_minor": 4
}
